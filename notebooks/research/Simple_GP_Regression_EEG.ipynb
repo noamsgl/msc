{
 "cells": [
  {
   "cell_type": "code",
   "execution_count": 2,
   "metadata": {
    "collapsed": true
   },
   "outputs": [],
   "source": [
    "\n",
    "import math\n",
    "import torch\n",
    "import gpytorch\n",
    "from matplotlib import pyplot as plt\n",
    "\n",
    "import msc\n",
    "\n",
    "\n",
    "%matplotlib inline\n",
    "%load_ext autoreload\n",
    "%autoreload 2"
   ]
  },
  {
   "cell_type": "markdown",
   "source": [
    "# Load Data"
   ],
   "metadata": {
    "collapsed": false,
    "pycharm": {
     "name": "#%% md\n"
    }
   }
  },
  {
   "cell_type": "code",
   "execution_count": null,
   "outputs": [],
   "source": [
    "raw = msc.etl.load_raw_data()\n",
    "\n",
    "\n",
    "# Training data is 100 points in [0,1] inclusive regularly spaced\n",
    "train_x = torch.linspace(0, 1, 100)\n",
    "# True function is sin(2*pi*x) with Gaussian noise\n",
    "train_y = torch.relu(train_x * (2 * math.pi)-2) + torch.randn(train_x.size()) * math.sqrt(0.04)\n",
    "\n",
    "# plot training data\n",
    "# Initialize plot\n",
    "f, ax = plt.subplots(1, 1, figsize=(12, 8))\n",
    "\n",
    "# Plot training data as black stars\n",
    "ax.plot(train_x.numpy(), train_y.numpy(), 'k*')\n",
    "\n",
    "# ax.set_ylim([-3, 3])\n",
    "ax.legend(['Observed Data'])"
   ],
   "metadata": {
    "collapsed": false,
    "pycharm": {
     "name": "#%%\n"
    }
   }
  },
  {
   "cell_type": "code",
   "execution_count": 4,
   "outputs": [],
   "source": [
    "# We will use the simplest form of GP model, exact inference\n",
    "class ExactGPModel(gpytorch.models.ExactGP):\n",
    "    def __init__(self, train_x, train_y, likelihood):\n",
    "        super(ExactGPModel, self).__init__(train_x, train_y, likelihood)\n",
    "        self.mean_module = gpytorch.means.ConstantMean()\n",
    "        self.covar_module = gpytorch.kernels.ScaleKernel(gpytorch.kernels.RBFKernel())\n",
    "\n",
    "    def forward(self, x):\n",
    "        mean_x = self.mean_module(x)\n",
    "        covar_x = self.covar_module(x)\n",
    "        return gpytorch.distributions.MultivariateNormal(mean_x, covar_x)\n",
    "\n",
    "# initialize likelihood and model\n",
    "likelihood = gpytorch.likelihoods.GaussianLikelihood()\n",
    "model = ExactGPModel(train_x, train_y, likelihood)\n"
   ],
   "metadata": {
    "collapsed": false,
    "pycharm": {
     "name": "#%%\n"
    }
   }
  },
  {
   "cell_type": "code",
   "execution_count": 5,
   "outputs": [
    {
     "name": "stdout",
     "output_type": "stream",
     "text": [
      "Iter 1/50 - Loss: 0.995   lengthscale: 0.693   noise: 0.693\n",
      "Iter 2/50 - Loss: 0.937   lengthscale: 0.644   noise: 0.644\n",
      "Iter 3/50 - Loss: 0.880   lengthscale: 0.598   noise: 0.598\n",
      "Iter 4/50 - Loss: 0.826   lengthscale: 0.555   noise: 0.554\n",
      "Iter 5/50 - Loss: 0.774   lengthscale: 0.514   noise: 0.513\n",
      "Iter 6/50 - Loss: 0.726   lengthscale: 0.477   noise: 0.474\n",
      "Iter 7/50 - Loss: 0.682   lengthscale: 0.444   noise: 0.437\n",
      "Iter 8/50 - Loss: 0.640   lengthscale: 0.416   noise: 0.402\n",
      "Iter 9/50 - Loss: 0.601   lengthscale: 0.391   noise: 0.370\n",
      "Iter 10/50 - Loss: 0.562   lengthscale: 0.371   noise: 0.340\n",
      "Iter 11/50 - Loss: 0.524   lengthscale: 0.354   noise: 0.312\n",
      "Iter 12/50 - Loss: 0.486   lengthscale: 0.341   noise: 0.285\n",
      "Iter 13/50 - Loss: 0.449   lengthscale: 0.331   noise: 0.261\n",
      "Iter 14/50 - Loss: 0.411   lengthscale: 0.323   noise: 0.239\n",
      "Iter 15/50 - Loss: 0.374   lengthscale: 0.317   noise: 0.218\n",
      "Iter 16/50 - Loss: 0.337   lengthscale: 0.313   noise: 0.199\n",
      "Iter 17/50 - Loss: 0.301   lengthscale: 0.310   noise: 0.181\n",
      "Iter 18/50 - Loss: 0.265   lengthscale: 0.308   noise: 0.165\n",
      "Iter 19/50 - Loss: 0.229   lengthscale: 0.308   noise: 0.151\n",
      "Iter 20/50 - Loss: 0.194   lengthscale: 0.308   noise: 0.137\n",
      "Iter 21/50 - Loss: 0.161   lengthscale: 0.309   noise: 0.125\n",
      "Iter 22/50 - Loss: 0.128   lengthscale: 0.310   noise: 0.113\n",
      "Iter 23/50 - Loss: 0.097   lengthscale: 0.311   noise: 0.103\n",
      "Iter 24/50 - Loss: 0.066   lengthscale: 0.312   noise: 0.094\n",
      "Iter 25/50 - Loss: 0.038   lengthscale: 0.313   noise: 0.086\n",
      "Iter 26/50 - Loss: 0.011   lengthscale: 0.314   noise: 0.078\n",
      "Iter 27/50 - Loss: -0.014   lengthscale: 0.313   noise: 0.071\n",
      "Iter 28/50 - Loss: -0.037   lengthscale: 0.312   noise: 0.065\n",
      "Iter 29/50 - Loss: -0.059   lengthscale: 0.309   noise: 0.059\n",
      "Iter 30/50 - Loss: -0.078   lengthscale: 0.305   noise: 0.054\n",
      "Iter 31/50 - Loss: -0.096   lengthscale: 0.299   noise: 0.050\n",
      "Iter 32/50 - Loss: -0.111   lengthscale: 0.292   noise: 0.046\n",
      "Iter 33/50 - Loss: -0.124   lengthscale: 0.284   noise: 0.042\n",
      "Iter 34/50 - Loss: -0.135   lengthscale: 0.276   noise: 0.039\n",
      "Iter 35/50 - Loss: -0.143   lengthscale: 0.267   noise: 0.036\n",
      "Iter 36/50 - Loss: -0.148   lengthscale: 0.259   noise: 0.034\n",
      "Iter 37/50 - Loss: -0.150   lengthscale: 0.253   noise: 0.032\n",
      "Iter 38/50 - Loss: -0.151   lengthscale: 0.247   noise: 0.030\n",
      "Iter 39/50 - Loss: -0.150   lengthscale: 0.244   noise: 0.028\n",
      "Iter 40/50 - Loss: -0.148   lengthscale: 0.242   noise: 0.027\n",
      "Iter 41/50 - Loss: -0.145   lengthscale: 0.242   noise: 0.026\n",
      "Iter 42/50 - Loss: -0.142   lengthscale: 0.243   noise: 0.025\n",
      "Iter 43/50 - Loss: -0.139   lengthscale: 0.246   noise: 0.024\n",
      "Iter 44/50 - Loss: -0.137   lengthscale: 0.250   noise: 0.023\n",
      "Iter 45/50 - Loss: -0.135   lengthscale: 0.254   noise: 0.023\n",
      "Iter 46/50 - Loss: -0.134   lengthscale: 0.258   noise: 0.023\n",
      "Iter 47/50 - Loss: -0.133   lengthscale: 0.263   noise: 0.023\n",
      "Iter 48/50 - Loss: -0.133   lengthscale: 0.266   noise: 0.023\n",
      "Iter 49/50 - Loss: -0.134   lengthscale: 0.268   noise: 0.023\n",
      "Iter 50/50 - Loss: -0.136   lengthscale: 0.270   noise: 0.023\n"
     ]
    }
   ],
   "source": [
    "# this is for running the notebook in our testing framework\n",
    "import os\n",
    "smoke_test = ('CI' in os.environ)\n",
    "training_iter = 2 if smoke_test else 50\n",
    "\n",
    "\n",
    "# Find optimal model hyperparameters\n",
    "model.train()\n",
    "likelihood.train()\n",
    "\n",
    "# Use the adam optimizer\n",
    "optimizer = torch.optim.Adam([\n",
    "    {'params': model.parameters()},  # Includes GaussianLikelihood parameters\n",
    "], lr=0.1)\n",
    "\n",
    "# \"Loss\" for GPs - the marginal log likelihood\n",
    "mll = gpytorch.mlls.ExactMarginalLogLikelihood(likelihood, model)\n",
    "\n",
    "for i in range(training_iter):\n",
    "    # Zero gradients from previous iteration\n",
    "    optimizer.zero_grad()\n",
    "    # Output from model\n",
    "    output = model(train_x)\n",
    "    # Calc loss and backprop gradients\n",
    "    loss = -mll(output, train_y)\n",
    "    loss.backward()\n",
    "    print('Iter %d/%d - Loss: %.3f   lengthscale: %.3f   noise: %.3f' % (\n",
    "        i + 1, training_iter, loss.item(),\n",
    "        model.covar_module.base_kernel.lengthscale.item(),\n",
    "        model.likelihood.noise.item()\n",
    "    ))\n",
    "    optimizer.step()\n"
   ],
   "metadata": {
    "collapsed": false,
    "pycharm": {
     "name": "#%%\n"
    }
   }
  },
  {
   "cell_type": "code",
   "execution_count": 6,
   "outputs": [],
   "source": [
    "# Get into evaluation (predictive posterior) mode\n",
    "model.eval()\n",
    "likelihood.eval()\n",
    "\n",
    "# Test points are regularly spaced along [0,1]\n",
    "# Make predictions by feeding model through likelihood\n",
    "with torch.no_grad(), gpytorch.settings.fast_pred_var():\n",
    "    test_x = torch.linspace(0, 1, 51)\n",
    "    observed_pred = likelihood(model(test_x))\n"
   ],
   "metadata": {
    "collapsed": false,
    "pycharm": {
     "name": "#%%\n"
    }
   }
  },
  {
   "cell_type": "code",
   "execution_count": 7,
   "outputs": [
    {
     "data": {
      "text/plain": "<Figure size 864x576 with 1 Axes>",
      "image/png": "[encoded data removed]"
     },
     "metadata": {
      "needs_background": "light"
     },
     "output_type": "display_data"
    }
   ],
   "source": [
    "with torch.no_grad():\n",
    "    # Initialize plot\n",
    "    f, ax = plt.subplots(1, 1, figsize=(12, 8))\n",
    "\n",
    "    # Get upper and lower confidence bounds\n",
    "    lower, upper = observed_pred.confidence_region()\n",
    "    # Plot training data as black stars\n",
    "    ax.plot(train_x.numpy(), train_y.numpy(), 'k*')\n",
    "    # Plot predictive means as blue line\n",
    "    ax.plot(test_x.numpy(), observed_pred.mean.numpy(), 'b')\n",
    "    # Shade between the lower and upper confidence bounds\n",
    "    ax.fill_between(test_x.numpy(), lower.numpy(), upper.numpy(), alpha=0.5)\n",
    "    # ax.set_ylim([-3, 3])\n",
    "    ax.legend(['Observed Data', 'Mean', 'Confidence'])"
   ],
   "metadata": {
    "collapsed": false,
    "pycharm": {
     "name": "#%%\n"
    }
   }
  },
  {
   "cell_type": "code",
   "execution_count": 7,
   "outputs": [],
   "source": [],
   "metadata": {
    "collapsed": false,
    "pycharm": {
     "name": "#%%\n"
    }
   }
  }
 ],
 "metadata": {
  "kernelspec": {
   "display_name": "Python 3",
   "language": "python",
   "name": "python3"
  },
  "language_info": {
   "codemirror_mode": {
    "name": "ipython",
    "version": 2
   },
   "file_extension": ".py",
   "mimetype": "text/x-python",
   "name": "python",
   "nbconvert_exporter": "python",
   "pygments_lexer": "ipython2",
   "version": "2.7.6"
  }
 },
 "nbformat": 4,
 "nbformat_minor": 0
}