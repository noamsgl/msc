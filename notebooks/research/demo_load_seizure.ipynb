{
 "cells": [
  {
   "cell_type": "markdown",
   "metadata": {
    "collapsed": true,
    "pycharm": {
     "name": "#%% md\n"
    }
   },
   "source": [
    "## Load data from seizure\n"
   ]
  },
  {
   "cell_type": "code",
   "execution_count": 1,
   "outputs": [],
   "source": [
    "import pandas as pd\n"
   ],
   "metadata": {
    "collapsed": false,
    "pycharm": {
     "name": "#%%\n"
    }
   }
  },
  {
   "cell_type": "code",
   "execution_count": 6,
   "outputs": [],
   "source": [
    "seizures_index_path = r\"C:\\raw_data/seizures_index.csv\"\n",
    "df = pd.read_csv(seizures_index_path, index_col=0)"
   ],
   "metadata": {
    "collapsed": false,
    "pycharm": {
     "name": "#%%\n"
    }
   }
  },
  {
   "cell_type": "code",
   "execution_count": 7,
   "outputs": [
    {
     "name": "stdout",
     "output_type": "stream",
     "text": [
      "<class 'pandas.core.frame.DataFrame'>\n",
      "Int64Index: 1215 entries, 0 to 6\n",
      "Data columns (total 20 columns):\n",
      " #   Column          Non-Null Count  Dtype  \n",
      "---  ------          --------------  -----  \n",
      " 0   fname           1215 non-null   object \n",
      " 1   package         1215 non-null   object \n",
      " 2   patient         1215 non-null   object \n",
      " 3   seizure_num     1215 non-null   int64  \n",
      " 4   classif.        1215 non-null   object \n",
      " 5   onset           1215 non-null   object \n",
      " 6   offset          1207 non-null   object \n",
      " 7   length          1207 non-null   float64\n",
      " 8   pattern         1183 non-null   object \n",
      " 9   vigilance       1215 non-null   object \n",
      " 10  origin          1215 non-null   object \n",
      " 11  semiology       934 non-null    object \n",
      " 12  t_m_240         1215 non-null   object \n",
      " 13  t_m_60          1215 non-null   object \n",
      " 14  t_p_60          1214 non-null   object \n",
      " 15  t_p_240         1214 non-null   object \n",
      " 16  onset_fpath     1215 non-null   object \n",
      " 17  offset_fpath    1215 non-null   object \n",
      " 18  preictal_files  1215 non-null   object \n",
      " 19  preictal_range  1215 non-null   object \n",
      "dtypes: float64(1), int64(1), object(18)\n",
      "memory usage: 199.3+ KB\n"
     ]
    }
   ],
   "source": [
    "df.info()"
   ],
   "metadata": {
    "collapsed": false,
    "pycharm": {
     "name": "#%%\n"
    }
   }
  },
  {
   "cell_type": "code",
   "execution_count": 8,
   "outputs": [
    {
     "data": {
      "text/plain": "                           fname package    patient  seizure_num classif.  \\\n0  surf30_pat_92102_seizures.csv  surf30  pat_92102            1       CP   \n1  surf30_pat_92102_seizures.csv  surf30  pat_92102            2       UC   \n2  surf30_pat_92102_seizures.csv  surf30  pat_92102            3       SG   \n3  surf30_pat_92102_seizures.csv  surf30  pat_92102            4       CP   \n4  surf30_pat_92102_seizures.csv  surf30  pat_92102            5       CP   \n\n                 onset               offset  length             pattern  \\\n0  2008-01-03 07:55:29  2008-01-03 07:57:13   104.0  repetitive spiking   \n1  2008-01-04 01:17:51  2008-01-04 01:18:58    67.0  repetitive spiking   \n2  2008-01-04 04:50:19  2008-01-04 04:52:44   145.0  repetitive spiking   \n3  2008-01-04 17:58:40  2008-01-04 17:59:54    74.0                 NaN   \n4  2008-01-07 08:05:49  2008-01-07 08:07:30   101.0  repetitive spiking   \n\n  vigilance             origin  \\\n0     awake                PO8   \n1     awake     PO2,PO4,PO8,O2   \n2     awake  PO2,PO4,PO8,O2,P4   \n3     awake             early:   \n4     awake            PO4,PO8   \n\n                                           semiology              t_m_240  \\\n0  behavioral_arrest, oral_automatisms, manual_au...  2008-01-03 03:55:29   \n1  oral_automatisms, restlessness, eye_version, o...  2008-01-03 21:17:51   \n2  oral_automatisms, manual_automatisms: bilatera...  2008-01-04 00:50:19   \n3  somatosensory, other_subjective_symptoms, beha...  2008-01-04 13:58:40   \n4  somatosensory, oral_automatisms, manual_automa...  2008-01-07 04:05:49   \n\n                t_m_60               t_p_60              t_p_240  \\\n0  2008-01-03 06:55:29  2008-01-03 08:57:13  2008-01-03 11:57:13   \n1  2008-01-04 00:17:51  2008-01-04 02:18:58  2008-01-04 05:18:58   \n2  2008-01-04 03:50:19  2008-01-04 05:52:44  2008-01-04 08:52:44   \n3  2008-01-04 16:58:40  2008-01-04 18:59:54  2008-01-04 21:59:54   \n4  2008-01-07 07:05:49  2008-01-07 09:07:30  2008-01-07 12:07:30   \n\n                                         onset_fpath  \\\n0  ['/media/neurohelp/DATA/datasets/epilepsiae/su...   \n1  ['/media/neurohelp/DATA/datasets/epilepsiae/su...   \n2  ['/media/neurohelp/DATA/datasets/epilepsiae/su...   \n3  ['/media/neurohelp/DATA/datasets/epilepsiae/su...   \n4  ['/media/neurohelp/DATA/datasets/epilepsiae/su...   \n\n                                        offset_fpath  \\\n0  ['/media/neurohelp/DATA/datasets/epilepsiae/su...   \n1  ['/media/neurohelp/DATA/datasets/epilepsiae/su...   \n2  ['/media/neurohelp/DATA/datasets/epilepsiae/su...   \n3  ['/media/neurohelp/DATA/datasets/epilepsiae/su...   \n4  ['/media/neurohelp/DATA/datasets/epilepsiae/su...   \n\n                                      preictal_files  \\\n0  ['/media/neurohelp/DATA/datasets/epilepsiae/su...   \n1  ['/media/neurohelp/DATA/datasets/epilepsiae/su...   \n2  ['/media/neurohelp/DATA/datasets/epilepsiae/su...   \n3  ['/media/neurohelp/DATA/datasets/epilepsiae/su...   \n4  ['/media/neurohelp/DATA/datasets/epilepsiae/su...   \n\n                              preictal_range  \n0  2008-01-03T06:55:29 - 2008-01-03T07:55:29  \n1  2008-01-04T00:17:51 - 2008-01-04T01:17:51  \n2  2008-01-04T03:50:19 - 2008-01-04T04:50:19  \n3  2008-01-04T16:58:40 - 2008-01-04T17:58:40  \n4  2008-01-07T07:05:49 - 2008-01-07T08:05:49  ",
      "text/html": "<div>\n<style scoped>\n    .dataframe tbody tr th:only-of-type {\n        vertical-align: middle;\n    }\n\n    .dataframe tbody tr th {\n        vertical-align: top;\n    }\n\n    .dataframe thead th {\n        text-align: right;\n    }\n</style>\n<table border=\"1\" class=\"dataframe\">\n  <thead>\n    <tr style=\"text-align: right;\">\n      <th></th>\n      <th>fname</th>\n      <th>package</th>\n      <th>patient</th>\n      <th>seizure_num</th>\n      <th>classif.</th>\n      <th>onset</th>\n      <th>offset</th>\n      <th>length</th>\n      <th>pattern</th>\n      <th>vigilance</th>\n      <th>origin</th>\n      <th>semiology</th>\n      <th>t_m_240</th>\n      <th>t_m_60</th>\n      <th>t_p_60</th>\n      <th>t_p_240</th>\n      <th>onset_fpath</th>\n      <th>offset_fpath</th>\n      <th>preictal_files</th>\n      <th>preictal_range</th>\n    </tr>\n  </thead>\n  <tbody>\n    <tr>\n      <th>0</th>\n      <td>surf30_pat_92102_seizures.csv</td>\n      <td>surf30</td>\n      <td>pat_92102</td>\n      <td>1</td>\n      <td>CP</td>\n      <td>2008-01-03 07:55:29</td>\n      <td>2008-01-03 07:57:13</td>\n      <td>104.0</td>\n      <td>repetitive spiking</td>\n      <td>awake</td>\n      <td>PO8</td>\n      <td>behavioral_arrest, oral_automatisms, manual_au...</td>\n      <td>2008-01-03 03:55:29</td>\n      <td>2008-01-03 06:55:29</td>\n      <td>2008-01-03 08:57:13</td>\n      <td>2008-01-03 11:57:13</td>\n      <td>['/media/neurohelp/DATA/datasets/epilepsiae/su...</td>\n      <td>['/media/neurohelp/DATA/datasets/epilepsiae/su...</td>\n      <td>['/media/neurohelp/DATA/datasets/epilepsiae/su...</td>\n      <td>2008-01-03T06:55:29 - 2008-01-03T07:55:29</td>\n    </tr>\n    <tr>\n      <th>1</th>\n      <td>surf30_pat_92102_seizures.csv</td>\n      <td>surf30</td>\n      <td>pat_92102</td>\n      <td>2</td>\n      <td>UC</td>\n      <td>2008-01-04 01:17:51</td>\n      <td>2008-01-04 01:18:58</td>\n      <td>67.0</td>\n      <td>repetitive spiking</td>\n      <td>awake</td>\n      <td>PO2,PO4,PO8,O2</td>\n      <td>oral_automatisms, restlessness, eye_version, o...</td>\n      <td>2008-01-03 21:17:51</td>\n      <td>2008-01-04 00:17:51</td>\n      <td>2008-01-04 02:18:58</td>\n      <td>2008-01-04 05:18:58</td>\n      <td>['/media/neurohelp/DATA/datasets/epilepsiae/su...</td>\n      <td>['/media/neurohelp/DATA/datasets/epilepsiae/su...</td>\n      <td>['/media/neurohelp/DATA/datasets/epilepsiae/su...</td>\n      <td>2008-01-04T00:17:51 - 2008-01-04T01:17:51</td>\n    </tr>\n    <tr>\n      <th>2</th>\n      <td>surf30_pat_92102_seizures.csv</td>\n      <td>surf30</td>\n      <td>pat_92102</td>\n      <td>3</td>\n      <td>SG</td>\n      <td>2008-01-04 04:50:19</td>\n      <td>2008-01-04 04:52:44</td>\n      <td>145.0</td>\n      <td>repetitive spiking</td>\n      <td>awake</td>\n      <td>PO2,PO4,PO8,O2,P4</td>\n      <td>oral_automatisms, manual_automatisms: bilatera...</td>\n      <td>2008-01-04 00:50:19</td>\n      <td>2008-01-04 03:50:19</td>\n      <td>2008-01-04 05:52:44</td>\n      <td>2008-01-04 08:52:44</td>\n      <td>['/media/neurohelp/DATA/datasets/epilepsiae/su...</td>\n      <td>['/media/neurohelp/DATA/datasets/epilepsiae/su...</td>\n      <td>['/media/neurohelp/DATA/datasets/epilepsiae/su...</td>\n      <td>2008-01-04T03:50:19 - 2008-01-04T04:50:19</td>\n    </tr>\n    <tr>\n      <th>3</th>\n      <td>surf30_pat_92102_seizures.csv</td>\n      <td>surf30</td>\n      <td>pat_92102</td>\n      <td>4</td>\n      <td>CP</td>\n      <td>2008-01-04 17:58:40</td>\n      <td>2008-01-04 17:59:54</td>\n      <td>74.0</td>\n      <td>NaN</td>\n      <td>awake</td>\n      <td>early:</td>\n      <td>somatosensory, other_subjective_symptoms, beha...</td>\n      <td>2008-01-04 13:58:40</td>\n      <td>2008-01-04 16:58:40</td>\n      <td>2008-01-04 18:59:54</td>\n      <td>2008-01-04 21:59:54</td>\n      <td>['/media/neurohelp/DATA/datasets/epilepsiae/su...</td>\n      <td>['/media/neurohelp/DATA/datasets/epilepsiae/su...</td>\n      <td>['/media/neurohelp/DATA/datasets/epilepsiae/su...</td>\n      <td>2008-01-04T16:58:40 - 2008-01-04T17:58:40</td>\n    </tr>\n    <tr>\n      <th>4</th>\n      <td>surf30_pat_92102_seizures.csv</td>\n      <td>surf30</td>\n      <td>pat_92102</td>\n      <td>5</td>\n      <td>CP</td>\n      <td>2008-01-07 08:05:49</td>\n      <td>2008-01-07 08:07:30</td>\n      <td>101.0</td>\n      <td>repetitive spiking</td>\n      <td>awake</td>\n      <td>PO4,PO8</td>\n      <td>somatosensory, oral_automatisms, manual_automa...</td>\n      <td>2008-01-07 04:05:49</td>\n      <td>2008-01-07 07:05:49</td>\n      <td>2008-01-07 09:07:30</td>\n      <td>2008-01-07 12:07:30</td>\n      <td>['/media/neurohelp/DATA/datasets/epilepsiae/su...</td>\n      <td>['/media/neurohelp/DATA/datasets/epilepsiae/su...</td>\n      <td>['/media/neurohelp/DATA/datasets/epilepsiae/su...</td>\n      <td>2008-01-07T07:05:49 - 2008-01-07T08:05:49</td>\n    </tr>\n  </tbody>\n</table>\n</div>"
     },
     "execution_count": 8,
     "metadata": {},
     "output_type": "execute_result"
    }
   ],
   "source": [
    "df.head()\n"
   ],
   "metadata": {
    "collapsed": false,
    "pycharm": {
     "name": "#%%\n"
    }
   }
  },
  {
   "cell_type": "code",
   "execution_count": 14,
   "outputs": [],
   "source": [
    "package = \"surf30\"\n",
    "patient = \"pat_92102\"\n",
    "seizure_num = 3\n",
    "\n",
    "seizure_data = df.loc[(df[\"package\"] == package) & (df[\"patient\"] == patient) & (df[\"seizure_num\"] == seizure_num)]"
   ],
   "metadata": {
    "collapsed": false,
    "pycharm": {
     "name": "#%%\n"
    }
   }
  },
  {
   "cell_type": "code",
   "execution_count": 22,
   "outputs": [
    {
     "data": {
      "text/plain": "(\"['/media/neurohelp/DATA/datasets/epilepsiae/surf30/pat_92102/adm_921102/rec_92101102/92101102_0020.data']\",\n '2008-01-04 04:50:19',\n '2008-01-04 04:52:44')"
     },
     "execution_count": 22,
     "metadata": {},
     "output_type": "execute_result"
    }
   ],
   "source": [
    "onset_fpath = seizure_data[\"onset_fpath\"].item()\n",
    "onset = seizure_data[\"onset\"].item()\n",
    "offset = seizure_data[\"offset\"].item()\n",
    "onset_fpath, onset, offset"
   ],
   "metadata": {
    "collapsed": false,
    "pycharm": {
     "name": "#%%\n"
    }
   }
  },
  {
   "cell_type": "code",
   "execution_count": 24,
   "outputs": [
    {
     "data": {
      "text/plain": "'media/neurohelp/DATA/datasets/epilepsiae/surf30/pat_92102/adm_921102/rec_92101102/92101102_0020.data'"
     },
     "execution_count": 24,
     "metadata": {},
     "output_type": "execute_result"
    }
   ],
   "source": [
    "onset_fpath[3:-2]\n"
   ],
   "metadata": {
    "collapsed": false,
    "pycharm": {
     "name": "#%%\n"
    }
   }
  },
  {
   "cell_type": "code",
   "execution_count": null,
   "outputs": [],
   "source": [],
   "metadata": {
    "collapsed": false,
    "pycharm": {
     "name": "#%%\n"
    }
   }
  }
 ],
 "metadata": {
  "kernelspec": {
   "display_name": "Python 3",
   "language": "python",
   "name": "python3"
  },
  "language_info": {
   "codemirror_mode": {
    "name": "ipython",
    "version": 2
   },
   "file_extension": ".py",
   "mimetype": "text/x-python",
   "name": "python",
   "nbconvert_exporter": "python",
   "pygments_lexer": "ipython2",
   "version": "2.7.6"
  }
 },
 "nbformat": 4,
 "nbformat_minor": 0
}