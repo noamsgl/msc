{
 "cells": [
  {
   "cell_type": "code",
   "execution_count": 29,
   "metadata": {
    "collapsed": true
   },
   "outputs": [
    {
     "name": "stdout",
     "output_type": "stream",
     "text": [
      "The autoreload extension is already loaded. To reload it, use:\n",
      "  %reload_ext autoreload\n"
     ]
    }
   ],
   "source": [
    "\n",
    "import math\n",
    "import torch\n",
    "import gpytorch\n",
    "from matplotlib import pyplot as plt\n",
    "\n",
    "%matplotlib inline\n",
    "%load_ext autoreload\n",
    "%autoreload 2"
   ]
  },
  {
   "cell_type": "code",
   "execution_count": 30,
   "outputs": [],
   "source": [
    "\n",
    "# Training data is 100 points in [0,1] inclusive regularly spaced\n",
    "train_x = torch.linspace(0, 1, 100)\n",
    "# True function is sin(2*pi*x) with Gaussian noise\n",
    "train_y = torch.sin(train_x * (2 * math.pi)-2) + torch.randn(train_x.size()) * math.sqrt(0.004)"
   ],
   "metadata": {
    "collapsed": false,
    "pycharm": {
     "name": "#%%\n"
    }
   }
  },
  {
   "cell_type": "code",
   "execution_count": 31,
   "outputs": [],
   "source": [
    "# We will use the simplest form of GP model, exact inference\n",
    "class ExactGPModel(gpytorch.models.ExactGP):\n",
    "    def __init__(self, train_x, train_y, likelihood):\n",
    "        super(ExactGPModel, self).__init__(train_x, train_y, likelihood)\n",
    "        self.mean_module = gpytorch.means.ConstantMean()\n",
    "        self.covar_module = gpytorch.kernels.ScaleKernel(gpytorch.kernels.RBFKernel())\n",
    "\n",
    "    def forward(self, x):\n",
    "        mean_x = self.mean_module(x)\n",
    "        covar_x = self.covar_module(x)\n",
    "        return gpytorch.distributions.MultivariateNormal(mean_x, covar_x)\n",
    "\n",
    "# initialize likelihood and model\n",
    "likelihood = gpytorch.likelihoods.GaussianLikelihood()\n",
    "model = ExactGPModel(train_x, train_y, likelihood)\n"
   ],
   "metadata": {
    "collapsed": false,
    "pycharm": {
     "name": "#%%\n"
    }
   }
  },
  {
   "cell_type": "code",
   "execution_count": 32,
   "outputs": [
    {
     "name": "stdout",
     "output_type": "stream",
     "text": [
      "Iter 1/50 - Loss: 0.958   lengthscale: 0.693   noise: 0.693\n",
      "Iter 2/50 - Loss: 0.903   lengthscale: 0.644   noise: 0.644\n",
      "Iter 3/50 - Loss: 0.847   lengthscale: 0.598   noise: 0.598\n",
      "Iter 4/50 - Loss: 0.790   lengthscale: 0.554   noise: 0.554\n",
      "Iter 5/50 - Loss: 0.734   lengthscale: 0.513   noise: 0.513\n",
      "Iter 6/50 - Loss: 0.681   lengthscale: 0.475   noise: 0.473\n",
      "Iter 7/50 - Loss: 0.629   lengthscale: 0.439   noise: 0.436\n",
      "Iter 8/50 - Loss: 0.580   lengthscale: 0.406   noise: 0.402\n",
      "Iter 9/50 - Loss: 0.534   lengthscale: 0.377   noise: 0.369\n",
      "Iter 10/50 - Loss: 0.490   lengthscale: 0.350   noise: 0.339\n",
      "Iter 11/50 - Loss: 0.447   lengthscale: 0.327   noise: 0.310\n",
      "Iter 12/50 - Loss: 0.405   lengthscale: 0.307   noise: 0.284\n",
      "Iter 13/50 - Loss: 0.364   lengthscale: 0.290   noise: 0.259\n",
      "Iter 14/50 - Loss: 0.323   lengthscale: 0.277   noise: 0.237\n",
      "Iter 15/50 - Loss: 0.282   lengthscale: 0.265   noise: 0.216\n",
      "Iter 16/50 - Loss: 0.241   lengthscale: 0.256   noise: 0.196\n",
      "Iter 17/50 - Loss: 0.198   lengthscale: 0.250   noise: 0.179\n",
      "Iter 18/50 - Loss: 0.155   lengthscale: 0.245   noise: 0.162\n",
      "Iter 19/50 - Loss: 0.112   lengthscale: 0.242   noise: 0.147\n",
      "Iter 20/50 - Loss: 0.067   lengthscale: 0.241   noise: 0.134\n",
      "Iter 21/50 - Loss: 0.022   lengthscale: 0.242   noise: 0.121\n",
      "Iter 22/50 - Loss: -0.023   lengthscale: 0.243   noise: 0.110\n",
      "Iter 23/50 - Loss: -0.070   lengthscale: 0.247   noise: 0.099\n",
      "Iter 24/50 - Loss: -0.116   lengthscale: 0.251   noise: 0.090\n",
      "Iter 25/50 - Loss: -0.163   lengthscale: 0.256   noise: 0.081\n",
      "Iter 26/50 - Loss: -0.210   lengthscale: 0.263   noise: 0.073\n",
      "Iter 27/50 - Loss: -0.257   lengthscale: 0.271   noise: 0.066\n",
      "Iter 28/50 - Loss: -0.304   lengthscale: 0.279   noise: 0.060\n",
      "Iter 29/50 - Loss: -0.351   lengthscale: 0.288   noise: 0.054\n",
      "Iter 30/50 - Loss: -0.397   lengthscale: 0.298   noise: 0.049\n",
      "Iter 31/50 - Loss: -0.442   lengthscale: 0.308   noise: 0.044\n",
      "Iter 32/50 - Loss: -0.486   lengthscale: 0.319   noise: 0.040\n",
      "Iter 33/50 - Loss: -0.530   lengthscale: 0.329   noise: 0.036\n",
      "Iter 34/50 - Loss: -0.572   lengthscale: 0.338   noise: 0.032\n",
      "Iter 35/50 - Loss: -0.613   lengthscale: 0.346   noise: 0.029\n",
      "Iter 36/50 - Loss: -0.654   lengthscale: 0.352   noise: 0.027\n",
      "Iter 37/50 - Loss: -0.693   lengthscale: 0.355   noise: 0.024\n",
      "Iter 38/50 - Loss: -0.732   lengthscale: 0.356   noise: 0.022\n",
      "Iter 39/50 - Loss: -0.771   lengthscale: 0.355   noise: 0.020\n",
      "Iter 40/50 - Loss: -0.808   lengthscale: 0.351   noise: 0.018\n",
      "Iter 41/50 - Loss: -0.845   lengthscale: 0.346   noise: 0.016\n",
      "Iter 42/50 - Loss: -0.880   lengthscale: 0.341   noise: 0.015\n",
      "Iter 43/50 - Loss: -0.912   lengthscale: 0.335   noise: 0.013\n",
      "Iter 44/50 - Loss: -0.943   lengthscale: 0.329   noise: 0.012\n",
      "Iter 45/50 - Loss: -0.972   lengthscale: 0.324   noise: 0.011\n",
      "Iter 46/50 - Loss: -0.999   lengthscale: 0.320   noise: 0.010\n",
      "Iter 47/50 - Loss: -1.023   lengthscale: 0.317   noise: 0.009\n",
      "Iter 48/50 - Loss: -1.046   lengthscale: 0.316   noise: 0.008\n",
      "Iter 49/50 - Loss: -1.066   lengthscale: 0.316   noise: 0.008\n",
      "Iter 50/50 - Loss: -1.085   lengthscale: 0.317   noise: 0.007\n"
     ]
    }
   ],
   "source": [
    "# this is for running the notebook in our testing framework\n",
    "import os\n",
    "smoke_test = ('CI' in os.environ)\n",
    "training_iter = 2 if smoke_test else 50\n",
    "\n",
    "\n",
    "# Find optimal model hyperparameters\n",
    "model.train()\n",
    "likelihood.train()\n",
    "\n",
    "# Use the adam optimizer\n",
    "optimizer = torch.optim.Adam([\n",
    "    {'params': model.parameters()},  # Includes GaussianLikelihood parameters\n",
    "], lr=0.1)\n",
    "\n",
    "# \"Loss\" for GPs - the marginal log likelihood\n",
    "mll = gpytorch.mlls.ExactMarginalLogLikelihood(likelihood, model)\n",
    "\n",
    "for i in range(training_iter):\n",
    "    # Zero gradients from previous iteration\n",
    "    optimizer.zero_grad()\n",
    "    # Output from model\n",
    "    output = model(train_x)\n",
    "    # Calc loss and backprop gradients\n",
    "    loss = -mll(output, train_y)\n",
    "    loss.backward()\n",
    "    print('Iter %d/%d - Loss: %.3f   lengthscale: %.3f   noise: %.3f' % (\n",
    "        i + 1, training_iter, loss.item(),\n",
    "        model.covar_module.base_kernel.lengthscale.item(),\n",
    "        model.likelihood.noise.item()\n",
    "    ))\n",
    "    optimizer.step()\n"
   ],
   "metadata": {
    "collapsed": false,
    "pycharm": {
     "name": "#%%\n"
    }
   }
  },
  {
   "cell_type": "code",
   "execution_count": 33,
   "outputs": [],
   "source": [
    "# Get into evaluation (predictive posterior) mode\n",
    "model.eval()\n",
    "likelihood.eval()\n",
    "\n",
    "# Test points are regularly spaced along [0,1]\n",
    "# Make predictions by feeding model through likelihood\n",
    "with torch.no_grad(), gpytorch.settings.fast_pred_var():\n",
    "    test_x = torch.linspace(0, 1, 51)\n",
    "    observed_pred = likelihood(model(test_x))\n"
   ],
   "metadata": {
    "collapsed": false,
    "pycharm": {
     "name": "#%%\n"
    }
   }
  },
  {
   "cell_type": "code",
   "execution_count": 34,
   "outputs": [
    {
     "data": {
      "text/plain": "<Figure size 864x576 with 1 Axes>",
      "image/png": "[encoded data removed]"
     },
     "metadata": {
      "needs_background": "light"
     },
     "output_type": "display_data"
    }
   ],
   "source": [
    "with torch.no_grad():\n",
    "    # Initialize plot\n",
    "    f, ax = plt.subplots(1, 1, figsize=(12, 8))\n",
    "\n",
    "    # Get upper and lower confidence bounds\n",
    "    lower, upper = observed_pred.confidence_region()\n",
    "    # Plot training data as black stars\n",
    "    ax.plot(train_x.numpy(), train_y.numpy(), 'k*')\n",
    "    # Plot predictive means as blue line\n",
    "    ax.plot(test_x.numpy(), observed_pred.mean.numpy(), 'b')\n",
    "    # Shade between the lower and upper confidence bounds\n",
    "    ax.fill_between(test_x.numpy(), lower.numpy(), upper.numpy(), alpha=0.5)\n",
    "    ax.set_ylim([-3, 3])\n",
    "    ax.legend(['Observed Data', 'Mean', 'Confidence'])"
   ],
   "metadata": {
    "collapsed": false,
    "pycharm": {
     "name": "#%%\n"
    }
   }
  },
  {
   "cell_type": "code",
   "execution_count": 34,
   "outputs": [],
   "source": [],
   "metadata": {
    "collapsed": false,
    "pycharm": {
     "name": "#%%\n"
    }
   }
  }
 ],
 "metadata": {
  "kernelspec": {
   "display_name": "Python 3",
   "language": "python",
   "name": "python3"
  },
  "language_info": {
   "codemirror_mode": {
    "name": "ipython",
    "version": 2
   },
   "file_extension": ".py",
   "mimetype": "text/x-python",
   "name": "python",
   "nbconvert_exporter": "python",
   "pygments_lexer": "ipython2",
   "version": "2.7.6"
  }
 },
 "nbformat": 4,
 "nbformat_minor": 0
}