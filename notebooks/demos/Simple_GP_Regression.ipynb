{
 "cells": [
  {
   "cell_type": "code",
   "execution_count": 8,
   "metadata": {
    "collapsed": true
   },
   "outputs": [
    {
     "name": "stdout",
     "output_type": "stream",
     "text": [
      "The autoreload extension is already loaded. To reload it, use:\n",
      "  %reload_ext autoreload\n"
     ]
    }
   ],
   "source": [
    "\n",
    "import math\n",
    "import torch\n",
    "import gpytorch\n",
    "from matplotlib import pyplot as plt\n",
    "\n",
    "%matplotlib inline\n",
    "%load_ext autoreload\n",
    "%autoreload 2"
   ]
  },
  {
   "cell_type": "code",
   "execution_count": 9,
   "outputs": [],
   "source": [
    "\n",
    "# Training data is 100 points in [0,1] inclusive regularly spaced\n",
    "train_x = torch.linspace(0, 1, 100)\n",
    "# True function is sin(2*pi*x) with Gaussian noise\n",
    "train_y = torch.relu(train_x * (2 * math.pi)-2) + torch.randn(train_x.size()) * math.sqrt(0.004)"
   ],
   "metadata": {
    "collapsed": false,
    "pycharm": {
     "name": "#%%\n"
    }
   }
  },
  {
   "cell_type": "code",
   "execution_count": 10,
   "outputs": [],
   "source": [
    "# We will use the simplest form of GP model, exact inference\n",
    "class ExactGPModel(gpytorch.models.ExactGP):\n",
    "    def __init__(self, train_x, train_y, likelihood):\n",
    "        super(ExactGPModel, self).__init__(train_x, train_y, likelihood)\n",
    "        self.mean_module = gpytorch.means.ConstantMean()\n",
    "        self.covar_module = gpytorch.kernels.ScaleKernel(gpytorch.kernels.RBFKernel())\n",
    "\n",
    "    def forward(self, x):\n",
    "        mean_x = self.mean_module(x)\n",
    "        covar_x = self.covar_module(x)\n",
    "        return gpytorch.distributions.MultivariateNormal(mean_x, covar_x)\n",
    "\n",
    "# initialize likelihood and model\n",
    "likelihood = gpytorch.likelihoods.GaussianLikelihood()\n",
    "model = ExactGPModel(train_x, train_y, likelihood)\n"
   ],
   "metadata": {
    "collapsed": false,
    "pycharm": {
     "name": "#%%\n"
    }
   }
  },
  {
   "cell_type": "code",
   "execution_count": 11,
   "outputs": [
    {
     "name": "stdout",
     "output_type": "stream",
     "text": [
      "Iter 1/50 - Loss: 0.969   lengthscale: 0.693   noise: 0.693\n",
      "Iter 2/50 - Loss: 0.910   lengthscale: 0.644   noise: 0.644\n",
      "Iter 3/50 - Loss: 0.852   lengthscale: 0.598   noise: 0.598\n",
      "Iter 4/50 - Loss: 0.796   lengthscale: 0.555   noise: 0.554\n",
      "Iter 5/50 - Loss: 0.743   lengthscale: 0.514   noise: 0.513\n",
      "Iter 6/50 - Loss: 0.694   lengthscale: 0.477   noise: 0.474\n",
      "Iter 7/50 - Loss: 0.647   lengthscale: 0.444   noise: 0.437\n",
      "Iter 8/50 - Loss: 0.603   lengthscale: 0.415   noise: 0.402\n",
      "Iter 9/50 - Loss: 0.560   lengthscale: 0.391   noise: 0.370\n",
      "Iter 10/50 - Loss: 0.518   lengthscale: 0.370   noise: 0.340\n",
      "Iter 11/50 - Loss: 0.477   lengthscale: 0.354   noise: 0.311\n",
      "Iter 12/50 - Loss: 0.435   lengthscale: 0.341   noise: 0.285\n",
      "Iter 13/50 - Loss: 0.393   lengthscale: 0.331   noise: 0.261\n",
      "Iter 14/50 - Loss: 0.351   lengthscale: 0.323   noise: 0.238\n",
      "Iter 15/50 - Loss: 0.309   lengthscale: 0.318   noise: 0.217\n",
      "Iter 16/50 - Loss: 0.266   lengthscale: 0.316   noise: 0.198\n",
      "Iter 17/50 - Loss: 0.223   lengthscale: 0.315   noise: 0.180\n",
      "Iter 18/50 - Loss: 0.180   lengthscale: 0.315   noise: 0.164\n",
      "Iter 19/50 - Loss: 0.136   lengthscale: 0.318   noise: 0.149\n",
      "Iter 20/50 - Loss: 0.093   lengthscale: 0.322   noise: 0.136\n",
      "Iter 21/50 - Loss: 0.049   lengthscale: 0.327   noise: 0.123\n",
      "Iter 22/50 - Loss: 0.005   lengthscale: 0.334   noise: 0.112\n",
      "Iter 23/50 - Loss: -0.039   lengthscale: 0.342   noise: 0.101\n",
      "Iter 24/50 - Loss: -0.083   lengthscale: 0.351   noise: 0.092\n",
      "Iter 25/50 - Loss: -0.127   lengthscale: 0.361   noise: 0.083\n",
      "Iter 26/50 - Loss: -0.170   lengthscale: 0.372   noise: 0.075\n",
      "Iter 27/50 - Loss: -0.213   lengthscale: 0.384   noise: 0.068\n",
      "Iter 28/50 - Loss: -0.255   lengthscale: 0.397   noise: 0.062\n",
      "Iter 29/50 - Loss: -0.297   lengthscale: 0.411   noise: 0.056\n",
      "Iter 30/50 - Loss: -0.337   lengthscale: 0.426   noise: 0.051\n",
      "Iter 31/50 - Loss: -0.377   lengthscale: 0.441   noise: 0.046\n",
      "Iter 32/50 - Loss: -0.415   lengthscale: 0.456   noise: 0.041\n",
      "Iter 33/50 - Loss: -0.452   lengthscale: 0.472   noise: 0.038\n",
      "Iter 34/50 - Loss: -0.488   lengthscale: 0.487   noise: 0.034\n",
      "Iter 35/50 - Loss: -0.521   lengthscale: 0.502   noise: 0.031\n",
      "Iter 36/50 - Loss: -0.553   lengthscale: 0.516   noise: 0.028\n",
      "Iter 37/50 - Loss: -0.583   lengthscale: 0.528   noise: 0.025\n",
      "Iter 38/50 - Loss: -0.611   lengthscale: 0.538   noise: 0.023\n",
      "Iter 39/50 - Loss: -0.637   lengthscale: 0.546   noise: 0.021\n",
      "Iter 40/50 - Loss: -0.661   lengthscale: 0.551   noise: 0.019\n",
      "Iter 41/50 - Loss: -0.683   lengthscale: 0.552   noise: 0.018\n",
      "Iter 42/50 - Loss: -0.703   lengthscale: 0.551   noise: 0.016\n",
      "Iter 43/50 - Loss: -0.720   lengthscale: 0.547   noise: 0.015\n",
      "Iter 44/50 - Loss: -0.735   lengthscale: 0.540   noise: 0.014\n",
      "Iter 45/50 - Loss: -0.748   lengthscale: 0.531   noise: 0.013\n",
      "Iter 46/50 - Loss: -0.760   lengthscale: 0.520   noise: 0.012\n",
      "Iter 47/50 - Loss: -0.769   lengthscale: 0.507   noise: 0.011\n",
      "Iter 48/50 - Loss: -0.777   lengthscale: 0.491   noise: 0.010\n",
      "Iter 49/50 - Loss: -0.785   lengthscale: 0.473   noise: 0.010\n",
      "Iter 50/50 - Loss: -0.794   lengthscale: 0.451   noise: 0.009\n"
     ]
    }
   ],
   "source": [
    "# this is for running the notebook in our testing framework\n",
    "import os\n",
    "smoke_test = ('CI' in os.environ)\n",
    "training_iter = 2 if smoke_test else 50\n",
    "\n",
    "\n",
    "# Find optimal model hyperparameters\n",
    "model.train()\n",
    "likelihood.train()\n",
    "\n",
    "# Use the adam optimizer\n",
    "optimizer = torch.optim.Adam([\n",
    "    {'params': model.parameters()},  # Includes GaussianLikelihood parameters\n",
    "], lr=0.1)\n",
    "\n",
    "# \"Loss\" for GPs - the marginal log likelihood\n",
    "mll = gpytorch.mlls.ExactMarginalLogLikelihood(likelihood, model)\n",
    "\n",
    "for i in range(training_iter):\n",
    "    # Zero gradients from previous iteration\n",
    "    optimizer.zero_grad()\n",
    "    # Output from model\n",
    "    output = model(train_x)\n",
    "    # Calc loss and backprop gradients\n",
    "    loss = -mll(output, train_y)\n",
    "    loss.backward()\n",
    "    print('Iter %d/%d - Loss: %.3f   lengthscale: %.3f   noise: %.3f' % (\n",
    "        i + 1, training_iter, loss.item(),\n",
    "        model.covar_module.base_kernel.lengthscale.item(),\n",
    "        model.likelihood.noise.item()\n",
    "    ))\n",
    "    optimizer.step()\n"
   ],
   "metadata": {
    "collapsed": false,
    "pycharm": {
     "name": "#%%\n"
    }
   }
  },
  {
   "cell_type": "code",
   "execution_count": 12,
   "outputs": [],
   "source": [
    "# Get into evaluation (predictive posterior) mode\n",
    "model.eval()\n",
    "likelihood.eval()\n",
    "\n",
    "# Test points are regularly spaced along [0,1]\n",
    "# Make predictions by feeding model through likelihood\n",
    "with torch.no_grad(), gpytorch.settings.fast_pred_var():\n",
    "    test_x = torch.linspace(0, 1, 51)\n",
    "    observed_pred = likelihood(model(test_x))\n"
   ],
   "metadata": {
    "collapsed": false,
    "pycharm": {
     "name": "#%%\n"
    }
   }
  },
  {
   "cell_type": "code",
   "execution_count": 13,
   "outputs": [
    {
     "data": {
      "text/plain": "<Figure size 864x576 with 1 Axes>",
      "image/png": "[encoded data removed]"
     },
     "metadata": {
      "needs_background": "light"
     },
     "output_type": "display_data"
    }
   ],
   "source": [
    "with torch.no_grad():\n",
    "    # Initialize plot\n",
    "    f, ax = plt.subplots(1, 1, figsize=(12, 8))\n",
    "\n",
    "    # Get upper and lower confidence bounds\n",
    "    lower, upper = observed_pred.confidence_region()\n",
    "    # Plot training data as black stars\n",
    "    ax.plot(train_x.numpy(), train_y.numpy(), 'k*')\n",
    "    # Plot predictive means as blue line\n",
    "    ax.plot(test_x.numpy(), observed_pred.mean.numpy(), 'b')\n",
    "    # Shade between the lower and upper confidence bounds\n",
    "    ax.fill_between(test_x.numpy(), lower.numpy(), upper.numpy(), alpha=0.5)\n",
    "    # ax.set_ylim([-3, 3])\n",
    "    ax.legend(['Observed Data', 'Mean', 'Confidence'])"
   ],
   "metadata": {
    "collapsed": false,
    "pycharm": {
     "name": "#%%\n"
    }
   }
  },
  {
   "cell_type": "code",
   "execution_count": 13,
   "outputs": [],
   "source": [],
   "metadata": {
    "collapsed": false,
    "pycharm": {
     "name": "#%%\n"
    }
   }
  }
 ],
 "metadata": {
  "kernelspec": {
   "display_name": "Python 3",
   "language": "python",
   "name": "python3"
  },
  "language_info": {
   "codemirror_mode": {
    "name": "ipython",
    "version": 2
   },
   "file_extension": ".py",
   "mimetype": "text/x-python",
   "name": "python",
   "nbconvert_exporter": "python",
   "pygments_lexer": "ipython2",
   "version": "2.7.6"
  }
 },
 "nbformat": 4,
 "nbformat_minor": 0
}