{
 "cells": [
  {
   "cell_type": "code",
   "execution_count": 45,
   "metadata": {
    "collapsed": true
   },
   "outputs": [
    {
     "name": "stdout",
     "output_type": "stream",
     "text": [
      "The autoreload extension is already loaded. To reload it, use:\n",
      "  %reload_ext autoreload\n"
     ]
    }
   ],
   "source": [
    "\n",
    "import math\n",
    "import torch\n",
    "import gpytorch\n",
    "from matplotlib import pyplot as plt\n",
    "\n",
    "%matplotlib inline\n",
    "%load_ext autoreload\n",
    "%autoreload 2"
   ]
  },
  {
   "cell_type": "code",
   "execution_count": 46,
   "outputs": [],
   "source": [
    "\n",
    "# Training data is 100 points in [0,1] inclusive regularly spaced\n",
    "train_x = torch.linspace(0, 1, 100)\n",
    "# True function is sin(2*pi*x) with Gaussian noise\n",
    "train_y = torch.relu(train_x * (2 * math.pi)-2) + torch.randn(train_x.size()) * math.sqrt(0.04)"
   ],
   "metadata": {
    "collapsed": false,
    "pycharm": {
     "name": "#%%\n"
    }
   }
  },
  {
   "cell_type": "code",
   "execution_count": 47,
   "outputs": [],
   "source": [
    "# We will use the simplest form of GP model, exact inference\n",
    "class ExactGPModel(gpytorch.models.ExactGP):\n",
    "    def __init__(self, train_x, train_y, likelihood):\n",
    "        super(ExactGPModel, self).__init__(train_x, train_y, likelihood)\n",
    "        self.mean_module = gpytorch.means.ConstantMean()\n",
    "        self.covar_module = gpytorch.kernels.ScaleKernel(gpytorch.kernels.RBFKernel())\n",
    "\n",
    "    def forward(self, x):\n",
    "        mean_x = self.mean_module(x)\n",
    "        covar_x = self.covar_module(x)\n",
    "        return gpytorch.distributions.MultivariateNormal(mean_x, covar_x)\n",
    "\n",
    "# initialize likelihood and model\n",
    "likelihood = gpytorch.likelihoods.GaussianLikelihood()\n",
    "model = ExactGPModel(train_x, train_y, likelihood)\n"
   ],
   "metadata": {
    "collapsed": false,
    "pycharm": {
     "name": "#%%\n"
    }
   }
  },
  {
   "cell_type": "code",
   "execution_count": 48,
   "outputs": [
    {
     "name": "stdout",
     "output_type": "stream",
     "text": [
      "Iter 1/50 - Loss: 0.980   lengthscale: 0.693   noise: 0.693\n",
      "Iter 2/50 - Loss: 0.923   lengthscale: 0.644   noise: 0.644\n",
      "Iter 3/50 - Loss: 0.868   lengthscale: 0.598   noise: 0.598\n",
      "Iter 4/50 - Loss: 0.814   lengthscale: 0.555   noise: 0.554\n",
      "Iter 5/50 - Loss: 0.764   lengthscale: 0.515   noise: 0.513\n",
      "Iter 6/50 - Loss: 0.717   lengthscale: 0.478   noise: 0.474\n",
      "Iter 7/50 - Loss: 0.673   lengthscale: 0.445   noise: 0.437\n",
      "Iter 8/50 - Loss: 0.632   lengthscale: 0.417   noise: 0.402\n",
      "Iter 9/50 - Loss: 0.592   lengthscale: 0.393   noise: 0.370\n",
      "Iter 10/50 - Loss: 0.553   lengthscale: 0.373   noise: 0.340\n",
      "Iter 11/50 - Loss: 0.514   lengthscale: 0.357   noise: 0.312\n",
      "Iter 12/50 - Loss: 0.476   lengthscale: 0.344   noise: 0.286\n",
      "Iter 13/50 - Loss: 0.438   lengthscale: 0.334   noise: 0.261\n",
      "Iter 14/50 - Loss: 0.401   lengthscale: 0.327   noise: 0.239\n",
      "Iter 15/50 - Loss: 0.363   lengthscale: 0.322   noise: 0.218\n",
      "Iter 16/50 - Loss: 0.326   lengthscale: 0.319   noise: 0.199\n",
      "Iter 17/50 - Loss: 0.289   lengthscale: 0.317   noise: 0.181\n",
      "Iter 18/50 - Loss: 0.253   lengthscale: 0.318   noise: 0.165\n",
      "Iter 19/50 - Loss: 0.217   lengthscale: 0.319   noise: 0.151\n",
      "Iter 20/50 - Loss: 0.182   lengthscale: 0.322   noise: 0.137\n",
      "Iter 21/50 - Loss: 0.148   lengthscale: 0.327   noise: 0.125\n",
      "Iter 22/50 - Loss: 0.115   lengthscale: 0.332   noise: 0.114\n",
      "Iter 23/50 - Loss: 0.083   lengthscale: 0.339   noise: 0.103\n",
      "Iter 24/50 - Loss: 0.052   lengthscale: 0.347   noise: 0.094\n",
      "Iter 25/50 - Loss: 0.023   lengthscale: 0.355   noise: 0.086\n",
      "Iter 26/50 - Loss: -0.004   lengthscale: 0.365   noise: 0.078\n",
      "Iter 27/50 - Loss: -0.029   lengthscale: 0.375   noise: 0.071\n",
      "Iter 28/50 - Loss: -0.052   lengthscale: 0.387   noise: 0.065\n",
      "Iter 29/50 - Loss: -0.072   lengthscale: 0.399   noise: 0.060\n",
      "Iter 30/50 - Loss: -0.090   lengthscale: 0.412   noise: 0.055\n",
      "Iter 31/50 - Loss: -0.106   lengthscale: 0.426   noise: 0.050\n",
      "Iter 32/50 - Loss: -0.119   lengthscale: 0.441   noise: 0.046\n",
      "Iter 33/50 - Loss: -0.129   lengthscale: 0.456   noise: 0.043\n",
      "Iter 34/50 - Loss: -0.136   lengthscale: 0.472   noise: 0.040\n",
      "Iter 35/50 - Loss: -0.141   lengthscale: 0.489   noise: 0.037\n",
      "Iter 36/50 - Loss: -0.144   lengthscale: 0.505   noise: 0.035\n",
      "Iter 37/50 - Loss: -0.144   lengthscale: 0.522   noise: 0.033\n",
      "Iter 38/50 - Loss: -0.143   lengthscale: 0.538   noise: 0.031\n",
      "Iter 39/50 - Loss: -0.140   lengthscale: 0.553   noise: 0.029\n",
      "Iter 40/50 - Loss: -0.137   lengthscale: 0.566   noise: 0.028\n",
      "Iter 41/50 - Loss: -0.133   lengthscale: 0.577   noise: 0.027\n",
      "Iter 42/50 - Loss: -0.130   lengthscale: 0.584   noise: 0.027\n",
      "Iter 43/50 - Loss: -0.127   lengthscale: 0.589   noise: 0.026\n",
      "Iter 44/50 - Loss: -0.125   lengthscale: 0.590   noise: 0.026\n",
      "Iter 45/50 - Loss: -0.124   lengthscale: 0.588   noise: 0.026\n",
      "Iter 46/50 - Loss: -0.125   lengthscale: 0.584   noise: 0.026\n",
      "Iter 47/50 - Loss: -0.126   lengthscale: 0.578   noise: 0.026\n",
      "Iter 48/50 - Loss: -0.128   lengthscale: 0.571   noise: 0.026\n",
      "Iter 49/50 - Loss: -0.130   lengthscale: 0.563   noise: 0.026\n",
      "Iter 50/50 - Loss: -0.133   lengthscale: 0.556   noise: 0.027\n"
     ]
    }
   ],
   "source": [
    "# this is for running the notebook in our testing framework\n",
    "import os\n",
    "smoke_test = ('CI' in os.environ)\n",
    "training_iter = 2 if smoke_test else 50\n",
    "\n",
    "\n",
    "# Find optimal model hyperparameters\n",
    "model.train()\n",
    "likelihood.train()\n",
    "\n",
    "# Use the adam optimizer\n",
    "optimizer = torch.optim.Adam([\n",
    "    {'params': model.parameters()},  # Includes GaussianLikelihood parameters\n",
    "], lr=0.1)\n",
    "\n",
    "# \"Loss\" for GPs - the marginal log likelihood\n",
    "mll = gpytorch.mlls.ExactMarginalLogLikelihood(likelihood, model)\n",
    "\n",
    "for i in range(training_iter):\n",
    "    # Zero gradients from previous iteration\n",
    "    optimizer.zero_grad()\n",
    "    # Output from model\n",
    "    output = model(train_x)\n",
    "    # Calc loss and backprop gradients\n",
    "    loss = -mll(output, train_y)\n",
    "    loss.backward()\n",
    "    print('Iter %d/%d - Loss: %.3f   lengthscale: %.3f   noise: %.3f' % (\n",
    "        i + 1, training_iter, loss.item(),\n",
    "        model.covar_module.base_kernel.lengthscale.item(),\n",
    "        model.likelihood.noise.item()\n",
    "    ))\n",
    "    optimizer.step()\n"
   ],
   "metadata": {
    "collapsed": false,
    "pycharm": {
     "name": "#%%\n"
    }
   }
  },
  {
   "cell_type": "code",
   "execution_count": 49,
   "outputs": [],
   "source": [
    "# Get into evaluation (predictive posterior) mode\n",
    "model.eval()\n",
    "likelihood.eval()\n",
    "\n",
    "# Test points are regularly spaced along [0,1]\n",
    "# Make predictions by feeding model through likelihood\n",
    "with torch.no_grad(), gpytorch.settings.fast_pred_var():\n",
    "    test_x = torch.linspace(0, 1, 51)\n",
    "    observed_pred = likelihood(model(test_x))\n"
   ],
   "metadata": {
    "collapsed": false,
    "pycharm": {
     "name": "#%%\n"
    }
   }
  },
  {
   "cell_type": "code",
   "execution_count": 50,
   "outputs": [
    {
     "data": {
      "text/plain": "<Figure size 864x576 with 1 Axes>",
      "image/png": "[encoded data removed]"
     },
     "metadata": {
      "needs_background": "light"
     },
     "output_type": "display_data"
    }
   ],
   "source": [
    "with torch.no_grad():\n",
    "    # Initialize plot\n",
    "    f, ax = plt.subplots(1, 1, figsize=(12, 8))\n",
    "\n",
    "    # Get upper and lower confidence bounds\n",
    "    lower, upper = observed_pred.confidence_region()\n",
    "    # Plot training data as black stars\n",
    "    ax.plot(train_x.numpy(), train_y.numpy(), 'k*')\n",
    "    # Plot predictive means as blue line\n",
    "    ax.plot(test_x.numpy(), observed_pred.mean.numpy(), 'b')\n",
    "    # Shade between the lower and upper confidence bounds\n",
    "    ax.fill_between(test_x.numpy(), lower.numpy(), upper.numpy(), alpha=0.5)\n",
    "    # ax.set_ylim([-3, 3])\n",
    "    ax.legend(['Observed Data', 'Mean', 'Confidence'])"
   ],
   "metadata": {
    "collapsed": false,
    "pycharm": {
     "name": "#%%\n"
    }
   }
  },
  {
   "cell_type": "code",
   "execution_count": 50,
   "outputs": [],
   "source": [],
   "metadata": {
    "collapsed": false,
    "pycharm": {
     "name": "#%%\n"
    }
   }
  }
 ],
 "metadata": {
  "kernelspec": {
   "display_name": "Python 3",
   "language": "python",
   "name": "python3"
  },
  "language_info": {
   "codemirror_mode": {
    "name": "ipython",
    "version": 2
   },
   "file_extension": ".py",
   "mimetype": "text/x-python",
   "name": "python",
   "nbconvert_exporter": "python",
   "pygments_lexer": "ipython2",
   "version": "2.7.6"
  }
 },
 "nbformat": 4,
 "nbformat_minor": 0
}