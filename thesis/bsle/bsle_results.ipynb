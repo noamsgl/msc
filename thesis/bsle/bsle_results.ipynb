{
 "cells": [
  {
   "cell_type": "markdown",
   "metadata": {},
   "source": [
    "# Bayesian Seizure Likelihood Estimation"
   ]
  },
  {
   "cell_type": "code",
   "execution_count": 60,
   "metadata": {},
   "outputs": [
    {
     "name": "stdout",
     "output_type": "stream",
     "text": [
      "The autoreload extension is already loaded. To reload it, use:\n",
      "  %reload_ext autoreload\n"
     ]
    }
   ],
   "source": [
    "import matplotlib.pyplot as plt\n",
    "from matplotlib.gridspec import GridSpec\n",
    "import numpy as np\n",
    "import pandas as pd\n",
    "from tqdm import tqdm\n",
    "\n",
    "from sklearn.calibration import CalibratedClassifierCV, CalibrationDisplay\n",
    "from sklearn.metrics import PrecisionRecallDisplay, RocCurveDisplay, brier_score_loss, roc_auc_score, average_precision_score\n",
    "from sklearn.utils.estimator_checks import check_estimator\n",
    "\n",
    "from msc import config\n",
    "from msc.cache_handler import get_samples_df\n",
    "from msc.estimators import BSLE\n",
    "from msc.plot_utils import set_size\n",
    "from msc.time_utils import SEC, MIN, HOUR\n",
    "from msc.data_utils import EvalData\n",
    "\n",
    "plt.style.use([\"science\", \"no-latex\"])\n",
    "\n",
    "fig_width = 478  # pt\n",
    "\n",
    "%load_ext autoreload\n",
    "%autoreload 2"
   ]
  },
  {
   "cell_type": "code",
   "execution_count": 61,
   "metadata": {},
   "outputs": [],
   "source": [
    "# plt.rcParams.keys()"
   ]
  },
  {
   "cell_type": "code",
   "execution_count": 1,
   "metadata": {},
   "outputs": [],
   "source": [
    "# Helper function used for visualization in the following examples\n",
    "def identify_axes(ax_dict, fontsize=48):\n",
    "    \"\"\"\n",
    "    Helper to identify the Axes in the examples below.\n",
    "\n",
    "    Draws the label in a large font in the center of the Axes.\n",
    "\n",
    "    Parameters\n",
    "    ----------\n",
    "    ax_dict : dict[str, Axes]\n",
    "        Mapping between the title / label and the Axes.\n",
    "    fontsize : int, optional\n",
    "        How big the label should be.\n",
    "    \"\"\"\n",
    "    kw = dict(ha=\"center\", va=\"center\", fontsize=fontsize, color=\"darkgrey\")\n",
    "    for k, ax in ax_dict.items():\n",
    "        ax.text(0.5, 0.5, k, transform=ax.transAxes, **kw)\n",
    "        "
   ]
  },
  {
   "cell_type": "markdown",
   "metadata": {},
   "source": [
    "## Load data"
   ]
  },
  {
   "cell_type": "code",
   "execution_count": 62,
   "metadata": {},
   "outputs": [],
   "source": [
    "dataset_id = str(config[\"dataset_id\"])\n",
    "t_max = config[\"t_max\"]\n",
    "\n",
    "# load samples_df\n",
    "samples_df = get_samples_df(dataset_id, with_events=True, with_time_to_event=True)\n",
    "\n",
    "# split train/test\n",
    "samples_df[\"set\"] = samples_df[\"time\"].apply(\n",
    "    lambda t: \"train\" if t < t_max else \"test\"\n",
    ")\n",
    "\n",
    "# add is_event\n",
    "samples_df[\"is_event\"] = samples_df[\"time_to_event\"].apply(\n",
    "    lambda x: True if x == 0 else False\n",
    ")\n",
    "\n",
    "# define horizon\n",
    "horizon = 0  # detection\n",
    "# horizon = 5 * SEC\n",
    "# horizon = 30 * MIN  # prediction"
   ]
  },
  {
   "cell_type": "markdown",
   "metadata": {},
   "source": [
    "## AUC-ROC Grid\n",
    "\n",
    "* A : unsupervised heatmap\n",
    "* B : weakly supervised heatmapÉ \n",
    "* C : AUC-ROCS for specific horizon, both heatmaps\n",
    "* D : Roc curve at specific point on left heatmap\n",
    "* E : ROC curve at specific point on right heatmap"
   ]
  },
  {
   "cell_type": "code",
   "execution_count": 63,
   "metadata": {},
   "outputs": [],
   "source": [
    "\n",
    "def get_roc_auc_scores_for_thresholds(eval_data, thresholds):\n",
    "    unsupervised_scores = []\n",
    "    weakly_supervised_scores = []\n",
    "    for threshold in thresholds:\n",
    "        bsle = BSLE(thresh=threshold)\n",
    "        # unsupervised fit\n",
    "        bsle.fit(eval_data.train_X)\n",
    "        pred_y = bsle.predict(eval_data.test_X)\n",
    "        score = roc_auc_score(eval_data.test_y, pred_y)\n",
    "        unsupervised_scores.append(score)\n",
    "        # weakly supervised fit\n",
    "        bsle.fit(eval_data.train_X, y=None, prior_events=eval_data.train_events)\n",
    "        pred_y = bsle.predict_proba(eval_data.test_X, samples_times=eval_data.test_times)\n",
    "        score = roc_auc_score(eval_data.test_y, pred_y)\n",
    "        weakly_supervised_scores.append(score)\n",
    "    return unsupervised_scores, weakly_supervised_scores\n",
    "\n",
    "\n",
    "def auc_roc_scores_for_thresholds_and_horizons(samples_df, time_scale, axes=None):\n",
    "    if time_scale == \"sec\":\n",
    "        horizons = np.arange(0, 65, 5) * SEC\n",
    "    elif time_scale == \"min\":\n",
    "        horizons = np.arange(0, 65, 5) * MIN\n",
    "    else:\n",
    "        raise ValueError(\"time_scale must be either SEC or MIN\")\n",
    "    thresholds = np.linspace(0, 0.2, 21, endpoint=True)\n",
    "    unsupervised_score_rows = []\n",
    "    weakly_supervised_score_rows = []\n",
    "    for horizon in horizons:\n",
    "        samples_df[\"class\"] = samples_df[\"time_to_event\"].apply(\n",
    "        lambda x: 1 if x <= horizon else 0\n",
    "        )\n",
    "        \n",
    "        # get training event times\n",
    "        train_events = samples_df.loc[\n",
    "            (samples_df[\"is_event\"]) & (samples_df[\"set\"] == \"train\"), \"time\"\n",
    "        ].to_numpy()\n",
    "\n",
    "        # train/test data\n",
    "        train_X = np.stack(samples_df.loc[samples_df[\"set\"] == \"train\", \"embedding\"])  # type: ignore\n",
    "        test_X = np.stack(samples_df.loc[samples_df[\"set\"] == \"test\", \"embedding\"])  # type: ignore\n",
    "        test_y = samples_df.loc[samples_df[\"set\"] == \"test\", \"class\"].to_numpy()\n",
    "        test_times = samples_df.loc[samples_df[\"set\"] == \"test\", \"time\"].to_numpy()\n",
    "\n",
    "        eval_data = EvalData(train_X, train_events, test_X, test_times, test_y)\n",
    "\n",
    "        unsupervised_scores, weakly_supervised_scores = get_roc_auc_scores_for_thresholds(eval_data, thresholds)\n",
    "        unsupervised_score_rows.append(unsupervised_scores)\n",
    "        weakly_supervised_score_rows.append(weakly_supervised_scores)\n",
    "    unsupervised_scores = np.stack(unsupervised_score_rows).T\n",
    "    weakly_supervised_scores = np.stack(weakly_supervised_score_rows).T\n",
    "    row_labels = [f\"{t:.2f}\" for t in thresholds]\n",
    "    col_labels = [f\"{int(h/MIN)}\" for h in horizons] if time_scale == \"min\" else [f\"{int(h/SEC)}\" for h in horizons]\n",
    "\n",
    "    # set up subplot axes\n",
    "    if axes is None:\n",
    "        fig, axes = plt.subplots(1, 2, sharex=True, sharey=True, figsize=set_size(fig_width))\n",
    "    else:\n",
    "        fig = plt.gcf()\n",
    "    im = axes[0].imshow(unsupervised_scores, cmap=\"RdBu\", vmin=0, vmax=1)\n",
    "    axes[0].set_title(\"Unsupervised\")\n",
    "    axes[0].set_xticks(np.arange(unsupervised_scores.shape[1]), labels=col_labels)\n",
    "    axes[0].set_yticks(np.arange(unsupervised_scores.shape[0]), labels=row_labels)\n",
    "    axes[0].set_xlabel(f\"Horizon ({time_scale})\")\n",
    "    axes[0].set_ylabel(\"Threshold\")\n",
    "\n",
    "    im = axes[1].imshow(weakly_supervised_scores, cmap=\"RdBu\", vmin=0, vmax=1)\n",
    "    axes[1].set_title(\"Weakly Supervised\")\n",
    "    axes[1].set_xticks(np.arange(unsupervised_scores.shape[1]), labels=col_labels)\n",
    "    axes[1].set_yticks(np.arange(unsupervised_scores.shape[0]), labels=row_labels)\n",
    "    axes[1].set_xlabel(f\"Horizon ({time_scale})\")\n",
    "    axes[1].set_ylabel(\"Threshold\")\n",
    "    # create colorbar\n",
    "    fig.subplots_adjust(right=0.8)\n",
    "    cbar_ax = fig.add_axes([0.85, 0.15, 0.05, 0.7])\n",
    "    cbar = fig.colorbar(im, cax=cbar_ax)\n",
    "    cbar.ax.set_ylabel(\"ROC AUC\", rotation=-90, va=\"bottom\")\n",
    "\n",
    "    # rotate the xtick labels\n",
    "    plt.setp(axes[0].get_xticklabels(), rotation=90, ha=\"right\", rotation_mode=\"anchor\")\n",
    "    plt.setp(axes[1].get_xticklabels(), rotation=90, ha=\"right\", rotation_mode=\"anchor\")\n",
    "#     plt.savefig(\n",
    "#         f\"{config['path']['figures']}/bsle/auc_roc_scores_for_thresholds_and_horizons_{time_scale}.pdf\",\n",
    "#         bbox_inches=\"tight\",\n",
    "#     )\n",
    "    "
   ]
  },
  {
   "cell_type": "code",
   "execution_count": 70,
   "metadata": {},
   "outputs": [
    {
     "data": {
      "image/png": "[encoded data removed]",
      "text/plain": [
       "<Figure size 252x189 with 6 Axes>"
      ]
     },
     "metadata": {
      "needs_background": "light"
     },
     "output_type": "display_data"
    }
   ],
   "source": [
    "# prepare data\n",
    "# horizons = np.arange(0, 65, 5) * SEC - 10  #shift horizon for correct label\n",
    "# thresholds = np.linspace(0, 0.2, 21, endpoint=True)\n",
    "# unsupervised_score_rows = []\n",
    "# weakly_supervised_score_rows = []\n",
    "# for horizon in horizons:\n",
    "#     samples_df[\"class\"] = samples_df[\"time_to_event\"].apply(\n",
    "#     lambda x: 1 if x <= horizon else 0\n",
    "#     )\n",
    "\n",
    "#     # get training event times\n",
    "#     train_events = samples_df.loc[\n",
    "#         (samples_df[\"is_event\"]) & (samples_df[\"set\"] == \"train\"), \"time\"\n",
    "#     ].to_numpy()\n",
    "\n",
    "#     # train/test data\n",
    "#     train_X = np.stack(samples_df.loc[samples_df[\"set\"] == \"train\", \"embedding\"])  # type: ignore\n",
    "#     test_X = np.stack(samples_df.loc[samples_df[\"set\"] == \"test\", \"embedding\"])  # type: ignore\n",
    "#     test_y = samples_df.loc[samples_df[\"set\"] == \"test\", \"class\"].to_numpy()\n",
    "#     test_times = samples_df.loc[samples_df[\"set\"] == \"test\", \"time\"].to_numpy()\n",
    "\n",
    "#     eval_data = EvalData(train_X, train_events, test_X, test_times, test_y)\n",
    "\n",
    "#     unsupervised_scores, weakly_supervised_scores = get_roc_auc_scores_for_thresholds(eval_data, thresholds)\n",
    "#     unsupervised_score_rows.append(unsupervised_scores)\n",
    "#     weakly_supervised_score_rows.append(weakly_supervised_scores)\n",
    "# unsupervised_scores = np.stack(unsupervised_score_rows).T\n",
    "# weakly_supervised_scores = np.stack(weakly_supervised_score_rows).T\n",
    "# row_labels = [f\"{t:.2f}\" for t in thresholds]\n",
    "# col_labels = [f\"{int(h/MIN)}\" for h in horizons] if time_scale == \"min\" else [f\"{int(h/SEC)}\" for h in horizons]\n",
    "\n",
    "\n",
    "\n",
    "# prepare axes\n",
    "mosaic_top = \"\"\"ABC\"\"\"\n",
    "mosaic_bottom = \"\"\"CC\n",
    "                    DE\"\"\"\n",
    "fig = plt.figure(constrained_layout=True)\n",
    "top, bottom = fig.subfigures(nrows=2, ncols=1)\n",
    "ax_top = top.subplot_mosaic(mosaic_top,\n",
    "                        gridspec_kw={\"width_ratios\": [4, 4, 1]})\n",
    "identify_axes(ax_top)\n",
    "\n",
    "ax_bottom = bottom.subplot_mosaic(mosaic_bottom)\n",
    "identify_axes(ax_bottom)\n",
    "\n",
    "# plot\n",
    "# ax = ax_top['A']\n",
    "# im = ax.imshow(unsupervised_scores, cmap=\"RdBu\", vmin=0, vmax=1)\n",
    "# ax.set_title(\"Unsupervised\")\n",
    "# ax.set_xticks(np.arange(unsupervised_scores.shape[1]), labels=col_labels)\n",
    "# ax.set_yticks(np.arange(unsupervised_scores.shape[0]), labels=row_labels)\n",
    "# ax.set_xlabel(f\"Horizon ({time_scale})\")\n",
    "# ax.set_ylabel(\"Threshold\")"
   ]
  },
  {
   "cell_type": "markdown",
   "metadata": {},
   "source": [
    "Forward-simulation of circular Gaussian distribution"
   ]
  },
  {
   "cell_type": "markdown",
   "metadata": {},
   "source": [
    "## Empirical events - subject_id"
   ]
  },
  {
   "cell_type": "markdown",
   "metadata": {},
   "source": [
    "## Plot the inference of the empirical data"
   ]
  },
  {
   "cell_type": "markdown",
   "metadata": {},
   "source": [
    "## Sampling the Cox Process"
   ]
  },
  {
   "cell_type": "markdown",
   "metadata": {},
   "source": [
    "## Inferring the Latent Intensity Function"
   ]
  },
  {
   "cell_type": "markdown",
   "metadata": {},
   "source": [
    "## Checking the Model"
   ]
  }
 ],
 "metadata": {
  "kernelspec": {
   "display_name": "Python 3 (ipykernel)",
   "language": "python",
   "name": "python3"
  },
  "language_info": {
   "codemirror_mode": {
    "name": "ipython",
    "version": 3
   },
   "file_extension": ".py",
   "mimetype": "text/x-python",
   "name": "python",
   "nbconvert_exporter": "python",
   "pygments_lexer": "ipython3",
   "version": "3.8.13"
  },
  "vscode": {
   "interpreter": {
    "hash": "e1921acccfe175a031f956812f49ed202da97ee5650a950b532b497e62748c11"
   }
  }
 },
 "nbformat": 4,
 "nbformat_minor": 2
}
