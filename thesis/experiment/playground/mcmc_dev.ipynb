{
 "cells": [
  {
   "cell_type": "code",
   "execution_count": 1,
   "metadata": {},
   "outputs": [
    {
     "data": {
      "text/plain": [
       "<Figure size 252x189 with 0 Axes>"
      ]
     },
     "metadata": {},
     "output_type": "display_data"
    }
   ],
   "source": [
    "import matplotlib.pyplot as plt\n",
    "import numpy as np\n",
    "import numpyro\n",
    "from sklearn.datasets import make_blobs\n",
    "from sklearn.mixture import GaussianMixture\n",
    "import seaborn as sns\n",
    "import pandas as pd\n",
    "import corner\n",
    "import scipy.stats as stats\n",
    "from tqdm import tqdm\n",
    "\n",
    "from msc.plot_utils import set_size\n",
    "from msc.config_utils import config\n",
    "\n",
    "plt.style.use(['science', 'no-latex'])\n",
    "plt.viridis()\n"
   ]
  },
  {
   "cell_type": "code",
   "execution_count": 2,
   "metadata": {},
   "outputs": [],
   "source": [
    "class PercentileOfScore(object):\n",
    "    \"\"\"a vectorized implementation of stats.percentileofscore\"\"\"\n",
    "    def __init__(self, aList):\n",
    "        self.a = np.array( aList )\n",
    "        self.a.sort()\n",
    "        self.n = float(len(self.a))\n",
    "        self.pct = self.__rank_searchsorted_list\n",
    "    # end def __init__\n",
    "\n",
    "    def __rank_searchsorted_list(self, score_list):\n",
    "        adx = np.searchsorted(self.a, score_list, side='right')\n",
    "        pct = []\n",
    "        for idx in adx:\n",
    "            # Python 2.x needs explicit type casting float(int)\n",
    "            pct.append( (float(idx) / self.n) * 100.0 )\n",
    "\n",
    "        return pct\n",
    "    # end def _rank_searchsorted_list\n",
    "# end class PercentileOfScore"
   ]
  },
  {
   "cell_type": "code",
   "execution_count": 3,
   "metadata": {},
   "outputs": [],
   "source": [
    "# generate data\n",
    "n_samples = 100 * np.array([600, 400, 1])\n",
    "centers = np.array([[0], [3], [5]])\n",
    "X, y = make_blobs(n_samples=n_samples, centers=centers, n_features=1, random_state=0)\n"
   ]
  },
  {
   "cell_type": "code",
   "execution_count": 4,
   "metadata": {},
   "outputs": [],
   "source": [
    "# discretize for histogram\n",
    "bins = np.linspace(-8, 8, 100, endpoint=True)\n",
    "count, bins = np.histogram(X, bins=bins)\n"
   ]
  },
  {
   "cell_type": "code",
   "execution_count": 5,
   "metadata": {},
   "outputs": [
    {
     "data": {
      "text/html": [
       "<style>#sk-container-id-1 {color: black;background-color: white;}#sk-container-id-1 pre{padding: 0;}#sk-container-id-1 div.sk-toggleable {background-color: white;}#sk-container-id-1 label.sk-toggleable__label {cursor: pointer;display: block;width: 100%;margin-bottom: 0;padding: 0.3em;box-sizing: border-box;text-align: center;}#sk-container-id-1 label.sk-toggleable__label-arrow:before {content: \"▸\";float: left;margin-right: 0.25em;color: #696969;}#sk-container-id-1 label.sk-toggleable__label-arrow:hover:before {color: black;}#sk-container-id-1 div.sk-estimator:hover label.sk-toggleable__label-arrow:before {color: black;}#sk-container-id-1 div.sk-toggleable__content {max-height: 0;max-width: 0;overflow: hidden;text-align: left;background-color: #f0f8ff;}#sk-container-id-1 div.sk-toggleable__content pre {margin: 0.2em;color: black;border-radius: 0.25em;background-color: #f0f8ff;}#sk-container-id-1 input.sk-toggleable__control:checked~div.sk-toggleable__content {max-height: 200px;max-width: 100%;overflow: auto;}#sk-container-id-1 input.sk-toggleable__control:checked~label.sk-toggleable__label-arrow:before {content: \"▾\";}#sk-container-id-1 div.sk-estimator input.sk-toggleable__control:checked~label.sk-toggleable__label {background-color: #d4ebff;}#sk-container-id-1 div.sk-label input.sk-toggleable__control:checked~label.sk-toggleable__label {background-color: #d4ebff;}#sk-container-id-1 input.sk-hidden--visually {border: 0;clip: rect(1px 1px 1px 1px);clip: rect(1px, 1px, 1px, 1px);height: 1px;margin: -1px;overflow: hidden;padding: 0;position: absolute;width: 1px;}#sk-container-id-1 div.sk-estimator {font-family: monospace;background-color: #f0f8ff;border: 1px dotted black;border-radius: 0.25em;box-sizing: border-box;margin-bottom: 0.5em;}#sk-container-id-1 div.sk-estimator:hover {background-color: #d4ebff;}#sk-container-id-1 div.sk-parallel-item::after {content: \"\";width: 100%;border-bottom: 1px solid gray;flex-grow: 1;}#sk-container-id-1 div.sk-label:hover label.sk-toggleable__label {background-color: #d4ebff;}#sk-container-id-1 div.sk-serial::before {content: \"\";position: absolute;border-left: 1px solid gray;box-sizing: border-box;top: 0;bottom: 0;left: 50%;z-index: 0;}#sk-container-id-1 div.sk-serial {display: flex;flex-direction: column;align-items: center;background-color: white;padding-right: 0.2em;padding-left: 0.2em;position: relative;}#sk-container-id-1 div.sk-item {position: relative;z-index: 1;}#sk-container-id-1 div.sk-parallel {display: flex;align-items: stretch;justify-content: center;background-color: white;position: relative;}#sk-container-id-1 div.sk-item::before, #sk-container-id-1 div.sk-parallel-item::before {content: \"\";position: absolute;border-left: 1px solid gray;box-sizing: border-box;top: 0;bottom: 0;left: 50%;z-index: -1;}#sk-container-id-1 div.sk-parallel-item {display: flex;flex-direction: column;z-index: 1;position: relative;background-color: white;}#sk-container-id-1 div.sk-parallel-item:first-child::after {align-self: flex-end;width: 50%;}#sk-container-id-1 div.sk-parallel-item:last-child::after {align-self: flex-start;width: 50%;}#sk-container-id-1 div.sk-parallel-item:only-child::after {width: 0;}#sk-container-id-1 div.sk-dashed-wrapped {border: 1px dashed gray;margin: 0 0.4em 0.5em 0.4em;box-sizing: border-box;padding-bottom: 0.4em;background-color: white;}#sk-container-id-1 div.sk-label label {font-family: monospace;font-weight: bold;display: inline-block;line-height: 1.2em;}#sk-container-id-1 div.sk-label-container {text-align: center;}#sk-container-id-1 div.sk-container {/* jupyter's `normalize.less` sets `[hidden] { display: none; }` but bootstrap.min.css set `[hidden] { display: none !important; }` so we also need the `!important` here to be able to override the default hidden behavior on the sphinx rendered scikit-learn.org. See: https://github.com/scikit-learn/scikit-learn/issues/21755 */display: inline-block !important;position: relative;}#sk-container-id-1 div.sk-text-repr-fallback {display: none;}</style><div id=\"sk-container-id-1\" class=\"sk-top-container\"><div class=\"sk-text-repr-fallback\"><pre>GaussianMixture(n_components=2)</pre><b>In a Jupyter environment, please rerun this cell to show the HTML representation or trust the notebook. <br />On GitHub, the HTML representation is unable to render, please try loading this page with nbviewer.org.</b></div><div class=\"sk-container\" hidden><div class=\"sk-item\"><div class=\"sk-estimator sk-toggleable\"><input class=\"sk-toggleable__control sk-hidden--visually\" id=\"sk-estimator-id-1\" type=\"checkbox\" checked><label for=\"sk-estimator-id-1\" class=\"sk-toggleable__label sk-toggleable__label-arrow\">GaussianMixture</label><div class=\"sk-toggleable__content\"><pre>GaussianMixture(n_components=2)</pre></div></div></div></div></div>"
      ],
      "text/plain": [
       "GaussianMixture(n_components=2)"
      ]
     },
     "execution_count": 5,
     "metadata": {},
     "output_type": "execute_result"
    }
   ],
   "source": [
    "# fit density estimation\n",
    "gmm = GaussianMixture(2)\n",
    "gmm.fit(X)\n"
   ]
  },
  {
   "cell_type": "code",
   "execution_count": 6,
   "metadata": {},
   "outputs": [
    {
     "data": {
      "image/png": "[encoded data removed]",
      "text/plain": [
       "<Figure size 476.214x294.317 with 1 Axes>"
      ]
     },
     "metadata": {
      "needs_background": "light"
     },
     "output_type": "display_data"
    }
   ],
   "source": [
    "# plot density log likelihood\n",
    "width = 478  # pt\n",
    "fig, axes = plt.subplots(1, figsize=set_size(width))\n",
    "\n",
    "theta = bins\n",
    "scores = gmm.score_samples(theta.reshape(-1, 1))\n",
    "\n",
    "axes.hist(X, bins=bins, label='data histogram', density=True, zorder=2)\n",
    "axes.plot(theta, np.exp(scores), label='gmm likelihood scores', lw=2, zorder=2)\n",
    "\n",
    "# plot highest posterior density interval \n",
    "ci = numpyro.diagnostics.hpdi(X, 0.95)\n",
    "hdpi_x = np.linspace(ci[0], ci[1], 100).squeeze()\n",
    "hdpi_scores = gmm.score_samples(hdpi_x.reshape(-1,1))\n",
    "\n",
    "axes.fill_between(hdpi_x, np.exp(hdpi_scores), label=\"95% hpdi\", color='r', alpha=0.5, zorder=3)\n",
    "axes.legend()\n",
    "\n",
    "plt.show()"
   ]
  },
  {
   "cell_type": "code",
   "execution_count": 7,
   "metadata": {},
   "outputs": [
    {
     "data": {
      "text/plain": [
       "array([[-1.80219269],\n",
       "       [ 4.48082753]])"
      ]
     },
     "execution_count": 7,
     "metadata": {},
     "output_type": "execute_result"
    }
   ],
   "source": [
    "ci"
   ]
  },
  {
   "cell_type": "code",
   "execution_count": 8,
   "metadata": {},
   "outputs": [
    {
     "data": {
      "image/png": "[encoded data removed]",
      "text/plain": [
       "<Figure size 252x189 with 1 Axes>"
      ]
     },
     "metadata": {
      "needs_background": "light"
     },
     "output_type": "display_data"
    }
   ],
   "source": [
    "plt.hist(np.array(gmm.sample(100000)[0]).reshape(-1,1), bins=100);"
   ]
  },
  {
   "cell_type": "markdown",
   "metadata": {},
   "source": [
    "sampling from gmm with mcmc"
   ]
  },
  {
   "cell_type": "code",
   "execution_count": 9,
   "metadata": {},
   "outputs": [],
   "source": [
    "def mh_mcmc(N=int(1e5)):\n",
    "  samples = []\n",
    "  theta = np.array([0])\n",
    "  for i in tqdm(range(N)):\n",
    "    proposal_func = lambda x: stats.norm.rvs(loc=x, scale=1)\n",
    "    theta_prime = np.array([proposal_func(theta)]).reshape(1,1)\n",
    "    log_likelihood = gmm.score(theta_prime)\n",
    "    r = np.random.uniform()\n",
    "    if log_likelihood > np.log(r):\n",
    "      theta = theta_prime\n",
    "    samples.append(theta)\n",
    "  return np.vstack(samples)"
   ]
  },
  {
   "cell_type": "code",
   "execution_count": 10,
   "metadata": {},
   "outputs": [
    {
     "name": "stderr",
     "output_type": "stream",
     "text": [
      "100%|██████████| 100000/100000 [00:54<00:00, 1821.51it/s]\n"
     ]
    }
   ],
   "source": [
    "mcmc_samples = mh_mcmc()"
   ]
  },
  {
   "cell_type": "code",
   "execution_count": 11,
   "metadata": {},
   "outputs": [],
   "source": [
    "gmm_samples = gmm.sample(1e5)[0].reshape(-1, 1)"
   ]
  },
  {
   "cell_type": "code",
   "execution_count": 12,
   "metadata": {},
   "outputs": [
    {
     "data": {
      "text/plain": [
       "DescribeResult(nobs=100000, minmax=(array([-3.31104172]), array([6.0632771])), mean=array([1.16037232]), variance=array([3.2760448]), skewness=array([0.23954971]), kurtosis=array([-0.87816781]))"
      ]
     },
     "execution_count": 12,
     "metadata": {},
     "output_type": "execute_result"
    }
   ],
   "source": [
    "stats.describe(mcmc_samples)"
   ]
  },
  {
   "cell_type": "code",
   "execution_count": 13,
   "metadata": {},
   "outputs": [
    {
     "data": {
      "text/plain": [
       "DescribeResult(nobs=100000, minmax=(array([-4.0170187]), array([6.90607849])), mean=array([1.20481707]), variance=array([3.17307778]), skewness=array([0.23464629]), kurtosis=array([-0.87255957]))"
      ]
     },
     "execution_count": 13,
     "metadata": {},
     "output_type": "execute_result"
    }
   ],
   "source": [
    "stats.describe(gmm_samples)"
   ]
  },
  {
   "cell_type": "code",
   "execution_count": 14,
   "metadata": {},
   "outputs": [
    {
     "data": {
      "image/png": "[encoded data removed]",
      "text/plain": [
       "<Figure size 252x189 with 1 Axes>"
      ]
     },
     "metadata": {
      "needs_background": "light"
     },
     "output_type": "display_data"
    }
   ],
   "source": [
    "plt.hist(gmm_samples, bins=np.linspace(-5, 5, 100),  density=True, label='gmm_samples')\n",
    "plt.hist(mcmc_samples, bins=np.linspace(-5, 5, 100), density=True, label='mh_mcmc');\n",
    "# plt.yscale('log')\n",
    "plt.xlim(-5, 5)\n",
    "x = np.linspace(-5, 5, 100)\n",
    "plt.plot(x, np.exp(gmm.score_samples(x.reshape(-1, 1))), label='gt_likelihood')\n",
    "plt.legend()\n",
    "plt.tight_layout();"
   ]
  },
  {
   "cell_type": "code",
   "execution_count": 15,
   "metadata": {},
   "outputs": [
    {
     "data": {
      "text/plain": [
       "array([[-1.92341633],\n",
       "       [ 4.38873402]])"
      ]
     },
     "execution_count": 15,
     "metadata": {},
     "output_type": "execute_result"
    }
   ],
   "source": [
    "mcmc_ci = numpyro.diagnostics.hpdi(mcmc_samples, 0.95)\n",
    "mcmc_ci\n",
    "# hdpi_x = np.linspace(ci[0], ci[1], 100).squeeze()\n",
    "# hdpi_scores = gmm.score_samples(hdpi_x.reshape(-1,1))\n",
    "# axes.fill_between(hdpi_x, np.exp(hdpi_scores), label=\"95% hpdi\", color='r', alpha=0.5, zorder=3)"
   ]
  },
  {
   "cell_type": "code",
   "execution_count": 16,
   "metadata": {},
   "outputs": [
    {
     "data": {
      "text/plain": [
       "array([[-1.799561  ],\n",
       "       [ 4.46683658]])"
      ]
     },
     "execution_count": 16,
     "metadata": {},
     "output_type": "execute_result"
    }
   ],
   "source": [
    "gmm_ci = numpyro.diagnostics.hpdi(gmm_samples, 0.95)\n",
    "gmm_ci"
   ]
  },
  {
   "cell_type": "code",
   "execution_count": 17,
   "metadata": {},
   "outputs": [
    {
     "data": {
      "text/plain": [
       "0.01072007593839314"
      ]
     },
     "execution_count": 17,
     "metadata": {},
     "output_type": "execute_result"
    }
   ],
   "source": [
    "mse = np.mean((mcmc_ci - gmm_ci)**2)\n",
    "mse"
   ]
  },
  {
   "cell_type": "code",
   "execution_count": 18,
   "metadata": {},
   "outputs": [
    {
     "data": {
      "image/png": "[encoded data removed]",
      "text/plain": [
       "<Figure size 396x396 with 4 Axes>"
      ]
     },
     "metadata": {
      "needs_background": "light"
     },
     "output_type": "display_data"
    }
   ],
   "source": [
    "corner.corner(np.hstack([mcmc_samples, gmm_samples]), labels=['mcmc', 'gmm']);"
   ]
  },
  {
   "cell_type": "code",
   "execution_count": 19,
   "metadata": {},
   "outputs": [
    {
     "data": {
      "text/plain": [
       "KstestResult(statistic=0.0199, pvalue=1.2454734745539656e-17)"
      ]
     },
     "execution_count": 19,
     "metadata": {},
     "output_type": "execute_result"
    }
   ],
   "source": [
    "stats.kstest(mcmc_samples.squeeze(), gmm_samples.squeeze())"
   ]
  },
  {
   "cell_type": "code",
   "execution_count": 20,
   "metadata": {},
   "outputs": [
    {
     "data": {
      "text/plain": [
       "0.005154512586074457"
      ]
     },
     "execution_count": 20,
     "metadata": {},
     "output_type": "execute_result"
    }
   ],
   "source": [
    "1.63/np.sqrt(1e5)"
   ]
  },
  {
   "cell_type": "markdown",
   "metadata": {},
   "source": [
    "## convert to p-value"
   ]
  },
  {
   "cell_type": "code",
   "execution_count": 21,
   "metadata": {},
   "outputs": [],
   "source": [
    "def bsle_transform(samples):\n",
    "    samples = np.where(samples)"
   ]
  },
  {
   "cell_type": "code",
   "execution_count": 22,
   "metadata": {},
   "outputs": [],
   "source": [
    "bsle_samples = mcmc_samples"
   ]
  },
  {
   "cell_type": "code",
   "execution_count": 23,
   "metadata": {},
   "outputs": [
    {
     "data": {
      "text/plain": [
       "(array([False,  True]), array([ 5037, 94963]))"
      ]
     },
     "execution_count": 23,
     "metadata": {},
     "output_type": "execute_result"
    }
   ],
   "source": [
    "values, counts = np.unique((np.logical_and(mcmc_ci[0] < mcmc_samples, mcmc_samples < mcmc_ci[1])), return_counts=True)\n",
    "values, counts"
   ]
  },
  {
   "cell_type": "code",
   "execution_count": 24,
   "metadata": {},
   "outputs": [
    {
     "data": {
      "text/plain": [
       "<BarContainer object of 2 artists>"
      ]
     },
     "execution_count": 24,
     "metadata": {},
     "output_type": "execute_result"
    },
    {
     "data": {
      "image/png": "[encoded data removed]",
      "text/plain": [
       "<Figure size 252x189 with 1 Axes>"
      ]
     },
     "metadata": {
      "needs_background": "light"
     },
     "output_type": "display_data"
    }
   ],
   "source": [
    "plt.bar(*np.unique((np.logical_and(mcmc_ci[0] < mcmc_samples, mcmc_samples < mcmc_ci[1])), return_counts=True))"
   ]
  },
  {
   "cell_type": "code",
   "execution_count": 25,
   "metadata": {},
   "outputs": [
    {
     "data": {
      "text/plain": [
       "array([[ True],\n",
       "       [ True],\n",
       "       [ True],\n",
       "       ...,\n",
       "       [ True],\n",
       "       [ True],\n",
       "       [ True]])"
      ]
     },
     "execution_count": 25,
     "metadata": {},
     "output_type": "execute_result"
    }
   ],
   "source": [
    "np.logical_and(mcmc_ci[0] < mcmc_samples, mcmc_samples < mcmc_ci[1])"
   ]
  },
  {
   "cell_type": "code",
   "execution_count": 26,
   "metadata": {},
   "outputs": [],
   "source": [
    "inliers = mcmc_samples[np.logical_and(mcmc_ci[0] < mcmc_samples, mcmc_samples < mcmc_ci[1])]\n",
    "outliers = mcmc_samples[np.logical_not(np.logical_and(mcmc_ci[0] < mcmc_samples, mcmc_samples < mcmc_ci[1]))]\n"
   ]
  },
  {
   "cell_type": "code",
   "execution_count": 27,
   "metadata": {},
   "outputs": [
    {
     "data": {
      "text/plain": [
       "(5037,)"
      ]
     },
     "execution_count": 27,
     "metadata": {},
     "output_type": "execute_result"
    }
   ],
   "source": [
    "outliers.shape"
   ]
  },
  {
   "cell_type": "code",
   "execution_count": 28,
   "metadata": {},
   "outputs": [
    {
     "data": {
      "text/plain": [
       "Text(0.5, 1.0, 'outliers')"
      ]
     },
     "execution_count": 28,
     "metadata": {},
     "output_type": "execute_result"
    },
    {
     "data": {
      "image/png": "[encoded data removed]",
      "text/plain": [
       "<Figure size 244.8x244.8 with 1 Axes>"
      ]
     },
     "metadata": {
      "needs_background": "light"
     },
     "output_type": "display_data"
    }
   ],
   "source": [
    "corner.corner(outliers.reshape(-1, 1));\n",
    "plt.title('outliers')"
   ]
  },
  {
   "cell_type": "code",
   "execution_count": 29,
   "metadata": {},
   "outputs": [
    {
     "data": {
      "text/plain": [
       "Text(0.5, 1.0, 'inliers')"
      ]
     },
     "execution_count": 29,
     "metadata": {},
     "output_type": "execute_result"
    },
    {
     "data": {
      "image/png": "[encoded data removed]",
      "text/plain": [
       "<Figure size 244.8x244.8 with 1 Axes>"
      ]
     },
     "metadata": {
      "needs_background": "light"
     },
     "output_type": "display_data"
    }
   ],
   "source": [
    "corner.corner(inliers.reshape(-1, 1));\n",
    "\n",
    "plt.title('inliers')"
   ]
  },
  {
   "cell_type": "code",
   "execution_count": 30,
   "metadata": {},
   "outputs": [
    {
     "data": {
      "text/plain": [
       "5037"
      ]
     },
     "execution_count": 30,
     "metadata": {},
     "output_type": "execute_result"
    }
   ],
   "source": [
    "len(outliers)"
   ]
  },
  {
   "cell_type": "code",
   "execution_count": 31,
   "metadata": {},
   "outputs": [],
   "source": [
    "samples_df = pd.DataFrame(mcmc_samples, columns=['x'])"
   ]
  },
  {
   "cell_type": "code",
   "execution_count": 32,
   "metadata": {},
   "outputs": [],
   "source": [
    "samples_df['pdf_E'] = gmm.score_samples(samples_df['x'].to_numpy().reshape(-1, 1))"
   ]
  },
  {
   "cell_type": "code",
   "execution_count": null,
   "metadata": {},
   "outputs": [],
   "source": []
  },
  {
   "cell_type": "code",
   "execution_count": 33,
   "metadata": {},
   "outputs": [],
   "source": [
    "samples_df['P_E'] = PercentileOfScore(samples_df['pdf_E'].to_numpy()).pct(samples_df['pdf_E'].to_numpy())"
   ]
  },
  {
   "cell_type": "code",
   "execution_count": 34,
   "metadata": {},
   "outputs": [],
   "source": [
    "samples_df['not_S'] = np.logical_and(mcmc_ci[0] < samples_df['x'].to_numpy(), samples_df['x'].to_numpy() < mcmc_ci[1])"
   ]
  },
  {
   "cell_type": "code",
   "execution_count": 35,
   "metadata": {},
   "outputs": [],
   "source": [
    "samples_df.loc[samples_df['not_S'], 'P_E_|_not_S'] = PercentileOfScore(samples_df.loc[samples_df['not_S'], 'pdf_E'].to_numpy()).pct(samples_df.loc[samples_df['not_S'], 'pdf_E'].to_numpy())"
   ]
  },
  {
   "cell_type": "code",
   "execution_count": 36,
   "metadata": {},
   "outputs": [
    {
     "data": {
      "text/html": [
       "<div>\n",
       "<style scoped>\n",
       "    .dataframe tbody tr th:only-of-type {\n",
       "        vertical-align: middle;\n",
       "    }\n",
       "\n",
       "    .dataframe tbody tr th {\n",
       "        vertical-align: top;\n",
       "    }\n",
       "\n",
       "    .dataframe thead th {\n",
       "        text-align: right;\n",
       "    }\n",
       "</style>\n",
       "<table border=\"1\" class=\"dataframe\">\n",
       "  <thead>\n",
       "    <tr style=\"text-align: right;\">\n",
       "      <th></th>\n",
       "      <th>x</th>\n",
       "      <th>pdf_E</th>\n",
       "      <th>P_E</th>\n",
       "      <th>not_S</th>\n",
       "      <th>P_E_|_not_S</th>\n",
       "    </tr>\n",
       "  </thead>\n",
       "  <tbody>\n",
       "    <tr>\n",
       "      <th>0</th>\n",
       "      <td>0.000000</td>\n",
       "      <td>-1.415673</td>\n",
       "      <td>99.695</td>\n",
       "      <td>True</td>\n",
       "      <td>99.678822</td>\n",
       "    </tr>\n",
       "    <tr>\n",
       "      <th>1</th>\n",
       "      <td>0.000000</td>\n",
       "      <td>-1.415673</td>\n",
       "      <td>99.695</td>\n",
       "      <td>True</td>\n",
       "      <td>99.678822</td>\n",
       "    </tr>\n",
       "    <tr>\n",
       "      <th>2</th>\n",
       "      <td>0.000000</td>\n",
       "      <td>-1.415673</td>\n",
       "      <td>99.695</td>\n",
       "      <td>True</td>\n",
       "      <td>99.678822</td>\n",
       "    </tr>\n",
       "    <tr>\n",
       "      <th>3</th>\n",
       "      <td>0.074411</td>\n",
       "      <td>-1.418920</td>\n",
       "      <td>96.315</td>\n",
       "      <td>True</td>\n",
       "      <td>96.119541</td>\n",
       "    </tr>\n",
       "    <tr>\n",
       "      <th>4</th>\n",
       "      <td>0.240605</td>\n",
       "      <td>-1.445028</td>\n",
       "      <td>88.666</td>\n",
       "      <td>True</td>\n",
       "      <td>88.064825</td>\n",
       "    </tr>\n",
       "    <tr>\n",
       "      <th>...</th>\n",
       "      <td>...</td>\n",
       "      <td>...</td>\n",
       "      <td>...</td>\n",
       "      <td>...</td>\n",
       "      <td>...</td>\n",
       "    </tr>\n",
       "    <tr>\n",
       "      <th>99995</th>\n",
       "      <td>1.091059</td>\n",
       "      <td>-1.877469</td>\n",
       "      <td>43.940</td>\n",
       "      <td>True</td>\n",
       "      <td>40.966482</td>\n",
       "    </tr>\n",
       "    <tr>\n",
       "      <th>99996</th>\n",
       "      <td>1.091059</td>\n",
       "      <td>-1.877469</td>\n",
       "      <td>43.940</td>\n",
       "      <td>True</td>\n",
       "      <td>40.966482</td>\n",
       "    </tr>\n",
       "    <tr>\n",
       "      <th>99997</th>\n",
       "      <td>0.778154</td>\n",
       "      <td>-1.681878</td>\n",
       "      <td>66.307</td>\n",
       "      <td>True</td>\n",
       "      <td>64.519866</td>\n",
       "    </tr>\n",
       "    <tr>\n",
       "      <th>99998</th>\n",
       "      <td>0.778154</td>\n",
       "      <td>-1.681878</td>\n",
       "      <td>66.307</td>\n",
       "      <td>True</td>\n",
       "      <td>64.519866</td>\n",
       "    </tr>\n",
       "    <tr>\n",
       "      <th>99999</th>\n",
       "      <td>0.778154</td>\n",
       "      <td>-1.681878</td>\n",
       "      <td>66.307</td>\n",
       "      <td>True</td>\n",
       "      <td>64.519866</td>\n",
       "    </tr>\n",
       "  </tbody>\n",
       "</table>\n",
       "<p>100000 rows × 5 columns</p>\n",
       "</div>"
      ],
      "text/plain": [
       "              x     pdf_E     P_E  not_S  P_E_|_not_S\n",
       "0      0.000000 -1.415673  99.695   True    99.678822\n",
       "1      0.000000 -1.415673  99.695   True    99.678822\n",
       "2      0.000000 -1.415673  99.695   True    99.678822\n",
       "3      0.074411 -1.418920  96.315   True    96.119541\n",
       "4      0.240605 -1.445028  88.666   True    88.064825\n",
       "...         ...       ...     ...    ...          ...\n",
       "99995  1.091059 -1.877469  43.940   True    40.966482\n",
       "99996  1.091059 -1.877469  43.940   True    40.966482\n",
       "99997  0.778154 -1.681878  66.307   True    64.519866\n",
       "99998  0.778154 -1.681878  66.307   True    64.519866\n",
       "99999  0.778154 -1.681878  66.307   True    64.519866\n",
       "\n",
       "[100000 rows x 5 columns]"
      ]
     },
     "execution_count": 36,
     "metadata": {},
     "output_type": "execute_result"
    }
   ],
   "source": [
    "samples_df"
   ]
  },
  {
   "cell_type": "code",
   "execution_count": 37,
   "metadata": {},
   "outputs": [
    {
     "ename": "SyntaxError",
     "evalue": "invalid syntax (562892.py, line 2)",
     "output_type": "error",
     "traceback": [
      "\u001b[0;36m  File \u001b[0;32m\"/tmp/ipykernel_44785/562892.py\"\u001b[0;36m, line \u001b[0;32m2\u001b[0m\n\u001b[0;31m    full_area =\u001b[0m\n\u001b[0m                ^\u001b[0m\n\u001b[0;31mSyntaxError\u001b[0m\u001b[0;31m:\u001b[0m invalid syntax\n"
     ]
    }
   ],
   "source": [
    "def get_p_S_given_t(t):\n",
    "    full_area = "
   ]
  },
  {
   "cell_type": "code",
   "execution_count": null,
   "metadata": {},
   "outputs": [],
   "source": []
  }
 ],
 "metadata": {
  "kernelspec": {
   "display_name": "Python 3.8.13 ('msc')",
   "language": "python",
   "name": "python3"
  },
  "language_info": {
   "codemirror_mode": {
    "name": "ipython",
    "version": 3
   },
   "file_extension": ".py",
   "mimetype": "text/x-python",
   "name": "python",
   "nbconvert_exporter": "python",
   "pygments_lexer": "ipython3",
   "version": "3.8.13"
  },
  "orig_nbformat": 4,
  "vscode": {
   "interpreter": {
    "hash": "e4e37b677af03028ccd22838cd797966b771d308422a72e1f0ca197245719945"
   }
  }
 },
 "nbformat": 4,
 "nbformat_minor": 2
}
