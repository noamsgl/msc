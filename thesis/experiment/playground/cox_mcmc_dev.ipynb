{
 "cells": [
  {
   "cell_type": "code",
   "execution_count": 14,
   "metadata": {},
   "outputs": [
    {
     "name": "stdout",
     "output_type": "stream",
     "text": [
      "The autoreload extension is already loaded. To reload it, use:\n",
      "  %reload_ext autoreload\n"
     ]
    },
    {
     "data": {
      "text/plain": [
       "<Figure size 252x189 with 0 Axes>"
      ]
     },
     "metadata": {},
     "output_type": "display_data"
    }
   ],
   "source": [
    "import datetime\n",
    "import matplotlib.pyplot as plt\n",
    "import numpy as np\n",
    "import numpyro\n",
    "import pyro\n",
    "from sklearn.datasets import make_blobs\n",
    "from sklearn.mixture import GaussianMixture\n",
    "import seaborn as sns\n",
    "import pandas as pd\n",
    "import corner\n",
    "import scipy.stats as stats\n",
    "from tqdm import tqdm\n",
    "import torch\n",
    "\n",
    "from msc.plot_utils import set_size\n",
    "from msc.config_utils import config\n",
    "\n",
    "from msc import config\n",
    "from msc.data_utils import get_dataset\n",
    "from msc.plot_utils import set_size\n",
    "from msc.prior_utils import get_events_df, vm_density, vm_mixture\n",
    "\n",
    "plt.style.use(['science', 'no-latex'])\n",
    "plt.viridis()\n",
    "\n",
    "\n",
    "SEC = 1e6\n",
    "MIN = 60 * SEC\n",
    "HOUR = 60 * MIN\n",
    "\n",
    "%load_ext autoreload\n",
    "\n"
   ]
  },
  {
   "cell_type": "code",
   "execution_count": 15,
   "metadata": {},
   "outputs": [],
   "source": [
    "# define number of bins\n",
    "N = 24\n",
    "# get dataset\n",
    "ds = get_dataset(config['dataset_id'])\n",
    "# get dataset's start time\n",
    "start_time = datetime.datetime.fromtimestamp(ds.start_time / SEC, datetime.timezone.utc)\n",
    "# get dataset's seizure annotations\n",
    "seizures = ds.get_annotations('seizures')\n",
    "# convert annotations to event datetimes\n",
    "events = [start_time + datetime.timedelta(microseconds=seizure.start_time_offset_usec) for seizure in seizures]\n",
    "# create events_df\n",
    "events_df = get_events_df(events)\n",
    "# compute events circadian histogram\n",
    "circadian_hist = pd.cut(events_df.hour, N, labels=range(N)).value_counts().sort_index()\n",
    "\n",
    "width = 478  #pt\n",
    "\n"
   ]
  },
  {
   "cell_type": "code",
   "execution_count": 31,
   "metadata": {},
   "outputs": [],
   "source": [
    "from functools import partial\n",
    "\n",
    "def vm_mixture(x, circadian_hist): \n",
    "    mus = np.arange(24) + 0.5\n",
    "    density_func = lambda x: sum([circadian_hist[i] * partial(vm_density, mu=mu)(x) for i, mu in enumerate(mus)])  # not normalized\n",
    "    normalizing_constant = np.trapz(1/density_func(np.linspace(0, 24, 100)))\n",
    "    return 1 / (normalizing_constant * density_func(x))\n"
   ]
  },
  {
   "cell_type": "code",
   "execution_count": 32,
   "metadata": {},
   "outputs": [],
   "source": [
    "X = np.linspace(0, 24, 100)\n",
    "y = vm_mixture(X, circadian_hist)"
   ]
  },
  {
   "cell_type": "code",
   "execution_count": 33,
   "metadata": {},
   "outputs": [
    {
     "data": {
      "text/plain": [
       "1.0"
      ]
     },
     "execution_count": 33,
     "metadata": {},
     "output_type": "execute_result"
    }
   ],
   "source": [
    "np.trapz(y)"
   ]
  },
  {
   "cell_type": "code",
   "execution_count": 34,
   "metadata": {},
   "outputs": [
    {
     "data": {
      "text/plain": [
       "(0.0, 0.015)"
      ]
     },
     "execution_count": 34,
     "metadata": {},
     "output_type": "execute_result"
    },
    {
     "data": {
      "image/png": "[encoded data removed]",
      "text/plain": [
       "<Figure size 252x189 with 1 Axes>"
      ]
     },
     "metadata": {
      "needs_background": "light"
     },
     "output_type": "display_data"
    }
   ],
   "source": [
    "plt.plot(X, y)\n",
    "plt.ylim(0, 0.015)"
   ]
  },
  {
   "cell_type": "code",
   "execution_count": 36,
   "metadata": {},
   "outputs": [
    {
     "data": {
      "text/plain": [
       "<BarContainer object of 24 artists>"
      ]
     },
     "execution_count": 36,
     "metadata": {},
     "output_type": "execute_result"
    },
    {
     "data": {
      "image/png": "[encoded data removed]",
      "text/plain": [
       "<Figure size 252x189 with 1 Axes>"
      ]
     },
     "metadata": {
      "needs_background": "light"
     },
     "output_type": "display_data"
    }
   ],
   "source": [
    "plt.bar(np.arange(24), circadian_hist)"
   ]
  },
  {
   "cell_type": "code",
   "execution_count": null,
   "metadata": {},
   "outputs": [],
   "source": [
    "\n",
    "\n",
    "true_intensity_function = lambda times: torch.cos(times * 2 * np.pi).add(1).mul(intensity_max / 2.)\n",
    "\n",
    "max_time = 2\n",
    "\n",
    "times = torch.linspace(0, max_time, 128)\n",
    "num_samples = int(pyro.distributions.Poisson(true_intensity_function(times).mean() * max_time).sample().item())\n",
    "print(f\"Number of sampled arrivals: {num_samples}\")\n",
    "\n",
    "\n",
    "def log_prob_accept(val):\n",
    "    intensities = true_intensity_function(val)\n",
    "    res = torch.log(intensities / (true_intensity_function(times).mean() * max_time))\n",
    "    return res"
   ]
  }
 ],
 "metadata": {
  "kernelspec": {
   "display_name": "Python 3.8.13 ('msc')",
   "language": "python",
   "name": "python3"
  },
  "language_info": {
   "codemirror_mode": {
    "name": "ipython",
    "version": 3
   },
   "file_extension": ".py",
   "mimetype": "text/x-python",
   "name": "python",
   "nbconvert_exporter": "python",
   "pygments_lexer": "ipython3",
   "version": "3.8.13"
  },
  "orig_nbformat": 4,
  "vscode": {
   "interpreter": {
    "hash": "e4e37b677af03028ccd22838cd797966b771d308422a72e1f0ca197245719945"
   }
  }
 },
 "nbformat": 4,
 "nbformat_minor": 2
}
