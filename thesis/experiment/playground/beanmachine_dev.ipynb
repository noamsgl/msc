{
 "cells": [
  {
   "cell_type": "code",
   "execution_count": 10,
   "metadata": {},
   "outputs": [],
   "source": [
    "import copy\n",
    "import math\n",
    "import os\n",
    "import warnings\n",
    "from functools import partial\n",
    "\n",
    "import arviz as az\n",
    "import beanmachine\n",
    "import beanmachine.ppl as bm\n",
    "import beanmachine.ppl.experimental.gp as bgp\n",
    "import gpytorch\n",
    "import matplotlib.pyplot as plt\n",
    "import seaborn as sns\n",
    "import torch\n",
    "import torch.distributions as dist\n",
    "from beanmachine.ppl.experimental.gp.models import SimpleGP\n",
    "from gpytorch.distributions import MultivariateNormal\n",
    "from gpytorch.kernels import Kernel\n",
    "from IPython.display import Markdown"
   ]
  },
  {
   "cell_type": "code",
   "execution_count": 11,
   "metadata": {},
   "outputs": [
    {
     "name": "stdout",
     "output_type": "stream",
     "text": [
      "pytorch version:  1.11.0+cu102\n",
      "gpytorch version:  1.7.0\n"
     ]
    }
   ],
   "source": [
    "# Eliminate excess UserWarnings from Python.\n",
    "warnings.filterwarnings(\"ignore\")\n",
    "\n",
    "# Manual seed\n",
    "torch.manual_seed(123)\n",
    "\n",
    "# Other settings for the notebook.\n",
    "smoke_test = \"SANDCASTLE_NEXUS\" in os.environ or \"CI\" in os.environ\n",
    "\n",
    "# Tool versions\n",
    "print(\"pytorch version: \", torch.__version__)\n",
    "print(\"gpytorch version: \", gpytorch.__version__)"
   ]
  },
  {
   "cell_type": "code",
   "execution_count": 12,
   "metadata": {},
   "outputs": [
    {
     "data": {
      "image/png": "[encoded data removed]",
      "text/plain": [
       "<Figure size 432x288 with 1 Axes>"
      ]
     },
     "metadata": {
      "needs_background": "light"
     },
     "output_type": "display_data"
    }
   ],
   "source": [
    "x_train = torch.linspace(0, 1, 11)\n",
    "y_train = torch.sin(x_train * (2 * math.pi)) + torch.randn(x_train.shape) * 0.2\n",
    "x_test = torch.linspace(0, 1, 51).unsqueeze(-1)\n",
    "\n",
    "with torch.no_grad():\n",
    "    plt.scatter(x_train.numpy(), y_train.numpy())\n",
    "    plt.show()"
   ]
  },
  {
   "cell_type": "code",
   "execution_count": 13,
   "metadata": {},
   "outputs": [],
   "source": [
    "class Regression(SimpleGP):\n",
    "    def __init__(self, x_train, y_train, mean, kernel, likelihood, *args, **kwargs):\n",
    "        super().__init__(x_train, y_train, mean, kernel, likelihood)\n",
    "\n",
    "    def forward(self, data, batch_shape=()):\n",
    "        \"\"\"\n",
    "        Computes the GP prior given data. This method should always\n",
    "        return a `torch.distributions.MultivariateNormal`\n",
    "        \"\"\"\n",
    "        shape = data.shape[len(batch_shape)]\n",
    "        jitter = torch.eye(shape, shape) * 1e-5\n",
    "        for _ in range(len(batch_shape)):\n",
    "            jitter = jitter.unsqueeze(0)\n",
    "        if isinstance(self.mean, gpytorch.means.Mean):\n",
    "            # demo using gpytorch for MAP estimation\n",
    "            mean = self.mean(data)\n",
    "        else:\n",
    "            # use Bean Machine for learning posteriors\n",
    "            if self.training:\n",
    "                mean = self.mean(batch_shape).expand(data.shape[len(batch_shape) :])\n",
    "            else:\n",
    "                mean = self.mean.expand(data.shape[:-1])  # overridden for evaluation\n",
    "        cov = self.kernel(data) + jitter\n",
    "        return MultivariateNormal(mean, cov)"
   ]
  },
  {
   "cell_type": "code",
   "execution_count": 14,
   "metadata": {},
   "outputs": [],
   "source": [
    "kernel = gpytorch.kernels.ScaleKernel(base_kernel=gpytorch.kernels.PeriodicKernel())\n",
    "likelihood = gpytorch.likelihoods.GaussianLikelihood()\n",
    "mean = gpytorch.means.ConstantMean()\n",
    "gp = Regression(x_train, y_train, mean, kernel, likelihood)"
   ]
  },
  {
   "cell_type": "code",
   "execution_count": 15,
   "metadata": {},
   "outputs": [
    {
     "name": "stdout",
     "output_type": "stream",
     "text": [
      "Iter 1/100 - Loss: 1.082\n",
      "Iter 11/100 - Loss: 0.504\n",
      "Iter 21/100 - Loss: 0.040\n",
      "Iter 31/100 - Loss: -0.385\n",
      "Iter 41/100 - Loss: -0.755\n",
      "Iter 51/100 - Loss: -0.939\n",
      "Iter 61/100 - Loss: -0.947\n",
      "Iter 71/100 - Loss: -0.966\n",
      "Iter 81/100 - Loss: -0.959\n",
      "Iter 91/100 - Loss: -0.954\n"
     ]
    }
   ],
   "source": [
    "optimizer = torch.optim.Adam(\n",
    "    gp.parameters(), lr=0.1\n",
    ")  # Includes GaussianLikelihood parameters\n",
    "mll = gpytorch.mlls.ExactMarginalLogLikelihood(likelihood, gp)\n",
    "gp.eval()  # this converts the BM model into a gpytorch model\n",
    "num_iters = 1 if smoke_test else 100\n",
    "\n",
    "for i in range(num_iters):\n",
    "    optimizer.zero_grad()\n",
    "    output = gp(x_train)\n",
    "    loss = -mll(output, y_train)\n",
    "    loss.backward()\n",
    "    if i % 10 == 0:\n",
    "        print(\n",
    "            \"Iter %d/%d - Loss: %.3f\"\n",
    "            % (\n",
    "                i + 1,\n",
    "                100,\n",
    "                loss.item(),\n",
    "            )\n",
    "        )\n",
    "    optimizer.step()"
   ]
  },
  {
   "cell_type": "code",
   "execution_count": 16,
   "metadata": {},
   "outputs": [
    {
     "data": {
      "image/png": "[encoded data removed]",
      "text/plain": [
       "<Figure size 288x216 with 1 Axes>"
      ]
     },
     "metadata": {
      "needs_background": "light"
     },
     "output_type": "display_data"
    }
   ],
   "source": [
    "with torch.no_grad():\n",
    "    observed_pred = likelihood(gp(x_test))\n",
    "    # Initialize plot\n",
    "    f, ax = plt.subplots(1, 1, figsize=(4, 3))\n",
    "\n",
    "    # Get upper and lower confidence bounds\n",
    "    lower, upper = observed_pred.confidence_region()\n",
    "    # Plot training data as black stars\n",
    "    ax.plot(x_train.numpy(), y_train.numpy(), \"k*\")\n",
    "    # Plot predictive means as blue line\n",
    "    ax.plot(x_test.squeeze().numpy(), observed_pred.mean.numpy(), \"b\")\n",
    "    # Shade between the lower and upper confidence bounds\n",
    "    ax.fill_between(x_test.squeeze().numpy(), lower.numpy(), upper.numpy(), alpha=0.5)\n",
    "    ax.set_ylim([-1, 1])\n",
    "    ax.legend([\"Observed Data\", \"Mean\", \"Confidence\"])"
   ]
  },
  {
   "cell_type": "code",
   "execution_count": 17,
   "metadata": {},
   "outputs": [],
   "source": [
    "@bm.random_variable\n",
    "def outputscale():\n",
    "    return dist.Uniform(torch.tensor(1.0), torch.tensor(2.0))\n",
    "\n",
    "\n",
    "@bm.random_variable\n",
    "def lengthscale():\n",
    "    return dist.Uniform(torch.tensor([0.01]), torch.tensor([0.5]))\n",
    "\n",
    "\n",
    "@bm.random_variable\n",
    "def period_length():\n",
    "    return dist.Uniform(torch.tensor([0.05]), torch.tensor([2.5]))\n",
    "\n",
    "\n",
    "@bm.random_variable\n",
    "def noise():\n",
    "    return dist.Uniform(torch.tensor([0.05]), torch.tensor([0.3]))\n",
    "\n",
    "\n",
    "@bm.random_variable\n",
    "def mean(batch_shape=()):\n",
    "    batch_shape += (1,)\n",
    "    a = -1 * torch.ones(batch_shape)\n",
    "    b = torch.ones(batch_shape)\n",
    "    return dist.Uniform(a, b)"
   ]
  },
  {
   "cell_type": "code",
   "execution_count": 18,
   "metadata": {},
   "outputs": [],
   "source": [
    "kernel = bgp.kernels.ScaleKernel(\n",
    "    base_kernel=bgp.kernels.PeriodicKernel(\n",
    "        period_length_prior=period_length, lengthscale_prior=lengthscale\n",
    "    ),\n",
    "    outputscale_prior=outputscale,\n",
    ")\n",
    "likelihood = bgp.likelihoods.GaussianLikelihood(noise_prior=noise)\n",
    "\n",
    "gp = Regression(x_train, y_train, mean, kernel, likelihood)"
   ]
  },
  {
   "cell_type": "code",
   "execution_count": 20,
   "metadata": {},
   "outputs": [
    {
     "ename": "IndexError",
     "evalue": "too many indices for tensor of dimension 1",
     "output_type": "error",
     "traceback": [
      "\u001b[0;31m---------------------------------------------------------------------------\u001b[0m",
      "\u001b[0;31mIndexError\u001b[0m                                Traceback (most recent call last)",
      "\u001b[1;32m/home/noamsi/msc/thesis/experiment/playground/beanmachine_dev.ipynb Cell 10'\u001b[0m in \u001b[0;36m<cell line: 11>\u001b[0;34m()\u001b[0m\n\u001b[1;32m      <a href='vscode-notebook-cell://ssh-remote%2B7b22686f73744e616d65223a223133322e37322e38302e313437222c2275736572223a226e6f616d7369227d/home/noamsi/msc/thesis/experiment/playground/beanmachine_dev.ipynb#ch0000010vscode-remote?line=7'>8</a>\u001b[0m obs \u001b[39m=\u001b[39m {gp\u001b[39m.\u001b[39mlikelihood(gp_prior): y_train}\n\u001b[1;32m     <a href='vscode-notebook-cell://ssh-remote%2B7b22686f73744e616d65223a223133322e37322e38302e313437222c2275736572223a226e6f616d7369227d/home/noamsi/msc/thesis/experiment/playground/beanmachine_dev.ipynb#ch0000010vscode-remote?line=9'>10</a>\u001b[0m nuts \u001b[39m=\u001b[39m bm\u001b[39m.\u001b[39mSingleSiteNoUTurnSampler()\n\u001b[0;32m---> <a href='vscode-notebook-cell://ssh-remote%2B7b22686f73744e616d65223a223133322e37322e38302e313437222c2275736572223a226e6f616d7369227d/home/noamsi/msc/thesis/experiment/playground/beanmachine_dev.ipynb#ch0000010vscode-remote?line=10'>11</a>\u001b[0m samples \u001b[39m=\u001b[39m nuts\u001b[39m.\u001b[39;49minfer(\n\u001b[1;32m     <a href='vscode-notebook-cell://ssh-remote%2B7b22686f73744e616d65223a223133322e37322e38302e313437222c2275736572223a226e6f616d7369227d/home/noamsi/msc/thesis/experiment/playground/beanmachine_dev.ipynb#ch0000010vscode-remote?line=11'>12</a>\u001b[0m     queries\u001b[39m=\u001b[39;49mqueries,\n\u001b[1;32m     <a href='vscode-notebook-cell://ssh-remote%2B7b22686f73744e616d65223a223133322e37322e38302e313437222c2275736572223a226e6f616d7369227d/home/noamsi/msc/thesis/experiment/playground/beanmachine_dev.ipynb#ch0000010vscode-remote?line=12'>13</a>\u001b[0m     observations\u001b[39m=\u001b[39;49mobs,\n\u001b[1;32m     <a href='vscode-notebook-cell://ssh-remote%2B7b22686f73744e616d65223a223133322e37322e38302e313437222c2275736572223a226e6f616d7369227d/home/noamsi/msc/thesis/experiment/playground/beanmachine_dev.ipynb#ch0000010vscode-remote?line=13'>14</a>\u001b[0m     num_samples\u001b[39m=\u001b[39;49mnum_samples,\n\u001b[1;32m     <a href='vscode-notebook-cell://ssh-remote%2B7b22686f73744e616d65223a223133322e37322e38302e313437222c2275736572223a226e6f616d7369227d/home/noamsi/msc/thesis/experiment/playground/beanmachine_dev.ipynb#ch0000010vscode-remote?line=14'>15</a>\u001b[0m     num_adaptive_samples\u001b[39m=\u001b[39;49mnum_adaptive_samples,\n\u001b[1;32m     <a href='vscode-notebook-cell://ssh-remote%2B7b22686f73744e616d65223a223133322e37322e38302e313437222c2275736572223a226e6f616d7369227d/home/noamsi/msc/thesis/experiment/playground/beanmachine_dev.ipynb#ch0000010vscode-remote?line=15'>16</a>\u001b[0m     num_chains\u001b[39m=\u001b[39;49mnum_chains,\n\u001b[1;32m     <a href='vscode-notebook-cell://ssh-remote%2B7b22686f73744e616d65223a223133322e37322e38302e313437222c2275736572223a226e6f616d7369227d/home/noamsi/msc/thesis/experiment/playground/beanmachine_dev.ipynb#ch0000010vscode-remote?line=16'>17</a>\u001b[0m )\n",
      "File \u001b[0;32m~/.conda/envs/thesis_1/lib/python3.8/site-packages/beanmachine/ppl/inference/base_inference.py:117\u001b[0m, in \u001b[0;36mBaseInference.infer\u001b[0;34m(self, queries, observations, num_samples, num_chains, num_adaptive_samples, verbose, initialize_fn, max_init_retries)\u001b[0m\n\u001b[1;32m    115\u001b[0m chain_logll \u001b[39m=\u001b[39m []\n\u001b[1;32m    116\u001b[0m \u001b[39mfor\u001b[39;00m _ \u001b[39min\u001b[39;00m \u001b[39mrange\u001b[39m(num_chains):\n\u001b[0;32m--> 117\u001b[0m     sampler \u001b[39m=\u001b[39m \u001b[39mself\u001b[39;49m\u001b[39m.\u001b[39;49msampler(\n\u001b[1;32m    118\u001b[0m         queries,\n\u001b[1;32m    119\u001b[0m         observations,\n\u001b[1;32m    120\u001b[0m         num_samples,\n\u001b[1;32m    121\u001b[0m         num_adaptive_samples,\n\u001b[1;32m    122\u001b[0m         initialize_fn,\n\u001b[1;32m    123\u001b[0m     )\n\u001b[1;32m    124\u001b[0m     samples \u001b[39m=\u001b[39m {query: [] \u001b[39mfor\u001b[39;00m query \u001b[39min\u001b[39;00m queries}\n\u001b[1;32m    125\u001b[0m     log_likelihoods \u001b[39m=\u001b[39m {obs: [] \u001b[39mfor\u001b[39;00m obs \u001b[39min\u001b[39;00m observations}\n",
      "File \u001b[0;32m~/.conda/envs/thesis_1/lib/python3.8/site-packages/beanmachine/ppl/inference/base_inference.py:187\u001b[0m, in \u001b[0;36mBaseInference.sampler\u001b[0;34m(self, queries, observations, num_samples, num_adaptive_samples, initialize_fn, max_init_retries)\u001b[0m\n\u001b[1;32m    168\u001b[0m \u001b[39m\"\"\"\u001b[39;00m\n\u001b[1;32m    169\u001b[0m \u001b[39mReturns a generator that returns a new world (represents a new state of the\u001b[39;00m\n\u001b[1;32m    170\u001b[0m \u001b[39mgraph) each time it is iterated. If num_samples is not provided, this method\u001b[39;00m\n\u001b[0;32m   (...)\u001b[0m\n\u001b[1;32m    182\u001b[0m \u001b[39m        inference before throwing an error (default to 100).\u001b[39;00m\n\u001b[1;32m    183\u001b[0m \u001b[39m\"\"\"\u001b[39;00m\n\u001b[1;32m    184\u001b[0m _verify_queries_and_observations(\n\u001b[1;32m    185\u001b[0m     queries, observations, observations_must_be_rv\u001b[39m=\u001b[39m\u001b[39mTrue\u001b[39;00m\n\u001b[1;32m    186\u001b[0m )\n\u001b[0;32m--> 187\u001b[0m world \u001b[39m=\u001b[39m \u001b[39mself\u001b[39;49m\u001b[39m.\u001b[39;49m_initialize_world(queries, observations, initialize_fn)\n\u001b[1;32m    188\u001b[0m \u001b[39m# start inference with a copy of self to ensure that multi-chain or multi\u001b[39;00m\n\u001b[1;32m    189\u001b[0m \u001b[39m# inference runs all start with the same pristine state\u001b[39;00m\n\u001b[1;32m    190\u001b[0m kernel \u001b[39m=\u001b[39m copy\u001b[39m.\u001b[39mdeepcopy(\u001b[39mself\u001b[39m)\n",
      "File \u001b[0;32m~/.conda/envs/thesis_1/lib/python3.8/site-packages/beanmachine/ppl/inference/base_inference.py:58\u001b[0m, in \u001b[0;36mBaseInference._initialize_world\u001b[0;34m(queries, observations, initialize_fn, max_retries)\u001b[0m\n\u001b[1;32m     56\u001b[0m     world\u001b[39m.\u001b[39mcall(node)\n\u001b[1;32m     57\u001b[0m \u001b[39mfor\u001b[39;00m node \u001b[39min\u001b[39;00m observations:\n\u001b[0;32m---> 58\u001b[0m     world\u001b[39m.\u001b[39;49mcall(node)\n\u001b[1;32m     60\u001b[0m \u001b[39m# check if the initial state is valid\u001b[39;00m\n\u001b[1;32m     61\u001b[0m log_prob \u001b[39m=\u001b[39m world\u001b[39m.\u001b[39mlog_prob()\n",
      "File \u001b[0;32m~/.conda/envs/thesis_1/lib/python3.8/site-packages/beanmachine/ppl/world/base_world.py:54\u001b[0m, in \u001b[0;36mBaseWorld.call\u001b[0;34m(self, node)\u001b[0m\n\u001b[1;32m     50\u001b[0m \u001b[39m\"\"\"\u001b[39;00m\n\u001b[1;32m     51\u001b[0m \u001b[39mA helper function that invokes the random variable and return its value\u001b[39;00m\n\u001b[1;32m     52\u001b[0m \u001b[39m\"\"\"\u001b[39;00m\n\u001b[1;32m     53\u001b[0m \u001b[39mwith\u001b[39;00m \u001b[39mself\u001b[39m:\n\u001b[0;32m---> 54\u001b[0m     \u001b[39mreturn\u001b[39;00m node\u001b[39m.\u001b[39;49mwrapper(\u001b[39m*\u001b[39;49mnode\u001b[39m.\u001b[39;49marguments)\n",
      "File \u001b[0;32m~/.conda/envs/thesis_1/lib/python3.8/site-packages/beanmachine/ppl/model/statistical_model.py:64\u001b[0m, in \u001b[0;36mStatisticalModel.random_variable.<locals>.wrapper\u001b[0;34m(*args)\u001b[0m\n\u001b[1;32m     62\u001b[0m     \u001b[39mreturn\u001b[39;00m func_key\n\u001b[1;32m     63\u001b[0m \u001b[39melse\u001b[39;00m:\n\u001b[0;32m---> 64\u001b[0m     \u001b[39mreturn\u001b[39;00m world\u001b[39m.\u001b[39;49mupdate_graph(func_key)\n",
      "File \u001b[0;32m~/.conda/envs/thesis_1/lib/python3.8/site-packages/beanmachine/ppl/world/world.py:173\u001b[0m, in \u001b[0;36mWorld.update_graph\u001b[0;34m(self, node)\u001b[0m\n\u001b[1;32m    162\u001b[0m \u001b[39m\"\"\"\u001b[39;00m\n\u001b[1;32m    163\u001b[0m \u001b[39mThis function adds a node to the graph and initialize its value if the node\u001b[39;00m\n\u001b[1;32m    164\u001b[0m \u001b[39mis not found in the graph already.\u001b[39;00m\n\u001b[0;32m   (...)\u001b[0m\n\u001b[1;32m    170\u001b[0m \u001b[39m  The value of the node stored in world (in original space).\u001b[39;00m\n\u001b[1;32m    171\u001b[0m \u001b[39m\"\"\"\u001b[39;00m\n\u001b[1;32m    172\u001b[0m \u001b[39mif\u001b[39;00m node \u001b[39mnot\u001b[39;00m \u001b[39min\u001b[39;00m \u001b[39mself\u001b[39m\u001b[39m.\u001b[39m_variables:\n\u001b[0;32m--> 173\u001b[0m     \u001b[39mself\u001b[39;49m\u001b[39m.\u001b[39;49minitialize_value(node)\n\u001b[1;32m    174\u001b[0m node_var \u001b[39m=\u001b[39m \u001b[39mself\u001b[39m\u001b[39m.\u001b[39m_variables[node]\n\u001b[1;32m    175\u001b[0m \u001b[39mif\u001b[39;00m \u001b[39mlen\u001b[39m(\u001b[39mself\u001b[39m\u001b[39m.\u001b[39m_call_stack) \u001b[39m>\u001b[39m \u001b[39m0\u001b[39m:\n",
      "File \u001b[0;32m~/.conda/envs/thesis_1/lib/python3.8/site-packages/beanmachine/ppl/world/world.py:148\u001b[0m, in \u001b[0;36mWorld.initialize_value\u001b[0;34m(self, node)\u001b[0m\n\u001b[1;32m    146\u001b[0m \u001b[39mdef\u001b[39;00m \u001b[39minitialize_value\u001b[39m(\u001b[39mself\u001b[39m, node: RVIdentifier) \u001b[39m-\u001b[39m\u001b[39m>\u001b[39m \u001b[39mNone\u001b[39;00m:\n\u001b[1;32m    147\u001b[0m     \u001b[39m# recursively calls into parent nodes\u001b[39;00m\n\u001b[0;32m--> 148\u001b[0m     distribution, parents \u001b[39m=\u001b[39m \u001b[39mself\u001b[39;49m\u001b[39m.\u001b[39;49m_run_node(node)\n\u001b[1;32m    150\u001b[0m     \u001b[39mif\u001b[39;00m node \u001b[39min\u001b[39;00m \u001b[39mself\u001b[39m\u001b[39m.\u001b[39mobservations:\n\u001b[1;32m    151\u001b[0m         node_val \u001b[39m=\u001b[39m \u001b[39mself\u001b[39m\u001b[39m.\u001b[39mobservations[node]\n",
      "File \u001b[0;32m~/.conda/envs/thesis_1/lib/python3.8/site-packages/beanmachine/ppl/world/world.py:227\u001b[0m, in \u001b[0;36mWorld._run_node\u001b[0;34m(self, node)\u001b[0m\n\u001b[1;32m    225\u001b[0m \u001b[39mself\u001b[39m\u001b[39m.\u001b[39m_call_stack\u001b[39m.\u001b[39mappend(_TempVar(node))\n\u001b[1;32m    226\u001b[0m \u001b[39mwith\u001b[39;00m \u001b[39mself\u001b[39m:\n\u001b[0;32m--> 227\u001b[0m     distribution \u001b[39m=\u001b[39m node\u001b[39m.\u001b[39;49mfunction(\u001b[39m*\u001b[39;49mnode\u001b[39m.\u001b[39;49marguments)\n\u001b[1;32m    228\u001b[0m temp_var \u001b[39m=\u001b[39m \u001b[39mself\u001b[39m\u001b[39m.\u001b[39m_call_stack\u001b[39m.\u001b[39mpop()\n\u001b[1;32m    229\u001b[0m \u001b[39mif\u001b[39;00m \u001b[39mnot\u001b[39;00m \u001b[39misinstance\u001b[39m(distribution, dist\u001b[39m.\u001b[39mDistribution):\n",
      "File \u001b[0;32m~/.conda/envs/thesis_1/lib/python3.8/site-packages/beanmachine/ppl/experimental/gp/likelihoods.py:65\u001b[0m, in \u001b[0;36mGpytorchMixin._bm_forward\u001b[0;34m(self, prior_sample)\u001b[0m\n\u001b[1;32m     63\u001b[0m \u001b[39m@bm\u001b[39m\u001b[39m.\u001b[39mrandom_variable\n\u001b[1;32m     64\u001b[0m \u001b[39mdef\u001b[39;00m \u001b[39m_bm_forward\u001b[39m(\u001b[39mself\u001b[39m, prior_sample):\n\u001b[0;32m---> 65\u001b[0m     \u001b[39mreturn\u001b[39;00m \u001b[39msuper\u001b[39m()\u001b[39m.\u001b[39m\u001b[39m__call__\u001b[39m(prior_sample())\n",
      "File \u001b[0;32m~/.conda/envs/thesis_1/lib/python3.8/site-packages/beanmachine/ppl/experimental/gp/models.py:30\u001b[0m, in \u001b[0;36mSimpleGP.__call__\u001b[0;34m(self, *args, **kwargs)\u001b[0m\n\u001b[1;32m     28\u001b[0m \u001b[39mdef\u001b[39;00m \u001b[39m__call__\u001b[39m(\u001b[39mself\u001b[39m, \u001b[39m*\u001b[39margs, \u001b[39m*\u001b[39m\u001b[39m*\u001b[39mkwargs):\n\u001b[1;32m     29\u001b[0m     \u001b[39mif\u001b[39;00m \u001b[39mself\u001b[39m\u001b[39m.\u001b[39mtraining:\n\u001b[0;32m---> 30\u001b[0m         \u001b[39mreturn\u001b[39;00m \u001b[39mself\u001b[39;49m\u001b[39m.\u001b[39;49mbm_forward(\u001b[39m*\u001b[39;49margs, \u001b[39m*\u001b[39;49m\u001b[39m*\u001b[39;49mkwargs)\n\u001b[1;32m     31\u001b[0m     \u001b[39mreturn\u001b[39;00m \u001b[39msuper\u001b[39m()\u001b[39m.\u001b[39m\u001b[39m__call__\u001b[39m(\u001b[39m*\u001b[39margs, \u001b[39m*\u001b[39m\u001b[39m*\u001b[39mkwargs)\n",
      "File \u001b[0;32m~/.conda/envs/thesis_1/lib/python3.8/site-packages/beanmachine/ppl/model/statistical_model.py:64\u001b[0m, in \u001b[0;36mStatisticalModel.random_variable.<locals>.wrapper\u001b[0;34m(*args)\u001b[0m\n\u001b[1;32m     62\u001b[0m     \u001b[39mreturn\u001b[39;00m func_key\n\u001b[1;32m     63\u001b[0m \u001b[39melse\u001b[39;00m:\n\u001b[0;32m---> 64\u001b[0m     \u001b[39mreturn\u001b[39;00m world\u001b[39m.\u001b[39;49mupdate_graph(func_key)\n",
      "File \u001b[0;32m~/.conda/envs/thesis_1/lib/python3.8/site-packages/beanmachine/ppl/world/world.py:173\u001b[0m, in \u001b[0;36mWorld.update_graph\u001b[0;34m(self, node)\u001b[0m\n\u001b[1;32m    162\u001b[0m \u001b[39m\"\"\"\u001b[39;00m\n\u001b[1;32m    163\u001b[0m \u001b[39mThis function adds a node to the graph and initialize its value if the node\u001b[39;00m\n\u001b[1;32m    164\u001b[0m \u001b[39mis not found in the graph already.\u001b[39;00m\n\u001b[0;32m   (...)\u001b[0m\n\u001b[1;32m    170\u001b[0m \u001b[39m  The value of the node stored in world (in original space).\u001b[39;00m\n\u001b[1;32m    171\u001b[0m \u001b[39m\"\"\"\u001b[39;00m\n\u001b[1;32m    172\u001b[0m \u001b[39mif\u001b[39;00m node \u001b[39mnot\u001b[39;00m \u001b[39min\u001b[39;00m \u001b[39mself\u001b[39m\u001b[39m.\u001b[39m_variables:\n\u001b[0;32m--> 173\u001b[0m     \u001b[39mself\u001b[39;49m\u001b[39m.\u001b[39;49minitialize_value(node)\n\u001b[1;32m    174\u001b[0m node_var \u001b[39m=\u001b[39m \u001b[39mself\u001b[39m\u001b[39m.\u001b[39m_variables[node]\n\u001b[1;32m    175\u001b[0m \u001b[39mif\u001b[39;00m \u001b[39mlen\u001b[39m(\u001b[39mself\u001b[39m\u001b[39m.\u001b[39m_call_stack) \u001b[39m>\u001b[39m \u001b[39m0\u001b[39m:\n",
      "File \u001b[0;32m~/.conda/envs/thesis_1/lib/python3.8/site-packages/beanmachine/ppl/world/world.py:148\u001b[0m, in \u001b[0;36mWorld.initialize_value\u001b[0;34m(self, node)\u001b[0m\n\u001b[1;32m    146\u001b[0m \u001b[39mdef\u001b[39;00m \u001b[39minitialize_value\u001b[39m(\u001b[39mself\u001b[39m, node: RVIdentifier) \u001b[39m-\u001b[39m\u001b[39m>\u001b[39m \u001b[39mNone\u001b[39;00m:\n\u001b[1;32m    147\u001b[0m     \u001b[39m# recursively calls into parent nodes\u001b[39;00m\n\u001b[0;32m--> 148\u001b[0m     distribution, parents \u001b[39m=\u001b[39m \u001b[39mself\u001b[39;49m\u001b[39m.\u001b[39;49m_run_node(node)\n\u001b[1;32m    150\u001b[0m     \u001b[39mif\u001b[39;00m node \u001b[39min\u001b[39;00m \u001b[39mself\u001b[39m\u001b[39m.\u001b[39mobservations:\n\u001b[1;32m    151\u001b[0m         node_val \u001b[39m=\u001b[39m \u001b[39mself\u001b[39m\u001b[39m.\u001b[39mobservations[node]\n",
      "File \u001b[0;32m~/.conda/envs/thesis_1/lib/python3.8/site-packages/beanmachine/ppl/world/world.py:227\u001b[0m, in \u001b[0;36mWorld._run_node\u001b[0;34m(self, node)\u001b[0m\n\u001b[1;32m    225\u001b[0m \u001b[39mself\u001b[39m\u001b[39m.\u001b[39m_call_stack\u001b[39m.\u001b[39mappend(_TempVar(node))\n\u001b[1;32m    226\u001b[0m \u001b[39mwith\u001b[39;00m \u001b[39mself\u001b[39m:\n\u001b[0;32m--> 227\u001b[0m     distribution \u001b[39m=\u001b[39m node\u001b[39m.\u001b[39;49mfunction(\u001b[39m*\u001b[39;49mnode\u001b[39m.\u001b[39;49marguments)\n\u001b[1;32m    228\u001b[0m temp_var \u001b[39m=\u001b[39m \u001b[39mself\u001b[39m\u001b[39m.\u001b[39m_call_stack\u001b[39m.\u001b[39mpop()\n\u001b[1;32m    229\u001b[0m \u001b[39mif\u001b[39;00m \u001b[39mnot\u001b[39;00m \u001b[39misinstance\u001b[39m(distribution, dist\u001b[39m.\u001b[39mDistribution):\n",
      "\u001b[1;32m/home/noamsi/msc/thesis/experiment/playground/beanmachine_dev.ipynb Cell 4'\u001b[0m in \u001b[0;36mRegression.forward\u001b[0;34m(self, data, batch_shape)\u001b[0m\n\u001b[1;32m     <a href='vscode-notebook-cell://ssh-remote%2B7b22686f73744e616d65223a223133322e37322e38302e313437222c2275736572223a226e6f616d7369227d/home/noamsi/msc/thesis/experiment/playground/beanmachine_dev.ipynb#ch0000004vscode-remote?line=20'>21</a>\u001b[0m     \u001b[39melse\u001b[39;00m:\n\u001b[1;32m     <a href='vscode-notebook-cell://ssh-remote%2B7b22686f73744e616d65223a223133322e37322e38302e313437222c2275736572223a226e6f616d7369227d/home/noamsi/msc/thesis/experiment/playground/beanmachine_dev.ipynb#ch0000004vscode-remote?line=21'>22</a>\u001b[0m         mean \u001b[39m=\u001b[39m \u001b[39mself\u001b[39m\u001b[39m.\u001b[39mmean\u001b[39m.\u001b[39mexpand(data\u001b[39m.\u001b[39mshape[:\u001b[39m-\u001b[39m\u001b[39m1\u001b[39m])  \u001b[39m# overridden for evaluation\u001b[39;00m\n\u001b[0;32m---> <a href='vscode-notebook-cell://ssh-remote%2B7b22686f73744e616d65223a223133322e37322e38302e313437222c2275736572223a226e6f616d7369227d/home/noamsi/msc/thesis/experiment/playground/beanmachine_dev.ipynb#ch0000004vscode-remote?line=22'>23</a>\u001b[0m cov \u001b[39m=\u001b[39m \u001b[39mself\u001b[39;49m\u001b[39m.\u001b[39;49mkernel(data) \u001b[39m+\u001b[39m jitter\n\u001b[1;32m     <a href='vscode-notebook-cell://ssh-remote%2B7b22686f73744e616d65223a223133322e37322e38302e313437222c2275736572223a226e6f616d7369227d/home/noamsi/msc/thesis/experiment/playground/beanmachine_dev.ipynb#ch0000004vscode-remote?line=23'>24</a>\u001b[0m \u001b[39mreturn\u001b[39;00m MultivariateNormal(mean, cov)\n",
      "File \u001b[0;32m~/.conda/envs/thesis_1/lib/python3.8/site-packages/beanmachine/ppl/experimental/gp/kernels.py:55\u001b[0m, in \u001b[0;36mKernelMixin.__call__\u001b[0;34m(self, *args, **kwargs)\u001b[0m\n\u001b[1;32m     53\u001b[0m out \u001b[39m=\u001b[39m \u001b[39msuper\u001b[39m()\u001b[39m.\u001b[39m\u001b[39m__call__\u001b[39m(\u001b[39m*\u001b[39margs, \u001b[39m*\u001b[39m\u001b[39m*\u001b[39mkwargs)\n\u001b[1;32m     54\u001b[0m \u001b[39mif\u001b[39;00m \u001b[39mself\u001b[39m\u001b[39m.\u001b[39mtraining:\n\u001b[0;32m---> 55\u001b[0m     \u001b[39mreturn\u001b[39;00m out\u001b[39m.\u001b[39;49mevaluate()\n\u001b[1;32m     56\u001b[0m \u001b[39mreturn\u001b[39;00m out\n",
      "File \u001b[0;32m~/.conda/envs/thesis_1/lib/python3.8/site-packages/gpytorch/utils/memoize.py:59\u001b[0m, in \u001b[0;36m_cached.<locals>.g\u001b[0;34m(self, *args, **kwargs)\u001b[0m\n\u001b[1;32m     57\u001b[0m kwargs_pkl \u001b[39m=\u001b[39m pickle\u001b[39m.\u001b[39mdumps(kwargs)\n\u001b[1;32m     58\u001b[0m \u001b[39mif\u001b[39;00m \u001b[39mnot\u001b[39;00m _is_in_cache(\u001b[39mself\u001b[39m, cache_name, \u001b[39m*\u001b[39margs, kwargs_pkl\u001b[39m=\u001b[39mkwargs_pkl):\n\u001b[0;32m---> 59\u001b[0m     \u001b[39mreturn\u001b[39;00m _add_to_cache(\u001b[39mself\u001b[39m, cache_name, method(\u001b[39mself\u001b[39;49m, \u001b[39m*\u001b[39;49margs, \u001b[39m*\u001b[39;49m\u001b[39m*\u001b[39;49mkwargs), \u001b[39m*\u001b[39margs, kwargs_pkl\u001b[39m=\u001b[39mkwargs_pkl)\n\u001b[1;32m     60\u001b[0m \u001b[39mreturn\u001b[39;00m _get_from_cache(\u001b[39mself\u001b[39m, cache_name, \u001b[39m*\u001b[39margs, kwargs_pkl\u001b[39m=\u001b[39mkwargs_pkl)\n",
      "File \u001b[0;32m~/.conda/envs/thesis_1/lib/python3.8/site-packages/gpytorch/lazy/lazy_evaluated_kernel_tensor.py:357\u001b[0m, in \u001b[0;36mLazyEvaluatedKernelTensor.evaluate\u001b[0;34m(self)\u001b[0m\n\u001b[1;32m    355\u001b[0m \u001b[39m@cached\u001b[39m\n\u001b[1;32m    356\u001b[0m \u001b[39mdef\u001b[39;00m \u001b[39mevaluate\u001b[39m(\u001b[39mself\u001b[39m):\n\u001b[0;32m--> 357\u001b[0m     \u001b[39mreturn\u001b[39;00m \u001b[39mself\u001b[39;49m\u001b[39m.\u001b[39;49mevaluate_kernel()\u001b[39m.\u001b[39mevaluate()\n",
      "File \u001b[0;32m~/.conda/envs/thesis_1/lib/python3.8/site-packages/gpytorch/utils/memoize.py:59\u001b[0m, in \u001b[0;36m_cached.<locals>.g\u001b[0;34m(self, *args, **kwargs)\u001b[0m\n\u001b[1;32m     57\u001b[0m kwargs_pkl \u001b[39m=\u001b[39m pickle\u001b[39m.\u001b[39mdumps(kwargs)\n\u001b[1;32m     58\u001b[0m \u001b[39mif\u001b[39;00m \u001b[39mnot\u001b[39;00m _is_in_cache(\u001b[39mself\u001b[39m, cache_name, \u001b[39m*\u001b[39margs, kwargs_pkl\u001b[39m=\u001b[39mkwargs_pkl):\n\u001b[0;32m---> 59\u001b[0m     \u001b[39mreturn\u001b[39;00m _add_to_cache(\u001b[39mself\u001b[39m, cache_name, method(\u001b[39mself\u001b[39;49m, \u001b[39m*\u001b[39;49margs, \u001b[39m*\u001b[39;49m\u001b[39m*\u001b[39;49mkwargs), \u001b[39m*\u001b[39margs, kwargs_pkl\u001b[39m=\u001b[39mkwargs_pkl)\n\u001b[1;32m     60\u001b[0m \u001b[39mreturn\u001b[39;00m _get_from_cache(\u001b[39mself\u001b[39m, cache_name, \u001b[39m*\u001b[39margs, kwargs_pkl\u001b[39m=\u001b[39mkwargs_pkl)\n",
      "File \u001b[0;32m~/.conda/envs/thesis_1/lib/python3.8/site-packages/gpytorch/lazy/lazy_evaluated_kernel_tensor.py:336\u001b[0m, in \u001b[0;36mLazyEvaluatedKernelTensor.evaluate_kernel\u001b[0;34m(self)\u001b[0m\n\u001b[1;32m    334\u001b[0m     temp_active_dims \u001b[39m=\u001b[39m \u001b[39mself\u001b[39m\u001b[39m.\u001b[39mkernel\u001b[39m.\u001b[39mactive_dims\n\u001b[1;32m    335\u001b[0m     \u001b[39mself\u001b[39m\u001b[39m.\u001b[39mkernel\u001b[39m.\u001b[39mactive_dims \u001b[39m=\u001b[39m \u001b[39mNone\u001b[39;00m\n\u001b[0;32m--> 336\u001b[0m     res \u001b[39m=\u001b[39m \u001b[39mself\u001b[39;49m\u001b[39m.\u001b[39;49mkernel(\n\u001b[1;32m    337\u001b[0m         x1,\n\u001b[1;32m    338\u001b[0m         x2,\n\u001b[1;32m    339\u001b[0m         diag\u001b[39m=\u001b[39;49m\u001b[39mFalse\u001b[39;49;00m,\n\u001b[1;32m    340\u001b[0m         last_dim_is_batch\u001b[39m=\u001b[39;49m\u001b[39mself\u001b[39;49m\u001b[39m.\u001b[39;49mlast_dim_is_batch,\n\u001b[1;32m    341\u001b[0m         \u001b[39m*\u001b[39;49m\u001b[39m*\u001b[39;49m\u001b[39mself\u001b[39;49m\u001b[39m.\u001b[39;49mparams,\n\u001b[1;32m    342\u001b[0m     )\n\u001b[1;32m    343\u001b[0m     \u001b[39mself\u001b[39m\u001b[39m.\u001b[39mkernel\u001b[39m.\u001b[39mactive_dims \u001b[39m=\u001b[39m temp_active_dims\n\u001b[1;32m    345\u001b[0m \u001b[39m# Check the size of the output\u001b[39;00m\n",
      "File \u001b[0;32m~/.conda/envs/thesis_1/lib/python3.8/site-packages/beanmachine/ppl/experimental/gp/kernels.py:53\u001b[0m, in \u001b[0;36mKernelMixin.__call__\u001b[0;34m(self, *args, **kwargs)\u001b[0m\n\u001b[1;32m     52\u001b[0m \u001b[39mdef\u001b[39;00m \u001b[39m__call__\u001b[39m(\u001b[39mself\u001b[39m, \u001b[39m*\u001b[39margs, \u001b[39m*\u001b[39m\u001b[39m*\u001b[39mkwargs):\n\u001b[0;32m---> 53\u001b[0m     out \u001b[39m=\u001b[39m \u001b[39msuper\u001b[39;49m()\u001b[39m.\u001b[39;49m\u001b[39m__call__\u001b[39;49m(\u001b[39m*\u001b[39;49margs, \u001b[39m*\u001b[39;49m\u001b[39m*\u001b[39;49mkwargs)\n\u001b[1;32m     54\u001b[0m     \u001b[39mif\u001b[39;00m \u001b[39mself\u001b[39m\u001b[39m.\u001b[39mtraining:\n\u001b[1;32m     55\u001b[0m         \u001b[39mreturn\u001b[39;00m out\u001b[39m.\u001b[39mevaluate()\n",
      "File \u001b[0;32m~/.conda/envs/thesis_1/lib/python3.8/site-packages/gpytorch/kernels/kernel.py:408\u001b[0m, in \u001b[0;36mKernel.__call__\u001b[0;34m(self, x1, x2, diag, last_dim_is_batch, **params)\u001b[0m\n\u001b[1;32m    406\u001b[0m     res \u001b[39m=\u001b[39m LazyEvaluatedKernelTensor(x1_, x2_, kernel\u001b[39m=\u001b[39m\u001b[39mself\u001b[39m, last_dim_is_batch\u001b[39m=\u001b[39mlast_dim_is_batch, \u001b[39m*\u001b[39m\u001b[39m*\u001b[39mparams)\n\u001b[1;32m    407\u001b[0m \u001b[39melse\u001b[39;00m:\n\u001b[0;32m--> 408\u001b[0m     res \u001b[39m=\u001b[39m lazify(\u001b[39msuper\u001b[39;49m(Kernel, \u001b[39mself\u001b[39;49m)\u001b[39m.\u001b[39;49m\u001b[39m__call__\u001b[39;49m(x1_, x2_, last_dim_is_batch\u001b[39m=\u001b[39;49mlast_dim_is_batch, \u001b[39m*\u001b[39;49m\u001b[39m*\u001b[39;49mparams))\n\u001b[1;32m    409\u001b[0m \u001b[39mreturn\u001b[39;00m res\n",
      "File \u001b[0;32m~/.conda/envs/thesis_1/lib/python3.8/site-packages/gpytorch/module.py:30\u001b[0m, in \u001b[0;36mModule.__call__\u001b[0;34m(self, *inputs, **kwargs)\u001b[0m\n\u001b[1;32m     29\u001b[0m \u001b[39mdef\u001b[39;00m \u001b[39m__call__\u001b[39m(\u001b[39mself\u001b[39m, \u001b[39m*\u001b[39minputs, \u001b[39m*\u001b[39m\u001b[39m*\u001b[39mkwargs):\n\u001b[0;32m---> 30\u001b[0m     outputs \u001b[39m=\u001b[39m \u001b[39mself\u001b[39;49m\u001b[39m.\u001b[39;49mforward(\u001b[39m*\u001b[39;49minputs, \u001b[39m*\u001b[39;49m\u001b[39m*\u001b[39;49mkwargs)\n\u001b[1;32m     31\u001b[0m     \u001b[39mif\u001b[39;00m \u001b[39misinstance\u001b[39m(outputs, \u001b[39mlist\u001b[39m):\n\u001b[1;32m     32\u001b[0m         \u001b[39mreturn\u001b[39;00m [_validate_module_outputs(output) \u001b[39mfor\u001b[39;00m output \u001b[39min\u001b[39;00m outputs]\n",
      "File \u001b[0;32m~/.conda/envs/thesis_1/lib/python3.8/site-packages/gpytorch/kernels/scale_kernel.py:109\u001b[0m, in \u001b[0;36mScaleKernel.forward\u001b[0;34m(self, x1, x2, last_dim_is_batch, diag, **params)\u001b[0m\n\u001b[1;32m    108\u001b[0m \u001b[39mdef\u001b[39;00m \u001b[39mforward\u001b[39m(\u001b[39mself\u001b[39m, x1, x2, last_dim_is_batch\u001b[39m=\u001b[39m\u001b[39mFalse\u001b[39;00m, diag\u001b[39m=\u001b[39m\u001b[39mFalse\u001b[39;00m, \u001b[39m*\u001b[39m\u001b[39m*\u001b[39mparams):\n\u001b[0;32m--> 109\u001b[0m     orig_output \u001b[39m=\u001b[39m \u001b[39mself\u001b[39;49m\u001b[39m.\u001b[39;49mbase_kernel\u001b[39m.\u001b[39;49mforward(x1, x2, diag\u001b[39m=\u001b[39;49mdiag, last_dim_is_batch\u001b[39m=\u001b[39;49mlast_dim_is_batch, \u001b[39m*\u001b[39;49m\u001b[39m*\u001b[39;49mparams)\n\u001b[1;32m    110\u001b[0m     outputscales \u001b[39m=\u001b[39m \u001b[39mself\u001b[39m\u001b[39m.\u001b[39moutputscale\n\u001b[1;32m    111\u001b[0m     \u001b[39mif\u001b[39;00m last_dim_is_batch:\n",
      "File \u001b[0;32m~/.conda/envs/thesis_1/lib/python3.8/site-packages/gpytorch/kernels/periodic_kernel.py:142\u001b[0m, in \u001b[0;36mPeriodicKernel.forward\u001b[0;34m(self, x1, x2, diag, **params)\u001b[0m\n\u001b[1;32m    140\u001b[0m     lengthscale \u001b[39m=\u001b[39m lengthscale[\u001b[39m.\u001b[39m\u001b[39m.\u001b[39m\u001b[39m.\u001b[39m, \u001b[39m0\u001b[39m, :, \u001b[39mNone\u001b[39;00m]\n\u001b[1;32m    141\u001b[0m \u001b[39melse\u001b[39;00m:\n\u001b[0;32m--> 142\u001b[0m     lengthscale \u001b[39m=\u001b[39m lengthscale[\u001b[39m.\u001b[39;49m\u001b[39m.\u001b[39;49m\u001b[39m.\u001b[39;49m, \u001b[39m0\u001b[39;49m, :, \u001b[39mNone\u001b[39;49;00m, \u001b[39mNone\u001b[39;49;00m]\n\u001b[1;32m    143\u001b[0m exp_term \u001b[39m=\u001b[39m diff\u001b[39m.\u001b[39msin()\u001b[39m.\u001b[39mpow(\u001b[39m2.0\u001b[39m)\u001b[39m.\u001b[39mdiv(lengthscale)\u001b[39m.\u001b[39mmul(\u001b[39m-\u001b[39m\u001b[39m2.0\u001b[39m)\n\u001b[1;32m    145\u001b[0m \u001b[39mif\u001b[39;00m \u001b[39mnot\u001b[39;00m last_dim_is_batch:\n",
      "\u001b[0;31mIndexError\u001b[0m: too many indices for tensor of dimension 1"
     ]
    }
   ],
   "source": [
    "num_samples = 1 if smoke_test else 100\n",
    "num_adaptive_samples = 0 if smoke_test else num_samples // 2\n",
    "num_chains = 1 if smoke_test else 2\n",
    "\n",
    "# bind the data to the forward call so it can be invoked in the likelihood\n",
    "queries = [mean(), lengthscale(), period_length(), outputscale(), noise()]\n",
    "gp_prior = partial(gp, x_train)\n",
    "obs = {gp.likelihood(gp_prior): y_train}\n",
    "\n",
    "nuts = bm.SingleSiteNoUTurnSampler()\n",
    "samples = nuts.infer(\n",
    "    queries=queries,\n",
    "    observations=obs,\n",
    "    num_samples=num_samples,\n",
    "    num_adaptive_samples=num_adaptive_samples,\n",
    "    num_chains=num_chains,\n",
    ")"
   ]
  },
  {
   "cell_type": "code",
   "execution_count": null,
   "metadata": {},
   "outputs": [],
   "source": []
  }
 ],
 "metadata": {
  "kernelspec": {
   "display_name": "Python 3.8.13 ('thesis_1')",
   "language": "python",
   "name": "python3"
  },
  "language_info": {
   "codemirror_mode": {
    "name": "ipython",
    "version": 3
   },
   "file_extension": ".py",
   "mimetype": "text/x-python",
   "name": "python",
   "nbconvert_exporter": "python",
   "pygments_lexer": "ipython3",
   "version": "3.8.13"
  },
  "orig_nbformat": 4,
  "vscode": {
   "interpreter": {
    "hash": "e1921acccfe175a031f956812f49ed202da97ee5650a950b532b497e62748c11"
   }
  }
 },
 "nbformat": 4,
 "nbformat_minor": 2
}
