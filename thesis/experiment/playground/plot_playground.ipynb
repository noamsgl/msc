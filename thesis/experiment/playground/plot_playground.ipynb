{
 "cells": [
  {
   "cell_type": "code",
   "execution_count": 18,
   "metadata": {},
   "outputs": [],
   "source": [
    "import matplotlib.pyplot as plt\n",
    "import matplotlib.pyplot as plt\n",
    "from matplotlib.gridspec import GridSpec\n",
    "import numpy as np\n",
    "import pandas as pd\n",
    "from tqdm import tqdm\n",
    "\n",
    "from sklearn.calibration import CalibratedClassifierCV, CalibrationDisplay\n",
    "from sklearn.metrics import PrecisionRecallDisplay, RocCurveDisplay, brier_score_loss, roc_auc_score, average_precision_score\n",
    "from sklearn.utils.estimator_checks import check_estimator\n",
    "\n",
    "from msc import config\n",
    "from msc.cache_handler import get_samples_df\n",
    "from msc.estimators import BSLE\n",
    "from msc.plot_utils import set_size\n",
    "from msc.time_utils import SEC, MIN, HOUR\n"
   ]
  },
  {
   "cell_type": "code",
   "execution_count": 6,
   "metadata": {},
   "outputs": [],
   "source": [
    "dataset_id = str(config[\"dataset_id\"])\n",
    "t_max = config[\"t_max\"]\n",
    "\n",
    "# load samples_df\n",
    "samples_df = get_samples_df(dataset_id, with_events=True, with_time_to_event=True)"
   ]
  },
  {
   "cell_type": "code",
   "execution_count": null,
   "metadata": {},
   "outputs": [],
   "source": [
    "horizons = [0, 5 * MIN, 10 * MIN, 15 * MIN, 20 * MIN, 25 * MIN, 30 * MIN, 35 * MIN, 40 * MIN, 45 * MIN, 50 * MIN, 55 * MIN, 60 * MIN]"
   ]
  },
  {
   "cell_type": "code",
   "execution_count": 7,
   "metadata": {},
   "outputs": [],
   "source": [
    "for horizon in horizons:\n",
    "    # add class\n",
    "    samples_df[\"class\"] = samples_df[\"time_to_event\"].apply(\n",
    "        lambda x: 1 if x <= horizon else 0\n",
    "    )\n",
    "\n",
    "    # add is_event\n",
    "    samples_df[\"is_event\"] = samples_df[\"time_to_event\"].apply(\n",
    "        lambda x: True if x == 0 else False\n",
    "    )\n",
    "\n",
    "    # split train/test\n",
    "    samples_df[\"set\"] = samples_df[\"time\"].apply(\n",
    "        lambda t: \"train\" if t < t_max else \"test\"\n",
    "    )\n",
    "\n",
    "    # get training event times\n",
    "    train_events = samples_df.loc[\n",
    "        (samples_df[\"is_event\"]) & (samples_df[\"set\"] == \"train\"), \"time\"\n",
    "    ].to_numpy()\n",
    "    # train_events = samples_df.loc[(samples_df['is_event']), 'time']\n",
    "\n",
    "    # get embeddings\n",
    "    train_X = np.stack(samples_df.loc[samples_df[\"set\"] == \"train\", \"embedding\"])  # type: ignore\n",
    "    test_X = np.stack(samples_df.loc[samples_df[\"set\"] == \"test\", \"embedding\"])  # type: ignore\n",
    "    test_y = samples_df.loc[samples_df[\"set\"] == \"test\", \"class\"].to_numpy()\n",
    "    test_times = samples_df.loc[samples_df[\"set\"] == \"test\", \"time\"].to_numpy()\n",
    "\n",
    "    # \n"
   ]
  },
  {
   "cell_type": "code",
   "execution_count": 16,
   "metadata": {},
   "outputs": [
    {
     "data": {
      "text/plain": [
       "Text(0.5, 1.0, 'supervised')"
      ]
     },
     "execution_count": 16,
     "metadata": {},
     "output_type": "execute_result"
    },
    {
     "data": {
      "image/png": "[encoded data removed]",
      "text/plain": [
       "<Figure size 432x288 with 2 Axes>"
      ]
     },
     "metadata": {
      "needs_background": "light"
     },
     "output_type": "display_data"
    }
   ],
   "source": [
    "data =[[1, 5, 9], [2, 6, 10], [3, 7, 11]]\n",
    "fig, axes = plt.subplots(1,2)\n",
    "im = axes[0].imshow(data)\n",
    "axes[0].set_title('unsupervised')\n",
    "axes[1].imshow(data)\n",
    "axes[1].set_title('supervised')"
   ]
  },
  {
   "cell_type": "code",
   "execution_count": 20,
   "metadata": {},
   "outputs": [
    {
     "data": {
      "text/plain": [
       "array([ 0,  5, 10, 15, 20, 25, 30, 35, 40, 45, 50, 55, 60])"
      ]
     },
     "execution_count": 20,
     "metadata": {},
     "output_type": "execute_result"
    }
   ],
   "source": [
    "np.arange(0, 65, 5) * SEC"
   ]
  }
 ],
 "metadata": {
  "kernelspec": {
   "display_name": "Python 3.8.13 ('msc')",
   "language": "python",
   "name": "python3"
  },
  "language_info": {
   "codemirror_mode": {
    "name": "ipython",
    "version": 3
   },
   "file_extension": ".py",
   "mimetype": "text/x-python",
   "name": "python",
   "nbconvert_exporter": "python",
   "pygments_lexer": "ipython3",
   "version": "3.8.13"
  },
  "orig_nbformat": 4,
  "vscode": {
   "interpreter": {
    "hash": "e4e37b677af03028ccd22838cd797966b771d308422a72e1f0ca197245719945"
   }
  }
 },
 "nbformat": 4,
 "nbformat_minor": 2
}
