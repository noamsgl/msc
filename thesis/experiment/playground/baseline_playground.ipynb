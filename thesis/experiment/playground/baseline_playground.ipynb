{
 "cells": [
  {
   "cell_type": "code",
   "execution_count": 10,
   "metadata": {},
   "outputs": [
    {
     "name": "stdout",
     "output_type": "stream",
     "text": [
      "The autoreload extension is already loaded. To reload it, use:\n",
      "  %reload_ext autoreload\n"
     ]
    }
   ],
   "source": [
    "import matplotlib.pyplot as plt\n",
    "from matplotlib.colors import SymLogNorm\n",
    "from matplotlib.ticker import SymmetricalLogLocator\n",
    "from matplotlib.gridspec import GridSpec\n",
    "import numpy as np\n",
    "import pandas as pd\n",
    "from tqdm import tqdm\n",
    "\n",
    "from sklearn.calibration import CalibratedClassifierCV, CalibrationDisplay\n",
    "from sklearn.metrics import PrecisionRecallDisplay, RocCurveDisplay, brier_score_loss, roc_auc_score, average_precision_score\n",
    "from sklearn.utils.estimator_checks import check_estimator\n",
    "from sklearn import mixture\n",
    "from sklearn.decomposition import PCA\n",
    "import scipy\n",
    "\n",
    "import zarr\n",
    "from msc import config\n",
    "from msc.cache_handler import get_samples_df\n",
    "from msc.estimators import BSLE\n",
    "from msc.plot_utils import set_size\n",
    "from msc.time_utils import SEC, MIN, HOUR\n",
    "\n",
    "%load_ext autoreload\n",
    "%autoreload 2\n"
   ]
  },
  {
   "cell_type": "code",
   "execution_count": 21,
   "metadata": {},
   "outputs": [],
   "source": [
    "dataset_id = str(config[\"dataset_id\"])\n",
    "t_max = config[\"t_max\"]\n",
    "\n",
    "# load samples_df\n",
    "samples_df = get_samples_df(dataset_id, with_events=False, with_time_to_event=False)"
   ]
  },
  {
   "cell_type": "code",
   "execution_count": 22,
   "metadata": {},
   "outputs": [
    {
     "data": {
      "text/html": [
       "<div>\n",
       "<style scoped>\n",
       "    .dataframe tbody tr th:only-of-type {\n",
       "        vertical-align: middle;\n",
       "    }\n",
       "\n",
       "    .dataframe tbody tr th {\n",
       "        vertical-align: top;\n",
       "    }\n",
       "\n",
       "    .dataframe thead th {\n",
       "        text-align: right;\n",
       "    }\n",
       "</style>\n",
       "<table border=\"1\" class=\"dataframe\">\n",
       "  <thead>\n",
       "    <tr style=\"text-align: right;\">\n",
       "      <th></th>\n",
       "      <th>time</th>\n",
       "      <th>wall_time</th>\n",
       "      <th>embedding</th>\n",
       "    </tr>\n",
       "  </thead>\n",
       "  <tbody>\n",
       "    <tr>\n",
       "      <th>0</th>\n",
       "      <td>39895</td>\n",
       "      <td>2009-07-31 07:16:13+00:00</td>\n",
       "      <td>[-5.689304351806641, -7.22075080871582, -6.957...</td>\n",
       "    </tr>\n",
       "    <tr>\n",
       "      <th>1</th>\n",
       "      <td>86140</td>\n",
       "      <td>2009-07-31 20:06:58+00:00</td>\n",
       "      <td>[-4.927209854125977, -6.219898700714111, -5.21...</td>\n",
       "    </tr>\n",
       "    <tr>\n",
       "      <th>2</th>\n",
       "      <td>86295</td>\n",
       "      <td>2009-07-31 20:09:33+00:00</td>\n",
       "      <td>[-4.493586540222168, -5.52287483215332, -4.884...</td>\n",
       "    </tr>\n",
       "    <tr>\n",
       "      <th>3</th>\n",
       "      <td>92370</td>\n",
       "      <td>2009-07-31 21:50:48+00:00</td>\n",
       "      <td>[-5.097203254699707, -6.791516780853272, -6.43...</td>\n",
       "    </tr>\n",
       "    <tr>\n",
       "      <th>4</th>\n",
       "      <td>93827</td>\n",
       "      <td>2009-07-31 22:15:05+00:00</td>\n",
       "      <td>[-4.491633415222168, -5.654514312744141, -4.93...</td>\n",
       "    </tr>\n",
       "    <tr>\n",
       "      <th>...</th>\n",
       "      <td>...</td>\n",
       "      <td>...</td>\n",
       "      <td>...</td>\n",
       "    </tr>\n",
       "    <tr>\n",
       "      <th>9621</th>\n",
       "      <td>36907282</td>\n",
       "      <td>2010-10-01 00:12:40+00:00</td>\n",
       "      <td>[-6.267091274261475, -6.86131477355957, -6.212...</td>\n",
       "    </tr>\n",
       "    <tr>\n",
       "      <th>9622</th>\n",
       "      <td>36919269</td>\n",
       "      <td>2010-10-01 03:32:27+00:00</td>\n",
       "      <td>[-6.357523918151856, -6.718264102935791, -5.99...</td>\n",
       "    </tr>\n",
       "    <tr>\n",
       "      <th>9623</th>\n",
       "      <td>36921785</td>\n",
       "      <td>2010-10-01 04:14:23+00:00</td>\n",
       "      <td>[-5.827604293823242, -5.952446937561035, -5.38...</td>\n",
       "    </tr>\n",
       "    <tr>\n",
       "      <th>9624</th>\n",
       "      <td>36921825</td>\n",
       "      <td>2010-10-01 04:15:03+00:00</td>\n",
       "      <td>[-4.460057735443115, -3.253157138824463, -4.48...</td>\n",
       "    </tr>\n",
       "    <tr>\n",
       "      <th>9625</th>\n",
       "      <td>36925192</td>\n",
       "      <td>2010-10-01 05:11:10+00:00</td>\n",
       "      <td>[-3.6490771770477295, -2.9384419918060303, -4....</td>\n",
       "    </tr>\n",
       "  </tbody>\n",
       "</table>\n",
       "<p>9626 rows × 3 columns</p>\n",
       "</div>"
      ],
      "text/plain": [
       "          time                 wall_time  \\\n",
       "0        39895 2009-07-31 07:16:13+00:00   \n",
       "1        86140 2009-07-31 20:06:58+00:00   \n",
       "2        86295 2009-07-31 20:09:33+00:00   \n",
       "3        92370 2009-07-31 21:50:48+00:00   \n",
       "4        93827 2009-07-31 22:15:05+00:00   \n",
       "...        ...                       ...   \n",
       "9621  36907282 2010-10-01 00:12:40+00:00   \n",
       "9622  36919269 2010-10-01 03:32:27+00:00   \n",
       "9623  36921785 2010-10-01 04:14:23+00:00   \n",
       "9624  36921825 2010-10-01 04:15:03+00:00   \n",
       "9625  36925192 2010-10-01 05:11:10+00:00   \n",
       "\n",
       "                                              embedding  \n",
       "0     [-5.689304351806641, -7.22075080871582, -6.957...  \n",
       "1     [-4.927209854125977, -6.219898700714111, -5.21...  \n",
       "2     [-4.493586540222168, -5.52287483215332, -4.884...  \n",
       "3     [-5.097203254699707, -6.791516780853272, -6.43...  \n",
       "4     [-4.491633415222168, -5.654514312744141, -4.93...  \n",
       "...                                                 ...  \n",
       "9621  [-6.267091274261475, -6.86131477355957, -6.212...  \n",
       "9622  [-6.357523918151856, -6.718264102935791, -5.99...  \n",
       "9623  [-5.827604293823242, -5.952446937561035, -5.38...  \n",
       "9624  [-4.460057735443115, -3.253157138824463, -4.48...  \n",
       "9625  [-3.6490771770477295, -2.9384419918060303, -4....  \n",
       "\n",
       "[9626 rows x 3 columns]"
      ]
     },
     "execution_count": 22,
     "metadata": {},
     "output_type": "execute_result"
    }
   ],
   "source": [
    "samples_df"
   ]
  },
  {
   "cell_type": "code",
   "execution_count": 23,
   "metadata": {},
   "outputs": [
    {
     "data": {
      "text/plain": [
       "(274,)"
      ]
     },
     "execution_count": 23,
     "metadata": {},
     "output_type": "execute_result"
    }
   ],
   "source": [
    "samples_df.loc[0, 'embedding'].shape"
   ]
  },
  {
   "cell_type": "code",
   "execution_count": 11,
   "metadata": {},
   "outputs": [],
   "source": [
    "cache_path = f\"{config['path']['data']}/cache.zarr\"\n",
    "cache_zarr = zarr.open(cache_path, \"r\")\n"
   ]
  },
  {
   "cell_type": "code",
   "execution_count": 12,
   "metadata": {},
   "outputs": [],
   "source": [
    "ds_zarr = cache_zarr[f\"{dataset_id}\"]\n"
   ]
  },
  {
   "cell_type": "code",
   "execution_count": 20,
   "metadata": {},
   "outputs": [
    {
     "data": {
      "text/plain": [
       "<zarr.core.Array '/I004_A0003_D001/39895/embedding' (277,) float64 read-only>"
      ]
     },
     "execution_count": 20,
     "metadata": {},
     "output_type": "execute_result"
    }
   ],
   "source": [
    "ds_zarr['39895']['embedding']"
   ]
  }
 ],
 "metadata": {
  "kernelspec": {
   "display_name": "Python 3.8.13 ('msc')",
   "language": "python",
   "name": "python3"
  },
  "language_info": {
   "codemirror_mode": {
    "name": "ipython",
    "version": 3
   },
   "file_extension": ".py",
   "mimetype": "text/x-python",
   "name": "python",
   "nbconvert_exporter": "python",
   "pygments_lexer": "ipython3",
   "version": "3.8.13"
  },
  "orig_nbformat": 4,
  "vscode": {
   "interpreter": {
    "hash": "e4e37b677af03028ccd22838cd797966b771d308422a72e1f0ca197245719945"
   }
  }
 },
 "nbformat": 4,
 "nbformat_minor": 2
}
