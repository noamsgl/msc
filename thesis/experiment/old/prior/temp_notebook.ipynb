{
 "cells": [
  {
   "cell_type": "code",
   "execution_count": 1,
   "metadata": {
    "collapsed": true,
    "pycharm": {
     "name": "#%%\n"
    }
   },
   "outputs": [],
   "source": []
  },
  {
   "cell_type": "code",
   "execution_count": 2,
   "metadata": {
    "pycharm": {
     "name": "#%%\n"
    }
   },
   "outputs": [
    {
     "name": "stdout",
     "output_type": "stream",
     "text": [
      "Collecting notebook-as-pdf\n",
      "  Downloading notebook_as_pdf-0.5.0-py3-none-any.whl (6.5 kB)\n",
      "Collecting PyPDF2\n",
      "  Downloading PyPDF2-1.26.0.tar.gz (77 kB)\n",
      "Collecting pyppeteer\n",
      "  Downloading pyppeteer-1.0.2-py3-none-any.whl (83 kB)\n",
      "Requirement already satisfied: nbconvert in c:\\users\\noam\\.virtualenvs\\msc-wsmvxssb\\lib\\site-packages (from notebook-as-pdf) (6.4.1)\n",
      "Requirement already satisfied: jinja2>=2.4 in c:\\users\\noam\\.virtualenvs\\msc-wsmvxssb\\lib\\site-packages (from nbconvert->notebook-as-pdf) (3.0.3)\n",
      "Requirement already satisfied: testpath in c:\\users\\noam\\.virtualenvs\\msc-wsmvxssb\\lib\\site-packages (from nbconvert->notebook-as-pdf) (0.5.0)\n",
      "Requirement already satisfied: nbclient<0.6.0,>=0.5.0 in c:\\users\\noam\\.virtualenvs\\msc-wsmvxssb\\lib\\site-packages (from nbconvert->notebook-as-pdf) (0.5.10)\n",
      "Requirement already satisfied: pandocfilters>=1.4.1 in c:\\users\\noam\\.virtualenvs\\msc-wsmvxssb\\lib\\site-packages (from nbconvert->notebook-as-pdf) (1.5.0)\n",
      "Requirement already satisfied: jupyterlab-pygments in c:\\users\\noam\\.virtualenvs\\msc-wsmvxssb\\lib\\site-packages (from nbconvert->notebook-as-pdf) (0.1.2)\n",
      "Requirement already satisfied: pygments>=2.4.1 in c:\\users\\noam\\.virtualenvs\\msc-wsmvxssb\\lib\\site-packages (from nbconvert->notebook-as-pdf) (2.11.2)\n",
      "Requirement already satisfied: nbformat>=4.4 in c:\\users\\noam\\.virtualenvs\\msc-wsmvxssb\\lib\\site-packages (from nbconvert->notebook-as-pdf) (5.1.3)\n",
      "Requirement already satisfied: mistune<2,>=0.8.1 in c:\\users\\noam\\.virtualenvs\\msc-wsmvxssb\\lib\\site-packages (from nbconvert->notebook-as-pdf) (0.8.4)\n",
      "Requirement already satisfied: entrypoints>=0.2.2 in c:\\users\\noam\\.virtualenvs\\msc-wsmvxssb\\lib\\site-packages (from nbconvert->notebook-as-pdf) (0.3)\n",
      "Requirement already satisfied: bleach in c:\\users\\noam\\.virtualenvs\\msc-wsmvxssb\\lib\\site-packages (from nbconvert->notebook-as-pdf) (4.1.0)\n",
      "Requirement already satisfied: defusedxml in c:\\users\\noam\\.virtualenvs\\msc-wsmvxssb\\lib\\site-packages (from nbconvert->notebook-as-pdf) (0.7.1)\n",
      "Requirement already satisfied: jupyter-core in c:\\users\\noam\\.virtualenvs\\msc-wsmvxssb\\lib\\site-packages (from nbconvert->notebook-as-pdf) (4.9.1)\n",
      "Requirement already satisfied: traitlets>=5.0 in c:\\users\\noam\\.virtualenvs\\msc-wsmvxssb\\lib\\site-packages (from nbconvert->notebook-as-pdf) (5.1.1)\n",
      "Requirement already satisfied: MarkupSafe>=2.0 in c:\\users\\noam\\.virtualenvs\\msc-wsmvxssb\\lib\\site-packages (from jinja2>=2.4->nbconvert->notebook-as-pdf) (2.0.1)\n",
      "Requirement already satisfied: jupyter-client>=6.1.5 in c:\\users\\noam\\.virtualenvs\\msc-wsmvxssb\\lib\\site-packages (from nbclient<0.6.0,>=0.5.0->nbconvert->notebook-as-pdf) (7.1.2)\n",
      "Requirement already satisfied: nest-asyncio in c:\\users\\noam\\.virtualenvs\\msc-wsmvxssb\\lib\\site-packages (from nbclient<0.6.0,>=0.5.0->nbconvert->notebook-as-pdf) (1.5.4)\n",
      "Requirement already satisfied: tornado>=4.1 in c:\\users\\noam\\.virtualenvs\\msc-wsmvxssb\\lib\\site-packages (from jupyter-client>=6.1.5->nbclient<0.6.0,>=0.5.0->nbconvert->notebook-as-pdf) (6.1)\n",
      "Requirement already satisfied: pyzmq>=13 in c:\\users\\noam\\.virtualenvs\\msc-wsmvxssb\\lib\\site-packages (from jupyter-client>=6.1.5->nbclient<0.6.0,>=0.5.0->nbconvert->notebook-as-pdf) (22.3.0)\n",
      "Requirement already satisfied: python-dateutil>=2.1 in c:\\users\\noam\\.virtualenvs\\msc-wsmvxssb\\lib\\site-packages (from jupyter-client>=6.1.5->nbclient<0.6.0,>=0.5.0->nbconvert->notebook-as-pdf) (2.8.2)\n",
      "Requirement already satisfied: pywin32>=1.0 in c:\\users\\noam\\.virtualenvs\\msc-wsmvxssb\\lib\\site-packages (from jupyter-core->nbconvert->notebook-as-pdf) (303)\n",
      "Requirement already satisfied: ipython-genutils in c:\\users\\noam\\.virtualenvs\\msc-wsmvxssb\\lib\\site-packages (from nbformat>=4.4->nbconvert->notebook-as-pdf) (0.2.0)\n",
      "Requirement already satisfied: jsonschema!=2.5.0,>=2.4 in c:\\users\\noam\\.virtualenvs\\msc-wsmvxssb\\lib\\site-packages (from nbformat>=4.4->nbconvert->notebook-as-pdf) (4.4.0)\n",
      "Requirement already satisfied: attrs>=17.4.0 in c:\\users\\noam\\.virtualenvs\\msc-wsmvxssb\\lib\\site-packages (from jsonschema!=2.5.0,>=2.4->nbformat>=4.4->nbconvert->notebook-as-pdf) (21.4.0)\n",
      "Requirement already satisfied: pyrsistent!=0.17.0,!=0.17.1,!=0.17.2,>=0.14.0 in c:\\users\\noam\\.virtualenvs\\msc-wsmvxssb\\lib\\site-packages (from jsonschema!=2.5.0,>=2.4->nbformat>=4.4->nbconvert->notebook-as-pdf) (0.18.1)\n",
      "Requirement already satisfied: importlib-resources>=1.4.0 in c:\\users\\noam\\.virtualenvs\\msc-wsmvxssb\\lib\\site-packages (from jsonschema!=2.5.0,>=2.4->nbformat>=4.4->nbconvert->notebook-as-pdf) (5.4.0)\n",
      "Requirement already satisfied: zipp>=3.1.0 in c:\\users\\noam\\.virtualenvs\\msc-wsmvxssb\\lib\\site-packages (from importlib-resources>=1.4.0->jsonschema!=2.5.0,>=2.4->nbformat>=4.4->nbconvert->notebook-as-pdf) (3.7.0)\n",
      "Requirement already satisfied: six>=1.5 in c:\\users\\noam\\.virtualenvs\\msc-wsmvxssb\\lib\\site-packages (from python-dateutil>=2.1->jupyter-client>=6.1.5->nbclient<0.6.0,>=0.5.0->nbconvert->notebook-as-pdf) (1.16.0)\n",
      "Requirement already satisfied: packaging in c:\\users\\noam\\.virtualenvs\\msc-wsmvxssb\\lib\\site-packages (from bleach->nbconvert->notebook-as-pdf) (21.3)\n",
      "Requirement already satisfied: webencodings in c:\\users\\noam\\.virtualenvs\\msc-wsmvxssb\\lib\\site-packages (from bleach->nbconvert->notebook-as-pdf) (0.5.1)\n",
      "Requirement already satisfied: pyparsing!=3.0.5,>=2.0.2 in c:\\users\\noam\\.virtualenvs\\msc-wsmvxssb\\lib\\site-packages (from packaging->bleach->nbconvert->notebook-as-pdf) (3.0.7)\n",
      "Collecting websockets<11.0,>=10.0\n",
      "  Downloading websockets-10.2-cp38-cp38-win_amd64.whl (97 kB)\n",
      "Requirement already satisfied: tqdm<5.0.0,>=4.42.1 in c:\\users\\noam\\.virtualenvs\\msc-wsmvxssb\\lib\\site-packages (from pyppeteer->notebook-as-pdf) (4.62.3)\n",
      "Requirement already satisfied: urllib3<2.0.0,>=1.25.8 in c:\\users\\noam\\.virtualenvs\\msc-wsmvxssb\\lib\\site-packages (from pyppeteer->notebook-as-pdf) (1.26.8)\n",
      "Requirement already satisfied: importlib-metadata>=1.4 in c:\\users\\noam\\.virtualenvs\\msc-wsmvxssb\\lib\\site-packages (from pyppeteer->notebook-as-pdf) (4.10.1)\n",
      "Requirement already satisfied: certifi>=2021 in c:\\users\\noam\\.virtualenvs\\msc-wsmvxssb\\lib\\site-packages (from pyppeteer->notebook-as-pdf) (2021.10.8)\n",
      "Collecting appdirs<2.0.0,>=1.4.3\n",
      "  Downloading appdirs-1.4.4-py2.py3-none-any.whl (9.6 kB)\n",
      "Collecting pyee<9.0.0,>=8.1.0\n",
      "  Downloading pyee-8.2.2-py2.py3-none-any.whl (12 kB)\n",
      "Requirement already satisfied: colorama in c:\\users\\noam\\.virtualenvs\\msc-wsmvxssb\\lib\\site-packages (from tqdm<5.0.0,>=4.42.1->pyppeteer->notebook-as-pdf) (0.4.4)\n",
      "Building wheels for collected packages: PyPDF2\n",
      "  Building wheel for PyPDF2 (setup.py): started\n",
      "  Building wheel for PyPDF2 (setup.py): finished with status 'done'\n",
      "  Created wheel for PyPDF2: filename=PyPDF2-1.26.0-py3-none-any.whl size=61102 sha256=c3855cd3e470ed1a48ef0650d34761da68c564c4ca6eb0b8f2eb167f494bacec\n",
      "  Stored in directory: c:\\users\\noam\\appdata\\local\\pip\\cache\\wheels\\b1\\1a\\8f\\a4c34be976825a2f7948d0fa40907598d69834f8ab5889de11\n",
      "Successfully built PyPDF2\n",
      "Installing collected packages: websockets, pyee, appdirs, pyppeteer, PyPDF2, notebook-as-pdf\n",
      "Successfully installed PyPDF2-1.26.0 appdirs-1.4.4 notebook-as-pdf-0.5.0 pyee-8.2.2 pyppeteer-1.0.2 websockets-10.2\n"
     ]
    },
    {
     "name": "stderr",
     "output_type": "stream",
     "text": [
      "WARNING: You are using pip version 21.2.4; however, version 22.0.4 is available.\n",
      "You should consider upgrading via the 'C:\\Users\\noam\\.virtualenvs\\msc-WSmVxSSb\\Scripts\\python.exe -m pip install --upgrade pip' command.\n"
     ]
    }
   ],
   "source": []
  },
  {
   "cell_type": "code",
   "execution_count": 4,
   "metadata": {
    "pycharm": {
     "name": "#%%\n"
    }
   },
   "outputs": [
    {
     "name": "stderr",
     "output_type": "stream",
     "text": [
      "chromium is already installed.\n"
     ]
    }
   ],
   "source": []
  }
 ],
 "metadata": {
  "kernelspec": {
   "display_name": "Python 3 (ipykernel)",
   "language": "python",
   "name": "python3"
  },
  "language_info": {
   "codemirror_mode": {
    "name": "ipython",
    "version": 3
   },
   "file_extension": ".py",
   "mimetype": "text/x-python",
   "name": "python",
   "nbconvert_exporter": "python",
   "pygments_lexer": "ipython3",
   "version": "3.8.10"
  }
 },
 "nbformat": 4,
 "nbformat_minor": 1
}