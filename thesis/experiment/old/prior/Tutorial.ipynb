{
 "cells": [
  {
   "cell_type": "markdown",
   "metadata": {
    "pycharm": {
     "name": "#%% md\n"
    }
   },
   "source": [
    "# Tutorial"
   ]
  },
  {
   "cell_type": "markdown",
   "metadata": {
    "pycharm": {
     "name": "#%% md\n"
    }
   },
   "source": [
    "This tutorial implements three statistical inference methods in **\"Efficient Inference for Nonparametric Hawkes Processes Using Auxiliary Latent Variables\"**.\n",
    "\n",
    "In the paper, we present an efficient Gibbs sampler, an EM algorithm and a mean-field variational inference algorithm with analytical expressions by using latent variable augmentation techniques. Please refer to the paper for more details. \n",
    "\n",
    "**Update:**\n",
    "\n",
    "We provide a more elegant mean-field variational inference in the module `conjugate_np_hawkes_new` where the update of probabilistic branching matrix has a closed-form solution. \n",
    "\n",
    "In the original mean-field variational inference, we first integrate out the P\\'{o}lya-Gamma random variable $\\mathbf{\\omega}$ and then take expectation of the logarithm of the joint distribution (without $\\mathbf{\\omega}$) to compute the optimal density for branching matrix. This results in $\\tilde{\\mu}(t_i)=\\tilde{\\lambda}_\\mu^*e^{\\mathbb{E}(\\log\\sigma(f(t_i)))}$, $\\tilde{\\phi}(\\tau_{ij})=\\tilde{\\lambda}_\\phi^*e^{\\mathbb{E}(\\log\\sigma(g(\\tau_{ij})))}$ where $\\mathbb{E}(\\log\\sigma(\\cdot))$ has no closed-form solution and we have to resort to numerical methods. On the contrary, in the revised mean-field variational inference, we directly take expectation of the logarithm of the joint distribution (with $\\mathbf{\\omega}$) to compute the optimal density for branching matrix. After integrating out $\\mathbf{\\omega}$, we obtain\n",
    "$$q(\\mathbf{X})\\propto\\prod_{i=1}^N\\left(\\tilde{\\lambda}_{\\mu}^*\\sigma(\\tilde{f}(t_i))e^{(\\bar{f}(t_i)-\\tilde{f}(t_i))/2}\\right)^{x_{ii}}\\prod_{i=2}^N\\prod_{j=1}^{i-1}\\left(\\tilde{\\lambda}_{\\phi}^*\\sigma(\\tilde{g}(\\tau_{ij}))e^{(\\bar{g}(\\tau_{ij})-\\tilde{g}(\\tau_{ij}))/2}\\right)^{x_{ij}},$$\n",
    "which is a categorical distribution with\n",
    "$$q(x_{ii}=1)=\\frac{\\tilde{\\mu}(t_i)}{\\tilde{\\mu}(t_i)+\\sum_{j=1}^{i-1}\\tilde{\\phi}(\\tau_{ij})}\\\\\n",
    "q(x_{ij}=1)=\\frac{\\tilde{\\phi}(\\tau_{ij})}{\\tilde{\\mu}(t_i)+\\sum_{j=1}^{i-1}\\tilde{\\phi}(\\tau_{ij})}$$\n",
    "where $\\tilde{\\mu}(t_i)=\\tilde{\\lambda}_{\\mu}^*\\sigma(\\tilde{f}(t_i))e^{(\\bar{f}(t_i)-\\tilde{f}(t_i))/2}$ and $\\tilde{\\phi}(\\tau_{ij})=\\tilde{\\lambda}_{\\phi}^*\\sigma(\\tilde{g}(\\tau_{ij}))e^{(\\bar{g}(\\tau_{ij})-\\tilde{g}(\\tau_{ij}))/2}$. "
   ]
  },
  {
   "cell_type": "markdown",
   "metadata": {
    "pycharm": {
     "name": "#%% md\n"
    }
   },
   "source": [
    "## Synthetic Data"
   ]
  },
  {
   "cell_type": "markdown",
   "metadata": {
    "pycharm": {
     "name": "#%% md\n"
    }
   },
   "source": [
    "From the `conjugate_np_hawkes_new` module, we import the `CNPHawkes` class. "
   ]
  },
  {
   "cell_type": "code",
   "execution_count": 61,
   "metadata": {
    "pycharm": {
     "name": "#%%\n"
    }
   },
   "outputs": [
    {
     "name": "stdout",
     "output_type": "stream",
     "text": [
      "The autoreload extension is already loaded. To reload it, use:\n",
      "  %reload_ext autoreload\n"
     ]
    }
   ],
   "source": [
    "import datetime\n",
    "from typing import List\n",
    "\n",
    "import numpy as np\n",
    "import pandas as pd\n",
    "import seaborn as sns # for plot\n",
    "\n",
    "sns.set()\n",
    "\n",
    "sns.set_style(\"whitegrid\", {'axes.grid' : False}) # set seaborn style\n",
    "import matplotlib.pyplot as plt # for plot\n",
    "from scipy.stats import gamma\n",
    "from scipy.stats import multivariate_normal\n",
    "from scipy.special import expit\n",
    "\n",
    "from msc.canine_db_utils import get_onsets, get_record_start\n",
    "from msc.conjugate_np_hawkes_new import CNPHawkes\n",
    "\n",
    "%load_ext autoreload\n",
    "%autoreload 2"
   ]
  },
  {
   "cell_type": "markdown",
   "metadata": {
    "pycharm": {
     "name": "#%% md\n"
    }
   },
   "source": [
    "Let us load the training and test data. Here we take Case 3 in the paper for an example. "
   ]
  },
  {
   "cell_type": "code",
   "execution_count": 62,
   "outputs": [],
   "source": [
    "dog_num = 1\n",
    "onset_datetimes: List[datetime.datetime] = get_onsets(dog_num)"
   ],
   "metadata": {
    "collapsed": false,
    "pycharm": {
     "name": "#%%\n"
    }
   }
  },
  {
   "cell_type": "code",
   "execution_count": 63,
   "outputs": [],
   "source": [
    "record_start = get_record_start(dog_num)\n",
    "data = [(onset - record_start).total_seconds() for onset in onset_datetimes]\n",
    "data = [100*p/(data[-1] + 1e-2) for p in data]"
   ],
   "metadata": {
    "collapsed": false,
    "pycharm": {
     "name": "#%%\n"
    }
   }
  },
  {
   "cell_type": "code",
   "execution_count": 64,
   "outputs": [
    {
     "data": {
      "text/plain": "[1.1365967425158867,\n 54.34641127459589,\n 55.11568400282434,\n 55.52956696977924,\n 55.800648660582596,\n 56.06494370537308,\n 94.71220370944368,\n 95.10311451987798,\n 95.20893497772761,\n 95.35596190140238,\n 95.4846520758136,\n 95.51919994552985,\n 95.65398529636484,\n 95.73627017805991,\n 96.98770209313147,\n 97.01021326992598,\n 97.03039393806831,\n 97.0446074797165,\n 97.06430155816217,\n 97.09137131225084,\n 97.1094007416629,\n 97.12850579045289,\n 97.15222063652935,\n 97.17086470556767,\n 97.19603932078526,\n 97.21637364885336,\n 97.2399604450002,\n 97.25133127832898,\n 97.26178015218,\n 97.27809371259171,\n 97.29443288299962,\n 97.30580371632838,\n 97.32787952336737,\n 97.3480601915097,\n 97.36842012954837,\n 97.37771655410974,\n 97.3942093844178,\n 97.41065099475911,\n 97.42386574699225,\n 97.43380242115045,\n 97.45490504877054,\n 97.4722942285602,\n 97.48819802921257,\n 97.50169449130105,\n 97.50960797663299,\n 97.53007035463068,\n 97.54559000551984,\n 97.55378520070714,\n 97.5716353602229,\n 97.58003543527708,\n 97.67543262927185,\n 97.7229135413659,\n 97.77456888104204,\n 97.83183280741973,\n 98.31885789140848,\n 98.38101332490238,\n 98.40457451107866,\n 98.4258564085695,\n 98.44928954481618,\n 98.46685799450215,\n 98.48378619454014,\n 98.5034290530191,\n 98.5168486851447,\n 98.53016587731128,\n 98.56548204657955,\n 98.56986135400295,\n 98.59534328904648,\n 98.61411540801438,\n 98.62968627887027,\n 98.64753643838601,\n 98.66461829834975,\n 98.6785245201976,\n 98.69409539105347,\n 98.71056261136538,\n 98.72577494242859,\n 98.7400909240358,\n 98.75788986358484,\n 98.77369122430373,\n 98.788365745678,\n 98.80619029522317,\n 98.82130018635296,\n 98.83840765628727,\n 98.85323583758729,\n 98.86760303916121,\n 98.88609344829938,\n 98.90714485592716,\n 99.17254113006614,\n 99.48400976715034,\n 99.60540109588143,\n 99.99999974415002]"
     },
     "execution_count": 64,
     "metadata": {},
     "output_type": "execute_result"
    }
   ],
   "source": [
    "data"
   ],
   "metadata": {
    "collapsed": false,
    "pycharm": {
     "name": "#%%\n"
    }
   }
  },
  {
   "cell_type": "code",
   "execution_count": 65,
   "metadata": {
    "pycharm": {
     "name": "#%%\n"
    }
   },
   "outputs": [],
   "source": [
    "points_hawkes = data"
   ]
  },
  {
   "cell_type": "markdown",
   "metadata": {
    "pycharm": {
     "name": "#%% md\n"
    }
   },
   "source": [
    "The training and test data both have observation window $[0,T=100]$ and the support of influence function $T_\\phi=6$. We assume that there are $10$ inducing points on $[0,T]$ uniformly for $\\mu(t)$, and $10$ inducing points on $[0,T_\\phi]$ uniformly for $\\phi(\\tau)$. We initialise an instance of CNPHawkes with these hyperparameters. "
   ]
  },
  {
   "cell_type": "code",
   "execution_count": 66,
   "metadata": {
    "pycharm": {
     "name": "#%%\n"
    }
   },
   "outputs": [],
   "source": [
    "T=100.0\n",
    "T_phi=6.0\n",
    "xi_mu=np.linspace(0,T,10)   # 10 inducing points on [0,T]\n",
    "xi_phi=np.linspace(0,T_phi,10)   # 10 inducing points on [0, T_phi]"
   ]
  },
  {
   "cell_type": "code",
   "execution_count": 67,
   "metadata": {
    "pycharm": {
     "name": "#%%\n"
    }
   },
   "outputs": [],
   "source": [
    "toy_model = CNPHawkes(xi_mu,xi_phi,T_phi)"
   ]
  },
  {
   "cell_type": "markdown",
   "metadata": {
    "pycharm": {
     "name": "#%% md\n"
    }
   },
   "source": [
    "We set the training and test data with their corresponding observation window."
   ]
  },
  {
   "cell_type": "code",
   "execution_count": 68,
   "metadata": {
    "pycharm": {
     "name": "#%%\n"
    }
   },
   "outputs": [],
   "source": [
    "toy_model.set_train_data(points_hawkes,T)"
   ]
  },
  {
   "cell_type": "markdown",
   "metadata": {
    "pycharm": {
     "name": "#%% md\n"
    }
   },
   "source": [
    "## Gibbs Sampler"
   ]
  },
  {
   "cell_type": "markdown",
   "metadata": {
    "pycharm": {
     "name": "#%% md\n"
    }
   },
   "source": [
    "In this section, we implement the Gibbs sampler to sample from the posterior of parameters. Besides, we compute the training and test log-likelihood along iterations to show the convergence. The resulting posterior of baseline intensity $\\mu(t)$ and influence function $\\phi(\\tau)$ are plotted to compare to the ground truth. \n",
    "\n",
    "Let us set the hyperparameters for the kernels of Gaussian processes.  "
   ]
  },
  {
   "cell_type": "code",
   "execution_count": 69,
   "metadata": {
    "pycharm": {
     "name": "#%%\n"
    }
   },
   "outputs": [],
   "source": [
    "theta0_mu=2.7\n",
    "theta1_mu=0.005\n",
    "noise_var_mu=0.0\n",
    "theta0_phi=5.0\n",
    "theta1_phi=5.0\n",
    "noise_var_phi=0.0\n",
    "toy_model.set_kernel_hyperparameters(theta0_mu,theta1_mu,noise_var_mu,theta0_phi,theta1_phi,noise_var_phi)"
   ]
  },
  {
   "cell_type": "markdown",
   "metadata": {
    "pycharm": {
     "name": "#%% md\n"
    }
   },
   "source": [
    "Let us run the Gibbs sampler. `num_pre_mu` and `num_pre_phi` are the number of prediction points on $\\mu(t)$ and $\\phi(\\tau)$ respectively. "
   ]
  },
  {
   "cell_type": "code",
   "execution_count": 70,
   "metadata": {
    "pycharm": {
     "name": "#%%\n"
    }
   },
   "outputs": [
    {
     "name": "stderr",
     "output_type": "stream",
     "text": [
      "100%|██████████| 500/500 [05:30<00:00,  1.51it/s]\n"
     ]
    }
   ],
   "source": [
    "mu_list,phi_list,lamda_mu_list,lamda_phi_list,logl_train_list=\\\n",
    "toy_model.Gibbs(num_pre_mu=1000,num_pre_phi=1000,num_iter=500)"
   ]
  },
  {
   "cell_type": "markdown",
   "metadata": {
    "pycharm": {
     "name": "#%% md\n"
    }
   },
   "source": [
    "Let us show the convergence using log-likelihood along iterations. "
   ]
  },
  {
   "cell_type": "code",
   "execution_count": 71,
   "metadata": {
    "pycharm": {
     "name": "#%%\n"
    }
   },
   "outputs": [
    {
     "data": {
      "text/plain": "<Figure size 252x216 with 1 Axes>",
      "image/png": "[encoded data removed]"
     },
     "metadata": {},
     "output_type": "display_data"
    }
   ],
   "source": [
    "plt.figure(1,figsize=(3.5,3))\n",
    "axs=plt.subplot(111)\n",
    "axs.plot(range(len(logl_train_list)),logl_train_list,label='training')\n",
    "plt.xlabel('Iteration',fontsize=12)\n",
    "plt.ylabel('Loglikelihood',fontsize=12)\n",
    "plt.title('Loglikelihood Curve',fontsize=12)\n",
    "plt.legend(fontsize=12,framealpha =0.3)\n",
    "plt.show()"
   ]
  },
  {
   "cell_type": "markdown",
   "metadata": {
    "pycharm": {
     "name": "#%% md\n"
    }
   },
   "source": [
    "The estimated posterior of baseline intensity $\\mu(t)$ and influence function $\\phi(\\tau)$ with the ground truth. "
   ]
  },
  {
   "cell_type": "code",
   "execution_count": 72,
   "metadata": {
    "pycharm": {
     "name": "#%%\n"
    }
   },
   "outputs": [
    {
     "data": {
      "text/plain": "<Figure size 504x216 with 2 Axes>",
      "image/png": "[encoded data removed]"
     },
     "metadata": {},
     "output_type": "display_data"
    }
   ],
   "source": [
    "plt.figure(1,figsize=(7,3))\n",
    "axs=plt.subplot(121)\n",
    "axs.plot(np.linspace(0,T,len(mu_list[0])),np.average(mu_list[-100:],axis=0),label='Gibbs')\n",
    "axs.fill_between(np.linspace(0,T,len(mu_list[0])),np.average(mu_list[-100:],axis=0)-np.std(mu_list[-100:],axis=0),\\\n",
    "                 np.average(mu_list[-100:],axis=0)+np.std(mu_list[-100:],axis=0),alpha=0.3)\n",
    "# plt.ylim(0,3)\n",
    "plt.xlabel(r'$t$',fontsize=14)\n",
    "plt.title(r'$\\mu(t)$',fontsize=14)\n",
    "plt.legend(fontsize=12)\n",
    "\n",
    "axs=plt.subplot(122)\n",
    "axs.plot(np.linspace(0,T_phi,len(phi_list[0])),np.average(phi_list[-100:],axis=0),label='Gibbs')\n",
    "axs.fill_between(np.linspace(0,T_phi,len(phi_list[0])),np.average(phi_list[-100:],axis=0)-np.std(phi_list[-100:],axis=0),\\\n",
    "                 np.average(phi_list[-100:],axis=0)+np.std(phi_list[-100:],axis=0),alpha=0.3)\n",
    "plt.xlabel(r'$\\tau$',fontsize=14)\n",
    "plt.title(r'$\\phi(\\tau)$',fontsize=14)\n",
    "plt.legend(fontsize=12)\n",
    "plt.show()"
   ]
  },
  {
   "cell_type": "code",
   "execution_count": 72,
   "outputs": [],
   "source": [],
   "metadata": {
    "collapsed": false,
    "pycharm": {
     "name": "#%%\n"
    }
   }
  },
  {
   "cell_type": "markdown",
   "metadata": {
    "pycharm": {
     "name": "#%% md\n"
    }
   },
   "source": [
    "## EM Algorithm"
   ]
  },
  {
   "cell_type": "markdown",
   "metadata": {
    "pycharm": {
     "name": "#%% md\n"
    }
   },
   "source": [
    "In this section, we implement the EM algorithm to evaluate the MAP estimate of parameters. Besides, we compute the training and test log-likelihood along iterations to show the convergence. The resulting baseline intensity $\\mu(t)$ and influence function $\\phi(\\tau)$ are plotted to compare to the ground truth. \n",
    "\n",
    "Let us set the hyperparameters for the kernels of Gaussian processes. "
   ]
  },
  {
   "cell_type": "code",
   "execution_count": 73,
   "metadata": {
    "pycharm": {
     "name": "#%%\n"
    }
   },
   "outputs": [],
   "source": [
    "theta0_mu=2.0\n",
    "theta1_mu=0.002\n",
    "noise_var_mu=0.0\n",
    "theta0_phi=5.0\n",
    "theta1_phi=5.0\n",
    "noise_var_phi=0.0\n",
    "toy_model.set_kernel_hyperparameters(theta0_mu,theta1_mu,noise_var_mu,theta0_phi,theta1_phi,noise_var_phi)"
   ]
  },
  {
   "cell_type": "markdown",
   "metadata": {
    "pycharm": {
     "name": "#%% md\n"
    }
   },
   "source": [
    "Let us run the EM algorithm. `num_gq_mu` and `num_gq_phi` are the number of Gaussian quadrature nodes on $[0,T]$ and $[0,T_\\phi]$ respectively; `num_pre_mu` and `num_pre_phi` are the number of prediction points on $\\mu(t)$ and $\\phi(\\tau)$ respectively. "
   ]
  },
  {
   "cell_type": "code",
   "execution_count": 74,
   "metadata": {
    "pycharm": {
     "name": "#%%\n"
    }
   },
   "outputs": [
    {
     "name": "stderr",
     "output_type": "stream",
     "text": [
      "100%|██████████| 500/500 [00:24<00:00, 20.60it/s]\n"
     ]
    }
   ],
   "source": [
    "mu_list_em,phi_list_em,lamda_mu_list_em,lamda_phi_list_em,logl_train_list_em=\\\n",
    "toy_model.EM(num_gq_mu=100,num_gq_phi=100,num_pre_mu=1000,num_pre_phi=1000,num_iter=500)"
   ]
  },
  {
   "cell_type": "markdown",
   "metadata": {
    "pycharm": {
     "name": "#%% md\n"
    }
   },
   "source": [
    "Let us show the convergence using log-likelihood along iterations. "
   ]
  },
  {
   "cell_type": "code",
   "execution_count": 75,
   "metadata": {
    "pycharm": {
     "name": "#%%\n"
    }
   },
   "outputs": [
    {
     "data": {
      "text/plain": "<Figure size 252x216 with 1 Axes>",
      "image/png": "[encoded data removed]"
     },
     "metadata": {},
     "output_type": "display_data"
    }
   ],
   "source": [
    "plt.figure(1,figsize=(3.5,3))\n",
    "axs=plt.subplot(111)\n",
    "axs.plot(range(len(logl_train_list_em)),logl_train_list_em,label='train')\n",
    "plt.xlabel('Iteration',fontsize=12)\n",
    "plt.ylabel('Loglikelihood',fontsize=12)\n",
    "plt.title('Loglikelihood Curve',fontsize=12)\n",
    "plt.legend(fontsize=12,framealpha =0.3)\n",
    "plt.show()"
   ]
  },
  {
   "cell_type": "markdown",
   "metadata": {
    "pycharm": {
     "name": "#%% md\n"
    }
   },
   "source": [
    "The estimated baseline intensity $\\mu(t)$ and influence function $\\phi(\\tau)$ with the ground truth. "
   ]
  },
  {
   "cell_type": "code",
   "execution_count": 76,
   "metadata": {
    "pycharm": {
     "name": "#%%\n"
    }
   },
   "outputs": [
    {
     "data": {
      "text/plain": "<Figure size 504x216 with 2 Axes>",
      "image/png": "[encoded data removed]"
     },
     "metadata": {},
     "output_type": "display_data"
    }
   ],
   "source": [
    "plt.figure(1,figsize=(7,3))\n",
    "axs=plt.subplot(121)\n",
    "axs.plot(np.linspace(0,T,len(mu_list_em[-1])),mu_list_em[-1],label='EM')\n",
    "# plt.ylim(0,3)\n",
    "plt.xlabel(r'$t$',fontsize=14)\n",
    "plt.title(r'$\\mu(t)$',fontsize=14)\n",
    "plt.legend(fontsize=12)\n",
    "\n",
    "axs=plt.subplot(122)\n",
    "axs.plot(np.linspace(0,T_phi,len(phi_list_em[-1])),phi_list_em[-1],label='EM')\n",
    "plt.xlabel(r'$\\tau$',fontsize=14)\n",
    "plt.title(r'$\\phi(\\tau)$',fontsize=14)\n",
    "plt.legend(fontsize=12)\n",
    "plt.show()"
   ]
  },
  {
   "cell_type": "markdown",
   "metadata": {
    "pycharm": {
     "name": "#%% md\n"
    }
   },
   "source": [
    "## Mean-Field Variational Inference"
   ]
  },
  {
   "cell_type": "markdown",
   "metadata": {
    "pycharm": {
     "name": "#%% md\n"
    }
   },
   "source": [
    "In this section, we implement the mean-field algorithm to evaluate the approximated posterior of parameters. Besides, we compute the training and test log-likelihood (using mean) along iterations to show the convergence. The resulting posterior of baseline intensity $\\mu(t)$ and influence function $\\phi(\\tau)$ are plotted to compare to the ground truth. \n",
    "\n",
    "Let us set the hyperparameters for the kernels of Gaussian processes. "
   ]
  },
  {
   "cell_type": "code",
   "execution_count": 77,
   "metadata": {
    "pycharm": {
     "name": "#%%\n"
    }
   },
   "outputs": [],
   "source": [
    "theta0_mu=2.0\n",
    "theta1_mu=0.002\n",
    "noise_var_mu=0.0\n",
    "theta0_phi=3.0\n",
    "theta1_phi=3.0\n",
    "noise_var_phi=0.0\n",
    "toy_model.set_kernel_hyperparameters(theta0_mu,theta1_mu,noise_var_mu,theta0_phi,theta1_phi,noise_var_phi)"
   ]
  },
  {
   "cell_type": "markdown",
   "metadata": {
    "pycharm": {
     "name": "#%% md\n"
    }
   },
   "source": [
    "Let us run the mean-field algorithm. `num_gq_mu` and `num_gq_phi` are the number of Gaussian quadrature nodes on $[0,T]$ and $[0,T_\\phi]$ respectively; `num_pre_mu` and `num_pre_phi` are the number of prediction points on $\\mu(t)$ and $\\phi(\\tau)$ respectively. "
   ]
  },
  {
   "cell_type": "code",
   "execution_count": 78,
   "metadata": {
    "pycharm": {
     "name": "#%%\n"
    }
   },
   "outputs": [
    {
     "name": "stderr",
     "output_type": "stream",
     "text": [
      "100%|██████████| 500/500 [05:31<00:00,  1.51it/s]\n"
     ]
    },
    {
     "name": "stdout",
     "output_type": "stream",
     "text": [
      "CPU times: total: 8min 30s\n",
      "Wall time: 5min 32s\n"
     ]
    }
   ],
   "source": [
    "%%time\n",
    "g_mu_mean_list, g_mu_cov_list, g_phi_mean_list, g_phi_cov_list, alpha_mu_list, alpha_phi_list, logl_train_list_mf\\\n",
    "=toy_model.MF(num_gq_mu=100,num_gq_phi=100,num_pre_mu=1000,num_pre_phi=1000,num_iter=500)"
   ]
  },
  {
   "cell_type": "markdown",
   "metadata": {
    "pycharm": {
     "name": "#%% md\n"
    }
   },
   "source": [
    "Let us show the convergence using log-likelihood along iterations. "
   ]
  },
  {
   "cell_type": "code",
   "execution_count": 79,
   "metadata": {
    "pycharm": {
     "name": "#%%\n"
    }
   },
   "outputs": [
    {
     "data": {
      "text/plain": "<Figure size 252x216 with 1 Axes>",
      "image/png": "[encoded data removed]"
     },
     "metadata": {},
     "output_type": "display_data"
    }
   ],
   "source": [
    "plt.figure(1,figsize=(3.5,3))\n",
    "axs=plt.subplot(111)\n",
    "axs.plot(range(len(logl_train_list_mf)),logl_train_list_mf,label='train')\n",
    "plt.xlabel('Iteration',fontsize=12)\n",
    "plt.ylabel('Loglikelihood',fontsize=12)\n",
    "plt.title('Loglikelihood Curve',fontsize=12)\n",
    "plt.legend(fontsize=12,framealpha =0.3)\n",
    "plt.show()"
   ]
  },
  {
   "cell_type": "markdown",
   "metadata": {
    "pycharm": {
     "name": "#%% md\n"
    }
   },
   "source": [
    "The estimated posterior of baseline intensity $\\mu(t)$ and influence function $\\phi(\\tau)$ with the ground truth. \n",
    "\n",
    "Let us take 100 samples of $\\mu(t)$ and $\\phi(\\tau)$ from the posterior."
   ]
  },
  {
   "cell_type": "code",
   "execution_count": 80,
   "metadata": {
    "pycharm": {
     "name": "#%%\n"
    }
   },
   "outputs": [],
   "source": [
    "lamda_mu_mf = gamma(a=alpha_mu_list[-1], scale=1/T).rvs(size=100)\n",
    "lamda_phi_mf = gamma(a=alpha_phi_list[-1], scale=1/len(points_hawkes)/T_phi).rvs(size=100)\n",
    "g_mu_mf = multivariate_normal(g_mu_mean_list[-1],g_mu_cov_list[-1]+np.eye(1000)*0.0001).rvs(size=100)\n",
    "g_phi_mf = multivariate_normal(g_phi_mean_list[-1],g_phi_cov_list[-1]+np.eye(1000)*0.0001).rvs(size=100)"
   ]
  },
  {
   "cell_type": "code",
   "execution_count": 81,
   "metadata": {
    "pycharm": {
     "name": "#%%\n"
    }
   },
   "outputs": [],
   "source": [
    "mu_mean_mf=np.average([lamda_mu_mf[i]*expit(g_mu_mf[i]) for i in range(100)],axis=0)  # mean\n",
    "phi_mean_mf=np.average([lamda_phi_mf[i]*expit(g_phi_mf[i]) for i in range(100)],axis=0)  # mean\n",
    "mu_lb_mf=mu_mean_mf-np.std([lamda_mu_mf[i]*expit(g_mu_mf[i]) for i in range(100)],axis=0)  # lower bound\n",
    "mu_ub_mf=mu_mean_mf+np.std([lamda_mu_mf[i]*expit(g_mu_mf[i]) for i in range(100)],axis=0)  # upper bound\n",
    "phi_lb_mf=phi_mean_mf-np.std([lamda_phi_mf[i]*expit(g_phi_mf[i]) for i in range(100)],axis=0)  # lower bound\n",
    "phi_ub_mf=phi_mean_mf+np.std([lamda_phi_mf[i]*expit(g_phi_mf[i]) for i in range(100)],axis=0)  # upper bound"
   ]
  },
  {
   "cell_type": "code",
   "execution_count": 82,
   "metadata": {
    "pycharm": {
     "name": "#%%\n"
    }
   },
   "outputs": [
    {
     "data": {
      "text/plain": "<Figure size 504x216 with 2 Axes>",
      "image/png": "[encoded data removed]"
     },
     "metadata": {},
     "output_type": "display_data"
    }
   ],
   "source": [
    "plt.figure(1,figsize=(7,3))\n",
    "axs=plt.subplot(121)\n",
    "axs.plot(np.linspace(0,T,len(mu_mean_mf)),mu_mean_mf,label='MF')\n",
    "axs.fill_between(np.linspace(0,T,len(mu_mean_mf)),mu_lb_mf,mu_ub_mf,alpha=0.3)\n",
    "# plt.ylim(0,3)\n",
    "plt.xlabel(r'$t$',fontsize=14)\n",
    "plt.title(r'$\\mu(t)$',fontsize=14)\n",
    "plt.legend(fontsize=12)\n",
    "\n",
    "axs=plt.subplot(122)\n",
    "axs.plot(np.linspace(0,T_phi,len(phi_mean_mf)),phi_mean_mf,label='MF')\n",
    "axs.fill_between(np.linspace(0,T_phi,len(phi_mean_mf)),phi_lb_mf,phi_ub_mf,alpha=0.3)\n",
    "plt.xlabel(r'$\\tau$',fontsize=14)\n",
    "plt.title(r'$\\phi(\\tau)$',fontsize=14)\n",
    "plt.legend(fontsize=12)\n",
    "plt.show()"
   ]
  },
  {
   "cell_type": "code",
   "execution_count": 82,
   "metadata": {
    "pycharm": {
     "name": "#%%\n"
    }
   },
   "outputs": [],
   "source": []
  },
  {
   "cell_type": "code",
   "execution_count": 82,
   "metadata": {
    "pycharm": {
     "name": "#%%\n"
    }
   },
   "outputs": [],
   "source": []
  }
 ],
 "metadata": {
  "kernelspec": {
   "display_name": "Python 3",
   "language": "python",
   "name": "python3"
  },
  "language_info": {
   "codemirror_mode": {
    "name": "ipython",
    "version": 3
   },
   "file_extension": ".py",
   "mimetype": "text/x-python",
   "name": "python",
   "nbconvert_exporter": "python",
   "pygments_lexer": "ipython3",
   "version": "3.8.10"
  }
 },
 "nbformat": 4,
 "nbformat_minor": 4
}