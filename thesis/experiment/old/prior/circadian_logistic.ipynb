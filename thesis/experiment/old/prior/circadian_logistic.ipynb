{
 "cells": [
  {
   "cell_type": "markdown",
   "metadata": {},
   "source": [
    "## Circadian Logistic Regression for Early Seizure Detection\n",
    "Based on the following work:\n",
    "> Philippa J Karoly, Hoameng Ung, David B Grayden, Levin Kuhlmann, Kent Leyde, Mark J Cook, Dean R Freestone, The circadian profile of epilepsy improves seizure forecasting, Brain, Volume 140, Issue 8, August 2017, Pages 2169–2182, https://doi.org/10.1093/brain/awx173"
   ]
  },
  {
   "cell_type": "markdown",
   "metadata": {},
   "source": [
    "## Imports"
   ]
  },
  {
   "cell_type": "code",
   "execution_count": 82,
   "metadata": {},
   "outputs": [
    {
     "name": "stdout",
     "output_type": "stream",
     "text": [
      "The autoreload extension is already loaded. To reload it, use:\n",
      "  %reload_ext autoreload\n"
     ]
    }
   ],
   "source": [
    "import datetime\n",
    "import numpy as np\n",
    "import matplotlib\n",
    "import matplotlib.pyplot as plt\n",
    "import seaborn\n",
    "import pandas as pd\n",
    "from ieeg.auth import Session\n",
    "from ieeg.dataset import Dataset\n",
    "import warnings\n",
    "\n",
    "from msc import config\n",
    "from msc.config import get_authentication\n",
    "\n",
    "plt.style.use('science')\n",
    "matplotlib.rcParams['figure.figsize'] = (6.4, 4.8)\n",
    "\n",
    "%load_ext autoreload\n",
    "%autoreload 2"
   ]
  },
  {
   "cell_type": "code",
   "execution_count": 5,
   "metadata": {},
   "outputs": [],
   "source": [
    "SEC = 1e6\n",
    "MIN = 60 * SEC\n",
    "HOUR = 60 * MIN"
   ]
  },
  {
   "cell_type": "markdown",
   "metadata": {},
   "source": [
    "## Get data"
   ]
  },
  {
   "cell_type": "markdown",
   "metadata": {},
   "source": [
    "### Connect to dataset"
   ]
  },
  {
   "cell_type": "code",
   "execution_count": 6,
   "metadata": {},
   "outputs": [
    {
     "name": "stdout",
     "output_type": "stream",
     "text": [
      "chan name(LEFT_01) spans 41102050476440.0 usec, range [-2048-2047] in 11840519700 samples. Starts @1248984678000000 uUTC, ends @1290086728476440 uUTC with sample rate 399.609756097561 Hz and voltage conv factor 1.0\n",
      "chan name(LEFT_02) spans 36928828122497.0 usec, range [-2048-2047] in 10240999318 samples. Starts @1248984678000000 uUTC, ends @1285913506122497 uUTC with sample rate 399.609756097561 Hz and voltage conv factor 1.0\n",
      "chan name(LEFT_03) spans 41102051622680.0 usec, range [-2027-2047] in 11840495724 samples. Starts @1248984678000000 uUTC, ends @1290086729622680 uUTC with sample rate 399.609756097561 Hz and voltage conv factor 1.0\n",
      "chan name(LEFT_04) spans 41102050476440.0 usec, range [-2027-2047] in 11840519700 samples. Starts @1248984678000000 uUTC, ends @1290086728476440 uUTC with sample rate 399.609756097561 Hz and voltage conv factor 1.0\n",
      "chan name(LEFT_05) spans 41102050476440.0 usec, range [-2026-2047] in 11840519700 samples. Starts @1248984678000000 uUTC, ends @1290086728476440 uUTC with sample rate 399.609756097561 Hz and voltage conv factor 1.0\n",
      "chan name(LEFT_06) spans 41102050476440.0 usec, range [-2027-2047] in 11840519700 samples. Starts @1248984678000000 uUTC, ends @1290086728476440 uUTC with sample rate 399.609756097561 Hz and voltage conv factor 1.0\n",
      "chan name(LEFT_07) spans 41102050476440.0 usec, range [-2048-2047] in 11840519700 samples. Starts @1248984678000000 uUTC, ends @1290086728476440 uUTC with sample rate 399.609756097561 Hz and voltage conv factor 1.0\n",
      "chan name(LEFT_08) spans 41102050476440.0 usec, range [-2028-2047] in 11840519700 samples. Starts @1248984678000000 uUTC, ends @1290086728476440 uUTC with sample rate 399.609756097561 Hz and voltage conv factor 1.0\n",
      "chan name(RIGHT_01) spans 41102050476440.0 usec, range [-2048-2047] in 11840519700 samples. Starts @1248984678000000 uUTC, ends @1290086728476440 uUTC with sample rate 399.609756097561 Hz and voltage conv factor 1.0\n",
      "chan name(RIGHT_02) spans 41102050476440.0 usec, range [-2048-2047] in 11840519700 samples. Starts @1248984678000000 uUTC, ends @1290086728476440 uUTC with sample rate 399.609756097561 Hz and voltage conv factor 1.0\n",
      "chan name(RIGHT_03) spans 41102050476440.0 usec, range [-2027-2047] in 11840519700 samples. Starts @1248984678000000 uUTC, ends @1290086728476440 uUTC with sample rate 399.609756097561 Hz and voltage conv factor 1.0\n",
      "chan name(RIGHT_04) spans 41102050476440.0 usec, range [-2048-2047] in 11840519700 samples. Starts @1248984678000000 uUTC, ends @1290086728476440 uUTC with sample rate 399.609756097561 Hz and voltage conv factor 1.0\n",
      "chan name(RIGHT_05) spans 41102050476440.0 usec, range [-1442-2047] in 11840519700 samples. Starts @1248984678000000 uUTC, ends @1290086728476440 uUTC with sample rate 399.609756097561 Hz and voltage conv factor 1.0\n",
      "chan name(RIGHT_06) spans 41102050476440.0 usec, range [-2048-2047] in 11840519700 samples. Starts @1248984678000000 uUTC, ends @1290086728476440 uUTC with sample rate 399.609756097561 Hz and voltage conv factor 1.0\n",
      "chan name(RIGHT_07) spans 41102050476440.0 usec, range [-2027-2047] in 11840519700 samples. Starts @1248984678000000 uUTC, ends @1290086728476440 uUTC with sample rate 399.609756097561 Hz and voltage conv factor 1.0\n",
      "chan name(RIGHT_08) spans 41102050476440.0 usec, range [-1703-2047] in 11840519700 samples. Starts @1248984678000000 uUTC, ends @1290086728476440 uUTC with sample rate 399.609756097561 Hz and voltage conv factor 1.0\n"
     ]
    }
   ],
   "source": [
    "dataset_name = 'I004_A0003_D001'  # from ieeg.org portal\n",
    "username, password = get_authentication()  # to access ieeg.org portal\n",
    "s = Session(username, password)  # start streaming session\n",
    "ds = s.open_dataset(dataset_name)  # open dataset stream\n",
    "ch_names = ds.get_channel_labels()  # get channel names\n",
    "for ch_name in ch_names:    # describe dataset\n",
    "    print(ds.get_time_series_details(ch_name))"
   ]
  },
  {
   "cell_type": "code",
   "execution_count": 22,
   "metadata": {},
   "outputs": [
    {
     "data": {
      "text/plain": [
       "datetime.timedelta(days=475, seconds=62051, microseconds=622680)"
      ]
     },
     "execution_count": 22,
     "metadata": {},
     "output_type": "execute_result"
    }
   ],
   "source": [
    "start_time = datetime.datetime.fromtimestamp(ds.start_time / SEC, datetime.timezone.utc)\n",
    "end_time = datetime.datetime.fromtimestamp(ds.end_time / SEC, datetime.timezone.utc)\n",
    "recording_length = end_time - start_time\n",
    "recording_length"
   ]
  },
  {
   "cell_type": "markdown",
   "metadata": {},
   "source": [
    "### Get labels"
   ]
  },
  {
   "cell_type": "code",
   "execution_count": 28,
   "metadata": {},
   "outputs": [
    {
     "data": {
      "text/plain": [
       "45"
      ]
     },
     "execution_count": 28,
     "metadata": {},
     "output_type": "execute_result"
    }
   ],
   "source": [
    "seizures = ds.get_annotations('seizures')\n",
    "seizure_onsets = [start_time + datetime.timedelta(microseconds=seizure.start_time_offset_usec) for seizure in seizures]\n",
    "len(seizure_onsets)"
   ]
  },
  {
   "cell_type": "code",
   "execution_count": 29,
   "metadata": {},
   "outputs": [
    {
     "data": {
      "text/plain": [
       "[datetime.datetime(2009, 8, 13, 22, 36, 39, 606445, tzinfo=datetime.timezone.utc),\n",
       " datetime.datetime(2009, 8, 14, 6, 40, 27, 926757, tzinfo=datetime.timezone.utc),\n",
       " datetime.datetime(2009, 8, 14, 11, 28, 3, 761718, tzinfo=datetime.timezone.utc),\n",
       " datetime.datetime(2009, 8, 14, 21, 0, 7, 248047, tzinfo=datetime.timezone.utc),\n",
       " datetime.datetime(2009, 9, 11, 22, 27, 54, 582031, tzinfo=datetime.timezone.utc),\n",
       " datetime.datetime(2009, 9, 12, 3, 7, 1, 920898, tzinfo=datetime.timezone.utc),\n",
       " datetime.datetime(2009, 9, 12, 7, 57, 10, 905273, tzinfo=datetime.timezone.utc),\n",
       " datetime.datetime(2009, 9, 12, 13, 32, 34, 538086, tzinfo=datetime.timezone.utc),\n",
       " datetime.datetime(2009, 9, 12, 17, 32, 10, 563476, tzinfo=datetime.timezone.utc),\n",
       " datetime.datetime(2009, 9, 12, 20, 12, 0, 919922, tzinfo=datetime.timezone.utc),\n",
       " datetime.datetime(2009, 9, 12, 23, 13, 41, 554687, tzinfo=datetime.timezone.utc),\n",
       " datetime.datetime(2009, 9, 13, 2, 8, 2, 760742, tzinfo=datetime.timezone.utc),\n",
       " datetime.datetime(2009, 9, 13, 5, 28, 16, 481445, tzinfo=datetime.timezone.utc),\n",
       " datetime.datetime(2009, 9, 13, 9, 44, 7, 458007, tzinfo=datetime.timezone.utc),\n",
       " datetime.datetime(2009, 10, 9, 12, 4, 30, 285156, tzinfo=datetime.timezone.utc),\n",
       " datetime.datetime(2009, 10, 9, 16, 51, 21, 76172, tzinfo=datetime.timezone.utc),\n",
       " datetime.datetime(2009, 10, 9, 21, 51, 36, 652343, tzinfo=datetime.timezone.utc),\n",
       " datetime.datetime(2009, 10, 10, 4, 49, 14, 98632, tzinfo=datetime.timezone.utc),\n",
       " datetime.datetime(2010, 6, 3, 17, 35, 4, 976, tzinfo=datetime.timezone.utc),\n",
       " datetime.datetime(2010, 6, 3, 22, 52, 35, 587890, tzinfo=datetime.timezone.utc),\n",
       " datetime.datetime(2010, 6, 4, 4, 37, 47, 794922, tzinfo=datetime.timezone.utc),\n",
       " datetime.datetime(2010, 6, 4, 9, 4, 18, 395507, tzinfo=datetime.timezone.utc),\n",
       " datetime.datetime(2010, 6, 4, 14, 42, 50, 211914, tzinfo=datetime.timezone.utc),\n",
       " datetime.datetime(2010, 6, 5, 0, 8, 53, 346679, tzinfo=datetime.timezone.utc),\n",
       " datetime.datetime(2010, 6, 5, 8, 13, 3, 688476, tzinfo=datetime.timezone.utc),\n",
       " datetime.datetime(2010, 7, 10, 5, 1, 31, 720703, tzinfo=datetime.timezone.utc),\n",
       " datetime.datetime(2010, 7, 10, 14, 17, 51, 286132, tzinfo=datetime.timezone.utc),\n",
       " datetime.datetime(2010, 7, 10, 19, 31, 19, 635742, tzinfo=datetime.timezone.utc),\n",
       " datetime.datetime(2010, 7, 11, 1, 4, 40, 148437, tzinfo=datetime.timezone.utc),\n",
       " datetime.datetime(2010, 7, 11, 5, 18, 5, 983398, tzinfo=datetime.timezone.utc),\n",
       " datetime.datetime(2010, 7, 11, 11, 26, 43, 561523, tzinfo=datetime.timezone.utc),\n",
       " datetime.datetime(2010, 8, 21, 23, 58, 35, 573242, tzinfo=datetime.timezone.utc),\n",
       " datetime.datetime(2010, 8, 22, 5, 42, 36, 710937, tzinfo=datetime.timezone.utc),\n",
       " datetime.datetime(2010, 8, 22, 10, 5, 19, 88867, tzinfo=datetime.timezone.utc),\n",
       " datetime.datetime(2010, 8, 22, 17, 18, 0, 416992, tzinfo=datetime.timezone.utc),\n",
       " datetime.datetime(2010, 8, 22, 22, 36, 12, 42968, tzinfo=datetime.timezone.utc),\n",
       " datetime.datetime(2010, 8, 23, 3, 32, 9, 367187, tzinfo=datetime.timezone.utc),\n",
       " datetime.datetime(2010, 8, 23, 7, 56, 37, 848632, tzinfo=datetime.timezone.utc),\n",
       " datetime.datetime(2010, 9, 20, 7, 23, 52, 125976, tzinfo=datetime.timezone.utc),\n",
       " datetime.datetime(2010, 9, 21, 3, 9, 30, 529297, tzinfo=datetime.timezone.utc),\n",
       " datetime.datetime(2010, 9, 21, 8, 25, 51, 46875, tzinfo=datetime.timezone.utc),\n",
       " datetime.datetime(2010, 10, 23, 0, 14, 34, 655273, tzinfo=datetime.timezone.utc),\n",
       " datetime.datetime(2010, 10, 23, 5, 22, 26, 676757, tzinfo=datetime.timezone.utc),\n",
       " datetime.datetime(2010, 10, 23, 12, 7, 38, 395507, tzinfo=datetime.timezone.utc),\n",
       " datetime.datetime(2010, 10, 23, 19, 49, 8, 410156, tzinfo=datetime.timezone.utc)]"
      ]
     },
     "execution_count": 29,
     "metadata": {},
     "output_type": "execute_result"
    }
   ],
   "source": [
    "seizure_onsets"
   ]
  },
  {
   "cell_type": "code",
   "execution_count": 83,
   "metadata": {},
   "outputs": [
    {
     "data": {
      "text/plain": [
       "array([[<AxesSubplot:title={'center':'hour'}>]], dtype=object)"
      ]
     },
     "execution_count": 83,
     "metadata": {},
     "output_type": "execute_result"
    },
    {
     "data": {
      "image/png": "[encoded data removed]",
      "text/plain": [
       "<Figure size 460.8x345.6 with 1 Axes>"
      ]
     },
     "metadata": {
      "needs_background": "light"
     },
     "output_type": "display_data"
    }
   ],
   "source": [
    "seizure_onsets_df = pd.DataFrame(seizure_onsets, columns=['datetime'])\n",
    "seizure_onsets_df['year'] = seizure_onsets_df['datetime'].dt.year\n",
    "seizure_onsets_df['month'] = seizure_onsets_df['datetime'].dt.month\n",
    "seizure_onsets_df['day'] = seizure_onsets_df['datetime'].dt.day\n",
    "seizure_onsets_df['hour'] = seizure_onsets_df['datetime'].dt.hour\n",
    "seizure_onsets_df['minute'] = seizure_onsets_df['datetime'].dt.minute\n",
    "seizure_onsets_df['second'] = seizure_onsets_df['datetime'].dt.second\n",
    "seizure_onsets_df.iloc[:50].hist('hour', bins=24)"
   ]
  },
  {
   "cell_type": "code",
   "execution_count": 97,
   "metadata": {},
   "outputs": [
    {
     "data": {
      "text/plain": [
       "Text(0.5, 1.0, 'Hourly seizure counts')"
      ]
     },
     "execution_count": 97,
     "metadata": {},
     "output_type": "execute_result"
    },
    {
     "data": {
      "image/png": "[encoded data removed]",
      "text/plain": [
       "<Figure size 460.8x345.6 with 1 Axes>"
      ]
     },
     "metadata": {
      "needs_background": "light"
     },
     "output_type": "display_data"
    }
   ],
   "source": [
    "circadian_hist = pd.cut(seizure_onsets_df.hour, 24, labels=range(24)).value_counts().sort_index()\n",
    "circadian_hist.plot()\n",
    "plt.title('Hourly seizure counts')"
   ]
  },
  {
   "cell_type": "code",
   "execution_count": 87,
   "metadata": {},
   "outputs": [
    {
     "data": {
      "image/png": "[encoded data removed]",
      "text/plain": [
       "<Figure size 460.8x345.6 with 1 Axes>"
      ]
     },
     "metadata": {
      "needs_background": "light"
     },
     "output_type": "display_data"
    }
   ],
   "source": [
    "N = 24\n",
    "bottom = 4\n",
    "\n",
    "theta = np.linspace(0.0, 2 * np.pi, N, endpoint=False)\n",
    "radii = 10 * np.random.rand(N)\n",
    "width = np.pi / 4 * np.random.rand(N)\n",
    "\n",
    "ax = plt.subplot(111, projection='polar')\n",
    "bars = ax.bar(theta, radii, width=width, bottom=0.0)\n",
    "\n",
    "\n",
    "plt.show()"
   ]
  },
  {
   "cell_type": "code",
   "execution_count": 61,
   "metadata": {},
   "outputs": [
    {
     "data": {
      "text/plain": [
       "[<matplotlib.collections.EventCollection at 0x28bfeb56f70>]"
      ]
     },
     "execution_count": 61,
     "metadata": {},
     "output_type": "execute_result"
    },
    {
     "data": {
      "image/png": "[encoded data removed]",
      "text/plain": [
       "<Figure size 432x288 with 1 Axes>"
      ]
     },
     "metadata": {
      "needs_background": "light"
     },
     "output_type": "display_data"
    }
   ],
   "source": [
    "plt.hlines(1,0, 7*2400)\n",
    "plt.eventplot(seizure_onsets, orientation='horizontal', colors='b')\n"
   ]
  },
  {
   "cell_type": "code",
   "execution_count": 60,
   "metadata": {},
   "outputs": [
    {
     "data": {
      "text/html": [
       "<div>\n",
       "<style scoped>\n",
       "    .dataframe tbody tr th:only-of-type {\n",
       "        vertical-align: middle;\n",
       "    }\n",
       "\n",
       "    .dataframe tbody tr th {\n",
       "        vertical-align: top;\n",
       "    }\n",
       "\n",
       "    .dataframe thead th {\n",
       "        text-align: right;\n",
       "    }\n",
       "</style>\n",
       "<table border=\"1\" class=\"dataframe\">\n",
       "  <thead>\n",
       "    <tr style=\"text-align: right;\">\n",
       "      <th></th>\n",
       "      <th>datetime</th>\n",
       "      <th>year</th>\n",
       "      <th>month</th>\n",
       "      <th>day</th>\n",
       "    </tr>\n",
       "  </thead>\n",
       "  <tbody>\n",
       "    <tr>\n",
       "      <th>0</th>\n",
       "      <td>2009-08-13 22:36:39.606445+00:00</td>\n",
       "      <td>2009</td>\n",
       "      <td>8</td>\n",
       "      <td>13</td>\n",
       "    </tr>\n",
       "    <tr>\n",
       "      <th>1</th>\n",
       "      <td>2009-08-14 06:40:27.926757+00:00</td>\n",
       "      <td>2009</td>\n",
       "      <td>8</td>\n",
       "      <td>14</td>\n",
       "    </tr>\n",
       "    <tr>\n",
       "      <th>2</th>\n",
       "      <td>2009-08-14 11:28:03.761718+00:00</td>\n",
       "      <td>2009</td>\n",
       "      <td>8</td>\n",
       "      <td>14</td>\n",
       "    </tr>\n",
       "    <tr>\n",
       "      <th>3</th>\n",
       "      <td>2009-08-14 21:00:07.248047+00:00</td>\n",
       "      <td>2009</td>\n",
       "      <td>8</td>\n",
       "      <td>14</td>\n",
       "    </tr>\n",
       "    <tr>\n",
       "      <th>4</th>\n",
       "      <td>2009-09-11 22:27:54.582031+00:00</td>\n",
       "      <td>2009</td>\n",
       "      <td>9</td>\n",
       "      <td>11</td>\n",
       "    </tr>\n",
       "    <tr>\n",
       "      <th>5</th>\n",
       "      <td>2009-09-12 03:07:01.920898+00:00</td>\n",
       "      <td>2009</td>\n",
       "      <td>9</td>\n",
       "      <td>12</td>\n",
       "    </tr>\n",
       "    <tr>\n",
       "      <th>6</th>\n",
       "      <td>2009-09-12 07:57:10.905273+00:00</td>\n",
       "      <td>2009</td>\n",
       "      <td>9</td>\n",
       "      <td>12</td>\n",
       "    </tr>\n",
       "    <tr>\n",
       "      <th>7</th>\n",
       "      <td>2009-09-12 13:32:34.538086+00:00</td>\n",
       "      <td>2009</td>\n",
       "      <td>9</td>\n",
       "      <td>12</td>\n",
       "    </tr>\n",
       "    <tr>\n",
       "      <th>8</th>\n",
       "      <td>2009-09-12 17:32:10.563476+00:00</td>\n",
       "      <td>2009</td>\n",
       "      <td>9</td>\n",
       "      <td>12</td>\n",
       "    </tr>\n",
       "    <tr>\n",
       "      <th>9</th>\n",
       "      <td>2009-09-12 20:12:00.919922+00:00</td>\n",
       "      <td>2009</td>\n",
       "      <td>9</td>\n",
       "      <td>12</td>\n",
       "    </tr>\n",
       "    <tr>\n",
       "      <th>10</th>\n",
       "      <td>2009-09-12 23:13:41.554687+00:00</td>\n",
       "      <td>2009</td>\n",
       "      <td>9</td>\n",
       "      <td>12</td>\n",
       "    </tr>\n",
       "    <tr>\n",
       "      <th>11</th>\n",
       "      <td>2009-09-13 02:08:02.760742+00:00</td>\n",
       "      <td>2009</td>\n",
       "      <td>9</td>\n",
       "      <td>13</td>\n",
       "    </tr>\n",
       "    <tr>\n",
       "      <th>12</th>\n",
       "      <td>2009-09-13 05:28:16.481445+00:00</td>\n",
       "      <td>2009</td>\n",
       "      <td>9</td>\n",
       "      <td>13</td>\n",
       "    </tr>\n",
       "    <tr>\n",
       "      <th>13</th>\n",
       "      <td>2009-09-13 09:44:07.458007+00:00</td>\n",
       "      <td>2009</td>\n",
       "      <td>9</td>\n",
       "      <td>13</td>\n",
       "    </tr>\n",
       "    <tr>\n",
       "      <th>14</th>\n",
       "      <td>2009-10-09 12:04:30.285156+00:00</td>\n",
       "      <td>2009</td>\n",
       "      <td>10</td>\n",
       "      <td>9</td>\n",
       "    </tr>\n",
       "    <tr>\n",
       "      <th>15</th>\n",
       "      <td>2009-10-09 16:51:21.076172+00:00</td>\n",
       "      <td>2009</td>\n",
       "      <td>10</td>\n",
       "      <td>9</td>\n",
       "    </tr>\n",
       "    <tr>\n",
       "      <th>16</th>\n",
       "      <td>2009-10-09 21:51:36.652343+00:00</td>\n",
       "      <td>2009</td>\n",
       "      <td>10</td>\n",
       "      <td>9</td>\n",
       "    </tr>\n",
       "    <tr>\n",
       "      <th>17</th>\n",
       "      <td>2009-10-10 04:49:14.098632+00:00</td>\n",
       "      <td>2009</td>\n",
       "      <td>10</td>\n",
       "      <td>10</td>\n",
       "    </tr>\n",
       "    <tr>\n",
       "      <th>18</th>\n",
       "      <td>2010-06-03 17:35:04.000976+00:00</td>\n",
       "      <td>2010</td>\n",
       "      <td>6</td>\n",
       "      <td>3</td>\n",
       "    </tr>\n",
       "    <tr>\n",
       "      <th>19</th>\n",
       "      <td>2010-06-03 22:52:35.587890+00:00</td>\n",
       "      <td>2010</td>\n",
       "      <td>6</td>\n",
       "      <td>3</td>\n",
       "    </tr>\n",
       "    <tr>\n",
       "      <th>20</th>\n",
       "      <td>2010-06-04 04:37:47.794922+00:00</td>\n",
       "      <td>2010</td>\n",
       "      <td>6</td>\n",
       "      <td>4</td>\n",
       "    </tr>\n",
       "    <tr>\n",
       "      <th>21</th>\n",
       "      <td>2010-06-04 09:04:18.395507+00:00</td>\n",
       "      <td>2010</td>\n",
       "      <td>6</td>\n",
       "      <td>4</td>\n",
       "    </tr>\n",
       "    <tr>\n",
       "      <th>22</th>\n",
       "      <td>2010-06-04 14:42:50.211914+00:00</td>\n",
       "      <td>2010</td>\n",
       "      <td>6</td>\n",
       "      <td>4</td>\n",
       "    </tr>\n",
       "    <tr>\n",
       "      <th>23</th>\n",
       "      <td>2010-06-05 00:08:53.346679+00:00</td>\n",
       "      <td>2010</td>\n",
       "      <td>6</td>\n",
       "      <td>5</td>\n",
       "    </tr>\n",
       "    <tr>\n",
       "      <th>24</th>\n",
       "      <td>2010-06-05 08:13:03.688476+00:00</td>\n",
       "      <td>2010</td>\n",
       "      <td>6</td>\n",
       "      <td>5</td>\n",
       "    </tr>\n",
       "    <tr>\n",
       "      <th>25</th>\n",
       "      <td>2010-07-10 05:01:31.720703+00:00</td>\n",
       "      <td>2010</td>\n",
       "      <td>7</td>\n",
       "      <td>10</td>\n",
       "    </tr>\n",
       "    <tr>\n",
       "      <th>26</th>\n",
       "      <td>2010-07-10 14:17:51.286132+00:00</td>\n",
       "      <td>2010</td>\n",
       "      <td>7</td>\n",
       "      <td>10</td>\n",
       "    </tr>\n",
       "    <tr>\n",
       "      <th>27</th>\n",
       "      <td>2010-07-10 19:31:19.635742+00:00</td>\n",
       "      <td>2010</td>\n",
       "      <td>7</td>\n",
       "      <td>10</td>\n",
       "    </tr>\n",
       "    <tr>\n",
       "      <th>28</th>\n",
       "      <td>2010-07-11 01:04:40.148437+00:00</td>\n",
       "      <td>2010</td>\n",
       "      <td>7</td>\n",
       "      <td>11</td>\n",
       "    </tr>\n",
       "    <tr>\n",
       "      <th>29</th>\n",
       "      <td>2010-07-11 05:18:05.983398+00:00</td>\n",
       "      <td>2010</td>\n",
       "      <td>7</td>\n",
       "      <td>11</td>\n",
       "    </tr>\n",
       "    <tr>\n",
       "      <th>30</th>\n",
       "      <td>2010-07-11 11:26:43.561523+00:00</td>\n",
       "      <td>2010</td>\n",
       "      <td>7</td>\n",
       "      <td>11</td>\n",
       "    </tr>\n",
       "    <tr>\n",
       "      <th>31</th>\n",
       "      <td>2010-08-21 23:58:35.573242+00:00</td>\n",
       "      <td>2010</td>\n",
       "      <td>8</td>\n",
       "      <td>21</td>\n",
       "    </tr>\n",
       "    <tr>\n",
       "      <th>32</th>\n",
       "      <td>2010-08-22 05:42:36.710937+00:00</td>\n",
       "      <td>2010</td>\n",
       "      <td>8</td>\n",
       "      <td>22</td>\n",
       "    </tr>\n",
       "    <tr>\n",
       "      <th>33</th>\n",
       "      <td>2010-08-22 10:05:19.088867+00:00</td>\n",
       "      <td>2010</td>\n",
       "      <td>8</td>\n",
       "      <td>22</td>\n",
       "    </tr>\n",
       "    <tr>\n",
       "      <th>34</th>\n",
       "      <td>2010-08-22 17:18:00.416992+00:00</td>\n",
       "      <td>2010</td>\n",
       "      <td>8</td>\n",
       "      <td>22</td>\n",
       "    </tr>\n",
       "    <tr>\n",
       "      <th>35</th>\n",
       "      <td>2010-08-22 22:36:12.042968+00:00</td>\n",
       "      <td>2010</td>\n",
       "      <td>8</td>\n",
       "      <td>22</td>\n",
       "    </tr>\n",
       "    <tr>\n",
       "      <th>36</th>\n",
       "      <td>2010-08-23 03:32:09.367187+00:00</td>\n",
       "      <td>2010</td>\n",
       "      <td>8</td>\n",
       "      <td>23</td>\n",
       "    </tr>\n",
       "    <tr>\n",
       "      <th>37</th>\n",
       "      <td>2010-08-23 07:56:37.848632+00:00</td>\n",
       "      <td>2010</td>\n",
       "      <td>8</td>\n",
       "      <td>23</td>\n",
       "    </tr>\n",
       "    <tr>\n",
       "      <th>38</th>\n",
       "      <td>2010-09-20 07:23:52.125976+00:00</td>\n",
       "      <td>2010</td>\n",
       "      <td>9</td>\n",
       "      <td>20</td>\n",
       "    </tr>\n",
       "    <tr>\n",
       "      <th>39</th>\n",
       "      <td>2010-09-21 03:09:30.529297+00:00</td>\n",
       "      <td>2010</td>\n",
       "      <td>9</td>\n",
       "      <td>21</td>\n",
       "    </tr>\n",
       "    <tr>\n",
       "      <th>40</th>\n",
       "      <td>2010-09-21 08:25:51.046875+00:00</td>\n",
       "      <td>2010</td>\n",
       "      <td>9</td>\n",
       "      <td>21</td>\n",
       "    </tr>\n",
       "    <tr>\n",
       "      <th>41</th>\n",
       "      <td>2010-10-23 00:14:34.655273+00:00</td>\n",
       "      <td>2010</td>\n",
       "      <td>10</td>\n",
       "      <td>23</td>\n",
       "    </tr>\n",
       "    <tr>\n",
       "      <th>42</th>\n",
       "      <td>2010-10-23 05:22:26.676757+00:00</td>\n",
       "      <td>2010</td>\n",
       "      <td>10</td>\n",
       "      <td>23</td>\n",
       "    </tr>\n",
       "    <tr>\n",
       "      <th>43</th>\n",
       "      <td>2010-10-23 12:07:38.395507+00:00</td>\n",
       "      <td>2010</td>\n",
       "      <td>10</td>\n",
       "      <td>23</td>\n",
       "    </tr>\n",
       "    <tr>\n",
       "      <th>44</th>\n",
       "      <td>2010-10-23 19:49:08.410156+00:00</td>\n",
       "      <td>2010</td>\n",
       "      <td>10</td>\n",
       "      <td>23</td>\n",
       "    </tr>\n",
       "  </tbody>\n",
       "</table>\n",
       "</div>"
      ],
      "text/plain": [
       "                           datetime  year  month  day\n",
       "0  2009-08-13 22:36:39.606445+00:00  2009      8   13\n",
       "1  2009-08-14 06:40:27.926757+00:00  2009      8   14\n",
       "2  2009-08-14 11:28:03.761718+00:00  2009      8   14\n",
       "3  2009-08-14 21:00:07.248047+00:00  2009      8   14\n",
       "4  2009-09-11 22:27:54.582031+00:00  2009      9   11\n",
       "5  2009-09-12 03:07:01.920898+00:00  2009      9   12\n",
       "6  2009-09-12 07:57:10.905273+00:00  2009      9   12\n",
       "7  2009-09-12 13:32:34.538086+00:00  2009      9   12\n",
       "8  2009-09-12 17:32:10.563476+00:00  2009      9   12\n",
       "9  2009-09-12 20:12:00.919922+00:00  2009      9   12\n",
       "10 2009-09-12 23:13:41.554687+00:00  2009      9   12\n",
       "11 2009-09-13 02:08:02.760742+00:00  2009      9   13\n",
       "12 2009-09-13 05:28:16.481445+00:00  2009      9   13\n",
       "13 2009-09-13 09:44:07.458007+00:00  2009      9   13\n",
       "14 2009-10-09 12:04:30.285156+00:00  2009     10    9\n",
       "15 2009-10-09 16:51:21.076172+00:00  2009     10    9\n",
       "16 2009-10-09 21:51:36.652343+00:00  2009     10    9\n",
       "17 2009-10-10 04:49:14.098632+00:00  2009     10   10\n",
       "18 2010-06-03 17:35:04.000976+00:00  2010      6    3\n",
       "19 2010-06-03 22:52:35.587890+00:00  2010      6    3\n",
       "20 2010-06-04 04:37:47.794922+00:00  2010      6    4\n",
       "21 2010-06-04 09:04:18.395507+00:00  2010      6    4\n",
       "22 2010-06-04 14:42:50.211914+00:00  2010      6    4\n",
       "23 2010-06-05 00:08:53.346679+00:00  2010      6    5\n",
       "24 2010-06-05 08:13:03.688476+00:00  2010      6    5\n",
       "25 2010-07-10 05:01:31.720703+00:00  2010      7   10\n",
       "26 2010-07-10 14:17:51.286132+00:00  2010      7   10\n",
       "27 2010-07-10 19:31:19.635742+00:00  2010      7   10\n",
       "28 2010-07-11 01:04:40.148437+00:00  2010      7   11\n",
       "29 2010-07-11 05:18:05.983398+00:00  2010      7   11\n",
       "30 2010-07-11 11:26:43.561523+00:00  2010      7   11\n",
       "31 2010-08-21 23:58:35.573242+00:00  2010      8   21\n",
       "32 2010-08-22 05:42:36.710937+00:00  2010      8   22\n",
       "33 2010-08-22 10:05:19.088867+00:00  2010      8   22\n",
       "34 2010-08-22 17:18:00.416992+00:00  2010      8   22\n",
       "35 2010-08-22 22:36:12.042968+00:00  2010      8   22\n",
       "36 2010-08-23 03:32:09.367187+00:00  2010      8   23\n",
       "37 2010-08-23 07:56:37.848632+00:00  2010      8   23\n",
       "38 2010-09-20 07:23:52.125976+00:00  2010      9   20\n",
       "39 2010-09-21 03:09:30.529297+00:00  2010      9   21\n",
       "40 2010-09-21 08:25:51.046875+00:00  2010      9   21\n",
       "41 2010-10-23 00:14:34.655273+00:00  2010     10   23\n",
       "42 2010-10-23 05:22:26.676757+00:00  2010     10   23\n",
       "43 2010-10-23 12:07:38.395507+00:00  2010     10   23\n",
       "44 2010-10-23 19:49:08.410156+00:00  2010     10   23"
      ]
     },
     "execution_count": 60,
     "metadata": {},
     "output_type": "execute_result"
    }
   ],
   "source": []
  },
  {
   "cell_type": "code",
   "execution_count": 153,
   "metadata": {},
   "outputs": [
    {
     "name": "stderr",
     "output_type": "stream",
     "text": [
      "C:\\Users\\noam\\AppData\\Local\\Temp\\ipykernel_4312\\2632083923.py:9: UserWarning: error: there exist 17339136/23017536 NaN entries in data which is 75.33%\n",
      "  warnings.warn(f\"error: there exist {np.count_nonzero(np.isnan(data))}/{data.size} NaN entries in data which is {100*np.count_nonzero(np.isnan(data))/data.size:.2f}%\")\n"
     ]
    }
   ],
   "source": [
    "\n",
    "num_channels =  len(ch_names)\n",
    "windows = []\n",
    "start_times = [0, 10*MIN, 20*MIN, 30*MIN, 40*MIN, 50*MIN]\n",
    "for start in start_times:\n",
    "    window = ds.get_data(start=0, duration=10.00*MIN, channels=np.arange(num_channels))\n",
    "    windows.append(window)\n",
    "data = np.stack(windows)\n",
    "if np.any(np.isnan(data)):\n",
    "    warnings.warn(f\"error: there exist {np.count_nonzero(np.isnan(data))}/{data.size} NaN entries in data which is {100*np.count_nonzero(np.isnan(data))/data.size:.2f}%\")"
   ]
  },
  {
   "cell_type": "code",
   "execution_count": 171,
   "metadata": {},
   "outputs": [
    {
     "data": {
      "text/plain": [
       "(239766,)"
      ]
     },
     "execution_count": 171,
     "metadata": {},
     "output_type": "execute_result"
    }
   ],
   "source": [
    "data[0, :, 0].shape"
   ]
  },
  {
   "cell_type": "code",
   "execution_count": 176,
   "metadata": {},
   "outputs": [
    {
     "data": {
      "text/plain": [
       "[<matplotlib.lines.Line2D at 0x22600af0e50>]"
      ]
     },
     "execution_count": 176,
     "metadata": {},
     "output_type": "execute_result"
    },
    {
     "data": {
      "image/png": "[encoded data removed]",
      "text/plain": [
       "<Figure size 432x288 with 1 Axes>"
      ]
     },
     "metadata": {
      "needs_background": "light"
     },
     "output_type": "display_data"
    }
   ],
   "source": [
    "plt.plot(data[4, :, 0])"
   ]
  },
  {
   "cell_type": "code",
   "execution_count": 198,
   "metadata": {},
   "outputs": [
    {
     "data": {
      "text/plain": [
       "array([ 6200,  6201,  6202,  6203,  6204,  6205,  6206,  6207,  6208,\n",
       "        6209,  6210,  6211,  6212,  6213,  6214,  6215,  6216,  6217,\n",
       "        6218,  6219,  6220,  6221,  6222,  6223,  6224,  6225,  6226,\n",
       "        6227,  6228,  6229,  6230,  6231,  6232,  6233,  6234,  6235,\n",
       "        6236,  6237,  6238,  6239,  6240,  6241,  6242,  6243,  6244,\n",
       "        6245,  6246,  6247,  6248,  6249,  6250,  6251,  6252,  6253,\n",
       "        6254,  6255,  6256,  6257,  6258,  6259,  6260,  6261,  6262,\n",
       "        6263,  6264,  6265,  6266,  6267,  6268,  6269,  6270,  6271,\n",
       "        6272,  6273,  6274,  6275,  6276,  6277,  6278,  6279,  6280,\n",
       "        6281,  6282,  6283,  6284,  6285,  6286,  6287,  6288,  6289,\n",
       "        6290,  6291,  6292,  6293,  6294,  6295,  6296,  6297,  6298,\n",
       "        6299, 51400, 51401, 51402, 51403, 51404, 51405, 51406, 51407,\n",
       "       51408, 51409, 51410, 51411, 51412, 51413, 51414, 51415, 51416,\n",
       "       51417, 51418, 51419, 51420, 51421, 51422, 51423, 51424, 51425,\n",
       "       51426, 51427, 51428, 51429, 51430, 51431, 51432, 51433, 51434,\n",
       "       51435, 51436, 51437, 51438, 51439, 51440, 51441, 51442, 51443,\n",
       "       51444, 51445, 51446, 51447, 51448, 51449, 51450, 51451, 51452,\n",
       "       51453, 51454, 51455, 51456, 51457, 51458, 51459, 51460, 51461,\n",
       "       51462, 51463, 51464, 51465, 51466, 51467, 51468, 51469, 51470,\n",
       "       51471, 51472, 51473, 51474, 51475, 51476, 51477, 51478, 51479,\n",
       "       51480, 51481, 51482, 51483, 51484, 51485, 51486, 51487, 51488,\n",
       "       51489, 51490, 51491, 51492, 51493, 51494, 51495, 51496, 51497,\n",
       "       51498, 51499, 51500, 51501, 51502, 51503, 51504, 51505, 51506,\n",
       "       51507, 51508, 51509, 51510, 51511, 51512, 51513, 51514, 51515,\n",
       "       51516, 51517, 51518, 51519, 51520, 51521, 51522, 51523, 51524,\n",
       "       51525, 51526, 51527, 51528, 51529, 51530, 51531, 51532, 51533,\n",
       "       51534, 51535, 51536, 51537, 51538, 51539, 51540, 51541, 51542,\n",
       "       51543, 51544, 51545, 51546, 51547, 51548, 51549, 51550, 51551,\n",
       "       51552, 51553, 51554, 51555, 51556, 51557, 51558, 51559, 51560,\n",
       "       51561, 51562, 51563, 51564, 51565, 51566, 51567, 51568, 51569,\n",
       "       51570, 51571, 51572, 51573, 51574, 51575, 51576, 51577, 51578,\n",
       "       51579, 51580, 51581, 51582, 51583, 51584, 51585, 51586, 51587,\n",
       "       51588, 51589, 51590, 51591, 51592, 51593, 51594, 51595, 51596,\n",
       "       51597, 51598, 51599, 51600, 51601, 51602, 51603, 51604, 51605,\n",
       "       51606, 51607, 51608, 51609, 51610, 51611, 51612, 51613, 51614,\n",
       "       51615, 51616, 51617, 51618, 51619, 51620, 51621, 51622, 51623,\n",
       "       51624, 51625, 51626, 51627, 51628, 51629, 51630, 51631, 51632,\n",
       "       51633, 51634, 51635, 51636, 51637, 51638, 51639, 51640, 51641,\n",
       "       51642, 51643, 51644, 51645, 51646, 51647, 51648, 51649, 51650,\n",
       "       51651, 51652, 51653, 51654, 51655, 51656, 51657, 51658, 51659,\n",
       "       51660, 51661, 51662, 51663, 51664, 51665, 51666, 51667, 51668,\n",
       "       51669, 51670, 51671, 51672, 51673, 51674, 51675, 51676, 51677,\n",
       "       51678, 51679, 51680, 51681, 51682, 51683, 51684, 51685, 51686,\n",
       "       51687, 51688, 51689, 51690, 51691, 51692, 51693, 51694, 51695,\n",
       "       51696, 51697, 51698, 51699, 51700, 51701, 51702, 51703, 51704,\n",
       "       51705, 51706, 51707, 51708, 51709, 51710, 51711, 51712, 51713,\n",
       "       51714, 51715, 51716, 51717, 51718, 51719, 51720, 51721, 51722,\n",
       "       51723, 51724, 51725, 51726, 51727, 51728, 51729, 51730, 51731,\n",
       "       51732, 51733, 51734, 51735, 51736, 51737, 51738, 51739, 51740,\n",
       "       51741, 51742, 51743, 51744, 51745, 51746, 51747, 51748, 51749,\n",
       "       51750, 51751, 51752, 51753, 51754, 51755, 51756, 51757, 51758,\n",
       "       51759, 51760, 51761, 51762, 51763, 51764, 51765, 51766, 51767,\n",
       "       51768, 51769, 51770, 51771, 51772, 51773, 51774, 51775, 51776,\n",
       "       51777, 51778, 51779, 51780, 51781, 51782, 51783, 51784, 51785,\n",
       "       51786, 51787, 51788, 51789, 51790, 51791, 51792, 51793, 51794,\n",
       "       51795, 51796, 51797, 51798, 51799, 51800, 51801, 51802, 51803,\n",
       "       51804, 51805, 51806, 51807, 51808, 51809, 51810, 51811, 51812,\n",
       "       51813, 51814, 51815, 51816, 51817, 51818, 51819, 51820, 51821,\n",
       "       51822, 51823, 51824, 51825, 51826, 51827, 51828, 51829, 51830,\n",
       "       51831, 51832, 51833, 51834, 51835, 51836, 51837, 51838, 51839,\n",
       "       51840, 51841, 51842, 51843, 51844, 51845, 51846, 51847, 51848,\n",
       "       51849, 51850, 51851, 51852, 51853, 51854, 51855, 51856, 51857,\n",
       "       51858, 51859, 51860, 51861, 51862, 51863, 51864, 51865, 51866,\n",
       "       51867, 51868, 51869, 51870, 51871, 51872, 51873, 51874, 51875,\n",
       "       51876, 51877, 51878, 51879, 51880, 51881, 51882, 51883, 51884,\n",
       "       51885, 51886, 51887, 51888, 51889, 51890, 51891, 51892, 51893,\n",
       "       51894, 51895, 51896, 51897, 51898, 51899, 51900, 51901, 51902,\n",
       "       51903, 51904, 51905, 51906, 51907, 51908, 51909, 51910, 51911,\n",
       "       51912, 51913, 51914, 51915, 51916, 51917, 51918, 51919, 51920,\n",
       "       51921, 51922, 51923, 51924, 51925, 51926, 51927, 51928, 51929,\n",
       "       51930, 51931, 51932, 51933, 51934, 51935, 51936, 51937, 51938,\n",
       "       51939, 51940, 51941, 51942, 51943, 51944, 51945, 51946, 51947,\n",
       "       51948, 51949, 55300, 55301, 55302, 55303, 55304, 55305, 55306,\n",
       "       55307, 55308, 55309, 55310, 55311, 55312, 55313, 55314, 55315,\n",
       "       55316, 55317, 55318, 55319, 55320, 55321, 55322, 55323, 55324,\n",
       "       55325, 55326, 55327, 55328, 55329, 55330, 55331, 55332, 55333,\n",
       "       55334, 55335, 55336, 55337, 55338, 55339, 55340, 55341, 55342,\n",
       "       55343, 55344, 55345, 55346, 55347, 55348, 55349, 55350, 55351,\n",
       "       55352, 55353, 55354, 55355, 55356, 55357, 55358, 55359, 55360,\n",
       "       55361, 55362, 55363, 55364, 55365, 55366, 55367, 55368, 55369,\n",
       "       55370, 55371, 55372, 55373, 55374, 55375, 55376, 55377, 55378,\n",
       "       55379, 55380, 55381, 55382, 55383, 55384, 55385, 55386, 55387,\n",
       "       55388, 55389, 55390, 55391, 55392, 55393, 55394, 55395, 55396,\n",
       "       55397, 55398, 55399, 55400, 55401, 55402, 55403, 55404, 55405,\n",
       "       55406, 55407, 55408, 55409, 55410, 55411, 55412, 55413, 55414,\n",
       "       55415, 55416, 55417, 55418, 55419, 55420, 55421, 55422, 55423,\n",
       "       55424, 55425, 55426, 55427, 55428, 55429, 55430, 55431, 55432,\n",
       "       55433, 55434, 55435, 55436, 55437, 55438, 55439, 55440, 55441,\n",
       "       55442, 55443, 55444, 55445, 55446, 55447, 55448, 55449, 55450,\n",
       "       55451, 55452, 55453, 55454, 55455, 55456, 55457, 55458, 55459,\n",
       "       55460, 55461, 55462, 55463, 55464, 55465, 55466, 55467, 55468,\n",
       "       55469, 55470, 55471, 55472, 55473, 55474, 55475, 55476, 55477,\n",
       "       55478, 55479, 55480, 55481, 55482, 55483, 55484, 55485, 55486,\n",
       "       55487, 55488, 55489, 55490, 55491, 55492, 55493, 55494, 55495,\n",
       "       55496, 55497, 55498, 55499, 55500, 55501, 55502, 55503, 55504,\n",
       "       55505, 55506, 55507, 55508, 55509, 55510, 55511, 55512, 55513,\n",
       "       55514, 55515, 55516, 55517, 55518, 55519, 55520, 55521, 55522,\n",
       "       55523, 55524, 55525, 55526, 55527, 55528, 55529, 55530, 55531,\n",
       "       55532, 55533, 55534, 55535, 55536, 55537, 55538, 55539, 55540,\n",
       "       55541, 55542, 55543, 55544, 55545, 55546, 55547, 55548, 55549,\n",
       "       55550, 55551, 55552, 55553, 55554, 55555, 55556, 55557, 55558,\n",
       "       55559, 55560, 55561, 55562, 55563, 55564, 55565, 55566, 55567,\n",
       "       55568, 55569, 55570, 55571, 55572, 55573, 55574, 55575, 55576,\n",
       "       55577, 55578, 55579, 55580, 55581, 55582, 55583, 55584, 55585,\n",
       "       55586, 55587, 55588, 55589, 55590, 55591, 55592, 55593, 55594,\n",
       "       55595, 55596, 55597, 55598, 55599, 55600, 55601, 55602, 55603,\n",
       "       55604, 55605, 55606, 55607, 55608, 55609, 55610, 55611, 55612,\n",
       "       55613, 55614, 55615, 55616, 55617, 55618, 55619, 55620, 55621,\n",
       "       55622, 55623, 55624, 55625, 55626, 55627, 55628, 55629, 55630,\n",
       "       55631, 55632, 55633, 55634, 55635, 55636, 55637, 55638, 55639,\n",
       "       55640, 55641, 55642, 55643, 55644, 55645, 55646, 55647, 55648,\n",
       "       55649], dtype=int64)"
      ]
     },
     "execution_count": 198,
     "metadata": {},
     "output_type": "execute_result"
    }
   ],
   "source": [
    "np.where(np.isnan(data[0, :, 0]))[0][:1000]"
   ]
  },
  {
   "cell_type": "code",
   "execution_count": 16,
   "metadata": {},
   "outputs": [
    {
     "data": {
      "text/plain": [
       "1218321606445"
      ]
     },
     "execution_count": 16,
     "metadata": {},
     "output_type": "execute_result"
    }
   ],
   "source": [
    "annotations = ds.get_annotations('seizures')[i]\n",
    "onsets = "
   ]
  },
  {
   "cell_type": "code",
   "execution_count": 165,
   "metadata": {},
   "outputs": [
    {
     "data": {
      "text/plain": [
       "[<matplotlib.lines.Line2D at 0x2266b0c5b20>]"
      ]
     },
     "execution_count": 165,
     "metadata": {},
     "output_type": "execute_result"
    },
    {
     "data": {
      "image/png": "[encoded data removed]",
      "text/plain": [
       "<Figure size 432x288 with 1 Axes>"
      ]
     },
     "metadata": {
      "needs_background": "light"
     },
     "output_type": "display_data"
    }
   ],
   "source": [
    "plt.plot(np.sum(np.count_nonzero(np.isnan(data), axis=0), axis=1))"
   ]
  },
  {
   "cell_type": "code",
   "execution_count": 63,
   "metadata": {},
   "outputs": [
    {
     "data": {
      "text/plain": [
       "5779712"
      ]
     },
     "execution_count": 63,
     "metadata": {},
     "output_type": "execute_result"
    }
   ],
   "source": [
    "np.count_nonzero(np.isnan(data))"
   ]
  },
  {
   "cell_type": "code",
   "execution_count": 65,
   "metadata": {},
   "outputs": [
    {
     "data": {
      "text/plain": [
       "1892800"
      ]
     },
     "execution_count": 65,
     "metadata": {},
     "output_type": "execute_result"
    }
   ],
   "source": [
    "np.count_nonzero(~np.isnan(data))"
   ]
  },
  {
   "cell_type": "code",
   "execution_count": 73,
   "metadata": {},
   "outputs": [
    {
     "data": {
      "text/plain": [
       "datetime.datetime(2009, 7, 30, 20, 11, 18, tzinfo=datetime.timezone.utc)"
      ]
     },
     "execution_count": 73,
     "metadata": {},
     "output_type": "execute_result"
    }
   ],
   "source": []
  },
  {
   "cell_type": "code",
   "execution_count": null,
   "metadata": {},
   "outputs": [],
   "source": []
  },
  {
   "cell_type": "markdown",
   "metadata": {},
   "source": [
    "### Get annotations"
   ]
  },
  {
   "cell_type": "code",
   "execution_count": 67,
   "metadata": {},
   "outputs": [
    {
     "data": {
      "text/plain": [
       "{'Seizures': 45}"
      ]
     },
     "execution_count": 67,
     "metadata": {},
     "output_type": "execute_result"
    }
   ],
   "source": [
    "ds.get_annotation_layers()"
   ]
  },
  {
   "cell_type": "markdown",
   "metadata": {},
   "source": [
    "## Extract features"
   ]
  },
  {
   "cell_type": "code",
   "execution_count": 112,
   "metadata": {},
   "outputs": [
    {
     "data": {
      "text/plain": [
       "(2, 3997, 16)"
      ]
     },
     "execution_count": 112,
     "metadata": {},
     "output_type": "execute_result"
    }
   ],
   "source": [
    "data.shape"
   ]
  },
  {
   "cell_type": "markdown",
   "metadata": {},
   "source": [
    "# Fit logistic regression"
   ]
  },
  {
   "cell_type": "code",
   "execution_count": null,
   "metadata": {},
   "outputs": [],
   "source": []
  },
  {
   "cell_type": "markdown",
   "metadata": {},
   "source": [
    "## Evaluate logistic regression classifier"
   ]
  },
  {
   "cell_type": "markdown",
   "metadata": {},
   "source": [
    "## Plot circadian profile"
   ]
  },
  {
   "cell_type": "markdown",
   "metadata": {},
   "source": []
  },
  {
   "cell_type": "markdown",
   "metadata": {},
   "source": [
    "## Define von Mises prior"
   ]
  },
  {
   "cell_type": "code",
   "execution_count": 155,
   "metadata": {},
   "outputs": [],
   "source": [
    "import numpy as np"
   ]
  },
  {
   "cell_type": "markdown",
   "metadata": {},
   "source": [
    "## Evaluate circadian logistic regression"
   ]
  },
  {
   "cell_type": "code",
   "execution_count": null,
   "metadata": {},
   "outputs": [],
   "source": []
  },
  {
   "cell_type": "markdown",
   "metadata": {},
   "source": [
    "Concluding remarks"
   ]
  },
  {
   "cell_type": "markdown",
   "metadata": {},
   "source": []
  }
 ],
 "metadata": {
  "interpreter": {
   "hash": "066093eecd7f3e72c1efab8e824e9a6d4b0e5e2edfa08f9852f2d6e1a73a22d0"
  },
  "kernelspec": {
   "display_name": "Python 3.8.10 ('msc-WSmVxSSb')",
   "language": "python",
   "name": "python3"
  },
  "language_info": {
   "codemirror_mode": {
    "name": "ipython",
    "version": 3
   },
   "file_extension": ".py",
   "mimetype": "text/x-python",
   "name": "python",
   "nbconvert_exporter": "python",
   "pygments_lexer": "ipython3",
   "version": "3.8.10"
  },
  "orig_nbformat": 4
 },
 "nbformat": 4,
 "nbformat_minor": 2
}
