{
 "cells": [
  {
   "cell_type": "markdown",
   "metadata": {
    "pycharm": {
     "name": "#%% md\n"
    }
   },
   "source": [
    "## Evaluate Hawkes Process Model\n",
    "Noam Siegel, Ben Gurion University"
   ]
  },
  {
   "cell_type": "code",
   "execution_count": 18,
   "metadata": {
    "pycharm": {
     "is_executing": true,
     "name": "#%%\n"
    }
   },
   "outputs": [
    {
     "name": "stdout",
     "output_type": "stream",
     "text": [
      "The autoreload extension is already loaded. To reload it, use:\n",
      "  %reload_ext autoreload\n"
     ]
    }
   ],
   "source": [
    "import gpytorch\n",
    "import torch\n",
    "import yaml\n",
    "from matplotlib import pyplot as plt\n",
    "import numpy as np\n",
    "from scipy import stats\n",
    "\n",
    "from msc.canine_db_utils import get_record_start, get_onsets, get_ipp_training_data\n",
    "from msc.models import InteractingPointProcessGPModel, HawkesProcessGP\n",
    "%load_ext autoreload\n",
    "%autoreload 2"
   ]
  },
  {
   "cell_type": "code",
   "execution_count": 19,
   "metadata": {
    "collapsed": false,
    "jupyter": {
     "outputs_hidden": false
    },
    "pycharm": {
     "name": "#%%\n"
    }
   },
   "outputs": [
    {
     "data": {
      "text/plain": [
       "{'random_seed': 42,\n",
       " 'learning_rate': 0.01,\n",
       " 'n_epochs': 800,\n",
       " 'patience': 6,\n",
       " 'batch_size': 2048,\n",
       " 'inducing_time_step': 14400,\n",
       " 'cholesky_jitter_double': 0.1,\n",
       " 'real_time_step': 600,\n",
       " 'num_cycles': 0,\n",
       " 'version': '0.1.8',\n",
       " 'enable_progress_bar': True,\n",
       " 'fast_dev_run': False,\n",
       " 'graphic_verbose': True}"
      ]
     },
     "execution_count": 19,
     "metadata": {},
     "output_type": "execute_result"
    }
   ],
   "source": [
    "dog_num = 3\n",
    "model_version = '0.1.8'\n",
    "hparams_fpath = fr\"C:\\Users\\noam\\Repositories\\noamsgl\\msc\\results\\lightning_logs\\prior\\ipp\\ipp_prior\\{model_version}\\hparams.yaml\"\n",
    "\n",
    "with open(hparams_fpath, 'r') as stream:\n",
    "    hparams = yaml.safe_load(stream)\n",
    "\n",
    "train_x, train_y, inducing_points= get_ipp_training_data(dog_num, hparams)\n",
    "test_x = train_x[:10000]\n",
    "hparams"
   ]
  },
  {
   "cell_type": "code",
   "execution_count": 20,
   "metadata": {
    "collapsed": false,
    "jupyter": {
     "outputs_hidden": false
    },
    "pycharm": {
     "name": "#%%\n"
    }
   },
   "outputs": [],
   "source": [
    "state_dict = torch.load(fr\"C:\\Users\\noam\\Repositories\\noamsgl\\msc\\results\\lightning_logs\\prior\\ipp\\ipp_prior\\{model_version}\\checkpoints\\gp_ipp_state_dict.pth\")\n",
    "likelihood = gpytorch.likelihoods.BernoulliLikelihood()\n",
    "model = HawkesProcessGP(train_x, likelihood, inducing_points, num_cycles=hparams['num_cycles'])"
   ]
  },
  {
   "cell_type": "code",
   "execution_count": 21,
   "metadata": {},
   "outputs": [
    {
     "data": {
      "text/plain": [
       "OrderedDict([('variational_strategy.inducing_points',\n",
       "              tensor([[0.0000e+00],\n",
       "                      [1.0000e+00],\n",
       "                      [2.0000e+00],\n",
       "                      ...,\n",
       "                      [2.6970e+03],\n",
       "                      [2.6980e+03],\n",
       "                      [2.6990e+03]])),\n",
       "             ('variational_strategy.variational_params_initialized',\n",
       "              tensor(0)),\n",
       "             ('variational_strategy.updated_strategy', tensor(True)),\n",
       "             ('variational_strategy._variational_distribution.variational_mean',\n",
       "              tensor([0., 0., 0.,  ..., 0., 0., 0.])),\n",
       "             ('variational_strategy._variational_distribution.chol_variational_covar',\n",
       "              tensor([[1., 0., 0.,  ..., 0., 0., 0.],\n",
       "                      [0., 1., 0.,  ..., 0., 0., 0.],\n",
       "                      [0., 0., 1.,  ..., 0., 0., 0.],\n",
       "                      ...,\n",
       "                      [0., 0., 0.,  ..., 1., 0., 0.],\n",
       "                      [0., 0., 0.,  ..., 0., 1., 0.],\n",
       "                      [0., 0., 0.,  ..., 0., 0., 1.]])),\n",
       "             ('covar_module.kernels.0.kernels.0.raw_lengthscale',\n",
       "              tensor([[0.]])),\n",
       "             ('covar_module.kernels.0.kernels.0.raw_lengthscale_constraint.lower_bound',\n",
       "              tensor(0.)),\n",
       "             ('covar_module.kernels.0.kernels.0.raw_lengthscale_constraint.upper_bound',\n",
       "              tensor(inf)),\n",
       "             ('covar_module.kernels.0.kernels.1.raw_lengthscale',\n",
       "              tensor([[0.]])),\n",
       "             ('covar_module.kernels.0.kernels.1.raw_period_length',\n",
       "              tensor([[0.]])),\n",
       "             ('covar_module.kernels.0.kernels.1.raw_lengthscale_constraint.lower_bound',\n",
       "              tensor(0.)),\n",
       "             ('covar_module.kernels.0.kernels.1.raw_lengthscale_constraint.upper_bound',\n",
       "              tensor(inf)),\n",
       "             ('covar_module.kernels.0.kernels.1.raw_period_length_constraint.lower_bound',\n",
       "              tensor(0.)),\n",
       "             ('covar_module.kernels.0.kernels.1.raw_period_length_constraint.upper_bound',\n",
       "              tensor(inf)),\n",
       "             ('covar_module.kernels.1.raw_lengthscale', tensor([[0.]])),\n",
       "             ('covar_module.kernels.1.raw_lengthscale_constraint.lower_bound',\n",
       "              tensor(0.)),\n",
       "             ('covar_module.kernels.1.raw_lengthscale_constraint.upper_bound',\n",
       "              tensor(inf))])"
      ]
     },
     "execution_count": 21,
     "metadata": {},
     "output_type": "execute_result"
    }
   ],
   "source": [
    "model.state_dict()"
   ]
  },
  {
   "cell_type": "code",
   "execution_count": 22,
   "metadata": {
    "collapsed": false,
    "jupyter": {
     "outputs_hidden": false
    },
    "pycharm": {
     "name": "#%%\n"
    }
   },
   "outputs": [
    {
     "data": {
      "text/plain": [
       "Text(0.5, 1.0, 'Prior')"
      ]
     },
     "execution_count": 22,
     "metadata": {},
     "output_type": "execute_result"
    },
    {
     "data": {
      "image/png": "[encoded data removed]",
      "text/plain": [
       "<Figure size 432x288 with 1 Axes>"
      ]
     },
     "metadata": {
      "needs_background": "light"
     },
     "output_type": "display_data"
    }
   ],
   "source": [
    "# plot prior samples\n",
    "prior_distribution = model.likelihood(model(test_x))\n",
    "n_draws = 8\n",
    "for i in range(n_draws):\n",
    "    plt.plot(test_x, (prior_distribution.sample() + 2 * i))\n",
    "plt.xlabel(f\"time [{hparams['real_time_step']} * sec]\")\n",
    "plt.title('Prior')"
   ]
  },
  {
   "cell_type": "code",
   "execution_count": 23,
   "metadata": {
    "collapsed": false,
    "jupyter": {
     "outputs_hidden": false
    },
    "pycharm": {
     "name": "#%%\n"
    }
   },
   "outputs": [
    {
     "data": {
      "text/plain": [
       "<All keys matched successfully>"
      ]
     },
     "execution_count": 23,
     "metadata": {},
     "output_type": "execute_result"
    }
   ],
   "source": [
    "model.load_state_dict(state_dict)"
   ]
  },
  {
   "cell_type": "code",
   "execution_count": 24,
   "metadata": {
    "collapsed": false,
    "jupyter": {
     "outputs_hidden": false
    },
    "pycharm": {
     "name": "#%%\n"
    }
   },
   "outputs": [
    {
     "name": "stderr",
     "output_type": "stream",
     "text": [
      "C:\\Users\\noam\\.virtualenvs\\msc-WSmVxSSb\\lib\\site-packages\\gpytorch\\utils\\cholesky.py:38: NumericalWarning: A not p.d., added jitter of 1.0e-01 to the diagonal\n",
      "  warnings.warn(\n"
     ]
    },
    {
     "data": {
      "image/png": "[encoded data removed]",
      "text/plain": [
       "<Figure size 432x288 with 1 Axes>"
      ]
     },
     "metadata": {
      "needs_background": "light"
     },
     "output_type": "display_data"
    }
   ],
   "source": [
    "with gpytorch.settings.cholesky_jitter(double=hparams['cholesky_jitter_double']):\n",
    "    # plot posterior samples\n",
    "    posterior_distribution = model.likelihood(model(test_x))\n",
    "    n_draws = 8\n",
    "    for i in range(n_draws):\n",
    "        plt.plot(test_x, (posterior_distribution.sample() + 2 * i))\n",
    "    plt.xlabel(f\"time [{hparams['real_time_step']} * sec]\")\n",
    "    plt.title('Posterior')"
   ]
  },
  {
   "cell_type": "markdown",
   "metadata": {
    "pycharm": {
     "name": "#%% md\n"
    }
   },
   "source": [
    "## Get inter-seizure intervals\n",
    "In this section we will check the posterior distribution.\n",
    "We expect the mean and variance of the inter-seizure intervals to fluctuate around the observed values."
   ]
  },
  {
   "cell_type": "markdown",
   "metadata": {
    "pycharm": {
     "name": "#%% md\n"
    }
   },
   "source": [
    "### Observation intervals"
   ]
  },
  {
   "cell_type": "code",
   "execution_count": 25,
   "metadata": {
    "collapsed": false,
    "jupyter": {
     "outputs_hidden": false
    },
    "pycharm": {
     "name": "#%%\n"
    }
   },
   "outputs": [],
   "source": [
    "obs_intervals = train_y.nonzero().diff(dim=0).squeeze().double()"
   ]
  },
  {
   "cell_type": "code",
   "execution_count": 26,
   "metadata": {
    "collapsed": false,
    "jupyter": {
     "outputs_hidden": false
    },
    "pycharm": {
     "name": "#%%\n"
    }
   },
   "outputs": [
    {
     "data": {
      "text/plain": [
       "DescribeResult(nobs=44, minmax=(16.0, 34061.0), mean=1426.5227272727273, variance=27886033.604122624, skewness=5.5714936849082894, kurtosis=31.738722462165498)"
      ]
     },
     "execution_count": 26,
     "metadata": {},
     "output_type": "execute_result"
    }
   ],
   "source": [
    "stats.describe(obs_intervals)"
   ]
  },
  {
   "cell_type": "markdown",
   "metadata": {
    "pycharm": {
     "name": "#%% md\n"
    }
   },
   "source": [
    "### Draw posterior predictive interval samples"
   ]
  },
  {
   "cell_type": "code",
   "execution_count": null,
   "metadata": {
    "collapsed": false,
    "jupyter": {
     "outputs_hidden": false
    },
    "pycharm": {
     "name": "#%%\n"
    }
   },
   "outputs": [
    {
     "name": "stderr",
     "output_type": "stream",
     "text": [
      "C:\\Users\\noam\\.virtualenvs\\msc-WSmVxSSb\\lib\\site-packages\\gpytorch\\utils\\cholesky.py:38: NumericalWarning: A not p.d., added jitter of 1.0e-01 to the diagonal\n",
      "  warnings.warn(\n"
     ]
    }
   ],
   "source": [
    "n_samples = 100\n",
    "with gpytorch.settings.cholesky_jitter(double=hparams['cholesky_jitter_double']):\n",
    "    samples = likelihood(model(test_x)).sample((n_samples,))"
   ]
  },
  {
   "cell_type": "code",
   "execution_count": null,
   "metadata": {
    "collapsed": false,
    "jupyter": {
     "outputs_hidden": false
    },
    "pycharm": {
     "name": "#%%\n"
    }
   },
   "outputs": [],
   "source": [
    "samples.size()"
   ]
  },
  {
   "cell_type": "code",
   "execution_count": null,
   "metadata": {
    "collapsed": false,
    "jupyter": {
     "outputs_hidden": false
    },
    "pycharm": {
     "name": "#%%\n"
    }
   },
   "outputs": [],
   "source": [
    "intervals = [samples[i].nonzero().diff(dim=0).squeeze().double() for i in range(len(samples))]"
   ]
  },
  {
   "cell_type": "markdown",
   "metadata": {
    "pycharm": {
     "name": "#%% md\n"
    }
   },
   "source": [
    "### Plot test statistics"
   ]
  },
  {
   "cell_type": "code",
   "execution_count": null,
   "metadata": {
    "collapsed": false,
    "jupyter": {
     "outputs_hidden": false
    },
    "pycharm": {
     "name": "#%%\n"
    }
   },
   "outputs": [],
   "source": [
    "intervals_means = [torch.mean(inters).item() for inters in intervals]\n",
    "plt.hist(intervals_means, bins=20, label='posterior samples')\n",
    "plt.vlines(torch.mean(obs_intervals), 0, 100, colors='r', label='observation')\n",
    "plt.legend(loc = 'upper left')\n",
    "plt.xlabel(f\"mean interval length [{hparams['real_time_step']} * sec]\")\n",
    "plt.title('mean')\n",
    "# place a text box with the p_value in the upper right in axes coords\n",
    "p_value = len([interv_mean for interv_mean in intervals_means if interv_mean < torch.mean(obs_intervals)])/len(intervals_means)\n",
    "ax = plt.gca()\n",
    "textstr = r'$P_{value}=%.2f$' % (p_value)\n",
    "props = dict(boxstyle='round', facecolor='wheat', alpha=0.5)\n",
    "ax.text(0.1, 0.75, textstr, transform=ax.transAxes, fontsize=14,\n",
    "        verticalalignment='top', horizontalalignment='left',bbox=props);"
   ]
  },
  {
   "cell_type": "code",
   "execution_count": null,
   "metadata": {
    "collapsed": false,
    "jupyter": {
     "outputs_hidden": false
    },
    "pycharm": {
     "name": "#%%\n"
    }
   },
   "outputs": [],
   "source": [
    "intervals_vars = [torch.var(inters).item() for inters in intervals]\n",
    "plt.hist(intervals_vars, bins=20, label=\"posterior samples\")\n",
    "plt.vlines(torch.var(obs_intervals), 0, 100, colors='r', label=\"observation\")\n",
    "plt.legend(loc = 'upper left')\n",
    "plt.xlabel(f\"variance of interval length [{hparams['real_time_step']} * sec]\")\n",
    "plt.title(f\"variance\")\n",
    "# place a text box with the p_value in the upper right in axes coords\n",
    "p_value = len([interv_var for interv_var in intervals_vars if interv_var < torch.var(obs_intervals)])/len(intervals_vars)\n",
    "ax = plt.gca()\n",
    "textstr = r'$P_{value}=%.2f$' % (p_value)\n",
    "props = dict(boxstyle='round', facecolor='wheat', alpha=0.5)\n",
    "ax.text(0.1, 0.75, textstr, transform=ax.transAxes, fontsize=14,\n",
    "        verticalalignment='top', horizontalalignment='left',bbox=props);"
   ]
  },
  {
   "cell_type": "code",
   "execution_count": null,
   "metadata": {
    "collapsed": false,
    "jupyter": {
     "outputs_hidden": false
    },
    "pycharm": {
     "name": "#%%\n"
    }
   },
   "outputs": [],
   "source": [
    "plt.scatter(intervals_means, intervals_vars, label=\"posterior samples\")\n",
    "plt.scatter(torch.mean(obs_intervals), torch.var(obs_intervals), c='r', label=\"observation\")\n",
    "plt.xlabel(f\"mean [{hparams['real_time_step']} * sec]\")\n",
    "plt.ylabel(f\"variance [{hparams['real_time_step']} * sec]\")\n",
    "plt.legend()\n",
    "plt.title('intervals posterior predictive checks');"
   ]
  },
  {
   "cell_type": "code",
   "execution_count": null,
   "metadata": {
    "collapsed": false,
    "jupyter": {
     "outputs_hidden": false
    },
    "pycharm": {
     "name": "#%%\n"
    }
   },
   "outputs": [],
   "source": []
  },
  {
   "cell_type": "code",
   "execution_count": null,
   "outputs": [],
   "source": [],
   "metadata": {
    "collapsed": false,
    "pycharm": {
     "name": "#%%\n"
    }
   }
  },
  {
   "cell_type": "code",
   "execution_count": null,
   "metadata": {},
   "outputs": [],
   "source": []
  }
 ],
 "metadata": {
  "kernelspec": {
   "display_name": "Python 3 (ipykernel)",
   "language": "python",
   "name": "python3"
  },
  "language_info": {
   "codemirror_mode": {
    "name": "ipython",
    "version": 3
   },
   "file_extension": ".py",
   "mimetype": "text/x-python",
   "name": "python",
   "nbconvert_exporter": "python",
   "pygments_lexer": "ipython3",
   "version": "3.8.10"
  }
 },
 "nbformat": 4,
 "nbformat_minor": 4
}