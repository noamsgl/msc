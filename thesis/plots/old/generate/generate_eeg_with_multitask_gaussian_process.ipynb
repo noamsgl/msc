{
 "cells": [
  {
   "cell_type": "markdown",
   "metadata": {},
   "source": [
    "# Generate EEG with Gaussian Processes\n",
    "January 2022\n",
    "Noam Siegel"
   ]
  },
  {
   "cell_type": "code",
   "execution_count": 1,
   "metadata": {},
   "outputs": [
    {
     "name": "stderr",
     "output_type": "stream",
     "text": [
      "C:\\Users\\noam\\.virtualenvs\\msc-WSmVxSSb\\lib\\site-packages\\torchvision\\io\\image.py:11: UserWarning: Failed to load image Python extension: Could not find module 'C:\\Users\\noam\\.virtualenvs\\msc-WSmVxSSb\\Lib\\site-packages\\torchvision\\image.pyd' (or one of its dependencies). Try using the full path with constructor syntax.\n",
      "  warn(f\"Failed to load image Python extension: {e}\")\n",
      "Global seed set to 42\n"
     ]
    }
   ],
   "source": [
    "import gpytorch\n",
    "import matplotlib.pyplot as plt\n",
    "import numpy as np\n",
    "import seaborn as sns\n",
    "import sklearn\n",
    "import torch\n",
    "from matplotlib.colors import LogNorm\n",
    "from mlxtend.plotting import plot_decision_regions\n",
    "from pytorch_lightning import seed_everything\n",
    "from sklearn import preprocessing, svm, mixture\n",
    "from sklearn.manifold import TSNE\n",
    "from sklearn.model_selection import train_test_split\n",
    "\n",
    "from msc.results_collectors import GPResultsCollector\n",
    "\n",
    "seed_everything(42)\n",
    "%load_ext autoreload\n",
    "%autoreload 2"
   ]
  },
  {
   "cell_type": "markdown",
   "metadata": {},
   "source": []
  },
  {
   "cell_type": "code",
   "execution_count": 2,
   "metadata": {
    "pycharm": {
     "name": "#%%\n"
    }
   },
   "outputs": [
    {
     "name": "stdout",
     "output_type": "stream",
     "text": [
      "getting page=1/1\n"
     ]
    },
    {
     "name": "stderr",
     "output_type": "stream",
     "text": [
      "C:\\Users\\noam\\.virtualenvs\\msc-WSmVxSSb\\lib\\site-packages\\sklearn\\manifold\\_t_sne.py:780: FutureWarning: The default initialization in TSNE will change from 'random' to 'pca' in 1.2.\n",
      "  warnings.warn(\n",
      "C:\\Users\\noam\\.virtualenvs\\msc-WSmVxSSb\\lib\\site-packages\\sklearn\\manifold\\_t_sne.py:790: FutureWarning: The default learning rate in TSNE will change from 200.0 to 'auto' in 1.2.\n",
      "  warnings.warn(\n"
     ]
    }
   ],
   "source": [
    " # get results of multitask (pair) GP params MLE\n",
    "requested_project_name = \"inference/pairs\"\n",
    "requested_params = ['covar_module.data_covar_module.raw_outputscale',\n",
    "                    'covar_module.data_covar_module.base_kernel.raw_lengthscale',\n",
    "                    'covar_module.task_covar_module.covar_factor[0]',\n",
    "                    'covar_module.task_covar_module.covar_factor[1]',\n",
    "                    'covar_module.task_covar_module.raw_var[0]',\n",
    "                    'covar_module.task_covar_module.raw_var[1]']\n",
    "\n",
    "results_df = GPResultsCollector(requested_project_name, requested_params, n_pages=1).results_df\n",
    "\n",
    "# get parameter values\n",
    "X = results_df[requested_params].values\n",
    "\n",
    "# calculate t-SNE values of parameters\n",
    "tsne = TSNE(n_components=2)\n",
    "tsne_results = tsne.fit_transform(X)\n",
    "\n",
    "# add t-SNE results to results_df\n",
    "results_df['tsne-2d-one'] = tsne_results[:, 0]\n",
    "results_df['tsne-2d-two'] = tsne_results[:, 1]"
   ]
  },
  {
   "cell_type": "code",
   "execution_count": 3,
   "metadata": {
    "pycharm": {
     "name": "#%%\n"
    }
   },
   "outputs": [
    {
     "data": {
      "text/plain": "     covar_module.data_covar_module.raw_outputscale  \\\n0                                         -0.751325   \n1                                         -1.112682   \n3                                         -1.263984   \n4                                         -1.944627   \n5                                         -1.012127   \n..                                              ...   \n215                                       -1.978943   \n216                                       -1.300723   \n217                                       -1.694941   \n218                                       -2.076019   \n219                                       -2.913094   \n\n     covar_module.data_covar_module.base_kernel.raw_lengthscale  \\\n0                                            -4.126687            \n1                                            -4.066656            \n3                                            -4.304957            \n4                                            -4.084621            \n5                                            -3.766011            \n..                                                 ...            \n215                                          -4.717083            \n216                                          -4.455794            \n217                                          -4.809149            \n218                                          -4.869389            \n219                                          -4.816840            \n\n     covar_module.task_covar_module.covar_factor[0]  \\\n0                                         -0.570245   \n1                                         -0.408791   \n3                                         -0.627055   \n4                                         -1.423662   \n5                                          0.086742   \n..                                              ...   \n215                                        0.349365   \n216                                        0.309201   \n217                                       -0.371303   \n218                                       -0.461286   \n219                                       -0.721885   \n\n     covar_module.task_covar_module.covar_factor[1]  \\\n0                                         -0.212416   \n1                                         -0.692524   \n3                                         -0.635098   \n4                                         -0.255829   \n5                                         -0.719742   \n..                                              ...   \n215                                        0.128788   \n216                                        0.060063   \n217                                       -0.003334   \n218                                       -0.051278   \n219                                       -0.069116   \n\n     covar_module.task_covar_module.raw_var[0]  \\\n0                                    -1.749315   \n1                                    -0.923096   \n3                                    -2.228269   \n4                                     0.726123   \n5                                     0.926390   \n..                                         ...   \n215                                  -4.230953   \n216                                  -3.371378   \n217                                  -2.323230   \n218                                  -3.914804   \n219                                  -6.285680   \n\n     covar_module.task_covar_module.raw_var[1]  label_desc  \n0                                    -0.920578       ictal  \n1                                    -1.005680       ictal  \n3                                    -1.859585       ictal  \n4                                     0.289481       ictal  \n5                                    -0.764195       ictal  \n..                                         ...         ...  \n215                                  -2.990900  interictal  \n216                                  -2.398291  interictal  \n217                                  -1.633553  interictal  \n218                                  -1.546423  interictal  \n219                                  -1.307249  interictal  \n\n[216 rows x 7 columns]",
      "text/html": "<div>\n<style scoped>\n    .dataframe tbody tr th:only-of-type {\n        vertical-align: middle;\n    }\n\n    .dataframe tbody tr th {\n        vertical-align: top;\n    }\n\n    .dataframe thead th {\n        text-align: right;\n    }\n</style>\n<table border=\"1\" class=\"dataframe\">\n  <thead>\n    <tr style=\"text-align: right;\">\n      <th></th>\n      <th>covar_module.data_covar_module.raw_outputscale</th>\n      <th>covar_module.data_covar_module.base_kernel.raw_lengthscale</th>\n      <th>covar_module.task_covar_module.covar_factor[0]</th>\n      <th>covar_module.task_covar_module.covar_factor[1]</th>\n      <th>covar_module.task_covar_module.raw_var[0]</th>\n      <th>covar_module.task_covar_module.raw_var[1]</th>\n      <th>label_desc</th>\n    </tr>\n  </thead>\n  <tbody>\n    <tr>\n      <th>0</th>\n      <td>-0.751325</td>\n      <td>-4.126687</td>\n      <td>-0.570245</td>\n      <td>-0.212416</td>\n      <td>-1.749315</td>\n      <td>-0.920578</td>\n      <td>ictal</td>\n    </tr>\n    <tr>\n      <th>1</th>\n      <td>-1.112682</td>\n      <td>-4.066656</td>\n      <td>-0.408791</td>\n      <td>-0.692524</td>\n      <td>-0.923096</td>\n      <td>-1.005680</td>\n      <td>ictal</td>\n    </tr>\n    <tr>\n      <th>3</th>\n      <td>-1.263984</td>\n      <td>-4.304957</td>\n      <td>-0.627055</td>\n      <td>-0.635098</td>\n      <td>-2.228269</td>\n      <td>-1.859585</td>\n      <td>ictal</td>\n    </tr>\n    <tr>\n      <th>4</th>\n      <td>-1.944627</td>\n      <td>-4.084621</td>\n      <td>-1.423662</td>\n      <td>-0.255829</td>\n      <td>0.726123</td>\n      <td>0.289481</td>\n      <td>ictal</td>\n    </tr>\n    <tr>\n      <th>5</th>\n      <td>-1.012127</td>\n      <td>-3.766011</td>\n      <td>0.086742</td>\n      <td>-0.719742</td>\n      <td>0.926390</td>\n      <td>-0.764195</td>\n      <td>ictal</td>\n    </tr>\n    <tr>\n      <th>...</th>\n      <td>...</td>\n      <td>...</td>\n      <td>...</td>\n      <td>...</td>\n      <td>...</td>\n      <td>...</td>\n      <td>...</td>\n    </tr>\n    <tr>\n      <th>215</th>\n      <td>-1.978943</td>\n      <td>-4.717083</td>\n      <td>0.349365</td>\n      <td>0.128788</td>\n      <td>-4.230953</td>\n      <td>-2.990900</td>\n      <td>interictal</td>\n    </tr>\n    <tr>\n      <th>216</th>\n      <td>-1.300723</td>\n      <td>-4.455794</td>\n      <td>0.309201</td>\n      <td>0.060063</td>\n      <td>-3.371378</td>\n      <td>-2.398291</td>\n      <td>interictal</td>\n    </tr>\n    <tr>\n      <th>217</th>\n      <td>-1.694941</td>\n      <td>-4.809149</td>\n      <td>-0.371303</td>\n      <td>-0.003334</td>\n      <td>-2.323230</td>\n      <td>-1.633553</td>\n      <td>interictal</td>\n    </tr>\n    <tr>\n      <th>218</th>\n      <td>-2.076019</td>\n      <td>-4.869389</td>\n      <td>-0.461286</td>\n      <td>-0.051278</td>\n      <td>-3.914804</td>\n      <td>-1.546423</td>\n      <td>interictal</td>\n    </tr>\n    <tr>\n      <th>219</th>\n      <td>-2.913094</td>\n      <td>-4.816840</td>\n      <td>-0.721885</td>\n      <td>-0.069116</td>\n      <td>-6.285680</td>\n      <td>-1.307249</td>\n      <td>interictal</td>\n    </tr>\n  </tbody>\n</table>\n<p>216 rows × 7 columns</p>\n</div>"
     },
     "execution_count": 3,
     "metadata": {},
     "output_type": "execute_result"
    }
   ],
   "source": [
    "results_df[requested_params + ['label_desc']]"
   ]
  },
  {
   "cell_type": "code",
   "execution_count": 4,
   "metadata": {
    "pycharm": {
     "name": "#%%\n"
    }
   },
   "outputs": [
    {
     "data": {
      "text/plain": "Text(0.5, 0.98, '2-channels Multitask Matern Params for Dog_1 Dataset')"
     },
     "execution_count": 4,
     "metadata": {},
     "output_type": "execute_result"
    },
    {
     "data": {
      "text/plain": "<Figure size 432x288 with 1 Axes>",
      "image/png": "[encoded data removed]"
     },
     "metadata": {
      "needs_background": "light"
     },
     "output_type": "display_data"
    }
   ],
   "source": [
    "# plot t-sne results\n",
    "sns.scatterplot(data=results_df,\n",
    "              x='tsne-2d-one', y='tsne-2d-two',\n",
    "              # hue_order=hue_order,\n",
    "              hue=\"label_desc\", palette=\"muted\", legend=True)\n",
    "plt.suptitle(\"2-channels Multitask Matern Params for Dog_1 Dataset\")"
   ]
  },
  {
   "cell_type": "markdown",
   "metadata": {},
   "source": [
    "## Check AUC ROC"
   ]
  },
  {
   "cell_type": "code",
   "execution_count": 20,
   "metadata": {
    "pycharm": {
     "name": "#%%\n"
    }
   },
   "outputs": [
    {
     "data": {
      "text/plain": "SVC(kernel='linear', probability=True)"
     },
     "execution_count": 20,
     "metadata": {},
     "output_type": "execute_result"
    }
   ],
   "source": [
    "# encode labels\n",
    "le = preprocessing.LabelEncoder()\n",
    "le.fit(results_df.label_desc)\n",
    "results_df[\"label\"] = le.transform(results_df.label_desc)\n",
    "\n",
    "# get all data\n",
    "X = results_df[requested_params].to_numpy()\n",
    "y = results_df[\"label\"].to_numpy()\n",
    "\n",
    "# split train, test\n",
    "X_train, X_test, y_train, y_test = train_test_split(X, y)\n",
    "\n",
    "# train a classifier\n",
    "clf = svm.SVC(kernel='linear', probability=True)\n",
    "clf.fit(X, y)"
   ]
  },
  {
   "cell_type": "code",
   "execution_count": 13,
   "metadata": {},
   "outputs": [
    {
     "data": {
      "text/plain": "<Figure size 432x288 with 1 Axes>",
      "image/png": "[encoded data removed]"
     },
     "metadata": {
      "needs_background": "light"
     },
     "output_type": "display_data"
    },
    {
     "name": "stdout",
     "output_type": "stream",
     "text": [
      "mean_auc=0.971703197987783\n"
     ]
    }
   ],
   "source": [
    "def plot_cv_roc_curve():\n",
    "    from sklearn.metrics import auc\n",
    "    from sklearn.metrics import RocCurveDisplay\n",
    "    from sklearn.model_selection import StratifiedKFold\n",
    "    ############################################################################\n",
    "    # Classification and ROC analysis\n",
    "\n",
    "    # Run classifier with cross-validation and plot ROC curves\n",
    "    cv = StratifiedKFold(n_splits=6)\n",
    "    classifier = svm.SVC(kernel=\"linear\", probability=True, random_state=42)\n",
    "\n",
    "    tprs = []\n",
    "    aucs = []\n",
    "    mean_fpr = np.linspace(0, 1, 100)\n",
    "\n",
    "    fig, ax = plt.subplots()\n",
    "    for i, (train, test) in enumerate(cv.split(X, y)):\n",
    "        classifier.fit(X[train], y[train])\n",
    "        viz = RocCurveDisplay.from_estimator(\n",
    "            classifier,\n",
    "            X[test],\n",
    "            y[test],\n",
    "            name=\"ROC fold {}\".format(i),\n",
    "            alpha=0.3,\n",
    "            lw=1,\n",
    "            ax=ax,\n",
    "        )\n",
    "        interp_tpr = np.interp(mean_fpr, viz.fpr, viz.tpr)\n",
    "        interp_tpr[0] = 0.0\n",
    "        tprs.append(interp_tpr)\n",
    "        aucs.append(viz.roc_auc)\n",
    "\n",
    "    ax.plot([0, 1], [0, 1], linestyle=\"--\", lw=2, color=\"r\", label=\"Chance\", alpha=0.8)\n",
    "\n",
    "    mean_tpr = np.mean(tprs, axis=0)\n",
    "    mean_tpr[-1] = 1.0\n",
    "    mean_auc = auc(mean_fpr, mean_tpr)\n",
    "    std_auc = np.std(aucs)\n",
    "    ax.plot(\n",
    "        mean_fpr,\n",
    "        mean_tpr,\n",
    "        color=\"b\",\n",
    "        label=r\"Mean ROC (AUC = %0.2f $\\pm$ %0.2f)\" % (mean_auc, std_auc),\n",
    "        lw=2,\n",
    "        alpha=0.8,\n",
    "    )\n",
    "\n",
    "    std_tpr = np.std(tprs, axis=0)\n",
    "    tprs_upper = np.minimum(mean_tpr + std_tpr, 1)\n",
    "    tprs_lower = np.maximum(mean_tpr - std_tpr, 0)\n",
    "    ax.fill_between(\n",
    "        mean_fpr,\n",
    "        tprs_lower,\n",
    "        tprs_upper,\n",
    "        color=\"grey\",\n",
    "        alpha=0.2,\n",
    "        label=r\"$\\pm$ 1 std. dev.\",\n",
    "    )\n",
    "\n",
    "    ax.set(\n",
    "        xlim=[-0.05, 1.05],\n",
    "        ylim=[-0.05, 1.05],\n",
    "        title=\"5-fold ROC of 2-channel Multitask GP Params\\nDog 1 Dataset\",\n",
    "    )\n",
    "    ax.legend(loc=\"lower right\")\n",
    "    plt.show()\n",
    "    print(f\"{mean_auc=}\")\n",
    "plot_cv_roc_curve()"
   ]
  },
  {
   "cell_type": "markdown",
   "metadata": {},
   "source": [
    "## Density estimation\n",
    "We will use sklearn's Gaussian mixture models fit to the interictal data."
   ]
  },
  {
   "cell_type": "code",
   "execution_count": 28,
   "metadata": {
    "pycharm": {
     "name": "#%%\n"
    }
   },
   "outputs": [],
   "source": [
    "# fit a Gaussian Mixture Model with two components\n",
    "gmm = mixture.GaussianMixture(n_components=2, covariance_type=\"full\")\n",
    "gmm.fit(X)\n",
    "\n",
    "def plot_gmm_contour_plot():\n",
    "    # display predicted scores by the model as a contour plot\n",
    "    x = np.linspace(-10.0, 10.0)\n",
    "    y = np.linspace(-10.0, 10.0)\n",
    "    X, Y = np.meshgrid(x, y)\n",
    "    XX = np.array([X.ravel(), Y.ravel()]).T\n",
    "    Z = -gmm.score_samples(XX)\n",
    "    Z = Z.reshape(X.shape)\n",
    "\n",
    "    CS = plt.contour(\n",
    "        X, Y, Z, norm=LogNorm(vmin=1.0, vmax=1000.0), levels=np.logspace(0, 3, 10)\n",
    "    )\n",
    "    CB = plt.colorbar(CS, shrink=0.8, extend=\"both\")\n",
    "    plt.scatter(X[:, 0], X[:, 1], 0.8)\n",
    "\n",
    "    # add axes annotations\n",
    "    plt.xlabel(requested_params[0])\n",
    "    plt.ylabel(requested_params[1])\n",
    "\n",
    "    # add title\n",
    "    plt.title(\"Negative log-likelihood predicted by a GMM\\nFit to interictal\")\n",
    "    plt.axis(\"tight\")\n",
    "    plt.show()\n",
    "\n",
    "# plot_gmm_contour_plot()  # plots in 2-d but multitask EEG has more than 2 features."
   ]
  },
  {
   "cell_type": "markdown",
   "metadata": {},
   "source": [
    "## Sample from density estimator"
   ]
  },
  {
   "cell_type": "code",
   "execution_count": 32,
   "metadata": {
    "pycharm": {
     "name": "#%%\n"
    }
   },
   "outputs": [],
   "source": [
    "# sample GP model params\n",
    "params, _ = gmm.sample()"
   ]
  },
  {
   "cell_type": "markdown",
   "metadata": {},
   "source": []
  },
  {
   "cell_type": "code",
   "execution_count": 34,
   "metadata": {
    "pycharm": {
     "name": "#%%\n"
    }
   },
   "outputs": [],
   "source": [
    "class multiChannelEEGGPModel(gpytorch.models.ExactGP):\n",
    "    def __init__(self, train_x, train_y, likelihood):\n",
    "        gpytorch.models.ExactGP.__init__(self, train_x, train_y, likelihood)\n",
    "        num_tasks = train_y.size(-1)\n",
    "\n",
    "        self.mean_module = gpytorch.means.MultitaskMean(\n",
    "            gpytorch.means.ZeroMean(), num_tasks=num_tasks\n",
    "        )\n",
    "        self.covar_module = gpytorch.kernels.MultitaskKernel(\n",
    "            gpytorch.kernels.MaternKernel(1.5),\n",
    "            num_tasks=num_tasks, rank=num_tasks\n",
    "        )\n",
    "\n",
    "    def forward(self, x):\n",
    "        mean_x = self.mean_module(x)\n",
    "        cover_x = self.covar_module(x)\n",
    "        return gpytorch.distributions.MultitaskMultivariateNormal(mean_x, cover_x)"
   ]
  },
  {
   "cell_type": "markdown",
   "metadata": {},
   "source": [
    "## Initialize Gaussian process from sampled params"
   ]
  },
  {
   "cell_type": "markdown",
   "source": [],
   "metadata": {
    "collapsed": false,
    "pycharm": {
     "name": "#%% md\n"
    }
   }
  },
  {
   "cell_type": "code",
   "execution_count": 45,
   "outputs": [
    {
     "data": {
      "text/plain": "multiChannelEEGGPModel(\n  (likelihood): MultitaskGaussianLikelihood(\n    (raw_task_noises_constraint): GreaterThan(1.000E-04)\n    (raw_noise_constraint): GreaterThan(1.000E-04)\n  )\n  (mean_module): MultitaskMean(\n    (base_means): ModuleList(\n      (0): ZeroMean()\n    )\n  )\n  (covar_module): MultitaskKernel(\n    (task_covar_module): IndexKernel(\n      (raw_var_constraint): Positive()\n    )\n    (data_covar_module): MaternKernel(\n      (raw_lengthscale_constraint): Positive()\n    )\n  )\n)"
     },
     "execution_count": 45,
     "metadata": {},
     "output_type": "execute_result"
    }
   ],
   "source": [
    "requ"
   ],
   "metadata": {
    "collapsed": false,
    "pycharm": {
     "name": "#%%\n"
    }
   }
  },
  {
   "cell_type": "code",
   "execution_count": 46,
   "outputs": [
    {
     "data": {
      "text/plain": "['covar_module.data_covar_module.raw_outputscale',\n 'covar_module.data_covar_module.base_kernel.raw_lengthscale',\n 'covar_module.task_covar_module.covar_factor[0]',\n 'covar_module.task_covar_module.covar_factor[1]',\n 'covar_module.task_covar_module.raw_var[0]',\n 'covar_module.task_covar_module.raw_var[1]']"
     },
     "execution_count": 46,
     "metadata": {},
     "output_type": "execute_result"
    }
   ],
   "source": [
    "requested_params"
   ],
   "metadata": {
    "collapsed": false,
    "pycharm": {
     "name": "#%%\n"
    }
   }
  },
  {
   "cell_type": "code",
   "execution_count": 52,
   "outputs": [
    {
     "data": {
      "text/plain": "Parameter containing:\ntensor([], size=(0, 0), requires_grad=True)"
     },
     "execution_count": 52,
     "metadata": {},
     "output_type": "execute_result"
    }
   ],
   "source": [
    "model.covar_module.task_covar_module.covar_factor"
   ],
   "metadata": {
    "collapsed": false,
    "pycharm": {
     "name": "#%%\n"
    }
   }
  },
  {
   "cell_type": "code",
   "execution_count": 43,
   "metadata": {
    "pycharm": {
     "name": "#%%\n"
    }
   },
   "outputs": [
    {
     "ename": "AttributeError",
     "evalue": "'MultitaskKernel' object has no attribute 'raw_outputscale'",
     "output_type": "error",
     "traceback": [
      "\u001B[1;31m---------------------------------------------------------------------------\u001B[0m",
      "\u001B[1;31mAttributeError\u001B[0m                            Traceback (most recent call last)",
      "File \u001B[1;32m~\\.virtualenvs\\msc-WSmVxSSb\\lib\\site-packages\\gpytorch\\module.py:433\u001B[0m, in \u001B[0;36mModule.__getattr__\u001B[1;34m(self, name)\u001B[0m\n\u001B[0;32m    432\u001B[0m \u001B[38;5;28;01mtry\u001B[39;00m:\n\u001B[1;32m--> 433\u001B[0m     \u001B[38;5;28;01mreturn\u001B[39;00m \u001B[38;5;28;43msuper\u001B[39;49m\u001B[43m(\u001B[49m\u001B[43m)\u001B[49m\u001B[38;5;241;43m.\u001B[39;49m\u001B[38;5;21;43m__getattribute__\u001B[39;49m\u001B[43m(\u001B[49m\u001B[43mname\u001B[49m\u001B[43m)\u001B[49m\n\u001B[0;32m    434\u001B[0m \u001B[38;5;28;01mexcept\u001B[39;00m \u001B[38;5;167;01mAttributeError\u001B[39;00m:\n",
      "\u001B[1;31mAttributeError\u001B[0m: 'MultitaskKernel' object has no attribute 'raw_outputscale'",
      "\nDuring handling of the above exception, another exception occurred:\n",
      "\u001B[1;31mAttributeError\u001B[0m                            Traceback (most recent call last)",
      "Input \u001B[1;32mIn [43]\u001B[0m, in \u001B[0;36m<module>\u001B[1;34m\u001B[0m\n\u001B[0;32m      4\u001B[0m times \u001B[38;5;241m=\u001B[39m torch\u001B[38;5;241m.\u001B[39mlinspace(\u001B[38;5;241m0\u001B[39m, \u001B[38;5;241m1\u001B[39m, \u001B[38;5;241m401\u001B[39m)\n\u001B[0;32m      5\u001B[0m model \u001B[38;5;241m=\u001B[39m multiChannelEEGGPModel(torch\u001B[38;5;241m.\u001B[39mTensor(), torch\u001B[38;5;241m.\u001B[39mTensor(), likelihood)\n\u001B[1;32m----> 6\u001B[0m \u001B[43mmodel\u001B[49m\u001B[38;5;241;43m.\u001B[39;49m\u001B[43mcovar_module\u001B[49m\u001B[38;5;241;43m.\u001B[39;49m\u001B[43mraw_outputscale\u001B[49m\u001B[38;5;241m.\u001B[39mdata\u001B[38;5;241m.\u001B[39mfill_(params[\u001B[38;5;241m0\u001B[39m, \u001B[38;5;241m0\u001B[39m])\n\u001B[0;32m      7\u001B[0m model\u001B[38;5;241m.\u001B[39mcovar_module\u001B[38;5;241m.\u001B[39mbase_kernel\u001B[38;5;241m.\u001B[39mraw_lengthscale\u001B[38;5;241m.\u001B[39mdata\u001B[38;5;241m.\u001B[39mfill_(params[\u001B[38;5;241m0\u001B[39m, \u001B[38;5;241m1\u001B[39m])\n",
      "File \u001B[1;32m~\\.virtualenvs\\msc-WSmVxSSb\\lib\\site-packages\\gpytorch\\module.py:435\u001B[0m, in \u001B[0;36mModule.__getattr__\u001B[1;34m(self, name)\u001B[0m\n\u001B[0;32m    433\u001B[0m     \u001B[38;5;28;01mreturn\u001B[39;00m \u001B[38;5;28msuper\u001B[39m()\u001B[38;5;241m.\u001B[39m\u001B[38;5;21m__getattribute__\u001B[39m(name)\n\u001B[0;32m    434\u001B[0m \u001B[38;5;28;01mexcept\u001B[39;00m \u001B[38;5;167;01mAttributeError\u001B[39;00m:\n\u001B[1;32m--> 435\u001B[0m     \u001B[38;5;28;01mraise\u001B[39;00m e\n",
      "File \u001B[1;32m~\\.virtualenvs\\msc-WSmVxSSb\\lib\\site-packages\\gpytorch\\module.py:430\u001B[0m, in \u001B[0;36mModule.__getattr__\u001B[1;34m(self, name)\u001B[0m\n\u001B[0;32m    428\u001B[0m \u001B[38;5;28;01mdef\u001B[39;00m \u001B[38;5;21m__getattr__\u001B[39m(\u001B[38;5;28mself\u001B[39m, name):\n\u001B[0;32m    429\u001B[0m     \u001B[38;5;28;01mtry\u001B[39;00m:\n\u001B[1;32m--> 430\u001B[0m         \u001B[38;5;28;01mreturn\u001B[39;00m \u001B[38;5;28;43msuper\u001B[39;49m\u001B[43m(\u001B[49m\u001B[43m)\u001B[49m\u001B[38;5;241;43m.\u001B[39;49m\u001B[38;5;21;43m__getattr__\u001B[39;49m\u001B[43m(\u001B[49m\u001B[43mname\u001B[49m\u001B[43m)\u001B[49m\n\u001B[0;32m    431\u001B[0m     \u001B[38;5;28;01mexcept\u001B[39;00m \u001B[38;5;167;01mAttributeError\u001B[39;00m \u001B[38;5;28;01mas\u001B[39;00m e:\n\u001B[0;32m    432\u001B[0m         \u001B[38;5;28;01mtry\u001B[39;00m:\n",
      "File \u001B[1;32m~\\.virtualenvs\\msc-WSmVxSSb\\lib\\site-packages\\torch\\nn\\modules\\module.py:1177\u001B[0m, in \u001B[0;36mModule.__getattr__\u001B[1;34m(self, name)\u001B[0m\n\u001B[0;32m   1175\u001B[0m     \u001B[38;5;28;01mif\u001B[39;00m name \u001B[38;5;129;01min\u001B[39;00m modules:\n\u001B[0;32m   1176\u001B[0m         \u001B[38;5;28;01mreturn\u001B[39;00m modules[name]\n\u001B[1;32m-> 1177\u001B[0m \u001B[38;5;28;01mraise\u001B[39;00m \u001B[38;5;167;01mAttributeError\u001B[39;00m(\u001B[38;5;124m\"\u001B[39m\u001B[38;5;124m'\u001B[39m\u001B[38;5;132;01m{}\u001B[39;00m\u001B[38;5;124m'\u001B[39m\u001B[38;5;124m object has no attribute \u001B[39m\u001B[38;5;124m'\u001B[39m\u001B[38;5;132;01m{}\u001B[39;00m\u001B[38;5;124m'\u001B[39m\u001B[38;5;124m\"\u001B[39m\u001B[38;5;241m.\u001B[39mformat(\n\u001B[0;32m   1178\u001B[0m     \u001B[38;5;28mtype\u001B[39m(\u001B[38;5;28mself\u001B[39m)\u001B[38;5;241m.\u001B[39m\u001B[38;5;18m__name__\u001B[39m, name))\n",
      "\u001B[1;31mAttributeError\u001B[0m: 'MultitaskKernel' object has no attribute 'raw_outputscale'"
     ]
    }
   ],
   "source": [
    "# build GP model from sampled params\n",
    "num_tasks = 2  # paired channels\n",
    "likelihood = gpytorch.likelihoods.MultitaskGaussianLikelihood(num_tasks=num_tasks)\n",
    "times = torch.linspace(0, 1, 401)\n",
    "model = multiChannelEEGGPModel(torch.Tensor(), torch.Tensor(), likelihood)\n",
    "model.covar_module.raw_outputscale.data.fill_(params[0, 0])\n",
    "model.covar_module.base_kernel.raw_lengthscale.data.fill_(params[0, 1]);"
   ]
  },
  {
   "cell_type": "markdown",
   "metadata": {},
   "source": [
    "## Sample EEG from Gaussian process"
   ]
  },
  {
   "cell_type": "code",
   "execution_count": null,
   "metadata": {
    "pycharm": {
     "name": "#%%\n"
    }
   },
   "outputs": [],
   "source": [
    "# sample EEG from GP model\n",
    "n_channels = 8\n",
    "sample = model(times).sample(torch.Size([n_channels]))\n",
    "\n",
    "# plot EEG sample\n",
    "plt.clf()\n",
    "fig = plt.gcf()\n",
    "ax = fig.add_subplot()\n",
    "ax.set_xlabel(\"time (s)\")\n",
    "for i in range(len(sample)):\n",
    "    channel = sample[i]\n",
    "    channel += i\n",
    "    ax.plot(times, channel)\n",
    "plt.title(\"sampled EEG\")\n",
    "plt.show()"
   ]
  },
  {
   "cell_type": "markdown",
   "metadata": {},
   "source": [
    "## Generate more samples"
   ]
  },
  {
   "cell_type": "code",
   "execution_count": null,
   "metadata": {
    "pycharm": {
     "name": "#%%\n"
    }
   },
   "outputs": [],
   "source": [
    "def sample_EEG(N=10):\n",
    "    for i in range(N):\n",
    "        # sample GP model params\n",
    "        params, _ = gmm.sample()\n",
    "        print(f\"{params=}\")\n",
    "        # build GP model from sampled params\n",
    "        likelihood = gpytorch.likelihoods.GaussianLikelihood()\n",
    "        times = torch.linspace(0, 1, 401)\n",
    "        model = EEGGPModel([], [], likelihood)\n",
    "        model.covar_module.raw_outputscale.data.fill_(params[0, 0])\n",
    "        model.covar_module.base_kernel.raw_lengthscale.data.fill_(params[0, 1])\n",
    "\n",
    "        # sample EEG from GP model\n",
    "        n_channels = 8\n",
    "        sample = model(times).sample(torch.Size([n_channels]))\n",
    "\n",
    "        # plot EEG sample\n",
    "        plt.clf()\n",
    "        fig = plt.gcf()\n",
    "        ax = fig.add_subplot()\n",
    "        ax.set_xlabel(\"time (s)\")\n",
    "        for i in range(len(sample)):\n",
    "            channel = sample[i]\n",
    "            channel += i\n",
    "            ax.plot(times, channel)\n",
    "        plt.title(\"sampled EEG\")\n",
    "        plt.show()\n",
    "\n",
    "sample_EEG()"
   ]
  },
  {
   "cell_type": "markdown",
   "metadata": {
    "pycharm": {
     "name": "#%% md\n"
    }
   },
   "source": []
  }
 ],
 "metadata": {
  "kernelspec": {
   "display_name": "Python 3 (ipykernel)",
   "language": "python",
   "name": "python3"
  },
  "language_info": {
   "codemirror_mode": {
    "name": "ipython",
    "version": 3
   },
   "file_extension": ".py",
   "mimetype": "text/x-python",
   "name": "python",
   "nbconvert_exporter": "python",
   "pygments_lexer": "ipython3",
   "version": "3.8.10"
  }
 },
 "nbformat": 4,
 "nbformat_minor": 1
}