{
 "cells": [
  {
   "cell_type": "markdown",
   "source": [
    "## Evaluate Hawkes Process Model\n",
    "Noam Siegel, Ben Gurion University"
   ],
   "metadata": {
    "collapsed": false
   }
  },
  {
   "cell_type": "code",
   "execution_count": 12,
   "metadata": {
    "collapsed": true
   },
   "outputs": [
    {
     "name": "stdout",
     "output_type": "stream",
     "text": [
      "The autoreload extension is already loaded. To reload it, use:\n",
      "  %reload_ext autoreload\n"
     ]
    }
   ],
   "source": [
    "import gpytorch\n",
    "import torch\n",
    "import yaml\n",
    "from matplotlib import pyplot as plt\n",
    "import numpy as np\n",
    "from scipy import stats\n",
    "\n",
    "from msc.canine_db_utils import get_record_start, get_onsets, get_ipp_training_data\n",
    "from msc.models import InteractingPointProcessGPModel, HawkesProcessGP\n",
    "%load_ext autoreload\n",
    "%autoreload 2"
   ]
  },
  {
   "cell_type": "code",
   "execution_count": 13,
   "outputs": [
    {
     "data": {
      "text/plain": "{'batch_size': 2048,\n 'cholesky_jitter_double': 0.1,\n 'enable_progress_bar': True,\n 'fast_dev_run': False,\n 'graphic_verbose': True,\n 'inducing_time_step': 14400,\n 'learning_rate': 0.01,\n 'n_epochs': 800,\n 'patience': 8,\n 'random_seed': 42,\n 'real_time_step': 600,\n 'version': '0.1.3'}"
     },
     "execution_count": 13,
     "metadata": {},
     "output_type": "execute_result"
    }
   ],
   "source": [
    "dog_num = 3\n",
    "model_version = '0.1.3'\n",
    "hparams_fpath = fr\"C:\\Users\\noam\\Repositories\\noamsgl\\msc\\results\\lightning_logs\\prior\\ipp\\ipp_prior\\{model_version}\\hparams.yaml\"\n",
    "\n",
    "with open(hparams_fpath, 'r') as stream:\n",
    "    hparams = yaml.safe_load(stream)\n",
    "\n",
    "train_x, train_y, inducing_points= get_ipp_training_data(dog_num, hparams)\n",
    "test_x = train_x[:10000]\n",
    "hparams"
   ],
   "metadata": {
    "collapsed": false,
    "pycharm": {
     "name": "#%%\n"
    }
   }
  },
  {
   "cell_type": "code",
   "execution_count": 14,
   "outputs": [],
   "source": [
    "state_dict = torch.load(fr\"C:\\Users\\noam\\Repositories\\noamsgl\\msc\\results\\lightning_logs\\prior\\ipp\\ipp_prior\\{model_version}\\checkpoints\\gp_ipp_state_dict.pth\")\n",
    "likelihood = gpytorch.likelihoods.BernoulliLikelihood()\n",
    "model = HawkesProcessGP(train_x, likelihood, inducing_points)"
   ],
   "metadata": {
    "collapsed": false,
    "pycharm": {
     "name": "#%%\n"
    }
   }
  },
  {
   "cell_type": "code",
   "execution_count": 15,
   "outputs": [
    {
     "data": {
      "text/plain": "Text(0.5, 1.0, 'Prior')"
     },
     "execution_count": 15,
     "metadata": {},
     "output_type": "execute_result"
    },
    {
     "data": {
      "text/plain": "<Figure size 432x288 with 1 Axes>",
      "image/png": "[encoded data removed]"
     },
     "metadata": {
      "needs_background": "light"
     },
     "output_type": "display_data"
    }
   ],
   "source": [
    "# plot prior samples\n",
    "prior_distribution = model.likelihood(model(test_x))\n",
    "n_draws = 8\n",
    "for i in range(n_draws):\n",
    "    plt.plot(test_x, (prior_distribution.sample() + 2 * i))\n",
    "plt.xlabel(f\"time [{hparams['real_time_step']} * sec]\")\n",
    "plt.title('Prior')"
   ],
   "metadata": {
    "collapsed": false,
    "pycharm": {
     "name": "#%%\n"
    }
   }
  },
  {
   "cell_type": "code",
   "execution_count": 16,
   "outputs": [
    {
     "data": {
      "text/plain": "<All keys matched successfully>"
     },
     "execution_count": 16,
     "metadata": {},
     "output_type": "execute_result"
    }
   ],
   "source": [
    "model.load_state_dict(state_dict)"
   ],
   "metadata": {
    "collapsed": false,
    "pycharm": {
     "name": "#%%\n"
    }
   }
  },
  {
   "cell_type": "code",
   "execution_count": 17,
   "outputs": [
    {
     "name": "stderr",
     "output_type": "stream",
     "text": [
      "C:\\Users\\noam\\.virtualenvs\\msc-WSmVxSSb\\lib\\site-packages\\gpytorch\\utils\\cholesky.py:38: NumericalWarning: A not p.d., added jitter of 1.0e-01 to the diagonal\n",
      "  warnings.warn(\n"
     ]
    },
    {
     "data": {
      "text/plain": "<Figure size 432x288 with 1 Axes>",
      "image/png": "[encoded data removed]"
     },
     "metadata": {
      "needs_background": "light"
     },
     "output_type": "display_data"
    }
   ],
   "source": [
    "with gpytorch.settings.cholesky_jitter(double=hparams['cholesky_jitter_double']):\n",
    "    # plot posterior samples\n",
    "    posterior_distribution = model.likelihood(model(test_x))\n",
    "    n_draws = 8\n",
    "    for i in range(n_draws):\n",
    "        plt.plot(test_x, (posterior_distribution.sample() + 2 * i))\n",
    "    plt.xlabel(f\"time [{hparams['real_time_step']} * sec]\")\n",
    "    plt.title('Posterior')"
   ],
   "metadata": {
    "collapsed": false,
    "pycharm": {
     "name": "#%%\n"
    }
   }
  },
  {
   "cell_type": "markdown",
   "source": [
    "## Get inter-seizure intervals\n",
    "In this section we will check the posterior distribution.\n",
    "We expect the mean and variance of the inter-seizure intervals to fluctuate around the observed values."
   ],
   "metadata": {
    "collapsed": false
   }
  },
  {
   "cell_type": "markdown",
   "source": [
    "### Observation intervals"
   ],
   "metadata": {
    "collapsed": false
   }
  },
  {
   "cell_type": "code",
   "execution_count": 18,
   "outputs": [],
   "source": [
    "obs_intervals = train_y.nonzero().diff(dim=0).squeeze().double()"
   ],
   "metadata": {
    "collapsed": false,
    "pycharm": {
     "name": "#%%\n"
    }
   }
  },
  {
   "cell_type": "code",
   "execution_count": 19,
   "outputs": [
    {
     "data": {
      "text/plain": "DescribeResult(nobs=44, minmax=(16.0, 34061.0), mean=1426.5227272727273, variance=27886033.604122624, skewness=5.5714936849082894, kurtosis=31.738722462165498)"
     },
     "execution_count": 19,
     "metadata": {},
     "output_type": "execute_result"
    }
   ],
   "source": [
    "stats.describe(obs_intervals)"
   ],
   "metadata": {
    "collapsed": false,
    "pycharm": {
     "name": "#%%\n"
    }
   }
  },
  {
   "cell_type": "markdown",
   "source": [
    "### Draw posterior predictive interval samples"
   ],
   "metadata": {
    "collapsed": false
   }
  },
  {
   "cell_type": "code",
   "execution_count": 20,
   "outputs": [
    {
     "name": "stderr",
     "output_type": "stream",
     "text": [
      "C:\\Users\\noam\\.virtualenvs\\msc-WSmVxSSb\\lib\\site-packages\\gpytorch\\utils\\cholesky.py:38: NumericalWarning: A not p.d., added jitter of 1.0e-01 to the diagonal\n",
      "  warnings.warn(\n"
     ]
    }
   ],
   "source": [
    "n_samples = 100\n",
    "with gpytorch.settings.cholesky_jitter(double=hparams['cholesky_jitter_double']):\n",
    "    samples = likelihood(model(test_x)).sample((n_samples,))"
   ],
   "metadata": {
    "collapsed": false,
    "pycharm": {
     "name": "#%%\n"
    }
   }
  },
  {
   "cell_type": "code",
   "execution_count": 21,
   "outputs": [
    {
     "data": {
      "text/plain": "torch.Size([100, 10000])"
     },
     "execution_count": 21,
     "metadata": {},
     "output_type": "execute_result"
    }
   ],
   "source": [
    "samples.size()"
   ],
   "metadata": {
    "collapsed": false,
    "pycharm": {
     "name": "#%%\n"
    }
   }
  },
  {
   "cell_type": "code",
   "execution_count": 22,
   "outputs": [],
   "source": [
    "intervals = [samples[i].nonzero().diff(dim=0).squeeze().double() for i in range(len(samples))]"
   ],
   "metadata": {
    "collapsed": false,
    "pycharm": {
     "name": "#%%\n"
    }
   }
  },
  {
   "cell_type": "markdown",
   "source": [
    "### Plot test statistics"
   ],
   "metadata": {
    "collapsed": false
   }
  },
  {
   "cell_type": "code",
   "execution_count": 23,
   "outputs": [
    {
     "data": {
      "text/plain": "<Figure size 432x288 with 1 Axes>",
      "image/png": "[encoded data removed]"
     },
     "metadata": {
      "needs_background": "light"
     },
     "output_type": "display_data"
    }
   ],
   "source": [
    "intervals_means = [torch.mean(inters).item() for inters in intervals]\n",
    "plt.hist(intervals_means, bins=20, label='posterior samples')\n",
    "plt.vlines(torch.mean(obs_intervals), 0, 100, colors='r', label='observation')\n",
    "plt.legend(loc = 'upper left')\n",
    "plt.xlabel(f\"mean interval length [{hparams['real_time_step']} * sec]\")\n",
    "plt.title('mean')\n",
    "# place a text box with the p_value in the upper right in axes coords\n",
    "p_value = len([interv_mean for interv_mean in intervals_means if interv_mean < torch.mean(obs_intervals)])/len(intervals_means)\n",
    "ax = plt.gca()\n",
    "textstr = r'$P_{value}=%.2f$' % (p_value)\n",
    "props = dict(boxstyle='round', facecolor='wheat', alpha=0.5)\n",
    "ax.text(0.1, 0.75, textstr, transform=ax.transAxes, fontsize=14,\n",
    "        verticalalignment='top', horizontalalignment='left',bbox=props);"
   ],
   "metadata": {
    "collapsed": false,
    "pycharm": {
     "name": "#%%\n"
    }
   }
  },
  {
   "cell_type": "code",
   "execution_count": 24,
   "outputs": [
    {
     "data": {
      "text/plain": "<Figure size 432x288 with 1 Axes>",
      "image/png": "[encoded data removed]"
     },
     "metadata": {
      "needs_background": "light"
     },
     "output_type": "display_data"
    }
   ],
   "source": [
    "intervals_vars = [torch.var(inters).item() for inters in intervals]\n",
    "plt.hist(intervals_vars, bins=20, label=\"posterior samples\")\n",
    "plt.vlines(torch.var(obs_intervals), 0, 100, colors='r', label=\"observation\")\n",
    "plt.legend(loc = 'upper left')\n",
    "plt.xlabel(f\"variance of interval length [{hparams['real_time_step']} * sec]\")\n",
    "plt.title(f\"variance\")\n",
    "# place a text box with the p_value in the upper right in axes coords\n",
    "p_value = len([interv_var for interv_var in intervals_vars if interv_var < torch.var(obs_intervals)])/len(intervals_vars)\n",
    "ax = plt.gca()\n",
    "textstr = r'$P_{value}=%.2f$' % (p_value)\n",
    "props = dict(boxstyle='round', facecolor='wheat', alpha=0.5)\n",
    "ax.text(0.1, 0.75, textstr, transform=ax.transAxes, fontsize=14,\n",
    "        verticalalignment='top', horizontalalignment='left',bbox=props);"
   ],
   "metadata": {
    "collapsed": false,
    "pycharm": {
     "name": "#%%\n"
    }
   }
  },
  {
   "cell_type": "code",
   "execution_count": 25,
   "outputs": [
    {
     "data": {
      "text/plain": "<Figure size 432x288 with 1 Axes>",
      "image/png": "[encoded data removed]"
     },
     "metadata": {
      "needs_background": "light"
     },
     "output_type": "display_data"
    }
   ],
   "source": [
    "plt.scatter(intervals_means, intervals_vars, label=\"posterior samples\")\n",
    "plt.scatter(torch.mean(obs_intervals), torch.var(obs_intervals), c='r', label=\"observation\")\n",
    "plt.xlabel(f\"mean [{hparams['real_time_step']} * sec]\")\n",
    "plt.ylabel(f\"variance [{hparams['real_time_step']} * sec]\")\n",
    "plt.legend()\n",
    "plt.title('intervals posterior predictive checks');"
   ],
   "metadata": {
    "collapsed": false,
    "pycharm": {
     "name": "#%%\n"
    }
   }
  },
  {
   "cell_type": "code",
   "execution_count": 25,
   "outputs": [],
   "source": [],
   "metadata": {
    "collapsed": false,
    "pycharm": {
     "name": "#%%\n"
    }
   }
  }
 ],
 "metadata": {
  "kernelspec": {
   "display_name": "Python 3",
   "language": "python",
   "name": "python3"
  },
  "language_info": {
   "codemirror_mode": {
    "name": "ipython",
    "version": 2
   },
   "file_extension": ".py",
   "mimetype": "text/x-python",
   "name": "python",
   "nbconvert_exporter": "python",
   "pygments_lexer": "ipython2",
   "version": "2.7.6"
  }
 },
 "nbformat": 4,
 "nbformat_minor": 0
}