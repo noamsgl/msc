{
 "cells": [
  {
   "cell_type": "markdown",
   "source": [
    "# Final Project Report\n",
    "## Noam Siegel\n",
    "### Physiological Signal Processing, Ben Gurion University\n",
    " #### 367-2-6351\n",
    "\n"
   ],
   "metadata": {
    "collapsed": false,
    "pycharm": {
     "name": "#%% md\n"
    }
   }
  },
  {
   "cell_type": "code",
   "execution_count": 1,
   "outputs": [],
   "source": [
    "import numpy as np\n",
    "import mne\n",
    "\n",
    "from msc.config import get_config\n",
    "from msc.dataset import RawDataset"
   ],
   "metadata": {
    "collapsed": false,
    "pycharm": {
     "name": "#%%\n"
    }
   }
  },
  {
   "cell_type": "markdown",
   "source": [
    "## Load configurations"
   ],
   "metadata": {
    "collapsed": false,
    "pycharm": {
     "name": "#%% md\n"
    }
   }
  },
  {
   "cell_type": "code",
   "execution_count": 8,
   "outputs": [
    {
     "name": "stdout",
     "output_type": "stream",
     "text": [
      "RAW_PATH                   ===  C:\\raw_data\\epilepsiae\\surf30\\pat_103002\\adm_1030102\\rec_103001102\\103001102_0113.data\n",
      "DATASETS_PATH_LOCAL        ===  C:\\raw_data\n",
      "DATASETS_PATH_REMOTE       ===  \\\\132.72.65.115\\epilepsy_data\n",
      "DATASET                    ===  epilepsiae\n",
      "PICKS                      ===  one_channel\n",
      "RESAMPLE                   ===  256\n",
      "PREICTAL_MIN_DIFF_HOURS    ===  1\n",
      "INTERICTAL_MIN_DIFF_HOURS  ===  4\n",
      "PREICTAL_LABEL             ===  0\n",
      "INTERICTAL_LABEL           ===  1\n",
      "DATASET_PATH_LOCAL         ===  C:\\Users\\noam\\Repositories\\noamsgl\\msc\\results\\epilepsiae\\max_cross_corr\\surfCO\\pat_3500\\20211213T182128\n",
      "RESULTS_DIR_REMOTE         ===  /cs_storage/noamsi/results\n",
      "RESULTS_DIR_LOCAL          ===  C:\\Users\\noam\\Repositories\\noamsgl\\msc\\results\n"
     ]
    }
   ],
   "source": [
    "config = get_config()\n",
    "for each_section in config.sections():\n",
    "    for (each_key, each_val) in config.items(each_section):\n",
    "        print(f\"{each_key.upper():26} ===  {each_val}\")"
   ],
   "metadata": {
    "collapsed": false,
    "pycharm": {
     "name": "#%%\n"
    }
   }
  },
  {
   "cell_type": "markdown",
   "source": [
    "## Get Raw dataset"
   ],
   "metadata": {
    "collapsed": false,
    "pycharm": {
     "name": "#%% md\n"
    }
   }
  },
  {
   "cell_type": "code",
   "execution_count": 12,
   "outputs": [
    {
     "name": "stdout",
     "output_type": "stream",
     "text": [
      "{'dataset_dir': 'C:\\\\raw_data/epilepsiae'}\n"
     ]
    }
   ],
   "source": [
    "raw_dataset = RawDataset(f\"{config.get('DATA', 'DATASETS_PATH_LOCAL')}/{config.get('DATA', 'DATASET')}\")\n",
    "print(vars(raw_dataset))"
   ],
   "metadata": {
    "collapsed": false,
    "pycharm": {
     "name": "#%%\n"
    }
   }
  },
  {
   "cell_type": "markdown",
   "source": [
    "## Plot raw data"
   ],
   "metadata": {
    "collapsed": false,
    "pycharm": {
     "name": "#%% md\n"
    }
   }
  },
  {
   "cell_type": "code",
   "execution_count": null,
   "outputs": [],
   "source": [],
   "metadata": {
    "collapsed": false,
    "pycharm": {
     "name": "#%%\n"
    }
   }
  },
  {
   "cell_type": "markdown",
   "source": [
    "## Feature Extraction"
   ],
   "metadata": {
    "collapsed": false,
    "pycharm": {
     "name": "#%% md\n"
    }
   }
  },
  {
   "cell_type": "code",
   "execution_count": null,
   "outputs": [],
   "source": [],
   "metadata": {
    "collapsed": false,
    "pycharm": {
     "name": "#%%\n"
    }
   }
  },
  {
   "cell_type": "markdown",
   "source": [
    "## Train Classifier"
   ],
   "metadata": {
    "collapsed": false,
    "pycharm": {
     "name": "#%% md\n"
    }
   }
  },
  {
   "cell_type": "markdown",
   "source": [
    "## Plot Classifier Results"
   ],
   "metadata": {
    "collapsed": false,
    "pycharm": {
     "name": "#%% md\n"
    }
   }
  },
  {
   "cell_type": "markdown",
   "source": [
    "## Variable Selection"
   ],
   "metadata": {
    "collapsed": false,
    "pycharm": {
     "name": "#%% md\n"
    }
   }
  },
  {
   "cell_type": "code",
   "execution_count": null,
   "outputs": [],
   "source": [],
   "metadata": {
    "collapsed": false,
    "pycharm": {
     "name": "#%%\n"
    }
   }
  },
  {
   "cell_type": "code",
   "execution_count": null,
   "outputs": [],
   "source": [],
   "metadata": {
    "collapsed": false,
    "pycharm": {
     "name": "#%%\n"
    }
   }
  }
 ],
 "metadata": {
  "kernelspec": {
   "display_name": "Python 3",
   "language": "python",
   "name": "python3"
  },
  "language_info": {
   "codemirror_mode": {
    "name": "ipython",
    "version": 2
   },
   "file_extension": ".py",
   "mimetype": "text/x-python",
   "name": "python",
   "nbconvert_exporter": "python",
   "pygments_lexer": "ipython2",
   "version": "2.7.6"
  }
 },
 "nbformat": 4,
 "nbformat_minor": 0
}