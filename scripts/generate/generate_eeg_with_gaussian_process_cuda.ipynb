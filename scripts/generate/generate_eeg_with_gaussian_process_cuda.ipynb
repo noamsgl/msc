{
 "cells": [
  {
   "cell_type": "code",
   "execution_count": 14,
   "metadata": {
    "collapsed": true
   },
   "outputs": [
    {
     "name": "stdout",
     "output_type": "stream",
     "text": [
      "The autoreload extension is already loaded. To reload it, use:\n",
      "  %reload_ext autoreload\n"
     ]
    }
   ],
   "source": [
    "import torch\n",
    "import gpytorch\n",
    "import matplotlib.pyplot as plt\n",
    "\n",
    "import pandas as pd\n",
    "\n",
    "from msc.dataset import UniformDataset, SeizuresDataset\n",
    "\n",
    "%load_ext autoreload\n",
    "%autoreload 2"
   ]
  },
  {
   "cell_type": "code",
   "execution_count": null,
   "outputs": [],
   "source": [
    "assert torch.cuda.is_available()"
   ],
   "metadata": {
    "collapsed": false,
    "pycharm": {
     "name": "#%%\n"
    }
   }
  },
  {
   "cell_type": "markdown",
   "source": [
    "## Define the model"
   ],
   "metadata": {
    "collapsed": false
   }
  },
  {
   "cell_type": "code",
   "execution_count": 15,
   "outputs": [],
   "source": [
    "class EEGGPModel(gpytorch.models.ExactGP):\n",
    "    def __init__(self, train_x, train_y, likelihood):\n",
    "        super(EEGGPModel, self).__init__(train_x, train_y, likelihood)\n",
    "        self.mean_module = gpytorch.means.ZeroMean()\n",
    "        self.covar_module = gpytorch.kernels.ScaleKernel(gpytorch.kernels.MaternKernel(1.5))\n",
    "\n",
    "    def forward(self, x):\n",
    "        mean_x = self.mean_module(x)\n",
    "        cover_x = self.covar_module(x)\n",
    "        return gpytorch.distributions.MultivariateNormal(mean_x, cover_x)\n",
    "\n",
    "likelihood = gpytorch.likelihoods.GaussianLikelihood()\n",
    "\n"
   ],
   "metadata": {
    "collapsed": false,
    "pycharm": {
     "name": "#%%\n"
    }
   }
  },
  {
   "cell_type": "markdown",
   "source": [
    "## Sample from the prior"
   ],
   "metadata": {
    "collapsed": false
   }
  },
  {
   "cell_type": "code",
   "execution_count": 16,
   "outputs": [],
   "source": [
    "times = torch.linspace(1, 10, 1000)\n"
   ],
   "metadata": {
    "collapsed": false,
    "pycharm": {
     "name": "#%%\n"
    }
   }
  },
  {
   "cell_type": "code",
   "execution_count": 17,
   "outputs": [
    {
     "data": {
      "text/plain": "tensor([ 1.0000,  1.0090,  1.0180,  1.0270,  1.0360,  1.0450,  1.0541,  1.0631,\n         1.0721,  1.0811,  1.0901,  1.0991,  1.1081,  1.1171,  1.1261,  1.1351,\n         1.1441,  1.1532,  1.1622,  1.1712,  1.1802,  1.1892,  1.1982,  1.2072,\n         1.2162,  1.2252,  1.2342,  1.2432,  1.2523,  1.2613,  1.2703,  1.2793,\n         1.2883,  1.2973,  1.3063,  1.3153,  1.3243,  1.3333,  1.3423,  1.3514,\n         1.3604,  1.3694,  1.3784,  1.3874,  1.3964,  1.4054,  1.4144,  1.4234,\n         1.4324,  1.4414,  1.4505,  1.4595,  1.4685,  1.4775,  1.4865,  1.4955,\n         1.5045,  1.5135,  1.5225,  1.5315,  1.5405,  1.5495,  1.5586,  1.5676,\n         1.5766,  1.5856,  1.5946,  1.6036,  1.6126,  1.6216,  1.6306,  1.6396,\n         1.6486,  1.6577,  1.6667,  1.6757,  1.6847,  1.6937,  1.7027,  1.7117,\n         1.7207,  1.7297,  1.7387,  1.7477,  1.7568,  1.7658,  1.7748,  1.7838,\n         1.7928,  1.8018,  1.8108,  1.8198,  1.8288,  1.8378,  1.8468,  1.8559,\n         1.8649,  1.8739,  1.8829,  1.8919,  1.9009,  1.9099,  1.9189,  1.9279,\n         1.9369,  1.9459,  1.9550,  1.9640,  1.9730,  1.9820,  1.9910,  2.0000,\n         2.0090,  2.0180,  2.0270,  2.0360,  2.0450,  2.0541,  2.0631,  2.0721,\n         2.0811,  2.0901,  2.0991,  2.1081,  2.1171,  2.1261,  2.1351,  2.1441,\n         2.1532,  2.1622,  2.1712,  2.1802,  2.1892,  2.1982,  2.2072,  2.2162,\n         2.2252,  2.2342,  2.2432,  2.2523,  2.2613,  2.2703,  2.2793,  2.2883,\n         2.2973,  2.3063,  2.3153,  2.3243,  2.3333,  2.3423,  2.3514,  2.3604,\n         2.3694,  2.3784,  2.3874,  2.3964,  2.4054,  2.4144,  2.4234,  2.4324,\n         2.4414,  2.4505,  2.4595,  2.4685,  2.4775,  2.4865,  2.4955,  2.5045,\n         2.5135,  2.5225,  2.5315,  2.5405,  2.5495,  2.5586,  2.5676,  2.5766,\n         2.5856,  2.5946,  2.6036,  2.6126,  2.6216,  2.6306,  2.6396,  2.6486,\n         2.6577,  2.6667,  2.6757,  2.6847,  2.6937,  2.7027,  2.7117,  2.7207,\n         2.7297,  2.7387,  2.7477,  2.7568,  2.7658,  2.7748,  2.7838,  2.7928,\n         2.8018,  2.8108,  2.8198,  2.8288,  2.8378,  2.8468,  2.8559,  2.8649,\n         2.8739,  2.8829,  2.8919,  2.9009,  2.9099,  2.9189,  2.9279,  2.9369,\n         2.9459,  2.9550,  2.9640,  2.9730,  2.9820,  2.9910,  3.0000,  3.0090,\n         3.0180,  3.0270,  3.0360,  3.0450,  3.0541,  3.0631,  3.0721,  3.0811,\n         3.0901,  3.0991,  3.1081,  3.1171,  3.1261,  3.1351,  3.1441,  3.1532,\n         3.1622,  3.1712,  3.1802,  3.1892,  3.1982,  3.2072,  3.2162,  3.2252,\n         3.2342,  3.2432,  3.2523,  3.2613,  3.2703,  3.2793,  3.2883,  3.2973,\n         3.3063,  3.3153,  3.3243,  3.3333,  3.3423,  3.3514,  3.3604,  3.3694,\n         3.3784,  3.3874,  3.3964,  3.4054,  3.4144,  3.4234,  3.4324,  3.4414,\n         3.4505,  3.4595,  3.4685,  3.4775,  3.4865,  3.4955,  3.5045,  3.5135,\n         3.5225,  3.5315,  3.5405,  3.5495,  3.5586,  3.5676,  3.5766,  3.5856,\n         3.5946,  3.6036,  3.6126,  3.6216,  3.6306,  3.6396,  3.6486,  3.6577,\n         3.6667,  3.6757,  3.6847,  3.6937,  3.7027,  3.7117,  3.7207,  3.7297,\n         3.7387,  3.7477,  3.7568,  3.7658,  3.7748,  3.7838,  3.7928,  3.8018,\n         3.8108,  3.8198,  3.8288,  3.8378,  3.8468,  3.8559,  3.8649,  3.8739,\n         3.8829,  3.8919,  3.9009,  3.9099,  3.9189,  3.9279,  3.9369,  3.9459,\n         3.9550,  3.9640,  3.9730,  3.9820,  3.9910,  4.0000,  4.0090,  4.0180,\n         4.0270,  4.0360,  4.0450,  4.0541,  4.0631,  4.0721,  4.0811,  4.0901,\n         4.0991,  4.1081,  4.1171,  4.1261,  4.1351,  4.1441,  4.1532,  4.1622,\n         4.1712,  4.1802,  4.1892,  4.1982,  4.2072,  4.2162,  4.2252,  4.2342,\n         4.2432,  4.2523,  4.2613,  4.2703,  4.2793,  4.2883,  4.2973,  4.3063,\n         4.3153,  4.3243,  4.3333,  4.3423,  4.3514,  4.3604,  4.3694,  4.3784,\n         4.3874,  4.3964,  4.4054,  4.4144,  4.4234,  4.4324,  4.4414,  4.4505,\n         4.4595,  4.4685,  4.4775,  4.4865,  4.4955,  4.5045,  4.5135,  4.5225,\n         4.5315,  4.5405,  4.5495,  4.5586,  4.5676,  4.5766,  4.5856,  4.5946,\n         4.6036,  4.6126,  4.6216,  4.6306,  4.6396,  4.6486,  4.6577,  4.6667,\n         4.6757,  4.6847,  4.6937,  4.7027,  4.7117,  4.7207,  4.7297,  4.7387,\n         4.7477,  4.7568,  4.7658,  4.7748,  4.7838,  4.7928,  4.8018,  4.8108,\n         4.8198,  4.8288,  4.8378,  4.8468,  4.8559,  4.8649,  4.8739,  4.8829,\n         4.8919,  4.9009,  4.9099,  4.9189,  4.9279,  4.9369,  4.9459,  4.9550,\n         4.9640,  4.9730,  4.9820,  4.9910,  5.0000,  5.0090,  5.0180,  5.0270,\n         5.0360,  5.0450,  5.0541,  5.0631,  5.0721,  5.0811,  5.0901,  5.0991,\n         5.1081,  5.1171,  5.1261,  5.1351,  5.1441,  5.1532,  5.1622,  5.1712,\n         5.1802,  5.1892,  5.1982,  5.2072,  5.2162,  5.2252,  5.2342,  5.2432,\n         5.2523,  5.2613,  5.2703,  5.2793,  5.2883,  5.2973,  5.3063,  5.3153,\n         5.3243,  5.3333,  5.3423,  5.3514,  5.3604,  5.3694,  5.3784,  5.3874,\n         5.3964,  5.4054,  5.4144,  5.4234,  5.4324,  5.4414,  5.4505,  5.4595,\n         5.4685,  5.4775,  5.4865,  5.4955,  5.5045,  5.5135,  5.5225,  5.5315,\n         5.5405,  5.5495,  5.5586,  5.5676,  5.5766,  5.5856,  5.5946,  5.6036,\n         5.6126,  5.6216,  5.6306,  5.6396,  5.6486,  5.6577,  5.6667,  5.6757,\n         5.6847,  5.6937,  5.7027,  5.7117,  5.7207,  5.7297,  5.7387,  5.7477,\n         5.7568,  5.7658,  5.7748,  5.7838,  5.7928,  5.8018,  5.8108,  5.8198,\n         5.8288,  5.8378,  5.8468,  5.8559,  5.8649,  5.8739,  5.8829,  5.8919,\n         5.9009,  5.9099,  5.9189,  5.9279,  5.9369,  5.9459,  5.9550,  5.9640,\n         5.9730,  5.9820,  5.9910,  6.0000,  6.0090,  6.0180,  6.0270,  6.0360,\n         6.0450,  6.0541,  6.0631,  6.0721,  6.0811,  6.0901,  6.0991,  6.1081,\n         6.1171,  6.1261,  6.1351,  6.1441,  6.1532,  6.1622,  6.1712,  6.1802,\n         6.1892,  6.1982,  6.2072,  6.2162,  6.2252,  6.2342,  6.2432,  6.2523,\n         6.2613,  6.2703,  6.2793,  6.2883,  6.2973,  6.3063,  6.3153,  6.3243,\n         6.3333,  6.3423,  6.3514,  6.3604,  6.3694,  6.3784,  6.3874,  6.3964,\n         6.4054,  6.4144,  6.4234,  6.4324,  6.4414,  6.4504,  6.4595,  6.4685,\n         6.4775,  6.4865,  6.4955,  6.5045,  6.5135,  6.5225,  6.5315,  6.5405,\n         6.5495,  6.5586,  6.5676,  6.5766,  6.5856,  6.5946,  6.6036,  6.6126,\n         6.6216,  6.6306,  6.6396,  6.6486,  6.6577,  6.6667,  6.6757,  6.6847,\n         6.6937,  6.7027,  6.7117,  6.7207,  6.7297,  6.7387,  6.7477,  6.7568,\n         6.7658,  6.7748,  6.7838,  6.7928,  6.8018,  6.8108,  6.8198,  6.8288,\n         6.8378,  6.8468,  6.8559,  6.8649,  6.8739,  6.8829,  6.8919,  6.9009,\n         6.9099,  6.9189,  6.9279,  6.9369,  6.9459,  6.9550,  6.9640,  6.9730,\n         6.9820,  6.9910,  7.0000,  7.0090,  7.0180,  7.0270,  7.0360,  7.0450,\n         7.0541,  7.0631,  7.0721,  7.0811,  7.0901,  7.0991,  7.1081,  7.1171,\n         7.1261,  7.1351,  7.1441,  7.1532,  7.1622,  7.1712,  7.1802,  7.1892,\n         7.1982,  7.2072,  7.2162,  7.2252,  7.2342,  7.2432,  7.2523,  7.2613,\n         7.2703,  7.2793,  7.2883,  7.2973,  7.3063,  7.3153,  7.3243,  7.3333,\n         7.3423,  7.3514,  7.3604,  7.3694,  7.3784,  7.3874,  7.3964,  7.4054,\n         7.4144,  7.4234,  7.4324,  7.4414,  7.4505,  7.4595,  7.4685,  7.4775,\n         7.4865,  7.4955,  7.5045,  7.5135,  7.5225,  7.5315,  7.5405,  7.5495,\n         7.5586,  7.5676,  7.5766,  7.5856,  7.5946,  7.6036,  7.6126,  7.6216,\n         7.6306,  7.6396,  7.6486,  7.6577,  7.6667,  7.6757,  7.6847,  7.6937,\n         7.7027,  7.7117,  7.7207,  7.7297,  7.7387,  7.7477,  7.7568,  7.7658,\n         7.7748,  7.7838,  7.7928,  7.8018,  7.8108,  7.8198,  7.8288,  7.8378,\n         7.8468,  7.8559,  7.8649,  7.8739,  7.8829,  7.8919,  7.9009,  7.9099,\n         7.9189,  7.9279,  7.9369,  7.9459,  7.9550,  7.9640,  7.9730,  7.9820,\n         7.9910,  8.0000,  8.0090,  8.0180,  8.0270,  8.0360,  8.0450,  8.0541,\n         8.0631,  8.0721,  8.0811,  8.0901,  8.0991,  8.1081,  8.1171,  8.1261,\n         8.1351,  8.1441,  8.1532,  8.1622,  8.1712,  8.1802,  8.1892,  8.1982,\n         8.2072,  8.2162,  8.2252,  8.2342,  8.2432,  8.2523,  8.2613,  8.2703,\n         8.2793,  8.2883,  8.2973,  8.3063,  8.3153,  8.3243,  8.3333,  8.3423,\n         8.3514,  8.3604,  8.3694,  8.3784,  8.3874,  8.3964,  8.4054,  8.4144,\n         8.4234,  8.4324,  8.4414,  8.4505,  8.4595,  8.4685,  8.4775,  8.4865,\n         8.4955,  8.5045,  8.5135,  8.5225,  8.5315,  8.5405,  8.5496,  8.5586,\n         8.5676,  8.5766,  8.5856,  8.5946,  8.6036,  8.6126,  8.6216,  8.6306,\n         8.6396,  8.6486,  8.6577,  8.6667,  8.6757,  8.6847,  8.6937,  8.7027,\n         8.7117,  8.7207,  8.7297,  8.7387,  8.7477,  8.7568,  8.7658,  8.7748,\n         8.7838,  8.7928,  8.8018,  8.8108,  8.8198,  8.8288,  8.8378,  8.8468,\n         8.8559,  8.8649,  8.8739,  8.8829,  8.8919,  8.9009,  8.9099,  8.9189,\n         8.9279,  8.9369,  8.9459,  8.9550,  8.9640,  8.9730,  8.9820,  8.9910,\n         9.0000,  9.0090,  9.0180,  9.0270,  9.0360,  9.0450,  9.0541,  9.0631,\n         9.0721,  9.0811,  9.0901,  9.0991,  9.1081,  9.1171,  9.1261,  9.1351,\n         9.1441,  9.1532,  9.1622,  9.1712,  9.1802,  9.1892,  9.1982,  9.2072,\n         9.2162,  9.2252,  9.2342,  9.2432,  9.2523,  9.2613,  9.2703,  9.2793,\n         9.2883,  9.2973,  9.3063,  9.3153,  9.3243,  9.3333,  9.3423,  9.3514,\n         9.3604,  9.3694,  9.3784,  9.3874,  9.3964,  9.4054,  9.4144,  9.4234,\n         9.4324,  9.4414,  9.4504,  9.4595,  9.4685,  9.4775,  9.4865,  9.4955,\n         9.5045,  9.5135,  9.5225,  9.5315,  9.5405,  9.5495,  9.5586,  9.5676,\n         9.5766,  9.5856,  9.5946,  9.6036,  9.6126,  9.6216,  9.6306,  9.6396,\n         9.6486,  9.6577,  9.6667,  9.6757,  9.6847,  9.6937,  9.7027,  9.7117,\n         9.7207,  9.7297,  9.7387,  9.7477,  9.7568,  9.7658,  9.7748,  9.7838,\n         9.7928,  9.8018,  9.8108,  9.8198,  9.8288,  9.8378,  9.8468,  9.8559,\n         9.8649,  9.8739,  9.8829,  9.8919,  9.9009,  9.9099,  9.9189,  9.9279,\n         9.9369,  9.9459,  9.9550,  9.9640,  9.9730,  9.9820,  9.9910, 10.0000])"
     },
     "execution_count": 17,
     "metadata": {},
     "output_type": "execute_result"
    }
   ],
   "source": [
    "times"
   ],
   "metadata": {
    "collapsed": false,
    "pycharm": {
     "name": "#%%\n"
    }
   }
  },
  {
   "cell_type": "code",
   "execution_count": 18,
   "outputs": [
    {
     "data": {
      "text/plain": "EEGGPModel(\n  (likelihood): GaussianLikelihood(\n    (noise_covar): HomoskedasticNoise(\n      (raw_noise_constraint): GreaterThan(1.000E-04)\n    )\n  )\n  (mean_module): ZeroMean()\n  (covar_module): ScaleKernel(\n    (base_kernel): MaternKernel(\n      (raw_lengthscale_constraint): Positive()\n    )\n    (raw_outputscale_constraint): Positive()\n  )\n)"
     },
     "execution_count": 18,
     "metadata": {},
     "output_type": "execute_result"
    }
   ],
   "source": [
    "model = EEGGPModel([],[], likelihood)\n",
    "model"
   ],
   "metadata": {
    "collapsed": false,
    "pycharm": {
     "name": "#%%\n"
    }
   }
  },
  {
   "cell_type": "code",
   "execution_count": 19,
   "outputs": [
    {
     "data": {
      "text/plain": "<Figure size 432x288 with 1 Axes>",
      "image/png": "[encoded data removed]"
     },
     "metadata": {
      "needs_background": "light"
     },
     "output_type": "display_data"
    }
   ],
   "source": [
    "for i in range(10):\n",
    "    plt.plot(model(times).sample())"
   ],
   "metadata": {
    "collapsed": false,
    "pycharm": {
     "name": "#%%\n"
    }
   }
  },
  {
   "cell_type": "markdown",
   "source": [],
   "metadata": {
    "collapsed": false,
    "pycharm": {
     "name": "#%% md\n"
    }
   }
  },
  {
   "cell_type": "code",
   "execution_count": 20,
   "outputs": [
    {
     "name": "stdout",
     "output_type": "stream",
     "text": [
      "Parameter name: likelihood.noise_covar.raw_noise           value = 0.0\n",
      "Parameter name: covar_module.raw_outputscale               value = 0.0\n",
      "Parameter name: covar_module.base_kernel.raw_lengthscale   value = 0.0\n"
     ]
    }
   ],
   "source": [
    "for param_name, param in model.named_parameters():\n",
    "    print(f'Parameter name: {param_name:42} value = {param.item()}')"
   ],
   "metadata": {
    "collapsed": false,
    "pycharm": {
     "name": "#%%\n"
    }
   }
  },
  {
   "cell_type": "code",
   "execution_count": 21,
   "outputs": [],
   "source": [
    "train_x = times\n",
    "train_y = 2*model(times).sample()\n"
   ],
   "metadata": {
    "collapsed": false,
    "pycharm": {
     "name": "#%%\n"
    }
   }
  },
  {
   "cell_type": "code",
   "execution_count": 22,
   "outputs": [
    {
     "data": {
      "text/plain": "[<matplotlib.lines.Line2D at 0x1d8abc8f100>]"
     },
     "execution_count": 22,
     "metadata": {},
     "output_type": "execute_result"
    },
    {
     "data": {
      "text/plain": "<Figure size 432x288 with 1 Axes>",
      "image/png": "[encoded data removed]"
     },
     "metadata": {
      "needs_background": "light"
     },
     "output_type": "display_data"
    }
   ],
   "source": [
    "plt.plot(train_x, (train_y - train_y.mean())/(torch.var(train_y - train_y.mean())))"
   ],
   "metadata": {
    "collapsed": false,
    "pycharm": {
     "name": "#%%\n"
    }
   }
  },
  {
   "cell_type": "code",
   "execution_count": 23,
   "outputs": [],
   "source": [
    "def training_loop(train_x, train_y, num_iters=50, lr=0.01):\n",
    "    model = EEGGPModel(train_x, train_y, likelihood)\n",
    "    model.train()\n",
    "    likelihood.train()\n",
    "    # Use the adam optimizer\n",
    "    optimizer = torch.optim.Adam(model.parameters(), lr=lr)  # Includes GaussianLikelihood parameters\n",
    "\n",
    "    # \"Loss\" for GPs - the marginal log likelihood\n",
    "    mll = gpytorch.mlls.ExactMarginalLogLikelihood(likelihood, model)\n",
    "\n",
    "    for i in range(num_iters):\n",
    "        # Zero gradients from previous iteration\n",
    "        optimizer.zero_grad()\n",
    "        # Output from model\n",
    "        output = model(train_x)\n",
    "        # Calc loss and backprop gradients\n",
    "        loss = -mll(output, train_y)\n",
    "        loss.backward()\n",
    "        print('Iter %d/%d - Loss: %.3f   lengthscale: %.3f   noise: %.3f' % (\n",
    "            i + 1, num_iters, loss.item(),\n",
    "            model.covar_module.base_kernel.lengthscale.item(),\n",
    "            model.likelihood.noise.item()\n",
    "        ))\n",
    "        optimizer.step()\n",
    "\n",
    "    params = pd.DataFrame(model.named_parameters(), columns=[\"param_name\", \"param_value\"])\n",
    "    params['param_value'] = params.param_value.apply(lambda x: x.item())\n",
    "    return params\n"
   ],
   "metadata": {
    "collapsed": false,
    "pycharm": {
     "name": "#%%\n"
    }
   }
  },
  {
   "cell_type": "code",
   "execution_count": 24,
   "outputs": [
    {
     "name": "stdout",
     "output_type": "stream",
     "text": [
      "Iter 1/50 - Loss: 0.798   lengthscale: 0.693   noise: 0.693\n",
      "Iter 2/50 - Loss: 0.803   lengthscale: 0.688   noise: 0.688\n",
      "Iter 3/50 - Loss: 0.796   lengthscale: 0.684   noise: 0.683\n",
      "Iter 4/50 - Loss: 0.786   lengthscale: 0.680   noise: 0.678\n",
      "Iter 5/50 - Loss: 0.796   lengthscale: 0.675   noise: 0.673\n",
      "Iter 6/50 - Loss: 0.784   lengthscale: 0.672   noise: 0.669\n",
      "Iter 7/50 - Loss: 0.776   lengthscale: 0.668   noise: 0.664\n",
      "Iter 8/50 - Loss: 0.774   lengthscale: 0.665   noise: 0.659\n",
      "Iter 9/50 - Loss: 0.784   lengthscale: 0.661   noise: 0.654\n",
      "Iter 10/50 - Loss: 0.767   lengthscale: 0.658   noise: 0.649\n",
      "Iter 11/50 - Loss: 0.760   lengthscale: 0.655   noise: 0.644\n",
      "Iter 12/50 - Loss: 0.764   lengthscale: 0.652   noise: 0.640\n",
      "Iter 13/50 - Loss: 0.758   lengthscale: 0.650   noise: 0.635\n",
      "Iter 14/50 - Loss: 0.764   lengthscale: 0.648   noise: 0.630\n",
      "Iter 15/50 - Loss: 0.757   lengthscale: 0.646   noise: 0.626\n",
      "Iter 16/50 - Loss: 0.745   lengthscale: 0.645   noise: 0.621\n",
      "Iter 17/50 - Loss: 0.741   lengthscale: 0.644   noise: 0.616\n",
      "Iter 18/50 - Loss: 0.745   lengthscale: 0.644   noise: 0.612\n",
      "Iter 19/50 - Loss: 0.743   lengthscale: 0.645   noise: 0.607\n",
      "Iter 20/50 - Loss: 0.734   lengthscale: 0.645   noise: 0.603\n",
      "Iter 21/50 - Loss: 0.729   lengthscale: 0.647   noise: 0.598\n",
      "Iter 22/50 - Loss: 0.733   lengthscale: 0.648   noise: 0.594\n",
      "Iter 23/50 - Loss: 0.719   lengthscale: 0.649   noise: 0.589\n",
      "Iter 24/50 - Loss: 0.727   lengthscale: 0.650   noise: 0.585\n",
      "Iter 25/50 - Loss: 0.718   lengthscale: 0.651   noise: 0.580\n",
      "Iter 26/50 - Loss: 0.714   lengthscale: 0.653   noise: 0.576\n",
      "Iter 27/50 - Loss: 0.710   lengthscale: 0.654   noise: 0.571\n",
      "Iter 28/50 - Loss: 0.706   lengthscale: 0.656   noise: 0.567\n",
      "Iter 29/50 - Loss: 0.700   lengthscale: 0.657   noise: 0.562\n",
      "Iter 30/50 - Loss: 0.705   lengthscale: 0.657   noise: 0.558\n",
      "Iter 31/50 - Loss: 0.690   lengthscale: 0.659   noise: 0.554\n",
      "Iter 32/50 - Loss: 0.687   lengthscale: 0.660   noise: 0.550\n",
      "Iter 33/50 - Loss: 0.688   lengthscale: 0.660   noise: 0.545\n",
      "Iter 34/50 - Loss: 0.679   lengthscale: 0.660   noise: 0.541\n",
      "Iter 35/50 - Loss: 0.676   lengthscale: 0.660   noise: 0.537\n",
      "Iter 36/50 - Loss: 0.677   lengthscale: 0.660   noise: 0.533\n",
      "Iter 37/50 - Loss: 0.672   lengthscale: 0.660   noise: 0.528\n",
      "Iter 38/50 - Loss: 0.671   lengthscale: 0.659   noise: 0.524\n",
      "Iter 39/50 - Loss: 0.670   lengthscale: 0.659   noise: 0.520\n",
      "Iter 40/50 - Loss: 0.655   lengthscale: 0.659   noise: 0.516\n",
      "Iter 41/50 - Loss: 0.656   lengthscale: 0.658   noise: 0.512\n",
      "Iter 42/50 - Loss: 0.648   lengthscale: 0.657   noise: 0.508\n",
      "Iter 43/50 - Loss: 0.645   lengthscale: 0.655   noise: 0.504\n",
      "Iter 44/50 - Loss: 0.645   lengthscale: 0.654   noise: 0.500\n",
      "Iter 45/50 - Loss: 0.635   lengthscale: 0.653   noise: 0.496\n",
      "Iter 46/50 - Loss: 0.633   lengthscale: 0.652   noise: 0.492\n",
      "Iter 47/50 - Loss: 0.633   lengthscale: 0.650   noise: 0.488\n",
      "Iter 48/50 - Loss: 0.633   lengthscale: 0.649   noise: 0.484\n",
      "Iter 49/50 - Loss: 0.623   lengthscale: 0.649   noise: 0.480\n",
      "Iter 50/50 - Loss: 0.628   lengthscale: 0.648   noise: 0.476\n"
     ]
    },
    {
     "data": {
      "text/plain": "                                 param_name  param_value\n0          likelihood.noise_covar.raw_noise    -0.505748\n1              covar_module.raw_outputscale     0.118045\n2  covar_module.base_kernel.raw_lengthscale    -0.092722",
      "text/html": "<div>\n<style scoped>\n    .dataframe tbody tr th:only-of-type {\n        vertical-align: middle;\n    }\n\n    .dataframe tbody tr th {\n        vertical-align: top;\n    }\n\n    .dataframe thead th {\n        text-align: right;\n    }\n</style>\n<table border=\"1\" class=\"dataframe\">\n  <thead>\n    <tr style=\"text-align: right;\">\n      <th></th>\n      <th>param_name</th>\n      <th>param_value</th>\n    </tr>\n  </thead>\n  <tbody>\n    <tr>\n      <th>0</th>\n      <td>likelihood.noise_covar.raw_noise</td>\n      <td>-0.505748</td>\n    </tr>\n    <tr>\n      <th>1</th>\n      <td>covar_module.raw_outputscale</td>\n      <td>0.118045</td>\n    </tr>\n    <tr>\n      <th>2</th>\n      <td>covar_module.base_kernel.raw_lengthscale</td>\n      <td>-0.092722</td>\n    </tr>\n  </tbody>\n</table>\n</div>"
     },
     "execution_count": 24,
     "metadata": {},
     "output_type": "execute_result"
    }
   ],
   "source": [
    "training_loop(train_x, train_y)"
   ],
   "metadata": {
    "collapsed": false,
    "pycharm": {
     "name": "#%%\n"
    }
   }
  },
  {
   "cell_type": "markdown",
   "source": [
    "## Load Data"
   ],
   "metadata": {
    "collapsed": false
   }
  },
  {
   "cell_type": "code",
   "execution_count": 25,
   "outputs": [
    {
     "name": "stdout",
     "output_type": "stream",
     "text": [
      "loading\n",
      "done loading\n"
     ]
    },
    {
     "ename": "AssertionError",
     "evalue": "Torch not compiled with CUDA enabled",
     "output_type": "error",
     "traceback": [
      "\u001B[1;31m---------------------------------------------------------------------------\u001B[0m",
      "\u001B[1;31mAssertionError\u001B[0m                            Traceback (most recent call last)",
      "\u001B[1;32m~\\AppData\\Local\\Temp/ipykernel_26588/2263821638.py\u001B[0m in \u001B[0;36m<module>\u001B[1;34m\u001B[0m\n\u001B[0;32m      3\u001B[0m \u001B[0mtrain_x\u001B[0m \u001B[1;33m=\u001B[0m \u001B[0mdataset\u001B[0m\u001B[1;33m.\u001B[0m\u001B[0mget_train_x\u001B[0m\u001B[1;33m(\u001B[0m\u001B[1;33m)\u001B[0m\u001B[1;33m\u001B[0m\u001B[1;33m\u001B[0m\u001B[0m\n\u001B[0;32m      4\u001B[0m \u001B[0mtrain_y\u001B[0m \u001B[1;33m=\u001B[0m \u001B[0mdataset\u001B[0m\u001B[1;33m.\u001B[0m\u001B[0mget_train_y\u001B[0m\u001B[1;33m(\u001B[0m\u001B[0mnum_channels\u001B[0m\u001B[1;33m=\u001B[0m\u001B[1;36m1\u001B[0m\u001B[1;33m)\u001B[0m\u001B[1;33m.\u001B[0m\u001B[0mfloat\u001B[0m\u001B[1;33m(\u001B[0m\u001B[1;33m)\u001B[0m\u001B[1;33m\u001B[0m\u001B[1;33m\u001B[0m\u001B[0m\n\u001B[1;32m----> 5\u001B[1;33m \u001B[0mtrain_x\u001B[0m \u001B[1;33m=\u001B[0m \u001B[0mtrain_x\u001B[0m\u001B[1;33m.\u001B[0m\u001B[0mcuda\u001B[0m\u001B[1;33m(\u001B[0m\u001B[1;33m)\u001B[0m\u001B[1;33m\u001B[0m\u001B[1;33m\u001B[0m\u001B[0m\n\u001B[0m\u001B[0;32m      6\u001B[0m \u001B[0mtrain_y\u001B[0m \u001B[1;33m=\u001B[0m \u001B[0mtrain_y\u001B[0m\u001B[1;33m.\u001B[0m\u001B[0mcuda\u001B[0m\u001B[1;33m(\u001B[0m\u001B[1;33m)\u001B[0m\u001B[1;33m\u001B[0m\u001B[1;33m\u001B[0m\u001B[0m\n",
      "\u001B[1;32m~\\.virtualenvs\\msc-WSmVxSSb\\lib\\site-packages\\torch\\cuda\\__init__.py\u001B[0m in \u001B[0;36m_lazy_init\u001B[1;34m()\u001B[0m\n\u001B[0;32m    206\u001B[0m                 \"multiprocessing, you must use the 'spawn' start method\")\n\u001B[0;32m    207\u001B[0m         \u001B[1;32mif\u001B[0m \u001B[1;32mnot\u001B[0m \u001B[0mhasattr\u001B[0m\u001B[1;33m(\u001B[0m\u001B[0mtorch\u001B[0m\u001B[1;33m.\u001B[0m\u001B[0m_C\u001B[0m\u001B[1;33m,\u001B[0m \u001B[1;34m'_cuda_getDeviceCount'\u001B[0m\u001B[1;33m)\u001B[0m\u001B[1;33m:\u001B[0m\u001B[1;33m\u001B[0m\u001B[1;33m\u001B[0m\u001B[0m\n\u001B[1;32m--> 208\u001B[1;33m             \u001B[1;32mraise\u001B[0m \u001B[0mAssertionError\u001B[0m\u001B[1;33m(\u001B[0m\u001B[1;34m\"Torch not compiled with CUDA enabled\"\u001B[0m\u001B[1;33m)\u001B[0m\u001B[1;33m\u001B[0m\u001B[1;33m\u001B[0m\u001B[0m\n\u001B[0m\u001B[0;32m    209\u001B[0m         \u001B[1;32mif\u001B[0m \u001B[0m_cudart\u001B[0m \u001B[1;32mis\u001B[0m \u001B[1;32mNone\u001B[0m\u001B[1;33m:\u001B[0m\u001B[1;33m\u001B[0m\u001B[1;33m\u001B[0m\u001B[0m\n\u001B[0;32m    210\u001B[0m             raise AssertionError(\n",
      "\u001B[1;31mAssertionError\u001B[0m: Torch not compiled with CUDA enabled"
     ]
    }
   ],
   "source": [
    "data_dir = r\"C:\\Users\\noam\\Repositories\\noamsgl\\msc\\results\\epilepsiae\\UNIFORM\\20220106T165558\"\n",
    "dataset = UniformDataset(data_dir)\n",
    "train_x = dataset.get_train_x()\n",
    "train_y = dataset.get_train_y(num_channels=1).float()\n",
    "train_x = train_x.cuda()\n",
    "train_y = train_y.cuda()"
   ],
   "metadata": {
    "collapsed": false,
    "pycharm": {
     "name": "#%%\n"
    }
   }
  },
  {
   "cell_type": "code",
   "execution_count": null,
   "outputs": [],
   "source": [
    "for i in range(1000):\n",
    "    plt.plot(train_x, train_y[i][0])\n",
    "plt.xlabel('time (seconds)')\n",
    "plt.show()"
   ],
   "metadata": {
    "collapsed": false,
    "pycharm": {
     "name": "#%%\n"
    }
   }
  },
  {
   "cell_type": "markdown",
   "source": [
    "## MLE Hyperparameter estimation"
   ],
   "metadata": {
    "collapsed": false
   }
  },
  {
   "cell_type": "code",
   "execution_count": null,
   "outputs": [],
   "source": [
    "def train_model_multiple_times(train_x, train_y, num_iters=50, lr=0.01):\n",
    "    params_results = []\n",
    "    for i in range(train_y.shape[0]):\n",
    "        print(f\"**** training loop {i=} ****\")\n",
    "        results = training_loop(train_x, train_y[i], num_iters=num_iters, lr=lr)\n",
    "        results[\"sample_id\"] = i\n",
    "        params_results.append(results)\n",
    "    results_df = pd.concat(params_results)\n",
    "    return results_df"
   ],
   "metadata": {
    "collapsed": false,
    "pycharm": {
     "name": "#%%\n"
    }
   }
  },
  {
   "cell_type": "code",
   "execution_count": null,
   "outputs": [],
   "source": [
    "uniform_params = train_model_multiple_times(train_x, train_y.squeeze()[:1000])\n",
    "uniform_params[\"dataset\"] = \"uniform\""
   ],
   "metadata": {
    "collapsed": false,
    "pycharm": {
     "name": "#%%\n"
    }
   }
  },
  {
   "cell_type": "code",
   "execution_count": null,
   "outputs": [],
   "source": [
    "uniform_params.groupby('param_name').get_group('covar_module.raw_outputscale').param_value.plot(kind='hist', bins=100)"
   ],
   "metadata": {
    "collapsed": false,
    "pycharm": {
     "name": "#%%\n"
    }
   }
  },
  {
   "cell_type": "code",
   "execution_count": null,
   "outputs": [],
   "source": [
    "uniform_params.groupby('param_name').get_group('covar_module.base_kernel.raw_lengthscale').param_value.plot(kind='hist', bins=100)"
   ],
   "metadata": {
    "collapsed": false,
    "pycharm": {
     "name": "#%%\n"
    }
   }
  },
  {
   "cell_type": "code",
   "execution_count": null,
   "outputs": [],
   "source": [
    "uniform_params.groupby('param_name').get_group('likelihood.noise_covar.raw_noise').param_value.plot(kind='hist', bins=100)"
   ],
   "metadata": {
    "collapsed": false,
    "pycharm": {
     "name": "#%%\n"
    }
   }
  },
  {
   "cell_type": "code",
   "execution_count": null,
   "outputs": [],
   "source": [
    "uniform_params.pivot(index='sample_id', columns='param_name', values='param_value').plot.scatter(x=\"covar_module.base_kernel.raw_lengthscale\",\n",
    "                                                                                   y=\"covar_module.raw_outputscale\")"
   ],
   "metadata": {
    "collapsed": false,
    "pycharm": {
     "name": "#%%\n"
    }
   }
  },
  {
   "cell_type": "code",
   "execution_count": null,
   "outputs": [],
   "source": [
    "uniform_params"
   ],
   "metadata": {
    "collapsed": false,
    "pycharm": {
     "name": "#%%\n"
    }
   }
  },
  {
   "cell_type": "code",
   "execution_count": null,
   "outputs": [],
   "source": [
    "uniform_params.to_csv(f'results_uniform_1000_{get_time_as_str()}.csv')"
   ],
   "metadata": {
    "collapsed": false,
    "pycharm": {
     "name": "#%%\n"
    }
   }
  },
  {
   "cell_type": "markdown",
   "source": [
    "## Add more seizures\n",
    "Take Seizures Dataset\n",
    "Take 1000 first points from each seizure\n",
    "Get Train_X with L=1000\n",
    "Get Train_Y with L=1000\n",
    "Train GPs on each of them\n",
    "get results in new dataframe\n",
    "Add column dataset=\"uniform\"/\"seizure\"\n",
    "Sample first 10 seizures on plot.\n",
    "\n",
    "\n"
   ],
   "metadata": {
    "collapsed": false
   }
  },
  {
   "cell_type": "code",
   "execution_count": null,
   "outputs": [],
   "source": [
    "seizures_dataset_dir = r\"C:\\Users\\noam\\Repositories\\noamsgl\\msc\\results\\epilepsiae\\SEIZURES\\20220103T101554\"\n",
    "seizures_dataset = SeizuresDataset(seizures_dataset_dir)"
   ],
   "metadata": {
    "collapsed": false,
    "pycharm": {
     "name": "#%%\n"
    }
   }
  },
  {
   "cell_type": "code",
   "execution_count": null,
   "outputs": [],
   "source": [
    "seizures_dataset.samples_df"
   ],
   "metadata": {
    "collapsed": false,
    "pycharm": {
     "name": "#%%\n"
    }
   }
  },
  {
   "cell_type": "code",
   "execution_count": null,
   "outputs": [],
   "source": [
    "type(seizures_dataset.metadata.get('sfreq'))"
   ],
   "metadata": {
    "collapsed": false,
    "pycharm": {
     "name": "#%%\n"
    }
   }
  },
  {
   "cell_type": "code",
   "execution_count": null,
   "outputs": [],
   "source": [
    "seizures_train_x = seizures_dataset.get_train_x(crop=1000/256)\n",
    "seizures_train_y = seizures_dataset.get_train_y(num_channels=1, crop=1000/256)"
   ],
   "metadata": {
    "collapsed": false,
    "pycharm": {
     "name": "#%%\n"
    }
   }
  },
  {
   "cell_type": "code",
   "execution_count": null,
   "outputs": [],
   "source": [
    "seizures_train_x = seizures_train_x.cuda()\n",
    "seizures_train_y = seizures_train_y.cuda()"
   ],
   "metadata": {
    "collapsed": false,
    "pycharm": {
     "name": "#%%\n"
    }
   }
  },
  {
   "cell_type": "code",
   "execution_count": null,
   "outputs": [],
   "source": [
    "seizure_params = train_model_multiple_times(seizures_train_x, seizures_train_y.squeeze())\n",
    "seizure_params[\"dataset\"] = \"seizure\""
   ],
   "metadata": {
    "collapsed": false,
    "pycharm": {
     "name": "#%%\n"
    }
   }
  },
  {
   "cell_type": "code",
   "execution_count": null,
   "outputs": [],
   "source": [
    "seizure_params.groupby('param_name').get_group('covar_module.raw_outputscale').param_value.plot(kind='hist', bins=100)"
   ],
   "metadata": {
    "collapsed": false,
    "pycharm": {
     "name": "#%%\n"
    }
   }
  },
  {
   "cell_type": "code",
   "execution_count": null,
   "outputs": [],
   "source": [
    "seizure_params.groupby('param_name').get_group('covar_module.base_kernel.raw_lengthscale').param_value.plot(kind='hist', bins=100)"
   ],
   "metadata": {
    "collapsed": false,
    "pycharm": {
     "name": "#%%\n"
    }
   }
  },
  {
   "cell_type": "code",
   "execution_count": null,
   "outputs": [],
   "source": [
    "seizure_params.groupby('param_name').get_group('likelihood.noise_covar.raw_noise').param_value.plot(kind='hist', bins=100)"
   ],
   "metadata": {
    "collapsed": false,
    "pycharm": {
     "name": "#%%\n"
    }
   }
  },
  {
   "cell_type": "code",
   "execution_count": null,
   "outputs": [],
   "source": [
    "seizure_params.pivot(index='sample_id', columns='param_name', values='param_value').plot.scatter(x=\"covar_module.base_kernel.raw_lengthscale\", y=\"covar_module.raw_outputscale\")"
   ],
   "metadata": {
    "collapsed": false,
    "pycharm": {
     "name": "#%%\n"
    }
   }
  },
  {
   "cell_type": "code",
   "execution_count": null,
   "outputs": [],
   "source": [
    "seizure_params"
   ],
   "metadata": {
    "collapsed": false,
    "pycharm": {
     "name": "#%%\n"
    }
   }
  },
  {
   "cell_type": "code",
   "execution_count": null,
   "outputs": [],
   "source": [
    "seizure_params.to_csv(f'results_seizure_{get_time_as_str()}.csv')"
   ],
   "metadata": {
    "collapsed": false,
    "pycharm": {
     "name": "#%%\n"
    }
   }
  }
 ],
 "metadata": {
  "kernelspec": {
   "display_name": "Python 3",
   "language": "python",
   "name": "python3"
  },
  "language_info": {
   "codemirror_mode": {
    "name": "ipython",
    "version": 2
   },
   "file_extension": ".py",
   "mimetype": "text/x-python",
   "name": "python",
   "nbconvert_exporter": "python",
   "pygments_lexer": "ipython2",
   "version": "2.7.6"
  }
 },
 "nbformat": 4,
 "nbformat_minor": 0
}