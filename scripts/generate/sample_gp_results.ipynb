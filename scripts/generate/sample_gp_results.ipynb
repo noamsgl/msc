{
 "cells": [
  {
   "cell_type": "code",
   "execution_count": 3,
   "metadata": {},
   "outputs": [
    {
     "name": "stderr",
     "output_type": "stream",
     "text": [
      "UsageError: Line magic function `%` not found.\n"
     ]
    }
   ],
   "source": [
    "import gpytorch\n",
    "import matplotlib.pyplot as plt\n",
    "import pandas as pd\n",
    "import seaborn as sns\n",
    "import torch\n",
    "\n",
    "sns.set_theme(style=\"white\")\n",
    "%load_ext autoreload\n",
    "%autoreload 2"
   ]
  },
  {
   "cell_type": "markdown",
   "metadata": {
    "pycharm": {
     "name": "#%% md\n"
    }
   },
   "source": [
    "## Define GP Model"
   ]
  },
  {
   "cell_type": "code",
   "execution_count": 61,
   "metadata": {
    "pycharm": {
     "name": "#%%\n"
    }
   },
   "outputs": [],
   "source": [
    "class EEGGPModel(gpytorch.models.ExactGP):\n",
    "    def __init__(self, train_x, train_y, likelihood, kernel: str = \"matern\",\n",
    "                 lengthscale_prior=gpytorch.priors.GammaPrior(3.0, 6.0),\n",
    "                 outputscale_prior=gpytorch.priors.GammaPrior(2.0, 0.15)):\n",
    "        super(EEGGPModel, self).__init__(train_x, train_y, likelihood)\n",
    "        self.mean_module = gpytorch.means.ConstantMean()\n",
    "        if kernel == \"matern\":\n",
    "            self.covar_module = gpytorch.kernels.ScaleKernel(gpytorch.kernels.MaternKernel(1.5,\n",
    "                                                                                           lengthscale_prior=lengthscale_prior),\n",
    "                                                             outputscale_prior=outputscale_prior)\n",
    "\n",
    "            # Initialize lengthscale and outputscale to mean of priors\n",
    "            self.covar_module.base_kernel.lengthscale = lengthscale_prior.mean\n",
    "            self.covar_module.outputscale = outputscale_prior.mean\n",
    "\n",
    "        elif kernel == \"rbf\":\n",
    "            self.covar_module = gpytorch.kernels.ScaleKernel(gpytorch.kernels.RBFKernel(lengthscale_prior=lengthscale_prior))\n",
    "            self.covar_module.base_kernel.lengthscale = lengthscale_prior.mean\n",
    "        else:\n",
    "            raise ValueError(\"incorrect kernel\")\n",
    "\n",
    "    def forward(self, x):\n",
    "        mean_x = self.mean_module(x)\n",
    "        cover_x = self.covar_module(x)\n",
    "        return gpytorch.distributions.MultivariateNormal(mean_x, cover_x)\n",
    "\n",
    "\n",
    "likelihood = gpytorch.likelihoods.GaussianLikelihood()\n",
    "#\n"
   ]
  },
  {
   "cell_type": "code",
   "execution_count": 5,
   "metadata": {
    "pycharm": {
     "name": "#%%\n"
    }
   },
   "outputs": [
    {
     "data": {
      "text/plain": [
       "EEGGPModel(\n",
       "  (likelihood): GaussianLikelihood(\n",
       "    (noise_covar): HomoskedasticNoise(\n",
       "      (raw_noise_constraint): GreaterThan(1.000E-04)\n",
       "    )\n",
       "  )\n",
       "  (mean_module): ZeroMean()\n",
       "  (covar_module): ScaleKernel(\n",
       "    (base_kernel): MaternKernel(\n",
       "      (lengthscale_prior): GammaPrior()\n",
       "      (raw_lengthscale_constraint): Positive()\n",
       "    )\n",
       "    (outputscale_prior): GammaPrior()\n",
       "    (raw_outputscale_constraint): Positive()\n",
       "  )\n",
       ")"
      ]
     },
     "execution_count": 5,
     "metadata": {},
     "output_type": "execute_result"
    }
   ],
   "source": [
    "model = EEGGPModel(None, None, likelihood)\n",
    "model"
   ]
  },
  {
   "cell_type": "code",
   "execution_count": 6,
   "metadata": {
    "pycharm": {
     "name": "#%%\n"
    }
   },
   "outputs": [
    {
     "data": {
      "text/plain": [
       "OrderedDict([('likelihood.noise_covar.raw_noise', tensor([0.])),\n",
       "             ('likelihood.noise_covar.raw_noise_constraint.lower_bound',\n",
       "              tensor(1.0000e-04)),\n",
       "             ('likelihood.noise_covar.raw_noise_constraint.upper_bound',\n",
       "              tensor(inf)),\n",
       "             ('covar_module.raw_outputscale', tensor(13.3333)),\n",
       "             ('covar_module.base_kernel.raw_lengthscale', tensor([[-0.4328]])),\n",
       "             ('covar_module.base_kernel.lengthscale_prior.concentration',\n",
       "              tensor(3.)),\n",
       "             ('covar_module.base_kernel.lengthscale_prior.rate', tensor(6.)),\n",
       "             ('covar_module.base_kernel.raw_lengthscale_constraint.lower_bound',\n",
       "              tensor(0.)),\n",
       "             ('covar_module.base_kernel.raw_lengthscale_constraint.upper_bound',\n",
       "              tensor(inf)),\n",
       "             ('covar_module.outputscale_prior.concentration', tensor(2.)),\n",
       "             ('covar_module.outputscale_prior.rate', tensor(0.1500)),\n",
       "             ('covar_module.raw_outputscale_constraint.lower_bound',\n",
       "              tensor(0.)),\n",
       "             ('covar_module.raw_outputscale_constraint.upper_bound',\n",
       "              tensor(inf))])"
      ]
     },
     "execution_count": 6,
     "metadata": {},
     "output_type": "execute_result"
    }
   ],
   "source": [
    "model.state_dict()"
   ]
  },
  {
   "cell_type": "code",
   "execution_count": 7,
   "metadata": {
    "pycharm": {
     "name": "#%%\n"
    }
   },
   "outputs": [
    {
     "name": "stderr",
     "output_type": "stream",
     "text": [
      "C:\\Users\\noam\\.virtualenvs\\msc-WSmVxSSb\\lib\\site-packages\\gpytorch\\utils\\cholesky.py:38: NumericalWarning: A not p.d., added jitter of 1.0e-06 to the diagonal\n",
      "  warnings.warn(\n",
      "C:\\Users\\noam\\.virtualenvs\\msc-WSmVxSSb\\lib\\site-packages\\gpytorch\\utils\\cholesky.py:38: NumericalWarning: A not p.d., added jitter of 1.0e-05 to the diagonal\n",
      "  warnings.warn(\n",
      "C:\\Users\\noam\\.virtualenvs\\msc-WSmVxSSb\\lib\\site-packages\\gpytorch\\utils\\cholesky.py:38: NumericalWarning: A not p.d., added jitter of 1.0e-04 to the diagonal\n",
      "  warnings.warn(\n"
     ]
    },
    {
     "data": {
      "text/plain": [
       "Text(0, 0.5, 'EEG (z-score)')"
      ]
     },
     "execution_count": 7,
     "metadata": {},
     "output_type": "execute_result"
    },
    {
     "data": {
      "image/png": "[encoded data removed]",
      "text/plain": [
       "<Figure size 432x288 with 1 Axes>"
      ]
     },
     "metadata": {},
     "output_type": "display_data"
    }
   ],
   "source": [
    "times = torch.linspace(0, 3, 100)\n",
    "model = EEGGPModel(times, None, likelihood, \"rbf\", lengthscale_prior=gpytorch.priors.GammaPrior(1.0, 12.0))\n",
    "# model.eval()\n",
    "preds = model(times)\n",
    "for i in range(3):\n",
    "    plt.plot(times, preds.sample())\n",
    "plt.title(\"Samples from Prior with RBF Kernel\")\n",
    "plt.xlabel(\"time (s)\")\n",
    "plt.ylabel(\"EEG (z-score)\")\n"
   ]
  },
  {
   "cell_type": "code",
   "execution_count": 70,
   "metadata": {
    "pycharm": {
     "name": "#%%\n"
    }
   },
   "outputs": [
    {
     "data": {
      "text/plain": [
       "Text(0, 0.5, 'EEG (z-score)')"
      ]
     },
     "execution_count": 70,
     "metadata": {},
     "output_type": "execute_result"
    },
    {
     "data": {
      "image/png": "[encoded data removed]",
      "text/plain": [
       "<Figure size 432x288 with 1 Axes>"
      ]
     },
     "metadata": {},
     "output_type": "display_data"
    }
   ],
   "source": [
    "times = torch.linspace(0, 3, 1000)\n",
    "model = EEGGPModel(times, None, likelihood, \"matern\",\n",
    "                 lengthscale_prior=gpytorch.priors.GammaPrior(1.0, 1.0),\n",
    "                 outputscale_prior=gpytorch.priors.GammaPrior(1.0, 1.0))\n",
    "# model.eval()\n",
    "preds = model(times)\n",
    "for i in range(3):\n",
    "    plt.plot(times, preds.sample())\n",
    "plt.title(\"Samples from Prior with Matern Kernel\", size=16)\n",
    "plt.xlabel(\"time (s)\", size=14)\n",
    "plt.ylabel(\"EEG (z-score)\", size=14)\n"
   ]
  },
  {
   "cell_type": "code",
   "execution_count": 71,
   "metadata": {},
   "outputs": [
    {
     "data": {
      "text/plain": [
       "OrderedDict([('likelihood.noise_covar.raw_noise', tensor([-4.8547])),\n",
       "             ('likelihood.noise_covar.raw_noise_constraint.lower_bound',\n",
       "              tensor(1.0000e-04)),\n",
       "             ('likelihood.noise_covar.raw_noise_constraint.upper_bound',\n",
       "              tensor(inf)),\n",
       "             ('mean_module.constant', tensor([0.])),\n",
       "             ('covar_module.raw_outputscale', tensor(0.5413)),\n",
       "             ('covar_module.base_kernel.raw_lengthscale', tensor([[0.5413]])),\n",
       "             ('covar_module.base_kernel.lengthscale_prior.concentration',\n",
       "              tensor(1.)),\n",
       "             ('covar_module.base_kernel.lengthscale_prior.rate', tensor(1.)),\n",
       "             ('covar_module.base_kernel.raw_lengthscale_constraint.lower_bound',\n",
       "              tensor(0.)),\n",
       "             ('covar_module.base_kernel.raw_lengthscale_constraint.upper_bound',\n",
       "              tensor(inf)),\n",
       "             ('covar_module.outputscale_prior.concentration', tensor(1.)),\n",
       "             ('covar_module.outputscale_prior.rate', tensor(1.)),\n",
       "             ('covar_module.raw_outputscale_constraint.lower_bound',\n",
       "              tensor(0.)),\n",
       "             ('covar_module.raw_outputscale_constraint.upper_bound',\n",
       "              tensor(inf))])"
      ]
     },
     "execution_count": 71,
     "metadata": {},
     "output_type": "execute_result"
    }
   ],
   "source": [
    "model.state_dict()"
   ]
  },
  {
   "cell_type": "markdown",
   "metadata": {},
   "source": [
    "## Get data sample"
   ]
  },
  {
   "cell_type": "code",
   "execution_count": 9,
   "metadata": {
    "pycharm": {
     "name": "#%%\n"
    }
   },
   "outputs": [
    {
     "name": "stdout",
     "output_type": "stream",
     "text": [
      "loading\n",
      "done loading\n",
      "warning: dropping some seizures because onset or offset are NaT\n",
      "warning: dropping seizures with length < 5 seconds\n"
     ]
    }
   ],
   "source": [
    "from msc.dataset import UniformDataset, SeizuresDataset\n",
    "\n",
    "u_dataset = UniformDataset()\n",
    "s_dataset = SeizuresDataset()\n"
   ]
  },
  {
   "cell_type": "code",
   "execution_count": 10,
   "metadata": {
    "pycharm": {
     "name": "#%%\n"
    }
   },
   "outputs": [
    {
     "data": {
      "text/plain": [
       "torch.Size([1000])"
      ]
     },
     "execution_count": 10,
     "metadata": {},
     "output_type": "execute_result"
    }
   ],
   "source": [
    "times = u_dataset.get_train_x()\n",
    "times.shape"
   ]
  },
  {
   "cell_type": "code",
   "execution_count": 11,
   "metadata": {
    "pycharm": {
     "name": "#%%\n"
    }
   },
   "outputs": [
    {
     "data": {
      "text/plain": [
       "torch.Size([1000])"
      ]
     },
     "execution_count": 11,
     "metadata": {},
     "output_type": "execute_result"
    }
   ],
   "source": [
    "u_sample = u_dataset.get_train_y(1)[0]\n",
    "u_sample.shape"
   ]
  },
  {
   "cell_type": "code",
   "execution_count": 28,
   "metadata": {
    "pycharm": {
     "name": "#%%\n"
    }
   },
   "outputs": [
    {
     "data": {
      "text/plain": [
       "torch.Size([1000])"
      ]
     },
     "execution_count": 28,
     "metadata": {},
     "output_type": "execute_result"
    }
   ],
   "source": [
    "s_sample = s_dataset.get_train_y(1, crop_seconds=1000/256, delay_seconds=22)[0]\n",
    "s_sample.shape"
   ]
  },
  {
   "cell_type": "code",
   "execution_count": 50,
   "metadata": {
    "pycharm": {
     "name": "#%%\n"
    }
   },
   "outputs": [
    {
     "data": {
      "text/plain": [
       "Text(0, 0.5, 'EEG (z-score)')"
      ]
     },
     "execution_count": 50,
     "metadata": {},
     "output_type": "execute_result"
    },
    {
     "data": {
      "image/png": "[encoded data removed]",
      "text/plain": [
       "<Figure size 432x288 with 1 Axes>"
      ]
     },
     "metadata": {},
     "output_type": "display_data"
    }
   ],
   "source": [
    "# plt.plot(times, u_sample, label=\"rest\")\n",
    "plt.plot(times, s_sample, label=\"seizure\")\n",
    "plt.legend()\n",
    "plt.title(\"Raw EEG Samples\", size=16)\n",
    "plt.xlabel(\"time (s)\", size=14)\n",
    "plt.ylabel(\"EEG (z-score)\", size=14)\n"
   ]
  },
  {
   "cell_type": "markdown",
   "metadata": {},
   "source": [
    "## Train model"
   ]
  },
  {
   "cell_type": "code",
   "execution_count": 72,
   "metadata": {
    "pycharm": {
     "name": "#%%\n"
    }
   },
   "outputs": [
    {
     "name": "stdout",
     "output_type": "stream",
     "text": [
      "Iter 1/100 - Loss: -0.333   lengthscale: 1.000   noise: 0.008\n",
      "Iter 2/100 - Loss: -0.422   lengthscale: 0.938   noise: 0.009\n",
      "Iter 3/100 - Loss: -0.500   lengthscale: 0.878   noise: 0.010\n",
      "Iter 4/100 - Loss: -0.552   lengthscale: 0.821   noise: 0.011\n",
      "Iter 5/100 - Loss: -0.591   lengthscale: 0.767   noise: 0.011\n",
      "Iter 6/100 - Loss: -0.623   lengthscale: 0.716   noise: 0.013\n",
      "Iter 7/100 - Loss: -0.641   lengthscale: 0.669   noise: 0.014\n",
      "Iter 8/100 - Loss: -0.653   lengthscale: 0.626   noise: 0.014\n",
      "Iter 9/100 - Loss: -0.663   lengthscale: 0.587   noise: 0.015\n",
      "Iter 10/100 - Loss: -0.654   lengthscale: 0.553   noise: 0.016\n",
      "Iter 11/100 - Loss: -0.663   lengthscale: 0.521   noise: 0.017\n",
      "Iter 12/100 - Loss: -0.666   lengthscale: 0.493   noise: 0.017\n",
      "Iter 13/100 - Loss: -0.677   lengthscale: 0.466   noise: 0.018\n",
      "Iter 14/100 - Loss: -0.686   lengthscale: 0.438   noise: 0.018\n",
      "Iter 15/100 - Loss: -0.717   lengthscale: 0.411   noise: 0.018\n",
      "Iter 16/100 - Loss: -0.738   lengthscale: 0.383   noise: 0.018\n",
      "Iter 17/100 - Loss: -0.777   lengthscale: 0.354   noise: 0.017\n",
      "Iter 18/100 - Loss: -0.836   lengthscale: 0.327   noise: 0.017\n",
      "Iter 19/100 - Loss: -0.845   lengthscale: 0.300   noise: 0.016\n",
      "Iter 20/100 - Loss: -0.828   lengthscale: 0.274   noise: 0.015\n",
      "Iter 21/100 - Loss: -0.845   lengthscale: 0.250   noise: 0.014\n",
      "Iter 22/100 - Loss: -0.876   lengthscale: 0.228   noise: 0.013\n",
      "Iter 23/100 - Loss: -0.928   lengthscale: 0.206   noise: 0.013\n",
      "Iter 24/100 - Loss: -0.860   lengthscale: 0.187   noise: 0.012\n",
      "Iter 25/100 - Loss: -0.828   lengthscale: 0.170   noise: 0.011\n",
      "Iter 26/100 - Loss: -0.869   lengthscale: 0.154   noise: 0.010\n",
      "Iter 27/100 - Loss: -0.883   lengthscale: 0.140   noise: 0.009\n",
      "Iter 28/100 - Loss: -0.878   lengthscale: 0.127   noise: 0.009\n",
      "Iter 29/100 - Loss: -0.795   lengthscale: 0.115   noise: 0.008\n",
      "Iter 30/100 - Loss: -0.806   lengthscale: 0.105   noise: 0.008\n",
      "Iter 31/100 - Loss: -0.791   lengthscale: 0.095   noise: 0.007\n",
      "Iter 32/100 - Loss: -0.802   lengthscale: 0.086   noise: 0.007\n",
      "Iter 33/100 - Loss: -0.782   lengthscale: 0.078   noise: 0.006\n",
      "Iter 34/100 - Loss: -0.756   lengthscale: 0.072   noise: 0.006\n",
      "Iter 35/100 - Loss: -0.662   lengthscale: 0.066   noise: 0.006\n",
      "Iter 36/100 - Loss: -0.690   lengthscale: 0.061   noise: 0.006\n",
      "Iter 37/100 - Loss: -0.628   lengthscale: 0.058   noise: 0.006\n",
      "Iter 38/100 - Loss: -0.638   lengthscale: 0.055   noise: 0.006\n",
      "Iter 39/100 - Loss: -0.662   lengthscale: 0.052   noise: 0.006\n",
      "Iter 40/100 - Loss: -0.652   lengthscale: 0.051   noise: 0.006\n",
      "Iter 41/100 - Loss: -0.616   lengthscale: 0.049   noise: 0.006\n",
      "Iter 42/100 - Loss: -0.626   lengthscale: 0.049   noise: 0.006\n",
      "Iter 43/100 - Loss: -0.658   lengthscale: 0.048   noise: 0.006\n",
      "Iter 44/100 - Loss: -0.676   lengthscale: 0.048   noise: 0.006\n",
      "Iter 45/100 - Loss: -0.680   lengthscale: 0.049   noise: 0.007\n",
      "Iter 46/100 - Loss: -0.686   lengthscale: 0.049   noise: 0.007\n",
      "Iter 47/100 - Loss: -0.690   lengthscale: 0.050   noise: 0.007\n",
      "Iter 48/100 - Loss: -0.703   lengthscale: 0.052   noise: 0.007\n",
      "Iter 49/100 - Loss: -0.698   lengthscale: 0.053   noise: 0.008\n",
      "Iter 50/100 - Loss: -0.730   lengthscale: 0.055   noise: 0.008\n",
      "Iter 51/100 - Loss: -0.735   lengthscale: 0.057   noise: 0.008\n",
      "Iter 52/100 - Loss: -0.763   lengthscale: 0.059   noise: 0.008\n",
      "Iter 53/100 - Loss: -0.771   lengthscale: 0.062   noise: 0.008\n",
      "Iter 54/100 - Loss: -0.726   lengthscale: 0.064   noise: 0.009\n",
      "Iter 55/100 - Loss: -0.724   lengthscale: 0.067   noise: 0.009\n",
      "Iter 56/100 - Loss: -0.725   lengthscale: 0.069   noise: 0.009\n",
      "Iter 57/100 - Loss: -0.790   lengthscale: 0.072   noise: 0.009\n",
      "Iter 58/100 - Loss: -0.789   lengthscale: 0.075   noise: 0.009\n",
      "Iter 59/100 - Loss: -0.802   lengthscale: 0.078   noise: 0.009\n",
      "Iter 60/100 - Loss: -0.783   lengthscale: 0.081   noise: 0.009\n",
      "Iter 61/100 - Loss: -0.804   lengthscale: 0.084   noise: 0.009\n",
      "Iter 62/100 - Loss: -0.803   lengthscale: 0.086   noise: 0.009\n",
      "Iter 63/100 - Loss: -0.816   lengthscale: 0.087   noise: 0.008\n",
      "Iter 64/100 - Loss: -0.826   lengthscale: 0.088   noise: 0.008\n",
      "Iter 65/100 - Loss: -0.822   lengthscale: 0.087   noise: 0.008\n",
      "Iter 66/100 - Loss: -0.804   lengthscale: 0.085   noise: 0.008\n",
      "Iter 67/100 - Loss: -0.809   lengthscale: 0.084   noise: 0.008\n",
      "Iter 68/100 - Loss: -0.812   lengthscale: 0.081   noise: 0.007\n",
      "Iter 69/100 - Loss: -0.787   lengthscale: 0.080   noise: 0.007\n",
      "Iter 70/100 - Loss: -0.803   lengthscale: 0.078   noise: 0.007\n",
      "Iter 71/100 - Loss: -0.786   lengthscale: 0.076   noise: 0.007\n",
      "Iter 72/100 - Loss: -0.789   lengthscale: 0.075   noise: 0.007\n",
      "Iter 73/100 - Loss: -0.754   lengthscale: 0.074   noise: 0.007\n",
      "Iter 74/100 - Loss: -0.744   lengthscale: 0.074   noise: 0.007\n",
      "Iter 75/100 - Loss: -0.775   lengthscale: 0.074   noise: 0.007\n",
      "Iter 76/100 - Loss: -0.788   lengthscale: 0.074   noise: 0.007\n",
      "Iter 77/100 - Loss: -0.772   lengthscale: 0.075   noise: 0.007\n",
      "Iter 78/100 - Loss: -0.766   lengthscale: 0.076   noise: 0.007\n",
      "Iter 79/100 - Loss: -0.799   lengthscale: 0.077   noise: 0.007\n",
      "Iter 80/100 - Loss: -0.788   lengthscale: 0.078   noise: 0.007\n",
      "Iter 81/100 - Loss: -0.820   lengthscale: 0.079   noise: 0.007\n",
      "Iter 82/100 - Loss: -0.844   lengthscale: 0.080   noise: 0.007\n",
      "Iter 83/100 - Loss: -0.793   lengthscale: 0.081   noise: 0.007\n",
      "Iter 84/100 - Loss: -0.840   lengthscale: 0.081   noise: 0.007\n",
      "Iter 85/100 - Loss: -0.846   lengthscale: 0.081   noise: 0.008\n",
      "Iter 86/100 - Loss: -0.815   lengthscale: 0.080   noise: 0.008\n",
      "Iter 87/100 - Loss: -0.838   lengthscale: 0.080   noise: 0.008\n",
      "Iter 88/100 - Loss: -0.846   lengthscale: 0.079   noise: 0.008\n",
      "Iter 89/100 - Loss: -0.810   lengthscale: 0.078   noise: 0.008\n",
      "Iter 90/100 - Loss: -0.837   lengthscale: 0.077   noise: 0.008\n",
      "Iter 91/100 - Loss: -0.813   lengthscale: 0.077   noise: 0.008\n",
      "Iter 92/100 - Loss: -0.835   lengthscale: 0.076   noise: 0.008\n",
      "Iter 93/100 - Loss: -0.808   lengthscale: 0.075   noise: 0.008\n",
      "Iter 94/100 - Loss: -0.805   lengthscale: 0.075   noise: 0.008\n",
      "Iter 95/100 - Loss: -0.809   lengthscale: 0.075   noise: 0.008\n",
      "Iter 96/100 - Loss: -0.834   lengthscale: 0.076   noise: 0.008\n",
      "Iter 97/100 - Loss: -0.815   lengthscale: 0.076   noise: 0.008\n",
      "Iter 98/100 - Loss: -0.842   lengthscale: 0.076   noise: 0.007\n",
      "Iter 99/100 - Loss: -0.863   lengthscale: 0.076   noise: 0.007\n",
      "Iter 100/100 - Loss: -0.848   lengthscale: 0.076   noise: 0.007\n"
     ]
    }
   ],
   "source": [
    "def training_loop(model, train_x, train_y, num_iters=50, lr=0.1):\n",
    "    model.set_train_data(train_x)\n",
    "    model.train()\n",
    "    likelihood.train()\n",
    "    # Use the adam optimizer\n",
    "    optimizer = torch.optim.Adam(model.parameters(), lr=lr)  # Includes GaussianLikelihood parameters\n",
    "\n",
    "    # \"Loss\" for GPs - the marginal log likelihood\n",
    "    mll = gpytorch.mlls.ExactMarginalLogLikelihood(likelihood, model)\n",
    "\n",
    "    for i in range(num_iters):\n",
    "        # Zero gradients from previous iteration\n",
    "        optimizer.zero_grad()\n",
    "        # Output from model\n",
    "        output = model(train_x)\n",
    "        # Calc loss and backprop gradients\n",
    "        loss = -mll(output, train_y)\n",
    "        loss.backward()\n",
    "        print('Iter %d/%d - Loss: %.3f   lengthscale: %.3f   noise: %.3f' % (\n",
    "            i + 1, num_iters, loss.item(),\n",
    "            model.covar_module.base_kernel.lengthscale.item(),\n",
    "            model.likelihood.noise.item()\n",
    "        ))\n",
    "        optimizer.step()\n",
    "\n",
    "    params = pd.DataFrame(model.named_parameters(), columns=[\"param_name\", \"param_value\"])\n",
    "    params['param_value'] = params.param_value.apply(lambda x: x.item())\n",
    "    return model\n",
    "\n",
    "model = EEGGPModel(times, None, likelihood, \"rbf\",\n",
    "                 lengthscale_prior=gpytorch.priors.GammaPrior(1.0, 1.0),\n",
    "                 outputscale_prior=gpytorch.priors.GammaPrior(1.0, 1.0))\n",
    "\n",
    "model = training_loop(model, times, s_sample, num_iters=100)"
   ]
  },
  {
   "cell_type": "code",
   "execution_count": 73,
   "metadata": {},
   "outputs": [
    {
     "data": {
      "text/plain": [
       "OrderedDict([('likelihood.noise_covar.raw_noise', tensor([-4.9127])),\n",
       "             ('likelihood.noise_covar.raw_noise_constraint.lower_bound',\n",
       "              tensor(1.0000e-04)),\n",
       "             ('likelihood.noise_covar.raw_noise_constraint.upper_bound',\n",
       "              tensor(inf)),\n",
       "             ('mean_module.constant', tensor([-4.9633])),\n",
       "             ('covar_module.raw_outputscale', tensor(1.1544)),\n",
       "             ('covar_module.base_kernel.raw_lengthscale', tensor([[-2.5459]])),\n",
       "             ('covar_module.base_kernel.lengthscale_prior.concentration',\n",
       "              tensor(1.)),\n",
       "             ('covar_module.base_kernel.lengthscale_prior.rate', tensor(1.)),\n",
       "             ('covar_module.base_kernel.raw_lengthscale_constraint.lower_bound',\n",
       "              tensor(0.)),\n",
       "             ('covar_module.base_kernel.raw_lengthscale_constraint.upper_bound',\n",
       "              tensor(inf)),\n",
       "             ('covar_module.raw_outputscale_constraint.lower_bound',\n",
       "              tensor(0.)),\n",
       "             ('covar_module.raw_outputscale_constraint.upper_bound',\n",
       "              tensor(inf))])"
      ]
     },
     "execution_count": 73,
     "metadata": {},
     "output_type": "execute_result"
    }
   ],
   "source": [
    "model.state_dict()"
   ]
  },
  {
   "cell_type": "code",
   "execution_count": 69,
   "metadata": {
    "pycharm": {
     "name": "#%%\n"
    }
   },
   "outputs": [
    {
     "data": {
      "text/plain": [
       "Text(0, 0.5, 'EEG (z-score)')"
      ]
     },
     "execution_count": 69,
     "metadata": {},
     "output_type": "execute_result"
    },
    {
     "data": {
      "image/png": "[encoded data removed]",
      "text/plain": [
       "<Figure size 432x288 with 1 Axes>"
      ]
     },
     "metadata": {},
     "output_type": "display_data"
    }
   ],
   "source": [
    "preds = likelihood(model(times))\n",
    "for i in range(3):\n",
    "    plt.plot(times, preds.sample())\n",
    "plt.title(\"Samples from Posterior with Matern Kernel\", size=16)\n",
    "plt.xlabel(\"time (s)\", size=14)\n",
    "plt.ylabel(\"EEG (z-score)\", size=14)"
   ]
  },
  {
   "cell_type": "code",
   "execution_count": null,
   "metadata": {
    "pycharm": {
     "name": "#%%\n"
    }
   },
   "outputs": [],
   "source": []
  },
  {
   "cell_type": "code",
   "execution_count": 45,
   "metadata": {
    "pycharm": {
     "name": "#%%\n"
    }
   },
   "outputs": [
    {
     "data": {
      "text/plain": [
       "OrderedDict([('likelihood.noise_covar.raw_noise', tensor([0.])),\n",
       "             ('likelihood.noise_covar.raw_noise_constraint.lower_bound',\n",
       "              tensor(1.0000e-04)),\n",
       "             ('likelihood.noise_covar.raw_noise_constraint.upper_bound',\n",
       "              tensor(inf)),\n",
       "             ('covar_module.raw_outputscale', tensor(0.)),\n",
       "             ('covar_module.base_kernel.raw_lengthscale', tensor([[0.]])),\n",
       "             ('covar_module.base_kernel.raw_lengthscale_constraint.lower_bound',\n",
       "              tensor(0.)),\n",
       "             ('covar_module.base_kernel.raw_lengthscale_constraint.upper_bound',\n",
       "              tensor(inf)),\n",
       "             ('covar_module.raw_outputscale_constraint.lower_bound',\n",
       "              tensor(0.)),\n",
       "             ('covar_module.raw_outputscale_constraint.upper_bound',\n",
       "              tensor(inf))])"
      ]
     },
     "execution_count": 45,
     "metadata": {},
     "output_type": "execute_result"
    }
   ],
   "source": [
    "model.state_dict()"
   ]
  },
  {
   "cell_type": "code",
   "execution_count": 46,
   "metadata": {
    "pycharm": {
     "name": "#%%\n"
    }
   },
   "outputs": [
    {
     "data": {
      "text/plain": [
       "OrderedDict([('likelihood.noise_covar.raw_noise', tensor([0.])),\n",
       "             ('likelihood.noise_covar.raw_noise_constraint.lower_bound',\n",
       "              tensor(1.0000e-04)),\n",
       "             ('likelihood.noise_covar.raw_noise_constraint.upper_bound',\n",
       "              tensor(inf)),\n",
       "             ('covar_module.raw_outputscale', tensor(0.)),\n",
       "             ('covar_module.base_kernel.raw_lengthscale', tensor([[0.]])),\n",
       "             ('covar_module.base_kernel.raw_lengthscale_constraint.lower_bound',\n",
       "              tensor(0.)),\n",
       "             ('covar_module.base_kernel.raw_lengthscale_constraint.upper_bound',\n",
       "              tensor(inf)),\n",
       "             ('covar_module.raw_outputscale_constraint.lower_bound',\n",
       "              tensor(0.)),\n",
       "             ('covar_module.raw_outputscale_constraint.upper_bound',\n",
       "              tensor(inf))])"
      ]
     },
     "execution_count": 46,
     "metadata": {},
     "output_type": "execute_result"
    }
   ],
   "source": [
    "model.state_dict()"
   ]
  },
  {
   "cell_type": "code",
   "execution_count": 13,
   "metadata": {
    "pycharm": {
     "name": "#%%\n"
    }
   },
   "outputs": [
    {
     "ename": "RuntimeError",
     "evalue": "Unknown prior name 'prior'",
     "output_type": "error",
     "traceback": [
      "\u001B[1;31m---------------------------------------------------------------------------\u001B[0m",
      "\u001B[1;31mRuntimeError\u001B[0m                              Traceback (most recent call last)",
      "\u001B[1;32m~\\AppData\\Local\\Temp/ipykernel_39700/3147427665.py\u001B[0m in \u001B[0;36m<module>\u001B[1;34m\u001B[0m\n\u001B[1;32m----> 1\u001B[1;33m \u001B[0mmodel\u001B[0m\u001B[1;33m.\u001B[0m\u001B[0msample_from_prior\u001B[0m\u001B[1;33m(\u001B[0m\u001B[1;34m'prior'\u001B[0m\u001B[1;33m)\u001B[0m\u001B[1;33m\u001B[0m\u001B[1;33m\u001B[0m\u001B[0m\n\u001B[0m",
      "\u001B[1;32m~\\.virtualenvs\\msc-WSmVxSSb\\lib\\site-packages\\gpytorch\\module.py\u001B[0m in \u001B[0;36msample_from_prior\u001B[1;34m(self, prior_name)\u001B[0m\n\u001B[0;32m    351\u001B[0m         \u001B[1;34m\"\"\"Sample parameter values from prior. Modifies the module's parameters in-place.\"\"\"\u001B[0m\u001B[1;33m\u001B[0m\u001B[1;33m\u001B[0m\u001B[0m\n\u001B[0;32m    352\u001B[0m         \u001B[1;32mif\u001B[0m \u001B[0mprior_name\u001B[0m \u001B[1;32mnot\u001B[0m \u001B[1;32min\u001B[0m \u001B[0mself\u001B[0m\u001B[1;33m.\u001B[0m\u001B[0m_priors\u001B[0m\u001B[1;33m:\u001B[0m\u001B[1;33m\u001B[0m\u001B[1;33m\u001B[0m\u001B[0m\n\u001B[1;32m--> 353\u001B[1;33m             \u001B[1;32mraise\u001B[0m \u001B[0mRuntimeError\u001B[0m\u001B[1;33m(\u001B[0m\u001B[1;34m\"Unknown prior name '{}'\"\u001B[0m\u001B[1;33m.\u001B[0m\u001B[0mformat\u001B[0m\u001B[1;33m(\u001B[0m\u001B[0mprior_name\u001B[0m\u001B[1;33m)\u001B[0m\u001B[1;33m)\u001B[0m\u001B[1;33m\u001B[0m\u001B[1;33m\u001B[0m\u001B[0m\n\u001B[0m\u001B[0;32m    354\u001B[0m         \u001B[0mprior\u001B[0m\u001B[1;33m,\u001B[0m \u001B[0m_\u001B[0m\u001B[1;33m,\u001B[0m \u001B[0msetting_closure\u001B[0m \u001B[1;33m=\u001B[0m \u001B[0mself\u001B[0m\u001B[1;33m.\u001B[0m\u001B[0m_priors\u001B[0m\u001B[1;33m[\u001B[0m\u001B[0mprior_name\u001B[0m\u001B[1;33m]\u001B[0m\u001B[1;33m\u001B[0m\u001B[1;33m\u001B[0m\u001B[0m\n\u001B[0;32m    355\u001B[0m         \u001B[1;32mif\u001B[0m \u001B[0msetting_closure\u001B[0m \u001B[1;32mis\u001B[0m \u001B[1;32mNone\u001B[0m\u001B[1;33m:\u001B[0m\u001B[1;33m\u001B[0m\u001B[1;33m\u001B[0m\u001B[0m\n",
      "\u001B[1;31mRuntimeError\u001B[0m: Unknown prior name 'prior'"
     ]
    }
   ],
   "source": [
    "model.sample_from_prior('prior')"
   ]
  },
  {
   "cell_type": "markdown",
   "metadata": {},
   "source": [
    "## Load GP Maximum Likelihood Estimation Results"
   ]
  },
  {
   "cell_type": "code",
   "execution_count": 2,
   "metadata": {
    "pycharm": {
     "name": "#%%\n"
    }
   },
   "outputs": [
    {
     "data": {
      "text/html": [
       "<div>\n",
       "<style scoped>\n",
       "    .dataframe tbody tr th:only-of-type {\n",
       "        vertical-align: middle;\n",
       "    }\n",
       "\n",
       "    .dataframe tbody tr th {\n",
       "        vertical-align: top;\n",
       "    }\n",
       "\n",
       "    .dataframe thead th {\n",
       "        text-align: right;\n",
       "    }\n",
       "</style>\n",
       "<table border=\"1\" class=\"dataframe\">\n",
       "  <thead>\n",
       "    <tr style=\"text-align: right;\">\n",
       "      <th>param_name</th>\n",
       "      <th>covar_module.base_kernel.raw_lengthscale</th>\n",
       "      <th>covar_module.raw_outputscale</th>\n",
       "      <th>likelihood.noise_covar.raw_noise</th>\n",
       "    </tr>\n",
       "    <tr>\n",
       "      <th>sample_id</th>\n",
       "      <th></th>\n",
       "      <th></th>\n",
       "      <th></th>\n",
       "    </tr>\n",
       "  </thead>\n",
       "  <tbody>\n",
       "    <tr>\n",
       "      <th>0</th>\n",
       "      <td>0.478211</td>\n",
       "      <td>-0.488561</td>\n",
       "      <td>-1.011795</td>\n",
       "    </tr>\n",
       "    <tr>\n",
       "      <th>1</th>\n",
       "      <td>0.477431</td>\n",
       "      <td>-0.492144</td>\n",
       "      <td>-1.514724</td>\n",
       "    </tr>\n",
       "    <tr>\n",
       "      <th>2</th>\n",
       "      <td>0.478178</td>\n",
       "      <td>-0.490924</td>\n",
       "      <td>-2.017304</td>\n",
       "    </tr>\n",
       "    <tr>\n",
       "      <th>3</th>\n",
       "      <td>0.476830</td>\n",
       "      <td>-0.496351</td>\n",
       "      <td>-2.516353</td>\n",
       "    </tr>\n",
       "    <tr>\n",
       "      <th>4</th>\n",
       "      <td>0.475036</td>\n",
       "      <td>-0.488972</td>\n",
       "      <td>-3.017599</td>\n",
       "    </tr>\n",
       "    <tr>\n",
       "      <th>...</th>\n",
       "      <td>...</td>\n",
       "      <td>...</td>\n",
       "      <td>...</td>\n",
       "    </tr>\n",
       "    <tr>\n",
       "      <th>995</th>\n",
       "      <td>-0.444950</td>\n",
       "      <td>0.428572</td>\n",
       "      <td>-6.855521</td>\n",
       "    </tr>\n",
       "    <tr>\n",
       "      <th>996</th>\n",
       "      <td>-0.432197</td>\n",
       "      <td>0.407162</td>\n",
       "      <td>-6.504109</td>\n",
       "    </tr>\n",
       "    <tr>\n",
       "      <th>997</th>\n",
       "      <td>0.481659</td>\n",
       "      <td>-0.492204</td>\n",
       "      <td>-7.003676</td>\n",
       "    </tr>\n",
       "    <tr>\n",
       "      <th>998</th>\n",
       "      <td>-0.471351</td>\n",
       "      <td>0.455458</td>\n",
       "      <td>-6.533144</td>\n",
       "    </tr>\n",
       "    <tr>\n",
       "      <th>999</th>\n",
       "      <td>0.176056</td>\n",
       "      <td>-0.262641</td>\n",
       "      <td>-7.019075</td>\n",
       "    </tr>\n",
       "  </tbody>\n",
       "</table>\n",
       "<p>1000 rows × 3 columns</p>\n",
       "</div>"
      ],
      "text/plain": [
       "param_name  covar_module.base_kernel.raw_lengthscale  \\\n",
       "sample_id                                              \n",
       "0                                           0.478211   \n",
       "1                                           0.477431   \n",
       "2                                           0.478178   \n",
       "3                                           0.476830   \n",
       "4                                           0.475036   \n",
       "...                                              ...   \n",
       "995                                        -0.444950   \n",
       "996                                        -0.432197   \n",
       "997                                         0.481659   \n",
       "998                                        -0.471351   \n",
       "999                                         0.176056   \n",
       "\n",
       "param_name  covar_module.raw_outputscale  likelihood.noise_covar.raw_noise  \n",
       "sample_id                                                                   \n",
       "0                              -0.488561                         -1.011795  \n",
       "1                              -0.492144                         -1.514724  \n",
       "2                              -0.490924                         -2.017304  \n",
       "3                              -0.496351                         -2.516353  \n",
       "4                              -0.488972                         -3.017599  \n",
       "...                                  ...                               ...  \n",
       "995                             0.428572                         -6.855521  \n",
       "996                             0.407162                         -6.504109  \n",
       "997                            -0.492204                         -7.003676  \n",
       "998                             0.455458                         -6.533144  \n",
       "999                            -0.262641                         -7.019075  \n",
       "\n",
       "[1000 rows x 3 columns]"
      ]
     },
     "execution_count": 2,
     "metadata": {},
     "output_type": "execute_result"
    }
   ],
   "source": [
    "# uniform_results_df = pd.read_csv(r\"C:\\Users\\noam\\Repositories\\noamsgl\\msc\\results\\params\\results_uniform_20220112T012831.csv\")\n",
    "uniform_results_df = pd.read_csv(r\"C:\\Users\\noam\\Repositories\\noamsgl\\msc\\results\\params\\results_1000.csv\")\n",
    "uniform_results_df = uniform_results_df.pivot(index='sample_id', columns='param_name', values='param_value')\n",
    "uniform_results_df"
   ]
  },
  {
   "cell_type": "code",
   "execution_count": 3,
   "metadata": {
    "pycharm": {
     "name": "#%%\n"
    }
   },
   "outputs": [
    {
     "data": {
      "text/html": [
       "<div>\n",
       "<style scoped>\n",
       "    .dataframe tbody tr th:only-of-type {\n",
       "        vertical-align: middle;\n",
       "    }\n",
       "\n",
       "    .dataframe tbody tr th {\n",
       "        vertical-align: top;\n",
       "    }\n",
       "\n",
       "    .dataframe thead th {\n",
       "        text-align: right;\n",
       "    }\n",
       "</style>\n",
       "<table border=\"1\" class=\"dataframe\">\n",
       "  <thead>\n",
       "    <tr style=\"text-align: right;\">\n",
       "      <th>param_name</th>\n",
       "      <th>covar_module.base_kernel.raw_lengthscale</th>\n",
       "      <th>covar_module.raw_outputscale</th>\n",
       "      <th>likelihood.noise_covar.raw_noise</th>\n",
       "    </tr>\n",
       "    <tr>\n",
       "      <th>sample_id</th>\n",
       "      <th></th>\n",
       "      <th></th>\n",
       "      <th></th>\n",
       "    </tr>\n",
       "  </thead>\n",
       "  <tbody>\n",
       "    <tr>\n",
       "      <th>0</th>\n",
       "      <td>0.467654</td>\n",
       "      <td>0.449511</td>\n",
       "      <td>-0.506070</td>\n",
       "    </tr>\n",
       "    <tr>\n",
       "      <th>1</th>\n",
       "      <td>0.477307</td>\n",
       "      <td>0.389437</td>\n",
       "      <td>-1.010462</td>\n",
       "    </tr>\n",
       "    <tr>\n",
       "      <th>2</th>\n",
       "      <td>-0.456080</td>\n",
       "      <td>0.450585</td>\n",
       "      <td>-0.571344</td>\n",
       "    </tr>\n",
       "    <tr>\n",
       "      <th>3</th>\n",
       "      <td>-0.464846</td>\n",
       "      <td>0.471028</td>\n",
       "      <td>-0.112768</td>\n",
       "    </tr>\n",
       "    <tr>\n",
       "      <th>4</th>\n",
       "      <td>0.482202</td>\n",
       "      <td>0.322504</td>\n",
       "      <td>-0.618265</td>\n",
       "    </tr>\n",
       "    <tr>\n",
       "      <th>...</th>\n",
       "      <td>...</td>\n",
       "      <td>...</td>\n",
       "      <td>...</td>\n",
       "    </tr>\n",
       "    <tr>\n",
       "      <th>1178</th>\n",
       "      <td>0.448448</td>\n",
       "      <td>-0.467655</td>\n",
       "      <td>-10.757590</td>\n",
       "    </tr>\n",
       "    <tr>\n",
       "      <th>1179</th>\n",
       "      <td>-0.255313</td>\n",
       "      <td>0.228542</td>\n",
       "      <td>-10.264630</td>\n",
       "    </tr>\n",
       "    <tr>\n",
       "      <th>1180</th>\n",
       "      <td>0.469320</td>\n",
       "      <td>-0.489483</td>\n",
       "      <td>-10.744159</td>\n",
       "    </tr>\n",
       "    <tr>\n",
       "      <th>1181</th>\n",
       "      <td>-0.374430</td>\n",
       "      <td>0.356585</td>\n",
       "      <td>-10.849879</td>\n",
       "    </tr>\n",
       "    <tr>\n",
       "      <th>1182</th>\n",
       "      <td>-0.380224</td>\n",
       "      <td>0.362182</td>\n",
       "      <td>-10.405613</td>\n",
       "    </tr>\n",
       "  </tbody>\n",
       "</table>\n",
       "<p>1183 rows × 3 columns</p>\n",
       "</div>"
      ],
      "text/plain": [
       "param_name  covar_module.base_kernel.raw_lengthscale  \\\n",
       "sample_id                                              \n",
       "0                                           0.467654   \n",
       "1                                           0.477307   \n",
       "2                                          -0.456080   \n",
       "3                                          -0.464846   \n",
       "4                                           0.482202   \n",
       "...                                              ...   \n",
       "1178                                        0.448448   \n",
       "1179                                       -0.255313   \n",
       "1180                                        0.469320   \n",
       "1181                                       -0.374430   \n",
       "1182                                       -0.380224   \n",
       "\n",
       "param_name  covar_module.raw_outputscale  likelihood.noise_covar.raw_noise  \n",
       "sample_id                                                                   \n",
       "0                               0.449511                         -0.506070  \n",
       "1                               0.389437                         -1.010462  \n",
       "2                               0.450585                         -0.571344  \n",
       "3                               0.471028                         -0.112768  \n",
       "4                               0.322504                         -0.618265  \n",
       "...                                  ...                               ...  \n",
       "1178                           -0.467655                        -10.757590  \n",
       "1179                            0.228542                        -10.264630  \n",
       "1180                           -0.489483                        -10.744159  \n",
       "1181                            0.356585                        -10.849879  \n",
       "1182                            0.362182                        -10.405613  \n",
       "\n",
       "[1183 rows x 3 columns]"
      ]
     },
     "execution_count": 3,
     "metadata": {},
     "output_type": "execute_result"
    }
   ],
   "source": [
    "# seizures_results_df = pd.read_csv(r\"C:\\Users\\noam\\Repositories\\noamsgl\\msc\\results\\params\\results_seizures_20220112T032239.csv\")\n",
    "seizures_results_df = pd.read_csv(\n",
    "    r\"C:\\Users\\noam\\Repositories\\noamsgl\\msc\\results\\params\\results_seizure_20220109T193139.csv\")\n",
    "seizures_results_df = seizures_results_df.pivot(index='sample_id', columns='param_name', values='param_value')\n",
    "seizures_results_df"
   ]
  },
  {
   "cell_type": "code",
   "execution_count": 4,
   "metadata": {
    "pycharm": {
     "name": "#%%\n"
    }
   },
   "outputs": [],
   "source": [
    "# concat\n",
    "results_df = pd.concat([uniform_results_df, seizures_results_df], keys=('uniform', 'seizures')).rename_axis(\n",
    "    ['dataset', 'sample_id']).reset_index()"
   ]
  },
  {
   "cell_type": "code",
   "execution_count": 5,
   "metadata": {
    "scrolled": true
   },
   "outputs": [
    {
     "data": {
      "text/html": [
       "<div>\n",
       "<style scoped>\n",
       "    .dataframe tbody tr th:only-of-type {\n",
       "        vertical-align: middle;\n",
       "    }\n",
       "\n",
       "    .dataframe tbody tr th {\n",
       "        vertical-align: top;\n",
       "    }\n",
       "\n",
       "    .dataframe thead th {\n",
       "        text-align: right;\n",
       "    }\n",
       "</style>\n",
       "<table border=\"1\" class=\"dataframe\">\n",
       "  <thead>\n",
       "    <tr style=\"text-align: right;\">\n",
       "      <th>param_name</th>\n",
       "      <th>dataset</th>\n",
       "      <th>sample_id</th>\n",
       "      <th>covar_module.base_kernel.raw_lengthscale</th>\n",
       "      <th>covar_module.raw_outputscale</th>\n",
       "      <th>likelihood.noise_covar.raw_noise</th>\n",
       "    </tr>\n",
       "  </thead>\n",
       "  <tbody>\n",
       "    <tr>\n",
       "      <th>0</th>\n",
       "      <td>uniform</td>\n",
       "      <td>0</td>\n",
       "      <td>0.478211</td>\n",
       "      <td>-0.488561</td>\n",
       "      <td>-1.011795</td>\n",
       "    </tr>\n",
       "    <tr>\n",
       "      <th>1</th>\n",
       "      <td>uniform</td>\n",
       "      <td>1</td>\n",
       "      <td>0.477431</td>\n",
       "      <td>-0.492144</td>\n",
       "      <td>-1.514724</td>\n",
       "    </tr>\n",
       "    <tr>\n",
       "      <th>2</th>\n",
       "      <td>uniform</td>\n",
       "      <td>2</td>\n",
       "      <td>0.478178</td>\n",
       "      <td>-0.490924</td>\n",
       "      <td>-2.017304</td>\n",
       "    </tr>\n",
       "    <tr>\n",
       "      <th>3</th>\n",
       "      <td>uniform</td>\n",
       "      <td>3</td>\n",
       "      <td>0.476830</td>\n",
       "      <td>-0.496351</td>\n",
       "      <td>-2.516353</td>\n",
       "    </tr>\n",
       "    <tr>\n",
       "      <th>4</th>\n",
       "      <td>uniform</td>\n",
       "      <td>4</td>\n",
       "      <td>0.475036</td>\n",
       "      <td>-0.488972</td>\n",
       "      <td>-3.017599</td>\n",
       "    </tr>\n",
       "    <tr>\n",
       "      <th>...</th>\n",
       "      <td>...</td>\n",
       "      <td>...</td>\n",
       "      <td>...</td>\n",
       "      <td>...</td>\n",
       "      <td>...</td>\n",
       "    </tr>\n",
       "    <tr>\n",
       "      <th>2178</th>\n",
       "      <td>seizures</td>\n",
       "      <td>1178</td>\n",
       "      <td>0.448448</td>\n",
       "      <td>-0.467655</td>\n",
       "      <td>-10.757590</td>\n",
       "    </tr>\n",
       "    <tr>\n",
       "      <th>2179</th>\n",
       "      <td>seizures</td>\n",
       "      <td>1179</td>\n",
       "      <td>-0.255313</td>\n",
       "      <td>0.228542</td>\n",
       "      <td>-10.264630</td>\n",
       "    </tr>\n",
       "    <tr>\n",
       "      <th>2180</th>\n",
       "      <td>seizures</td>\n",
       "      <td>1180</td>\n",
       "      <td>0.469320</td>\n",
       "      <td>-0.489483</td>\n",
       "      <td>-10.744159</td>\n",
       "    </tr>\n",
       "    <tr>\n",
       "      <th>2181</th>\n",
       "      <td>seizures</td>\n",
       "      <td>1181</td>\n",
       "      <td>-0.374430</td>\n",
       "      <td>0.356585</td>\n",
       "      <td>-10.849879</td>\n",
       "    </tr>\n",
       "    <tr>\n",
       "      <th>2182</th>\n",
       "      <td>seizures</td>\n",
       "      <td>1182</td>\n",
       "      <td>-0.380224</td>\n",
       "      <td>0.362182</td>\n",
       "      <td>-10.405613</td>\n",
       "    </tr>\n",
       "  </tbody>\n",
       "</table>\n",
       "<p>2183 rows × 5 columns</p>\n",
       "</div>"
      ],
      "text/plain": [
       "param_name   dataset  sample_id  covar_module.base_kernel.raw_lengthscale  \\\n",
       "0            uniform          0                                  0.478211   \n",
       "1            uniform          1                                  0.477431   \n",
       "2            uniform          2                                  0.478178   \n",
       "3            uniform          3                                  0.476830   \n",
       "4            uniform          4                                  0.475036   \n",
       "...              ...        ...                                       ...   \n",
       "2178        seizures       1178                                  0.448448   \n",
       "2179        seizures       1179                                 -0.255313   \n",
       "2180        seizures       1180                                  0.469320   \n",
       "2181        seizures       1181                                 -0.374430   \n",
       "2182        seizures       1182                                 -0.380224   \n",
       "\n",
       "param_name  covar_module.raw_outputscale  likelihood.noise_covar.raw_noise  \n",
       "0                              -0.488561                         -1.011795  \n",
       "1                              -0.492144                         -1.514724  \n",
       "2                              -0.490924                         -2.017304  \n",
       "3                              -0.496351                         -2.516353  \n",
       "4                              -0.488972                         -3.017599  \n",
       "...                                  ...                               ...  \n",
       "2178                           -0.467655                        -10.757590  \n",
       "2179                            0.228542                        -10.264630  \n",
       "2180                           -0.489483                        -10.744159  \n",
       "2181                            0.356585                        -10.849879  \n",
       "2182                            0.362182                        -10.405613  \n",
       "\n",
       "[2183 rows x 5 columns]"
      ]
     },
     "execution_count": 5,
     "metadata": {},
     "output_type": "execute_result"
    }
   ],
   "source": [
    "results_df"
   ]
  },
  {
   "cell_type": "markdown",
   "metadata": {},
   "source": [
    "## Plot GP Samples\n",
    "### Prior\n",
    "### then Posterior"
   ]
  },
  {
   "cell_type": "code",
   "execution_count": 5,
   "metadata": {},
   "outputs": [],
   "source": []
  },
  {
   "cell_type": "code",
   "execution_count": 5,
   "metadata": {
    "pycharm": {
     "name": "#%%\n"
    }
   },
   "outputs": [],
   "source": []
  },
  {
   "cell_type": "code",
   "execution_count": 5,
   "metadata": {
    "pycharm": {
     "name": "#%%\n"
    }
   },
   "outputs": [],
   "source": []
  }
 ],
 "metadata": {
  "kernelspec": {
   "display_name": "Python 3 (ipykernel)",
   "language": "python",
   "name": "python3"
  },
  "language_info": {
   "codemirror_mode": {
    "name": "ipython",
    "version": 3
   },
   "file_extension": ".py",
   "mimetype": "text/x-python",
   "name": "python",
   "nbconvert_exporter": "python",
   "pygments_lexer": "ipython3",
   "version": "3.8.10"
  }
 },
 "nbformat": 4,
 "nbformat_minor": 1
}