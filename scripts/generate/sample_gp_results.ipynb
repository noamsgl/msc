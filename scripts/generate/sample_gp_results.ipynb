{
 "cells": [
  {
   "cell_type": "code",
   "execution_count": 1,
   "metadata": {},
   "outputs": [],
   "source": [
    "import matplotlib.pyplot as plt\n",
    "import pandas as pd\n",
    "import seaborn as sns\n",
    "\n",
    "from msc.dataset import UniformDataset\n",
    "\n",
    "sns.set_theme(style=\"white\")\n",
    "%load_ext autoreload\n",
    "%autoreload 2"
   ]
  },
  {
   "cell_type": "markdown",
   "source": [
    "## Define GP Model"
   ],
   "metadata": {
    "collapsed": false,
    "pycharm": {
     "name": "#%% md\n"
    }
   }
  },
  {
   "cell_type": "code",
   "execution_count": null,
   "outputs": [],
   "source": [],
   "metadata": {
    "collapsed": false,
    "pycharm": {
     "name": "#%%\n"
    }
   }
  },
  {
   "cell_type": "code",
   "execution_count": null,
   "outputs": [],
   "source": [],
   "metadata": {
    "collapsed": false,
    "pycharm": {
     "name": "#%%\n"
    }
   }
  },
  {
   "cell_type": "code",
   "execution_count": null,
   "outputs": [],
   "source": [],
   "metadata": {
    "collapsed": false,
    "pycharm": {
     "name": "#%%\n"
    }
   }
  },
  {
   "cell_type": "markdown",
   "metadata": {},
   "source": [
    "## Load GP Maximum Likelihood Estimation Results"
   ]
  },
  {
   "cell_type": "code",
   "execution_count": 2,
   "metadata": {
    "pycharm": {
     "name": "#%%\n"
    }
   },
   "outputs": [
    {
     "data": {
      "text/plain": "param_name  covar_module.base_kernel.raw_lengthscale  \\\nsample_id                                              \n0                                           0.478211   \n1                                           0.477431   \n2                                           0.478178   \n3                                           0.476830   \n4                                           0.475036   \n...                                              ...   \n995                                        -0.444950   \n996                                        -0.432197   \n997                                         0.481659   \n998                                        -0.471351   \n999                                         0.176056   \n\nparam_name  covar_module.raw_outputscale  likelihood.noise_covar.raw_noise  \nsample_id                                                                   \n0                              -0.488561                         -1.011795  \n1                              -0.492144                         -1.514724  \n2                              -0.490924                         -2.017304  \n3                              -0.496351                         -2.516353  \n4                              -0.488972                         -3.017599  \n...                                  ...                               ...  \n995                             0.428572                         -6.855521  \n996                             0.407162                         -6.504109  \n997                            -0.492204                         -7.003676  \n998                             0.455458                         -6.533144  \n999                            -0.262641                         -7.019075  \n\n[1000 rows x 3 columns]",
      "text/html": "<div>\n<style scoped>\n    .dataframe tbody tr th:only-of-type {\n        vertical-align: middle;\n    }\n\n    .dataframe tbody tr th {\n        vertical-align: top;\n    }\n\n    .dataframe thead th {\n        text-align: right;\n    }\n</style>\n<table border=\"1\" class=\"dataframe\">\n  <thead>\n    <tr style=\"text-align: right;\">\n      <th>param_name</th>\n      <th>covar_module.base_kernel.raw_lengthscale</th>\n      <th>covar_module.raw_outputscale</th>\n      <th>likelihood.noise_covar.raw_noise</th>\n    </tr>\n    <tr>\n      <th>sample_id</th>\n      <th></th>\n      <th></th>\n      <th></th>\n    </tr>\n  </thead>\n  <tbody>\n    <tr>\n      <th>0</th>\n      <td>0.478211</td>\n      <td>-0.488561</td>\n      <td>-1.011795</td>\n    </tr>\n    <tr>\n      <th>1</th>\n      <td>0.477431</td>\n      <td>-0.492144</td>\n      <td>-1.514724</td>\n    </tr>\n    <tr>\n      <th>2</th>\n      <td>0.478178</td>\n      <td>-0.490924</td>\n      <td>-2.017304</td>\n    </tr>\n    <tr>\n      <th>3</th>\n      <td>0.476830</td>\n      <td>-0.496351</td>\n      <td>-2.516353</td>\n    </tr>\n    <tr>\n      <th>4</th>\n      <td>0.475036</td>\n      <td>-0.488972</td>\n      <td>-3.017599</td>\n    </tr>\n    <tr>\n      <th>...</th>\n      <td>...</td>\n      <td>...</td>\n      <td>...</td>\n    </tr>\n    <tr>\n      <th>995</th>\n      <td>-0.444950</td>\n      <td>0.428572</td>\n      <td>-6.855521</td>\n    </tr>\n    <tr>\n      <th>996</th>\n      <td>-0.432197</td>\n      <td>0.407162</td>\n      <td>-6.504109</td>\n    </tr>\n    <tr>\n      <th>997</th>\n      <td>0.481659</td>\n      <td>-0.492204</td>\n      <td>-7.003676</td>\n    </tr>\n    <tr>\n      <th>998</th>\n      <td>-0.471351</td>\n      <td>0.455458</td>\n      <td>-6.533144</td>\n    </tr>\n    <tr>\n      <th>999</th>\n      <td>0.176056</td>\n      <td>-0.262641</td>\n      <td>-7.019075</td>\n    </tr>\n  </tbody>\n</table>\n<p>1000 rows × 3 columns</p>\n</div>"
     },
     "execution_count": 2,
     "metadata": {},
     "output_type": "execute_result"
    }
   ],
   "source": [
    "# uniform_results_df = pd.read_csv(r\"C:\\Users\\noam\\Repositories\\noamsgl\\msc\\results\\params\\results_uniform_20220112T012831.csv\")\n",
    "uniform_results_df = pd.read_csv(r\"C:\\Users\\noam\\Repositories\\noamsgl\\msc\\results\\params\\results_1000.csv\")\n",
    "uniform_results_df = uniform_results_df.pivot(index='sample_id', columns='param_name', values='param_value')\n",
    "uniform_results_df"
   ]
  },
  {
   "cell_type": "code",
   "execution_count": 3,
   "metadata": {
    "pycharm": {
     "name": "#%%\n"
    }
   },
   "outputs": [
    {
     "data": {
      "text/plain": "param_name  covar_module.base_kernel.raw_lengthscale  \\\nsample_id                                              \n0                                           0.467654   \n1                                           0.477307   \n2                                          -0.456080   \n3                                          -0.464846   \n4                                           0.482202   \n...                                              ...   \n1178                                        0.448448   \n1179                                       -0.255313   \n1180                                        0.469320   \n1181                                       -0.374430   \n1182                                       -0.380224   \n\nparam_name  covar_module.raw_outputscale  likelihood.noise_covar.raw_noise  \nsample_id                                                                   \n0                               0.449511                         -0.506070  \n1                               0.389437                         -1.010462  \n2                               0.450585                         -0.571344  \n3                               0.471028                         -0.112768  \n4                               0.322504                         -0.618265  \n...                                  ...                               ...  \n1178                           -0.467655                        -10.757590  \n1179                            0.228542                        -10.264630  \n1180                           -0.489483                        -10.744159  \n1181                            0.356585                        -10.849879  \n1182                            0.362182                        -10.405613  \n\n[1183 rows x 3 columns]",
      "text/html": "<div>\n<style scoped>\n    .dataframe tbody tr th:only-of-type {\n        vertical-align: middle;\n    }\n\n    .dataframe tbody tr th {\n        vertical-align: top;\n    }\n\n    .dataframe thead th {\n        text-align: right;\n    }\n</style>\n<table border=\"1\" class=\"dataframe\">\n  <thead>\n    <tr style=\"text-align: right;\">\n      <th>param_name</th>\n      <th>covar_module.base_kernel.raw_lengthscale</th>\n      <th>covar_module.raw_outputscale</th>\n      <th>likelihood.noise_covar.raw_noise</th>\n    </tr>\n    <tr>\n      <th>sample_id</th>\n      <th></th>\n      <th></th>\n      <th></th>\n    </tr>\n  </thead>\n  <tbody>\n    <tr>\n      <th>0</th>\n      <td>0.467654</td>\n      <td>0.449511</td>\n      <td>-0.506070</td>\n    </tr>\n    <tr>\n      <th>1</th>\n      <td>0.477307</td>\n      <td>0.389437</td>\n      <td>-1.010462</td>\n    </tr>\n    <tr>\n      <th>2</th>\n      <td>-0.456080</td>\n      <td>0.450585</td>\n      <td>-0.571344</td>\n    </tr>\n    <tr>\n      <th>3</th>\n      <td>-0.464846</td>\n      <td>0.471028</td>\n      <td>-0.112768</td>\n    </tr>\n    <tr>\n      <th>4</th>\n      <td>0.482202</td>\n      <td>0.322504</td>\n      <td>-0.618265</td>\n    </tr>\n    <tr>\n      <th>...</th>\n      <td>...</td>\n      <td>...</td>\n      <td>...</td>\n    </tr>\n    <tr>\n      <th>1178</th>\n      <td>0.448448</td>\n      <td>-0.467655</td>\n      <td>-10.757590</td>\n    </tr>\n    <tr>\n      <th>1179</th>\n      <td>-0.255313</td>\n      <td>0.228542</td>\n      <td>-10.264630</td>\n    </tr>\n    <tr>\n      <th>1180</th>\n      <td>0.469320</td>\n      <td>-0.489483</td>\n      <td>-10.744159</td>\n    </tr>\n    <tr>\n      <th>1181</th>\n      <td>-0.374430</td>\n      <td>0.356585</td>\n      <td>-10.849879</td>\n    </tr>\n    <tr>\n      <th>1182</th>\n      <td>-0.380224</td>\n      <td>0.362182</td>\n      <td>-10.405613</td>\n    </tr>\n  </tbody>\n</table>\n<p>1183 rows × 3 columns</p>\n</div>"
     },
     "execution_count": 3,
     "metadata": {},
     "output_type": "execute_result"
    }
   ],
   "source": [
    "# seizures_results_df = pd.read_csv(r\"C:\\Users\\noam\\Repositories\\noamsgl\\msc\\results\\params\\results_seizures_20220112T032239.csv\")\n",
    "seizures_results_df = pd.read_csv(\n",
    "    r\"C:\\Users\\noam\\Repositories\\noamsgl\\msc\\results\\params\\results_seizure_20220109T193139.csv\")\n",
    "seizures_results_df = seizures_results_df.pivot(index='sample_id', columns='param_name', values='param_value')\n",
    "seizures_results_df"
   ]
  },
  {
   "cell_type": "code",
   "execution_count": 4,
   "metadata": {
    "pycharm": {
     "name": "#%%\n"
    }
   },
   "outputs": [],
   "source": [
    "# concat\n",
    "results_df = pd.concat([uniform_results_df, seizures_results_df], keys=('uniform', 'seizures')).rename_axis(\n",
    "    ['dataset', 'sample_id']).reset_index()"
   ]
  },
  {
   "cell_type": "code",
   "execution_count": 5,
   "metadata": {
    "scrolled": true
   },
   "outputs": [
    {
     "data": {
      "text/plain": "param_name   dataset  sample_id  covar_module.base_kernel.raw_lengthscale  \\\n0            uniform          0                                  0.478211   \n1            uniform          1                                  0.477431   \n2            uniform          2                                  0.478178   \n3            uniform          3                                  0.476830   \n4            uniform          4                                  0.475036   \n...              ...        ...                                       ...   \n2178        seizures       1178                                  0.448448   \n2179        seizures       1179                                 -0.255313   \n2180        seizures       1180                                  0.469320   \n2181        seizures       1181                                 -0.374430   \n2182        seizures       1182                                 -0.380224   \n\nparam_name  covar_module.raw_outputscale  likelihood.noise_covar.raw_noise  \n0                              -0.488561                         -1.011795  \n1                              -0.492144                         -1.514724  \n2                              -0.490924                         -2.017304  \n3                              -0.496351                         -2.516353  \n4                              -0.488972                         -3.017599  \n...                                  ...                               ...  \n2178                           -0.467655                        -10.757590  \n2179                            0.228542                        -10.264630  \n2180                           -0.489483                        -10.744159  \n2181                            0.356585                        -10.849879  \n2182                            0.362182                        -10.405613  \n\n[2183 rows x 5 columns]",
      "text/html": "<div>\n<style scoped>\n    .dataframe tbody tr th:only-of-type {\n        vertical-align: middle;\n    }\n\n    .dataframe tbody tr th {\n        vertical-align: top;\n    }\n\n    .dataframe thead th {\n        text-align: right;\n    }\n</style>\n<table border=\"1\" class=\"dataframe\">\n  <thead>\n    <tr style=\"text-align: right;\">\n      <th>param_name</th>\n      <th>dataset</th>\n      <th>sample_id</th>\n      <th>covar_module.base_kernel.raw_lengthscale</th>\n      <th>covar_module.raw_outputscale</th>\n      <th>likelihood.noise_covar.raw_noise</th>\n    </tr>\n  </thead>\n  <tbody>\n    <tr>\n      <th>0</th>\n      <td>uniform</td>\n      <td>0</td>\n      <td>0.478211</td>\n      <td>-0.488561</td>\n      <td>-1.011795</td>\n    </tr>\n    <tr>\n      <th>1</th>\n      <td>uniform</td>\n      <td>1</td>\n      <td>0.477431</td>\n      <td>-0.492144</td>\n      <td>-1.514724</td>\n    </tr>\n    <tr>\n      <th>2</th>\n      <td>uniform</td>\n      <td>2</td>\n      <td>0.478178</td>\n      <td>-0.490924</td>\n      <td>-2.017304</td>\n    </tr>\n    <tr>\n      <th>3</th>\n      <td>uniform</td>\n      <td>3</td>\n      <td>0.476830</td>\n      <td>-0.496351</td>\n      <td>-2.516353</td>\n    </tr>\n    <tr>\n      <th>4</th>\n      <td>uniform</td>\n      <td>4</td>\n      <td>0.475036</td>\n      <td>-0.488972</td>\n      <td>-3.017599</td>\n    </tr>\n    <tr>\n      <th>...</th>\n      <td>...</td>\n      <td>...</td>\n      <td>...</td>\n      <td>...</td>\n      <td>...</td>\n    </tr>\n    <tr>\n      <th>2178</th>\n      <td>seizures</td>\n      <td>1178</td>\n      <td>0.448448</td>\n      <td>-0.467655</td>\n      <td>-10.757590</td>\n    </tr>\n    <tr>\n      <th>2179</th>\n      <td>seizures</td>\n      <td>1179</td>\n      <td>-0.255313</td>\n      <td>0.228542</td>\n      <td>-10.264630</td>\n    </tr>\n    <tr>\n      <th>2180</th>\n      <td>seizures</td>\n      <td>1180</td>\n      <td>0.469320</td>\n      <td>-0.489483</td>\n      <td>-10.744159</td>\n    </tr>\n    <tr>\n      <th>2181</th>\n      <td>seizures</td>\n      <td>1181</td>\n      <td>-0.374430</td>\n      <td>0.356585</td>\n      <td>-10.849879</td>\n    </tr>\n    <tr>\n      <th>2182</th>\n      <td>seizures</td>\n      <td>1182</td>\n      <td>-0.380224</td>\n      <td>0.362182</td>\n      <td>-10.405613</td>\n    </tr>\n  </tbody>\n</table>\n<p>2183 rows × 5 columns</p>\n</div>"
     },
     "execution_count": 5,
     "metadata": {},
     "output_type": "execute_result"
    }
   ],
   "source": [
    "results_df"
   ]
  },
  {
   "cell_type": "markdown",
   "source": [
    "## Plot GP Samples\n",
    "### Prior\n",
    "### then Posterior"
   ],
   "metadata": {
    "collapsed": false
   }
  },
  {
   "cell_type": "code",
   "execution_count": 5,
   "metadata": {},
   "outputs": [],
   "source": []
  },
  {
   "cell_type": "code",
   "execution_count": 5,
   "metadata": {
    "pycharm": {
     "name": "#%%\n"
    }
   },
   "outputs": [],
   "source": []
  },
  {
   "cell_type": "code",
   "execution_count": 5,
   "metadata": {
    "pycharm": {
     "name": "#%%\n"
    }
   },
   "outputs": [],
   "source": []
  }
 ],
 "metadata": {
  "kernelspec": {
   "display_name": "Python 3 (ipykernel)",
   "language": "python",
   "name": "python3"
  },
  "language_info": {
   "codemirror_mode": {
    "name": "ipython",
    "version": 3
   },
   "file_extension": ".py",
   "mimetype": "text/x-python",
   "name": "python",
   "nbconvert_exporter": "python",
   "pygments_lexer": "ipython3",
   "version": "3.8.10"
  }
 },
 "nbformat": 4,
 "nbformat_minor": 1
}