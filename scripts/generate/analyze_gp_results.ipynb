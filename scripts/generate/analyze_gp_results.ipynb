{
 "cells": [
  {
   "cell_type": "code",
   "execution_count": 49,
   "metadata": {
    "collapsed": true
   },
   "outputs": [
    {
     "name": "stdout",
     "output_type": "stream",
     "text": [
      "The autoreload extension is already loaded. To reload it, use:\n",
      "  %reload_ext autoreload\n"
     ]
    }
   ],
   "source": [
    "import pandas as pd\n",
    "\n",
    "from msc import config\n",
    "from msc.dataset.dataset import UniformDataset, get_seizures_index_df\n",
    "import seaborn as sns\n",
    "%load_ext autoreload\n",
    "%autoreload 2"
   ]
  },
  {
   "cell_type": "markdown",
   "source": [
    "\n",
    "## Load results"
   ],
   "metadata": {
    "collapsed": false,
    "pycharm": {
     "name": "#%% md\n"
    }
   }
  },
  {
   "cell_type": "code",
   "execution_count": 42,
   "outputs": [],
   "source": [
    "results_df = pd.read_csv('results_1000.csv')"
   ],
   "metadata": {
    "collapsed": false,
    "pycharm": {
     "name": "#%%\n"
    }
   }
  },
  {
   "cell_type": "code",
   "execution_count": 36,
   "outputs": [
    {
     "name": "stdout",
     "output_type": "stream",
     "text": [
      "warning: dropping some seizures because onset or offset are NaT\n",
      "warning: dropping seizures with length < 5 seconds\n"
     ]
    }
   ],
   "source": [
    "seizures_index_df = get_seizures_index_df(machine='LOCAL')"
   ],
   "metadata": {
    "collapsed": false,
    "pycharm": {
     "name": "#%%\n"
    }
   }
  },
  {
   "cell_type": "markdown",
   "source": [],
   "metadata": {
    "collapsed": false
   }
  },
  {
   "cell_type": "code",
   "execution_count": 39,
   "outputs": [
    {
     "name": "stdout",
     "output_type": "stream",
     "text": [
      "loading\n",
      "done loading\n"
     ]
    }
   ],
   "source": [
    "# load dataset.csv\n",
    "dataset_dir = r\"C:\\Users\\noam\\Repositories\\noamsgl\\msc\\results\\epilepsiae\\UNIFORM\\20220106T165558\"\n",
    "dataset = UniformDataset(dataset_dir)\n",
    "dataset.add_check_isseizure()\n",
    "samples_df = dataset.samples_df\n"
   ],
   "metadata": {
    "collapsed": false,
    "pycharm": {
     "name": "#%%\n"
    }
   }
  },
  {
   "cell_type": "code",
   "execution_count": 40,
   "outputs": [
    {
     "data": {
      "text/plain": "     index  patient_name                                    window_interval  \\\n0        0           NaN  [Timestamp('2008-11-05 23:44:50.105065'),Times...   \n1        1           NaN  [Timestamp('2008-09-04 12:25:16.801598'),Times...   \n2        2           NaN  [Timestamp('2008-06-07 03:53:32.359954'),Times...   \n3        3           NaN  [Timestamp('2008-07-06 12:36:55.567208'),Times...   \n4        4           NaN  [Timestamp('2004-02-22 03:04:55.766070'),Times...   \n..     ...           ...                                                ...   \n995    995           NaN  [Timestamp('2008-05-09 08:37:44.578676'),Times...   \n996    996           NaN  [Timestamp('2008-05-19 11:29:03.260274'),Times...   \n997    997           NaN  [Timestamp('2004-07-23 06:33:21.771004'),Times...   \n998    998           NaN  [Timestamp('2008-05-03 21:02:49.958375'),Times...   \n999    999           NaN  [Timestamp('2008-06-06 16:11:32.238568'),Times...   \n\n     window_id                                              fname  label  \\\n0            0  C:\\Users\\noam\\Repositories\\noamsgl\\msc\\results...    NaN   \n1            1  C:\\Users\\noam\\Repositories\\noamsgl\\msc\\results...    NaN   \n2            2  C:\\Users\\noam\\Repositories\\noamsgl\\msc\\results...    NaN   \n3            3  C:\\Users\\noam\\Repositories\\noamsgl\\msc\\results...    NaN   \n4            4  C:\\Users\\noam\\Repositories\\noamsgl\\msc\\results...    NaN   \n..         ...                                                ...    ...   \n995        995  C:\\Users\\noam\\Repositories\\noamsgl\\msc\\results...    NaN   \n996        996  C:\\Users\\noam\\Repositories\\noamsgl\\msc\\results...    NaN   \n997        997  C:\\Users\\noam\\Repositories\\noamsgl\\msc\\results...    NaN   \n998        998  C:\\Users\\noam\\Repositories\\noamsgl\\msc\\results...    NaN   \n999        999  C:\\Users\\noam\\Repositories\\noamsgl\\msc\\results...    NaN   \n\n     label_desc package      patient  \\\n0           NaN  surfPA  pat_1328903   \n1           NaN  surfPA  pat_1327403   \n2           NaN  surfPA  pat_1325903   \n3           NaN  surfPA  pat_1325003   \n4           NaN  surf30    pat_23902   \n..          ...     ...          ...   \n995         NaN  surfPA  pat_1233703   \n996         NaN  surfPA  pat_1325903   \n997         NaN  surf30    pat_30802   \n998         NaN  surfPA  pat_1235103   \n999         NaN  surfPA  pat_1325603   \n\n                                                     x  \\\n0    [[-1.9087308122919075e-05, -1.6731470034174078...   \n1    [[-1.5160393131575873e-06, 2.0316374775494796e...   \n2    [[3.9097588100887366e-06, 5.574982135175794e-0...   \n3    [[4.5445032942969996e-05, 2.4568819532406052e-...   \n4    [[-8.580473091602334e-06, -8.744526908397691e-...   \n..                                                 ...   \n995  [[-8.315607134128605e-06, 7.245980687299064e-0...   \n996  [[2.33506265239705e-06, -4.816046294733975e-07...   \n997  [[3.465939172983167e-05, 3.46406082701683e-05,...   \n998  [[4.650911066474839e-05, 1.695051204798633e-05...   \n999  [[-1.5415637342363866e-05, -1.8964761229458164...   \n\n                                              interval  \\\n0    [Timestamp('2008-11-05 23:44:50.105065'),Times...   \n1    [Timestamp('2008-09-04 12:25:16.801598'),Times...   \n2    [Timestamp('2008-06-07 03:53:32.359954'),Times...   \n3    [Timestamp('2008-07-06 12:36:55.567208'),Times...   \n4    [Timestamp('2004-02-22 03:04:55.766070'),Times...   \n..                                                 ...   \n995  [Timestamp('2008-05-09 08:37:44.578676'),Times...   \n996  [Timestamp('2008-05-19 11:29:03.260274'),Times...   \n997  [Timestamp('2004-07-23 06:33:21.771004'),Times...   \n998  [Timestamp('2008-05-03 21:02:49.958375'),Times...   \n999  [Timestamp('2008-06-06 16:11:32.238568'),Times...   \n\n                         lower                      upper  isseizure  \n0   2008-11-05 23:44:50.105065 2008-11-05 23:44:54.011315      False  \n1   2008-09-04 12:25:16.801598 2008-09-04 12:25:20.707848      False  \n2   2008-06-07 03:53:32.359954 2008-06-07 03:53:36.266204      False  \n3   2008-07-06 12:36:55.567208 2008-07-06 12:36:59.473458      False  \n4   2004-02-22 03:04:55.766070 2004-02-22 03:04:59.672320      False  \n..                         ...                        ...        ...  \n995 2008-05-09 08:37:44.578676 2008-05-09 08:37:48.484926      False  \n996 2008-05-19 11:29:03.260274 2008-05-19 11:29:07.166524      False  \n997 2004-07-23 06:33:21.771004 2004-07-23 06:33:25.677254      False  \n998 2008-05-03 21:02:49.958375 2008-05-03 21:02:53.864625      False  \n999 2008-06-06 16:11:32.238568 2008-06-06 16:11:36.144818      False  \n\n[1000 rows x 14 columns]",
      "text/html": "<div>\n<style scoped>\n    .dataframe tbody tr th:only-of-type {\n        vertical-align: middle;\n    }\n\n    .dataframe tbody tr th {\n        vertical-align: top;\n    }\n\n    .dataframe thead th {\n        text-align: right;\n    }\n</style>\n<table border=\"1\" class=\"dataframe\">\n  <thead>\n    <tr style=\"text-align: right;\">\n      <th></th>\n      <th>index</th>\n      <th>patient_name</th>\n      <th>window_interval</th>\n      <th>window_id</th>\n      <th>fname</th>\n      <th>label</th>\n      <th>label_desc</th>\n      <th>package</th>\n      <th>patient</th>\n      <th>x</th>\n      <th>interval</th>\n      <th>lower</th>\n      <th>upper</th>\n      <th>isseizure</th>\n    </tr>\n  </thead>\n  <tbody>\n    <tr>\n      <th>0</th>\n      <td>0</td>\n      <td>NaN</td>\n      <td>[Timestamp('2008-11-05 23:44:50.105065'),Times...</td>\n      <td>0</td>\n      <td>C:\\Users\\noam\\Repositories\\noamsgl\\msc\\results...</td>\n      <td>NaN</td>\n      <td>NaN</td>\n      <td>surfPA</td>\n      <td>pat_1328903</td>\n      <td>[[-1.9087308122919075e-05, -1.6731470034174078...</td>\n      <td>[Timestamp('2008-11-05 23:44:50.105065'),Times...</td>\n      <td>2008-11-05 23:44:50.105065</td>\n      <td>2008-11-05 23:44:54.011315</td>\n      <td>False</td>\n    </tr>\n    <tr>\n      <th>1</th>\n      <td>1</td>\n      <td>NaN</td>\n      <td>[Timestamp('2008-09-04 12:25:16.801598'),Times...</td>\n      <td>1</td>\n      <td>C:\\Users\\noam\\Repositories\\noamsgl\\msc\\results...</td>\n      <td>NaN</td>\n      <td>NaN</td>\n      <td>surfPA</td>\n      <td>pat_1327403</td>\n      <td>[[-1.5160393131575873e-06, 2.0316374775494796e...</td>\n      <td>[Timestamp('2008-09-04 12:25:16.801598'),Times...</td>\n      <td>2008-09-04 12:25:16.801598</td>\n      <td>2008-09-04 12:25:20.707848</td>\n      <td>False</td>\n    </tr>\n    <tr>\n      <th>2</th>\n      <td>2</td>\n      <td>NaN</td>\n      <td>[Timestamp('2008-06-07 03:53:32.359954'),Times...</td>\n      <td>2</td>\n      <td>C:\\Users\\noam\\Repositories\\noamsgl\\msc\\results...</td>\n      <td>NaN</td>\n      <td>NaN</td>\n      <td>surfPA</td>\n      <td>pat_1325903</td>\n      <td>[[3.9097588100887366e-06, 5.574982135175794e-0...</td>\n      <td>[Timestamp('2008-06-07 03:53:32.359954'),Times...</td>\n      <td>2008-06-07 03:53:32.359954</td>\n      <td>2008-06-07 03:53:36.266204</td>\n      <td>False</td>\n    </tr>\n    <tr>\n      <th>3</th>\n      <td>3</td>\n      <td>NaN</td>\n      <td>[Timestamp('2008-07-06 12:36:55.567208'),Times...</td>\n      <td>3</td>\n      <td>C:\\Users\\noam\\Repositories\\noamsgl\\msc\\results...</td>\n      <td>NaN</td>\n      <td>NaN</td>\n      <td>surfPA</td>\n      <td>pat_1325003</td>\n      <td>[[4.5445032942969996e-05, 2.4568819532406052e-...</td>\n      <td>[Timestamp('2008-07-06 12:36:55.567208'),Times...</td>\n      <td>2008-07-06 12:36:55.567208</td>\n      <td>2008-07-06 12:36:59.473458</td>\n      <td>False</td>\n    </tr>\n    <tr>\n      <th>4</th>\n      <td>4</td>\n      <td>NaN</td>\n      <td>[Timestamp('2004-02-22 03:04:55.766070'),Times...</td>\n      <td>4</td>\n      <td>C:\\Users\\noam\\Repositories\\noamsgl\\msc\\results...</td>\n      <td>NaN</td>\n      <td>NaN</td>\n      <td>surf30</td>\n      <td>pat_23902</td>\n      <td>[[-8.580473091602334e-06, -8.744526908397691e-...</td>\n      <td>[Timestamp('2004-02-22 03:04:55.766070'),Times...</td>\n      <td>2004-02-22 03:04:55.766070</td>\n      <td>2004-02-22 03:04:59.672320</td>\n      <td>False</td>\n    </tr>\n    <tr>\n      <th>...</th>\n      <td>...</td>\n      <td>...</td>\n      <td>...</td>\n      <td>...</td>\n      <td>...</td>\n      <td>...</td>\n      <td>...</td>\n      <td>...</td>\n      <td>...</td>\n      <td>...</td>\n      <td>...</td>\n      <td>...</td>\n      <td>...</td>\n      <td>...</td>\n    </tr>\n    <tr>\n      <th>995</th>\n      <td>995</td>\n      <td>NaN</td>\n      <td>[Timestamp('2008-05-09 08:37:44.578676'),Times...</td>\n      <td>995</td>\n      <td>C:\\Users\\noam\\Repositories\\noamsgl\\msc\\results...</td>\n      <td>NaN</td>\n      <td>NaN</td>\n      <td>surfPA</td>\n      <td>pat_1233703</td>\n      <td>[[-8.315607134128605e-06, 7.245980687299064e-0...</td>\n      <td>[Timestamp('2008-05-09 08:37:44.578676'),Times...</td>\n      <td>2008-05-09 08:37:44.578676</td>\n      <td>2008-05-09 08:37:48.484926</td>\n      <td>False</td>\n    </tr>\n    <tr>\n      <th>996</th>\n      <td>996</td>\n      <td>NaN</td>\n      <td>[Timestamp('2008-05-19 11:29:03.260274'),Times...</td>\n      <td>996</td>\n      <td>C:\\Users\\noam\\Repositories\\noamsgl\\msc\\results...</td>\n      <td>NaN</td>\n      <td>NaN</td>\n      <td>surfPA</td>\n      <td>pat_1325903</td>\n      <td>[[2.33506265239705e-06, -4.816046294733975e-07...</td>\n      <td>[Timestamp('2008-05-19 11:29:03.260274'),Times...</td>\n      <td>2008-05-19 11:29:03.260274</td>\n      <td>2008-05-19 11:29:07.166524</td>\n      <td>False</td>\n    </tr>\n    <tr>\n      <th>997</th>\n      <td>997</td>\n      <td>NaN</td>\n      <td>[Timestamp('2004-07-23 06:33:21.771004'),Times...</td>\n      <td>997</td>\n      <td>C:\\Users\\noam\\Repositories\\noamsgl\\msc\\results...</td>\n      <td>NaN</td>\n      <td>NaN</td>\n      <td>surf30</td>\n      <td>pat_30802</td>\n      <td>[[3.465939172983167e-05, 3.46406082701683e-05,...</td>\n      <td>[Timestamp('2004-07-23 06:33:21.771004'),Times...</td>\n      <td>2004-07-23 06:33:21.771004</td>\n      <td>2004-07-23 06:33:25.677254</td>\n      <td>False</td>\n    </tr>\n    <tr>\n      <th>998</th>\n      <td>998</td>\n      <td>NaN</td>\n      <td>[Timestamp('2008-05-03 21:02:49.958375'),Times...</td>\n      <td>998</td>\n      <td>C:\\Users\\noam\\Repositories\\noamsgl\\msc\\results...</td>\n      <td>NaN</td>\n      <td>NaN</td>\n      <td>surfPA</td>\n      <td>pat_1235103</td>\n      <td>[[4.650911066474839e-05, 1.695051204798633e-05...</td>\n      <td>[Timestamp('2008-05-03 21:02:49.958375'),Times...</td>\n      <td>2008-05-03 21:02:49.958375</td>\n      <td>2008-05-03 21:02:53.864625</td>\n      <td>False</td>\n    </tr>\n    <tr>\n      <th>999</th>\n      <td>999</td>\n      <td>NaN</td>\n      <td>[Timestamp('2008-06-06 16:11:32.238568'),Times...</td>\n      <td>999</td>\n      <td>C:\\Users\\noam\\Repositories\\noamsgl\\msc\\results...</td>\n      <td>NaN</td>\n      <td>NaN</td>\n      <td>surfPA</td>\n      <td>pat_1325603</td>\n      <td>[[-1.5415637342363866e-05, -1.8964761229458164...</td>\n      <td>[Timestamp('2008-06-06 16:11:32.238568'),Times...</td>\n      <td>2008-06-06 16:11:32.238568</td>\n      <td>2008-06-06 16:11:36.144818</td>\n      <td>False</td>\n    </tr>\n  </tbody>\n</table>\n<p>1000 rows × 14 columns</p>\n</div>"
     },
     "execution_count": 40,
     "metadata": {},
     "output_type": "execute_result"
    }
   ],
   "source": [
    "samples_df."
   ],
   "metadata": {
    "collapsed": false,
    "pycharm": {
     "name": "#%%\n"
    }
   }
  },
  {
   "cell_type": "code",
   "execution_count": 50,
   "outputs": [],
   "source": [
    "results = results_df.pivot(index='sample_id', columns='param_name', values='param_value').join(samples_df, on='sample_id')"
   ],
   "metadata": {
    "collapsed": false,
    "pycharm": {
     "name": "#%%\n"
    }
   }
  },
  {
   "cell_type": "code",
   "execution_count": 104,
   "outputs": [
    {
     "name": "stdout",
     "output_type": "stream",
     "text": [
      "False\n",
      "True\n"
     ]
    },
    {
     "data": {
      "text/plain": "<Figure size 576x432 with 1 Axes>",
      "image/png": "[encoded data removed]"
     },
     "metadata": {
      "needs_background": "light"
     },
     "output_type": "display_data"
    }
   ],
   "source": [
    "import matplotlib.pyplot as plt\n",
    "colors = {False:'tab:blue', 'E':'tab:orange', 'F':'tab:green', True:'tab:red', 'H':'tab:purple', 'I':'tab:brown', 'J':'tab:pink'}\n",
    "\n",
    "sizes = {False: 10, True: 180}\n",
    "fix, ax = plt.subplots(1,1, figsize=(8,6))\n",
    "results = results.sort_values('isseizure')\n",
    "grouped = results.groupby('isseizure')\n",
    "for key, group in grouped:\n",
    "    print(key)\n",
    "    if key:\n",
    "        group.plot(ax=ax, kind='scatter', x=\"covar_module.base_kernel.raw_lengthscale\", y=\"covar_module.raw_outputscale\", label=key, color=colors[key], s=sizes[key], edgecolor='b')\n",
    "    else:\n",
    "        group.plot(ax=ax, kind='scatter', x=\"covar_module.base_kernel.raw_lengthscale\", y=\"covar_module.raw_outputscale\", label=key, color=colors[key], s=sizes[key])\n",
    "plt.show()"
   ],
   "metadata": {
    "collapsed": false,
    "pycharm": {
     "name": "#%%\n"
    }
   }
  },
  {
   "cell_type": "code",
   "execution_count": 28,
   "outputs": [
    {
     "data": {
      "text/plain": "[Timestamp('2008-11-05 23:44:50.105065'),Timestamp('2008-11-05 23:44:54.011315'))"
     },
     "execution_count": 28,
     "metadata": {},
     "output_type": "execute_result"
    }
   ],
   "source": [
    "samples_df.interval.iloc[0]"
   ],
   "metadata": {
    "collapsed": false,
    "pycharm": {
     "name": "#%%\n"
    }
   }
  },
  {
   "cell_type": "code",
   "execution_count": 27,
   "outputs": [
    {
     "data": {
      "text/plain": "portion.interval.Interval"
     },
     "execution_count": 27,
     "metadata": {},
     "output_type": "execute_result"
    }
   ],
   "source": [
    "type(seizures_index_df.interval.iloc[0])"
   ],
   "metadata": {
    "collapsed": false,
    "pycharm": {
     "name": "#%%\n"
    }
   }
  },
  {
   "cell_type": "markdown",
   "source": [],
   "metadata": {
    "collapsed": false
   }
  },
  {
   "cell_type": "markdown",
   "source": [],
   "metadata": {
    "collapsed": false
   }
  },
  {
   "cell_type": "code",
   "execution_count": 34,
   "outputs": [
    {
     "data": {
      "text/plain": "     index  patient_name                                    window_interval  \\\n850    850           NaN  [Timestamp('2009-05-17 05:00:34.146397'),Times...   \n971    971           NaN  [Timestamp('2009-02-10 15:35:51.388255'),Times...   \n\n     window_id                                              fname  label  \\\n850        850  C:\\Users\\noam\\Repositories\\noamsgl\\msc\\results...    NaN   \n971        971  C:\\Users\\noam\\Repositories\\noamsgl\\msc\\results...    NaN   \n\n     label_desc package      patient  \\\n850         NaN  surfPA  pat_1320903   \n971         NaN  surfCO     pat_2000   \n\n                                                     x  \\\n850  [[6.43577057030321e-05, -8.78918811663256e-05,...   \n971  [[4.705574783591755e-06, 9.522076718639352e-06...   \n\n                                              interval  \\\n850  [Timestamp('2009-05-17 05:00:34.146397'),Times...   \n971  [Timestamp('2009-02-10 15:35:51.388255'),Times...   \n\n                         lower                      upper  isseizure  \n850 2009-05-17 05:00:34.146397 2009-05-17 05:00:38.052647       True  \n971 2009-02-10 15:35:51.388255 2009-02-10 15:35:55.294505       True  ",
      "text/html": "<div>\n<style scoped>\n    .dataframe tbody tr th:only-of-type {\n        vertical-align: middle;\n    }\n\n    .dataframe tbody tr th {\n        vertical-align: top;\n    }\n\n    .dataframe thead th {\n        text-align: right;\n    }\n</style>\n<table border=\"1\" class=\"dataframe\">\n  <thead>\n    <tr style=\"text-align: right;\">\n      <th></th>\n      <th>index</th>\n      <th>patient_name</th>\n      <th>window_interval</th>\n      <th>window_id</th>\n      <th>fname</th>\n      <th>label</th>\n      <th>label_desc</th>\n      <th>package</th>\n      <th>patient</th>\n      <th>x</th>\n      <th>interval</th>\n      <th>lower</th>\n      <th>upper</th>\n      <th>isseizure</th>\n    </tr>\n  </thead>\n  <tbody>\n    <tr>\n      <th>850</th>\n      <td>850</td>\n      <td>NaN</td>\n      <td>[Timestamp('2009-05-17 05:00:34.146397'),Times...</td>\n      <td>850</td>\n      <td>C:\\Users\\noam\\Repositories\\noamsgl\\msc\\results...</td>\n      <td>NaN</td>\n      <td>NaN</td>\n      <td>surfPA</td>\n      <td>pat_1320903</td>\n      <td>[[6.43577057030321e-05, -8.78918811663256e-05,...</td>\n      <td>[Timestamp('2009-05-17 05:00:34.146397'),Times...</td>\n      <td>2009-05-17 05:00:34.146397</td>\n      <td>2009-05-17 05:00:38.052647</td>\n      <td>True</td>\n    </tr>\n    <tr>\n      <th>971</th>\n      <td>971</td>\n      <td>NaN</td>\n      <td>[Timestamp('2009-02-10 15:35:51.388255'),Times...</td>\n      <td>971</td>\n      <td>C:\\Users\\noam\\Repositories\\noamsgl\\msc\\results...</td>\n      <td>NaN</td>\n      <td>NaN</td>\n      <td>surfCO</td>\n      <td>pat_2000</td>\n      <td>[[4.705574783591755e-06, 9.522076718639352e-06...</td>\n      <td>[Timestamp('2009-02-10 15:35:51.388255'),Times...</td>\n      <td>2009-02-10 15:35:51.388255</td>\n      <td>2009-02-10 15:35:55.294505</td>\n      <td>True</td>\n    </tr>\n  </tbody>\n</table>\n</div>"
     },
     "execution_count": 34,
     "metadata": {},
     "output_type": "execute_result"
    }
   ],
   "source": [
    "samples_df[samples_df.isseizure]"
   ],
   "metadata": {
    "collapsed": false,
    "pycharm": {
     "name": "#%%\n"
    }
   }
  }
 ],
 "metadata": {
  "kernelspec": {
   "display_name": "Python 3",
   "language": "python",
   "name": "python3"
  },
  "language_info": {
   "codemirror_mode": {
    "name": "ipython",
    "version": 2
   },
   "file_extension": ".py",
   "mimetype": "text/x-python",
   "name": "python",
   "nbconvert_exporter": "python",
   "pygments_lexer": "ipython2",
   "version": "2.7.6"
  }
 },
 "nbformat": 4,
 "nbformat_minor": 0
}