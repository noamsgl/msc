{
 "cells": [
  {
   "cell_type": "code",
   "execution_count": null,
   "metadata": {
    "collapsed": true
   },
   "outputs": [],
   "source": [
    "import pandas as pd\n",
    "\n",
    "from msc import config\n",
    "from msc.dataset.dataset import UniformDataset"
   ]
  },
  {
   "cell_type": "markdown",
   "source": [
    "\n",
    "## Load results"
   ],
   "metadata": {
    "collapsed": false,
    "pycharm": {
     "name": "#%% md\n"
    }
   }
  },
  {
   "cell_type": "code",
   "execution_count": null,
   "outputs": [],
   "source": [
    "results_df = pd.read_csv('results_1.csv')#%%"
   ],
   "metadata": {
    "collapsed": false,
    "pycharm": {
     "name": "#%%\n"
    }
   }
  },
  {
   "cell_type": "code",
   "execution_count": null,
   "outputs": [],
   "source": [
    "seizures_index_df = pd.read_csv(f\"{config['PATH']['LOCAL']['RAW_DATASET']}/seizures_index.csv\")"
   ],
   "metadata": {
    "collapsed": false,
    "pycharm": {
     "name": "#%%\n"
    }
   }
  },
  {
   "cell_type": "markdown",
   "source": [],
   "metadata": {
    "collapsed": false
   }
  },
  {
   "cell_type": "code",
   "execution_count": null,
   "outputs": [],
   "source": [
    "# load dataset.csv\n",
    "dataset_dir = r\"C:\\Users\\noam\\Repositories\\noamsgl\\msc\\results\\epilepsiae\\UNIFORM\\20220106T165558\"\n",
    "dataset = UniformDataset(dataset_dir)\n",
    "samples_df = dataset.samples_df\n",
    "\n",
    "def isseizure(samples_row) -> bool:\n",
    "    patient = samples_row['patient']\n",
    "    interval = samples_row['window_interval']\n"
   ],
   "metadata": {
    "collapsed": false,
    "pycharm": {
     "name": "#%%\n"
    }
   }
  }
 ],
 "metadata": {
  "kernelspec": {
   "display_name": "Python 3",
   "language": "python",
   "name": "python3"
  },
  "language_info": {
   "codemirror_mode": {
    "name": "ipython",
    "version": 2
   },
   "file_extension": ".py",
   "mimetype": "text/x-python",
   "name": "python",
   "nbconvert_exporter": "python",
   "pygments_lexer": "ipython2",
   "version": "2.7.6"
  }
 },
 "nbformat": 4,
 "nbformat_minor": 0
}