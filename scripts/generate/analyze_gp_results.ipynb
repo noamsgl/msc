{
 "cells": [
  {
   "cell_type": "code",
   "execution_count": 1,
   "metadata": {},
   "outputs": [],
   "source": [
    "import pandas as pd\n",
    "\n",
    "import matplotlib.pyplot as plt\n",
    "from msc import config\n",
    "from msc.dataset import UniformDataset, get_seizures_index_df\n",
    "import seaborn as sns\n",
    "%load_ext autoreload\n",
    "%autoreload 2"
   ]
  },
  {
   "cell_type": "markdown",
   "metadata": {
    "pycharm": {
     "name": "#%% md\n"
    }
   },
   "source": [
    "\n",
    "## Load results"
   ]
  },
  {
   "cell_type": "code",
   "execution_count": 2,
   "metadata": {
    "pycharm": {
     "name": "#%%\n"
    }
   },
   "outputs": [],
   "source": [
    "uniform_results_df = pd.read_csv('results_1000.csv')"
   ]
  },
  {
   "cell_type": "code",
   "execution_count": 3,
   "metadata": {
    "pycharm": {
     "name": "#%%\n"
    }
   },
   "outputs": [
    {
     "name": "stdout",
     "output_type": "stream",
     "text": [
      "warning: dropping some seizures because onset or offset are NaT\n",
      "warning: dropping seizures with length < 5 seconds\n"
     ]
    }
   ],
   "source": [
    "seizures_index_df = get_seizures_index_df()"
   ]
  },
  {
   "cell_type": "markdown",
   "metadata": {},
   "source": []
  },
  {
   "cell_type": "code",
   "execution_count": 4,
   "metadata": {
    "pycharm": {
     "name": "#%%\n"
    }
   },
   "outputs": [
    {
     "name": "stdout",
     "output_type": "stream",
     "text": [
      "loading\n",
      "done loading\n"
     ]
    }
   ],
   "source": [
    "# load dataset.csv\n",
    "dataset_dir = r\"C:\\Users\\noam\\Repositories\\noamsgl\\msc\\results\\epilepsiae\\UNIFORM\\20220106T165558\"\n",
    "dataset = UniformDataset(dataset_dir)\n",
    "dataset.add_check_isseizure()\n",
    "samples_df = dataset.samples_df\n"
   ]
  },
  {
   "cell_type": "code",
   "execution_count": 5,
   "metadata": {
    "pycharm": {
     "name": "#%%\n"
    }
   },
   "outputs": [
    {
     "data": {
      "text/html": [
       "<div>\n",
       "<style scoped>\n",
       "    .dataframe tbody tr th:only-of-type {\n",
       "        vertical-align: middle;\n",
       "    }\n",
       "\n",
       "    .dataframe tbody tr th {\n",
       "        vertical-align: top;\n",
       "    }\n",
       "\n",
       "    .dataframe thead th {\n",
       "        text-align: right;\n",
       "    }\n",
       "</style>\n",
       "<table border=\"1\" class=\"dataframe\">\n",
       "  <thead>\n",
       "    <tr style=\"text-align: right;\">\n",
       "      <th></th>\n",
       "      <th>index</th>\n",
       "      <th>patient_name</th>\n",
       "      <th>window_interval</th>\n",
       "      <th>window_id</th>\n",
       "      <th>fname</th>\n",
       "      <th>label</th>\n",
       "      <th>label_desc</th>\n",
       "      <th>package</th>\n",
       "      <th>patient</th>\n",
       "      <th>x</th>\n",
       "      <th>interval</th>\n",
       "      <th>lower</th>\n",
       "      <th>upper</th>\n",
       "      <th>isseizure</th>\n",
       "    </tr>\n",
       "  </thead>\n",
       "  <tbody>\n",
       "    <tr>\n",
       "      <th>0</th>\n",
       "      <td>0</td>\n",
       "      <td>NaN</td>\n",
       "      <td>[Timestamp('2008-11-05 23:44:50.105065'),Times...</td>\n",
       "      <td>0</td>\n",
       "      <td>C:\\Users\\noam\\Repositories\\noamsgl\\msc\\results...</td>\n",
       "      <td>NaN</td>\n",
       "      <td>NaN</td>\n",
       "      <td>surfPA</td>\n",
       "      <td>pat_1328903</td>\n",
       "      <td>[[-1.9087308122919075e-05, -1.6731470034174078...</td>\n",
       "      <td>[Timestamp('2008-11-05 23:44:50.105065'),Times...</td>\n",
       "      <td>2008-11-05 23:44:50.105065</td>\n",
       "      <td>2008-11-05 23:44:54.011315</td>\n",
       "      <td>False</td>\n",
       "    </tr>\n",
       "    <tr>\n",
       "      <th>1</th>\n",
       "      <td>1</td>\n",
       "      <td>NaN</td>\n",
       "      <td>[Timestamp('2008-09-04 12:25:16.801598'),Times...</td>\n",
       "      <td>1</td>\n",
       "      <td>C:\\Users\\noam\\Repositories\\noamsgl\\msc\\results...</td>\n",
       "      <td>NaN</td>\n",
       "      <td>NaN</td>\n",
       "      <td>surfPA</td>\n",
       "      <td>pat_1327403</td>\n",
       "      <td>[[-1.5160393131575873e-06, 2.0316374775494796e...</td>\n",
       "      <td>[Timestamp('2008-09-04 12:25:16.801598'),Times...</td>\n",
       "      <td>2008-09-04 12:25:16.801598</td>\n",
       "      <td>2008-09-04 12:25:20.707848</td>\n",
       "      <td>False</td>\n",
       "    </tr>\n",
       "    <tr>\n",
       "      <th>2</th>\n",
       "      <td>2</td>\n",
       "      <td>NaN</td>\n",
       "      <td>[Timestamp('2008-06-07 03:53:32.359954'),Times...</td>\n",
       "      <td>2</td>\n",
       "      <td>C:\\Users\\noam\\Repositories\\noamsgl\\msc\\results...</td>\n",
       "      <td>NaN</td>\n",
       "      <td>NaN</td>\n",
       "      <td>surfPA</td>\n",
       "      <td>pat_1325903</td>\n",
       "      <td>[[3.9097588100887366e-06, 5.574982135175794e-0...</td>\n",
       "      <td>[Timestamp('2008-06-07 03:53:32.359954'),Times...</td>\n",
       "      <td>2008-06-07 03:53:32.359954</td>\n",
       "      <td>2008-06-07 03:53:36.266204</td>\n",
       "      <td>False</td>\n",
       "    </tr>\n",
       "    <tr>\n",
       "      <th>3</th>\n",
       "      <td>3</td>\n",
       "      <td>NaN</td>\n",
       "      <td>[Timestamp('2008-07-06 12:36:55.567208'),Times...</td>\n",
       "      <td>3</td>\n",
       "      <td>C:\\Users\\noam\\Repositories\\noamsgl\\msc\\results...</td>\n",
       "      <td>NaN</td>\n",
       "      <td>NaN</td>\n",
       "      <td>surfPA</td>\n",
       "      <td>pat_1325003</td>\n",
       "      <td>[[4.5445032942969996e-05, 2.4568819532406052e-...</td>\n",
       "      <td>[Timestamp('2008-07-06 12:36:55.567208'),Times...</td>\n",
       "      <td>2008-07-06 12:36:55.567208</td>\n",
       "      <td>2008-07-06 12:36:59.473458</td>\n",
       "      <td>False</td>\n",
       "    </tr>\n",
       "    <tr>\n",
       "      <th>4</th>\n",
       "      <td>4</td>\n",
       "      <td>NaN</td>\n",
       "      <td>[Timestamp('2004-02-22 03:04:55.766070'),Times...</td>\n",
       "      <td>4</td>\n",
       "      <td>C:\\Users\\noam\\Repositories\\noamsgl\\msc\\results...</td>\n",
       "      <td>NaN</td>\n",
       "      <td>NaN</td>\n",
       "      <td>surf30</td>\n",
       "      <td>pat_23902</td>\n",
       "      <td>[[-8.580473091602334e-06, -8.744526908397691e-...</td>\n",
       "      <td>[Timestamp('2004-02-22 03:04:55.766070'),Times...</td>\n",
       "      <td>2004-02-22 03:04:55.766070</td>\n",
       "      <td>2004-02-22 03:04:59.672320</td>\n",
       "      <td>False</td>\n",
       "    </tr>\n",
       "    <tr>\n",
       "      <th>...</th>\n",
       "      <td>...</td>\n",
       "      <td>...</td>\n",
       "      <td>...</td>\n",
       "      <td>...</td>\n",
       "      <td>...</td>\n",
       "      <td>...</td>\n",
       "      <td>...</td>\n",
       "      <td>...</td>\n",
       "      <td>...</td>\n",
       "      <td>...</td>\n",
       "      <td>...</td>\n",
       "      <td>...</td>\n",
       "      <td>...</td>\n",
       "      <td>...</td>\n",
       "    </tr>\n",
       "    <tr>\n",
       "      <th>995</th>\n",
       "      <td>995</td>\n",
       "      <td>NaN</td>\n",
       "      <td>[Timestamp('2008-05-09 08:37:44.578676'),Times...</td>\n",
       "      <td>995</td>\n",
       "      <td>C:\\Users\\noam\\Repositories\\noamsgl\\msc\\results...</td>\n",
       "      <td>NaN</td>\n",
       "      <td>NaN</td>\n",
       "      <td>surfPA</td>\n",
       "      <td>pat_1233703</td>\n",
       "      <td>[[-8.315607134128605e-06, 7.245980687299064e-0...</td>\n",
       "      <td>[Timestamp('2008-05-09 08:37:44.578676'),Times...</td>\n",
       "      <td>2008-05-09 08:37:44.578676</td>\n",
       "      <td>2008-05-09 08:37:48.484926</td>\n",
       "      <td>False</td>\n",
       "    </tr>\n",
       "    <tr>\n",
       "      <th>996</th>\n",
       "      <td>996</td>\n",
       "      <td>NaN</td>\n",
       "      <td>[Timestamp('2008-05-19 11:29:03.260274'),Times...</td>\n",
       "      <td>996</td>\n",
       "      <td>C:\\Users\\noam\\Repositories\\noamsgl\\msc\\results...</td>\n",
       "      <td>NaN</td>\n",
       "      <td>NaN</td>\n",
       "      <td>surfPA</td>\n",
       "      <td>pat_1325903</td>\n",
       "      <td>[[2.33506265239705e-06, -4.816046294733975e-07...</td>\n",
       "      <td>[Timestamp('2008-05-19 11:29:03.260274'),Times...</td>\n",
       "      <td>2008-05-19 11:29:03.260274</td>\n",
       "      <td>2008-05-19 11:29:07.166524</td>\n",
       "      <td>False</td>\n",
       "    </tr>\n",
       "    <tr>\n",
       "      <th>997</th>\n",
       "      <td>997</td>\n",
       "      <td>NaN</td>\n",
       "      <td>[Timestamp('2004-07-23 06:33:21.771004'),Times...</td>\n",
       "      <td>997</td>\n",
       "      <td>C:\\Users\\noam\\Repositories\\noamsgl\\msc\\results...</td>\n",
       "      <td>NaN</td>\n",
       "      <td>NaN</td>\n",
       "      <td>surf30</td>\n",
       "      <td>pat_30802</td>\n",
       "      <td>[[3.465939172983167e-05, 3.46406082701683e-05,...</td>\n",
       "      <td>[Timestamp('2004-07-23 06:33:21.771004'),Times...</td>\n",
       "      <td>2004-07-23 06:33:21.771004</td>\n",
       "      <td>2004-07-23 06:33:25.677254</td>\n",
       "      <td>False</td>\n",
       "    </tr>\n",
       "    <tr>\n",
       "      <th>998</th>\n",
       "      <td>998</td>\n",
       "      <td>NaN</td>\n",
       "      <td>[Timestamp('2008-05-03 21:02:49.958375'),Times...</td>\n",
       "      <td>998</td>\n",
       "      <td>C:\\Users\\noam\\Repositories\\noamsgl\\msc\\results...</td>\n",
       "      <td>NaN</td>\n",
       "      <td>NaN</td>\n",
       "      <td>surfPA</td>\n",
       "      <td>pat_1235103</td>\n",
       "      <td>[[4.650911066474839e-05, 1.695051204798633e-05...</td>\n",
       "      <td>[Timestamp('2008-05-03 21:02:49.958375'),Times...</td>\n",
       "      <td>2008-05-03 21:02:49.958375</td>\n",
       "      <td>2008-05-03 21:02:53.864625</td>\n",
       "      <td>False</td>\n",
       "    </tr>\n",
       "    <tr>\n",
       "      <th>999</th>\n",
       "      <td>999</td>\n",
       "      <td>NaN</td>\n",
       "      <td>[Timestamp('2008-06-06 16:11:32.238568'),Times...</td>\n",
       "      <td>999</td>\n",
       "      <td>C:\\Users\\noam\\Repositories\\noamsgl\\msc\\results...</td>\n",
       "      <td>NaN</td>\n",
       "      <td>NaN</td>\n",
       "      <td>surfPA</td>\n",
       "      <td>pat_1325603</td>\n",
       "      <td>[[-1.5415637342363866e-05, -1.8964761229458164...</td>\n",
       "      <td>[Timestamp('2008-06-06 16:11:32.238568'),Times...</td>\n",
       "      <td>2008-06-06 16:11:32.238568</td>\n",
       "      <td>2008-06-06 16:11:36.144818</td>\n",
       "      <td>False</td>\n",
       "    </tr>\n",
       "  </tbody>\n",
       "</table>\n",
       "<p>1000 rows × 14 columns</p>\n",
       "</div>"
      ],
      "text/plain": [
       "     index  patient_name                                    window_interval  \\\n",
       "0        0           NaN  [Timestamp('2008-11-05 23:44:50.105065'),Times...   \n",
       "1        1           NaN  [Timestamp('2008-09-04 12:25:16.801598'),Times...   \n",
       "2        2           NaN  [Timestamp('2008-06-07 03:53:32.359954'),Times...   \n",
       "3        3           NaN  [Timestamp('2008-07-06 12:36:55.567208'),Times...   \n",
       "4        4           NaN  [Timestamp('2004-02-22 03:04:55.766070'),Times...   \n",
       "..     ...           ...                                                ...   \n",
       "995    995           NaN  [Timestamp('2008-05-09 08:37:44.578676'),Times...   \n",
       "996    996           NaN  [Timestamp('2008-05-19 11:29:03.260274'),Times...   \n",
       "997    997           NaN  [Timestamp('2004-07-23 06:33:21.771004'),Times...   \n",
       "998    998           NaN  [Timestamp('2008-05-03 21:02:49.958375'),Times...   \n",
       "999    999           NaN  [Timestamp('2008-06-06 16:11:32.238568'),Times...   \n",
       "\n",
       "     window_id                                              fname  label  \\\n",
       "0            0  C:\\Users\\noam\\Repositories\\noamsgl\\msc\\results...    NaN   \n",
       "1            1  C:\\Users\\noam\\Repositories\\noamsgl\\msc\\results...    NaN   \n",
       "2            2  C:\\Users\\noam\\Repositories\\noamsgl\\msc\\results...    NaN   \n",
       "3            3  C:\\Users\\noam\\Repositories\\noamsgl\\msc\\results...    NaN   \n",
       "4            4  C:\\Users\\noam\\Repositories\\noamsgl\\msc\\results...    NaN   \n",
       "..         ...                                                ...    ...   \n",
       "995        995  C:\\Users\\noam\\Repositories\\noamsgl\\msc\\results...    NaN   \n",
       "996        996  C:\\Users\\noam\\Repositories\\noamsgl\\msc\\results...    NaN   \n",
       "997        997  C:\\Users\\noam\\Repositories\\noamsgl\\msc\\results...    NaN   \n",
       "998        998  C:\\Users\\noam\\Repositories\\noamsgl\\msc\\results...    NaN   \n",
       "999        999  C:\\Users\\noam\\Repositories\\noamsgl\\msc\\results...    NaN   \n",
       "\n",
       "     label_desc package      patient  \\\n",
       "0           NaN  surfPA  pat_1328903   \n",
       "1           NaN  surfPA  pat_1327403   \n",
       "2           NaN  surfPA  pat_1325903   \n",
       "3           NaN  surfPA  pat_1325003   \n",
       "4           NaN  surf30    pat_23902   \n",
       "..          ...     ...          ...   \n",
       "995         NaN  surfPA  pat_1233703   \n",
       "996         NaN  surfPA  pat_1325903   \n",
       "997         NaN  surf30    pat_30802   \n",
       "998         NaN  surfPA  pat_1235103   \n",
       "999         NaN  surfPA  pat_1325603   \n",
       "\n",
       "                                                     x  \\\n",
       "0    [[-1.9087308122919075e-05, -1.6731470034174078...   \n",
       "1    [[-1.5160393131575873e-06, 2.0316374775494796e...   \n",
       "2    [[3.9097588100887366e-06, 5.574982135175794e-0...   \n",
       "3    [[4.5445032942969996e-05, 2.4568819532406052e-...   \n",
       "4    [[-8.580473091602334e-06, -8.744526908397691e-...   \n",
       "..                                                 ...   \n",
       "995  [[-8.315607134128605e-06, 7.245980687299064e-0...   \n",
       "996  [[2.33506265239705e-06, -4.816046294733975e-07...   \n",
       "997  [[3.465939172983167e-05, 3.46406082701683e-05,...   \n",
       "998  [[4.650911066474839e-05, 1.695051204798633e-05...   \n",
       "999  [[-1.5415637342363866e-05, -1.8964761229458164...   \n",
       "\n",
       "                                              interval  \\\n",
       "0    [Timestamp('2008-11-05 23:44:50.105065'),Times...   \n",
       "1    [Timestamp('2008-09-04 12:25:16.801598'),Times...   \n",
       "2    [Timestamp('2008-06-07 03:53:32.359954'),Times...   \n",
       "3    [Timestamp('2008-07-06 12:36:55.567208'),Times...   \n",
       "4    [Timestamp('2004-02-22 03:04:55.766070'),Times...   \n",
       "..                                                 ...   \n",
       "995  [Timestamp('2008-05-09 08:37:44.578676'),Times...   \n",
       "996  [Timestamp('2008-05-19 11:29:03.260274'),Times...   \n",
       "997  [Timestamp('2004-07-23 06:33:21.771004'),Times...   \n",
       "998  [Timestamp('2008-05-03 21:02:49.958375'),Times...   \n",
       "999  [Timestamp('2008-06-06 16:11:32.238568'),Times...   \n",
       "\n",
       "                         lower                      upper  isseizure  \n",
       "0   2008-11-05 23:44:50.105065 2008-11-05 23:44:54.011315      False  \n",
       "1   2008-09-04 12:25:16.801598 2008-09-04 12:25:20.707848      False  \n",
       "2   2008-06-07 03:53:32.359954 2008-06-07 03:53:36.266204      False  \n",
       "3   2008-07-06 12:36:55.567208 2008-07-06 12:36:59.473458      False  \n",
       "4   2004-02-22 03:04:55.766070 2004-02-22 03:04:59.672320      False  \n",
       "..                         ...                        ...        ...  \n",
       "995 2008-05-09 08:37:44.578676 2008-05-09 08:37:48.484926      False  \n",
       "996 2008-05-19 11:29:03.260274 2008-05-19 11:29:07.166524      False  \n",
       "997 2004-07-23 06:33:21.771004 2004-07-23 06:33:25.677254      False  \n",
       "998 2008-05-03 21:02:49.958375 2008-05-03 21:02:53.864625      False  \n",
       "999 2008-06-06 16:11:32.238568 2008-06-06 16:11:36.144818      False  \n",
       "\n",
       "[1000 rows x 14 columns]"
      ]
     },
     "execution_count": 5,
     "metadata": {},
     "output_type": "execute_result"
    }
   ],
   "source": [
    "samples_df"
   ]
  },
  {
   "cell_type": "code",
   "execution_count": 7,
   "metadata": {
    "pycharm": {
     "name": "#%%\n"
    }
   },
   "outputs": [],
   "source": [
    "results = uniform_results_df.pivot(index='sample_id', columns='param_name', values='param_value').join(samples_df, on='sample_id')"
   ]
  },
  {
   "cell_type": "code",
   "execution_count": 8,
   "metadata": {
    "pycharm": {
     "name": "#%%\n"
    }
   },
   "outputs": [
    {
     "name": "stdout",
     "output_type": "stream",
     "text": [
      "False\n",
      "True\n"
     ]
    },
    {
     "data": {
      "image/png": "[encoded data removed]",
      "text/plain": [
       "<Figure size 576x432 with 1 Axes>"
      ]
     },
     "metadata": {
      "needs_background": "light"
     },
     "output_type": "display_data"
    }
   ],
   "source": [
    "colors = {False:'tab:blue', 'E':'tab:orange', 'F':'tab:green', True:'tab:red', 'H':'tab:purple', 'I':'tab:brown', 'J':'tab:pink'}\n",
    "\n",
    "sizes = {False: 10, True: 180}\n",
    "fix, ax = plt.subplots(1,1, figsize=(8,6))\n",
    "results = results.sort_values('isseizure')\n",
    "grouped = results.groupby('isseizure')\n",
    "for key, group in grouped:\n",
    "    print(key)\n",
    "    if key:\n",
    "        group.plot(ax=ax, kind='scatter', x=\"covar_module.base_kernel.raw_lengthscale\", y=\"covar_module.raw_outputscale\", label=key, color=colors[key], s=sizes[key], edgecolor='b')\n",
    "    else:\n",
    "        group.plot(ax=ax, kind='scatter', x=\"covar_module.base_kernel.raw_lengthscale\", y=\"covar_module.raw_outputscale\", label=key, color=colors[key], s=sizes[key])\n",
    "plt.show()"
   ]
  },
  {
   "cell_type": "code",
   "execution_count": 9,
   "metadata": {
    "pycharm": {
     "name": "#%%\n"
    }
   },
   "outputs": [
    {
     "data": {
      "text/plain": [
       "[Timestamp('2008-11-05 23:44:50.105065'),Timestamp('2008-11-05 23:44:54.011315'))"
      ]
     },
     "execution_count": 9,
     "metadata": {},
     "output_type": "execute_result"
    }
   ],
   "source": [
    "samples_df.interval.iloc[0]"
   ]
  },
  {
   "cell_type": "code",
   "execution_count": 10,
   "metadata": {
    "pycharm": {
     "name": "#%%\n"
    }
   },
   "outputs": [
    {
     "data": {
      "text/plain": [
       "portion.interval.Interval"
      ]
     },
     "execution_count": 10,
     "metadata": {},
     "output_type": "execute_result"
    }
   ],
   "source": [
    "type(seizures_index_df.interval.iloc[0])"
   ]
  },
  {
   "cell_type": "markdown",
   "metadata": {},
   "source": []
  },
  {
   "cell_type": "markdown",
   "metadata": {},
   "source": []
  },
  {
   "cell_type": "code",
   "execution_count": 11,
   "metadata": {
    "pycharm": {
     "name": "#%%\n"
    }
   },
   "outputs": [
    {
     "data": {
      "text/html": [
       "<div>\n",
       "<style scoped>\n",
       "    .dataframe tbody tr th:only-of-type {\n",
       "        vertical-align: middle;\n",
       "    }\n",
       "\n",
       "    .dataframe tbody tr th {\n",
       "        vertical-align: top;\n",
       "    }\n",
       "\n",
       "    .dataframe thead th {\n",
       "        text-align: right;\n",
       "    }\n",
       "</style>\n",
       "<table border=\"1\" class=\"dataframe\">\n",
       "  <thead>\n",
       "    <tr style=\"text-align: right;\">\n",
       "      <th></th>\n",
       "      <th>index</th>\n",
       "      <th>patient_name</th>\n",
       "      <th>window_interval</th>\n",
       "      <th>window_id</th>\n",
       "      <th>fname</th>\n",
       "      <th>label</th>\n",
       "      <th>label_desc</th>\n",
       "      <th>package</th>\n",
       "      <th>patient</th>\n",
       "      <th>x</th>\n",
       "      <th>interval</th>\n",
       "      <th>lower</th>\n",
       "      <th>upper</th>\n",
       "      <th>isseizure</th>\n",
       "    </tr>\n",
       "  </thead>\n",
       "  <tbody>\n",
       "    <tr>\n",
       "      <th>850</th>\n",
       "      <td>850</td>\n",
       "      <td>NaN</td>\n",
       "      <td>[Timestamp('2009-05-17 05:00:34.146397'),Times...</td>\n",
       "      <td>850</td>\n",
       "      <td>C:\\Users\\noam\\Repositories\\noamsgl\\msc\\results...</td>\n",
       "      <td>NaN</td>\n",
       "      <td>NaN</td>\n",
       "      <td>surfPA</td>\n",
       "      <td>pat_1320903</td>\n",
       "      <td>[[6.43577057030321e-05, -8.78918811663256e-05,...</td>\n",
       "      <td>[Timestamp('2009-05-17 05:00:34.146397'),Times...</td>\n",
       "      <td>2009-05-17 05:00:34.146397</td>\n",
       "      <td>2009-05-17 05:00:38.052647</td>\n",
       "      <td>True</td>\n",
       "    </tr>\n",
       "    <tr>\n",
       "      <th>971</th>\n",
       "      <td>971</td>\n",
       "      <td>NaN</td>\n",
       "      <td>[Timestamp('2009-02-10 15:35:51.388255'),Times...</td>\n",
       "      <td>971</td>\n",
       "      <td>C:\\Users\\noam\\Repositories\\noamsgl\\msc\\results...</td>\n",
       "      <td>NaN</td>\n",
       "      <td>NaN</td>\n",
       "      <td>surfCO</td>\n",
       "      <td>pat_2000</td>\n",
       "      <td>[[4.705574783591755e-06, 9.522076718639352e-06...</td>\n",
       "      <td>[Timestamp('2009-02-10 15:35:51.388255'),Times...</td>\n",
       "      <td>2009-02-10 15:35:51.388255</td>\n",
       "      <td>2009-02-10 15:35:55.294505</td>\n",
       "      <td>True</td>\n",
       "    </tr>\n",
       "  </tbody>\n",
       "</table>\n",
       "</div>"
      ],
      "text/plain": [
       "     index  patient_name                                    window_interval  \\\n",
       "850    850           NaN  [Timestamp('2009-05-17 05:00:34.146397'),Times...   \n",
       "971    971           NaN  [Timestamp('2009-02-10 15:35:51.388255'),Times...   \n",
       "\n",
       "     window_id                                              fname  label  \\\n",
       "850        850  C:\\Users\\noam\\Repositories\\noamsgl\\msc\\results...    NaN   \n",
       "971        971  C:\\Users\\noam\\Repositories\\noamsgl\\msc\\results...    NaN   \n",
       "\n",
       "     label_desc package      patient  \\\n",
       "850         NaN  surfPA  pat_1320903   \n",
       "971         NaN  surfCO     pat_2000   \n",
       "\n",
       "                                                     x  \\\n",
       "850  [[6.43577057030321e-05, -8.78918811663256e-05,...   \n",
       "971  [[4.705574783591755e-06, 9.522076718639352e-06...   \n",
       "\n",
       "                                              interval  \\\n",
       "850  [Timestamp('2009-05-17 05:00:34.146397'),Times...   \n",
       "971  [Timestamp('2009-02-10 15:35:51.388255'),Times...   \n",
       "\n",
       "                         lower                      upper  isseizure  \n",
       "850 2009-05-17 05:00:34.146397 2009-05-17 05:00:38.052647       True  \n",
       "971 2009-02-10 15:35:51.388255 2009-02-10 15:35:55.294505       True  "
      ]
     },
     "execution_count": 11,
     "metadata": {},
     "output_type": "execute_result"
    }
   ],
   "source": [
    "samples_df[samples_df.isseizure]"
   ]
  },
  {
   "cell_type": "markdown",
   "metadata": {},
   "source": [
    "## Plot Uniform and some of Seizures Results"
   ]
  },
  {
   "cell_type": "code",
   "execution_count": null,
   "metadata": {},
   "outputs": [],
   "source": []
  },
  {
   "cell_type": "code",
   "execution_count": 3,
   "metadata": {
    "pycharm": {
     "name": "#%%\n"
    }
   },
   "outputs": [],
   "source": [
    "uniform_results_df = uniform_results_df.pivot(index='sample_id', columns='param_name', values='param_value')"
   ]
  },
  {
   "cell_type": "code",
   "execution_count": 4,
   "metadata": {
    "pycharm": {
     "name": "#%%\n"
    }
   },
   "outputs": [],
   "source": [
    "seizures_results_df = pd.read_csv('results_seizure_20220109T193139.csv').pivot(index='sample_id', columns='param_name', values='param_value')"
   ]
  },
  {
   "cell_type": "code",
   "execution_count": 5,
   "metadata": {
    "pycharm": {
     "name": "#%%\n"
    }
   },
   "outputs": [
    {
     "data": {
      "text/html": [
       "<div>\n",
       "<style scoped>\n",
       "    .dataframe tbody tr th:only-of-type {\n",
       "        vertical-align: middle;\n",
       "    }\n",
       "\n",
       "    .dataframe tbody tr th {\n",
       "        vertical-align: top;\n",
       "    }\n",
       "\n",
       "    .dataframe thead th {\n",
       "        text-align: right;\n",
       "    }\n",
       "</style>\n",
       "<table border=\"1\" class=\"dataframe\">\n",
       "  <thead>\n",
       "    <tr style=\"text-align: right;\">\n",
       "      <th>param_name</th>\n",
       "      <th>covar_module.base_kernel.raw_lengthscale</th>\n",
       "      <th>covar_module.raw_outputscale</th>\n",
       "      <th>likelihood.noise_covar.raw_noise</th>\n",
       "      <th>dataset</th>\n",
       "    </tr>\n",
       "    <tr>\n",
       "      <th>sample_id</th>\n",
       "      <th></th>\n",
       "      <th></th>\n",
       "      <th></th>\n",
       "      <th></th>\n",
       "    </tr>\n",
       "  </thead>\n",
       "  <tbody>\n",
       "    <tr>\n",
       "      <th>0</th>\n",
       "      <td>0.467654</td>\n",
       "      <td>0.449511</td>\n",
       "      <td>-0.506070</td>\n",
       "      <td>seizures</td>\n",
       "    </tr>\n",
       "    <tr>\n",
       "      <th>1</th>\n",
       "      <td>0.477307</td>\n",
       "      <td>0.389437</td>\n",
       "      <td>-1.010462</td>\n",
       "      <td>seizures</td>\n",
       "    </tr>\n",
       "    <tr>\n",
       "      <th>2</th>\n",
       "      <td>-0.456080</td>\n",
       "      <td>0.450585</td>\n",
       "      <td>-0.571344</td>\n",
       "      <td>seizures</td>\n",
       "    </tr>\n",
       "    <tr>\n",
       "      <th>3</th>\n",
       "      <td>-0.464846</td>\n",
       "      <td>0.471028</td>\n",
       "      <td>-0.112768</td>\n",
       "      <td>seizures</td>\n",
       "    </tr>\n",
       "    <tr>\n",
       "      <th>4</th>\n",
       "      <td>0.482202</td>\n",
       "      <td>0.322504</td>\n",
       "      <td>-0.618265</td>\n",
       "      <td>seizures</td>\n",
       "    </tr>\n",
       "    <tr>\n",
       "      <th>...</th>\n",
       "      <td>...</td>\n",
       "      <td>...</td>\n",
       "      <td>...</td>\n",
       "      <td>...</td>\n",
       "    </tr>\n",
       "    <tr>\n",
       "      <th>995</th>\n",
       "      <td>-0.444950</td>\n",
       "      <td>0.428572</td>\n",
       "      <td>-6.855521</td>\n",
       "      <td>uniform</td>\n",
       "    </tr>\n",
       "    <tr>\n",
       "      <th>996</th>\n",
       "      <td>-0.432197</td>\n",
       "      <td>0.407162</td>\n",
       "      <td>-6.504109</td>\n",
       "      <td>uniform</td>\n",
       "    </tr>\n",
       "    <tr>\n",
       "      <th>997</th>\n",
       "      <td>0.481659</td>\n",
       "      <td>-0.492204</td>\n",
       "      <td>-7.003676</td>\n",
       "      <td>uniform</td>\n",
       "    </tr>\n",
       "    <tr>\n",
       "      <th>998</th>\n",
       "      <td>-0.471351</td>\n",
       "      <td>0.455458</td>\n",
       "      <td>-6.533144</td>\n",
       "      <td>uniform</td>\n",
       "    </tr>\n",
       "    <tr>\n",
       "      <th>999</th>\n",
       "      <td>0.176056</td>\n",
       "      <td>-0.262641</td>\n",
       "      <td>-7.019075</td>\n",
       "      <td>uniform</td>\n",
       "    </tr>\n",
       "  </tbody>\n",
       "</table>\n",
       "<p>2183 rows × 4 columns</p>\n",
       "</div>"
      ],
      "text/plain": [
       "param_name  covar_module.base_kernel.raw_lengthscale  \\\n",
       "sample_id                                              \n",
       "0                                           0.467654   \n",
       "1                                           0.477307   \n",
       "2                                          -0.456080   \n",
       "3                                          -0.464846   \n",
       "4                                           0.482202   \n",
       "...                                              ...   \n",
       "995                                        -0.444950   \n",
       "996                                        -0.432197   \n",
       "997                                         0.481659   \n",
       "998                                        -0.471351   \n",
       "999                                         0.176056   \n",
       "\n",
       "param_name  covar_module.raw_outputscale  likelihood.noise_covar.raw_noise  \\\n",
       "sample_id                                                                    \n",
       "0                               0.449511                         -0.506070   \n",
       "1                               0.389437                         -1.010462   \n",
       "2                               0.450585                         -0.571344   \n",
       "3                               0.471028                         -0.112768   \n",
       "4                               0.322504                         -0.618265   \n",
       "...                                  ...                               ...   \n",
       "995                             0.428572                         -6.855521   \n",
       "996                             0.407162                         -6.504109   \n",
       "997                            -0.492204                         -7.003676   \n",
       "998                             0.455458                         -6.533144   \n",
       "999                            -0.262641                         -7.019075   \n",
       "\n",
       "param_name   dataset  \n",
       "sample_id             \n",
       "0           seizures  \n",
       "1           seizures  \n",
       "2           seizures  \n",
       "3           seizures  \n",
       "4           seizures  \n",
       "...              ...  \n",
       "995          uniform  \n",
       "996          uniform  \n",
       "997          uniform  \n",
       "998          uniform  \n",
       "999          uniform  \n",
       "\n",
       "[2183 rows x 4 columns]"
      ]
     },
     "execution_count": 5,
     "metadata": {},
     "output_type": "execute_result"
    }
   ],
   "source": [
    "seizures_results_df['dataset'] = \"seizures\"\n",
    "uniform_results_df['dataset'] = \"uniform\"\n",
    "results = pd.concat([seizures_results_df, uniform_results_df])\n",
    "results"
   ]
  },
  {
   "cell_type": "code",
   "execution_count": 21,
   "metadata": {
    "pycharm": {
     "name": "#%%\n"
    }
   },
   "outputs": [
    {
     "name": "stdout",
     "output_type": "stream",
     "text": [
      "uniform\n",
      "seizures\n"
     ]
    },
    {
     "data": {
      "image/png": "[encoded data removed]",
      "text/plain": [
       "<Figure size 576x432 with 1 Axes>"
      ]
     },
     "metadata": {
      "needs_background": "light"
     },
     "output_type": "display_data"
    }
   ],
   "source": [
    "colors = {'uniform':'tab:blue', 'E':'tab:orange', 'F':'tab:green', 'seizures':'tab:red', 'H':'tab:purple', 'I':'tab:brown', 'J':'tab:pink'}\n",
    "\n",
    "sizes = {'uniform': 10, 'seizures': 80}\n",
    "fix, ax = plt.subplots(1,1, figsize=(8,6))\n",
    "# results = results.sort_values('dataset', ascending=Fals, ignore_index=True)\n",
    "grouped = results.groupby('dataset')\n",
    "for key, group in reversed(list(grouped)):\n",
    "    print(key)\n",
    "    if key == 'uniform':\n",
    "        group.plot(ax=ax, kind='scatter', x=\"covar_module.base_kernel.raw_lengthscale\", y=\"covar_module.raw_outputscale\", label=key, color=colors[key], s=sizes[key], edgecolor='b')\n",
    "    else:\n",
    "        group.sample(10).plot(ax=ax, kind='scatter', x=\"covar_module.base_kernel.raw_lengthscale\", y=\"covar_module.raw_outputscale\", label=key, color=colors[key], s=sizes[key])\n",
    "plt.show()"
   ]
  },
  {
   "cell_type": "code",
   "execution_count": 18,
   "metadata": {},
   "outputs": [
    {
     "data": {
      "text/plain": [
       "[('seizures',\n",
       "  param_name  covar_module.base_kernel.raw_lengthscale  \\\n",
       "  0                                           0.404764   \n",
       "  1                                          -0.445990   \n",
       "  2                                           0.084656   \n",
       "  3                                          -0.403618   \n",
       "  4                                          -0.503143   \n",
       "  ...                                              ...   \n",
       "  1178                                       -0.472936   \n",
       "  1179                                       -0.453793   \n",
       "  1180                                       -0.454294   \n",
       "  1181                                       -0.437637   \n",
       "  1182                                       -0.452858   \n",
       "  \n",
       "  param_name  covar_module.raw_outputscale  likelihood.noise_covar.raw_noise  \\\n",
       "  0                              -0.429729                        -13.105588   \n",
       "  1                               0.427893                         -6.293739   \n",
       "  2                              -0.265133                         -7.702147   \n",
       "  3                               0.368540                         -7.740324   \n",
       "  4                               0.488933                         -7.335427   \n",
       "  ...                                  ...                               ...   \n",
       "  1178                            0.459351                         -7.183817   \n",
       "  1179                            0.440873                         -5.766850   \n",
       "  1180                            0.438202                         -6.238703   \n",
       "  1181                            0.422553                         -7.674931   \n",
       "  1182                            0.438457                         -6.708593   \n",
       "  \n",
       "  param_name   dataset  \n",
       "  0           seizures  \n",
       "  1           seizures  \n",
       "  2           seizures  \n",
       "  3           seizures  \n",
       "  4           seizures  \n",
       "  ...              ...  \n",
       "  1178        seizures  \n",
       "  1179        seizures  \n",
       "  1180        seizures  \n",
       "  1181        seizures  \n",
       "  1182        seizures  \n",
       "  \n",
       "  [1183 rows x 4 columns]),\n",
       " ('uniform',\n",
       "  param_name  covar_module.base_kernel.raw_lengthscale  \\\n",
       "  1183                                        0.477431   \n",
       "  1184                                        0.439929   \n",
       "  1185                                       -0.421330   \n",
       "  1186                                        0.409928   \n",
       "  1187                                        0.465894   \n",
       "  ...                                              ...   \n",
       "  2178                                       -0.546786   \n",
       "  2179                                       -0.318990   \n",
       "  2180                                       -0.257911   \n",
       "  2181                                        0.113396   \n",
       "  2182                                        0.176056   \n",
       "  \n",
       "  param_name  covar_module.raw_outputscale  likelihood.noise_covar.raw_noise  \\\n",
       "  1183                           -0.492144                         -1.514724   \n",
       "  1184                           -0.462154                         -4.514712   \n",
       "  1185                            0.387307                         -6.747023   \n",
       "  1186                           -0.448013                         -5.012396   \n",
       "  1187                           -0.488599                         -3.518592   \n",
       "  ...                                  ...                               ...   \n",
       "  2178                            0.532877                         -7.707546   \n",
       "  2179                            0.108413                         -6.607858   \n",
       "  2180                            0.154892                         -6.676547   \n",
       "  2181                           -0.276295                         -7.762901   \n",
       "  2182                           -0.262641                         -7.019075   \n",
       "  \n",
       "  param_name  dataset  \n",
       "  1183        uniform  \n",
       "  1184        uniform  \n",
       "  1185        uniform  \n",
       "  1186        uniform  \n",
       "  1187        uniform  \n",
       "  ...             ...  \n",
       "  2178        uniform  \n",
       "  2179        uniform  \n",
       "  2180        uniform  \n",
       "  2181        uniform  \n",
       "  2182        uniform  \n",
       "  \n",
       "  [1000 rows x 4 columns])]"
      ]
     },
     "execution_count": 18,
     "metadata": {},
     "output_type": "execute_result"
    }
   ],
   "source": [
    "list(grouped)"
   ]
  }
 ],
 "metadata": {
  "kernelspec": {
   "display_name": "Python 3 (ipykernel)",
   "language": "python",
   "name": "python3"
  },
  "language_info": {
   "codemirror_mode": {
    "name": "ipython",
    "version": 3
   },
   "file_extension": ".py",
   "mimetype": "text/x-python",
   "name": "python",
   "nbconvert_exporter": "python",
   "pygments_lexer": "ipython3",
   "version": "3.8.10"
  }
 },
 "nbformat": 4,
 "nbformat_minor": 1
}